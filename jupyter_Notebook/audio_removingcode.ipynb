{
  "cells": [
    {
      "cell_type": "code",
      "execution_count": null,
      "metadata": {
        "id": "Ssgolj7xA1Mk"
      },
      "outputs": [],
      "source": [
        "from moviepy.editor import VideoFileClip"
      ]
    },
    {
      "cell_type": "code",
      "execution_count": null,
      "metadata": {
        "colab": {
          "base_uri": "https://localhost:8080/"
        },
        "id": "xstDkMVcA4Le",
        "outputId": "fa6c94b8-76ec-4418-ccad-58d1d8802211"
      },
      "outputs": [
        {
          "name": "stdout",
          "output_type": "stream",
          "text": [
            "Mounted at /content/gdrive\n"
          ]
        }
      ],
      "source": [
        "# Mount your OneDrive folder to Google Colab (replace with your mount details)\n",
        "from google.colab import drive\n",
        "drive.mount('/content/gdrive')  # Assuming your OneDrive is mounted at /content/gdrive"
      ]
    },
    {
      "cell_type": "code",
      "execution_count": null,
      "metadata": {
        "id": "_y9gTLK3BAaB"
      },
      "outputs": [],
      "source": [
        "# Specify the source folder path where your MP4 videos are located in OneDrive\n",
        "source_folder_path = '/content/gdrive/MyDrive/Major FINAL RUN/Final Audio Dataset'"
      ]
    },
    {
      "cell_type": "code",
      "execution_count": null,
      "metadata": {
        "id": "aelkdC1sBBMt"
      },
      "outputs": [],
      "source": [
        "# Specify the destination folder path where you want to save the silent videos\n",
        "destination_folder_path = '/content/gdrive/MyDrive/Major FINAL RUN/Audio_altFinal'"
      ]
    },
    {
      "cell_type": "code",
      "execution_count": null,
      "metadata": {
        "id": "nkG-Vf5CEzDY"
      },
      "outputs": [],
      "source": [
        "import os"
      ]
    },
    {
      "cell_type": "code",
      "execution_count": null,
      "metadata": {
        "id": "biCJ8i40D9f2"
      },
      "outputs": [],
      "source": [
        "# Get total number of videos\n",
        "total_videos = len([f for f in os.listdir(source_folder_path) if f.endswith('.mp4')])"
      ]
    },
    {
      "cell_type": "code",
      "execution_count": null,
      "metadata": {
        "id": "jW1hmzJQEFnk"
      },
      "outputs": [],
      "source": [
        "# Counter for processed videos\n",
        "processed_count = 0"
      ]
    },
    {
      "cell_type": "code",
      "execution_count": null,
      "metadata": {
        "id": "zH4JivthCxyy"
      },
      "outputs": [],
      "source": [
        "import os\n"
      ]
    },
    {
      "cell_type": "code",
      "execution_count": null,
      "metadata": {
        "colab": {
          "background_save": true,
          "base_uri": "https://localhost:8080/"
        },
        "id": "Vr2AuK07BMH2",
        "outputId": "784e2725-8a98-463b-d0ba-4513a2053852"
      },
      "outputs": [
        {
          "name": "stdout",
          "output_type": "stream",
          "text": [
            "Moviepy - Building video /content/gdrive/MyDrive/Major FINAL RUN/Audio_altFinal/nzlfbilwow.mp4.\n",
            "Moviepy - Writing video /content/gdrive/MyDrive/Major FINAL RUN/Audio_altFinal/nzlfbilwow.mp4\n",
            "\n"
          ]
        },
        {
          "name": "stderr",
          "output_type": "stream",
          "text": [
            "t: 100%|█████████▉| 300/301 [00:43<00:00,  8.53it/s, now=None]WARNING:py.warnings:/usr/local/lib/python3.10/dist-packages/moviepy/video/io/ffmpeg_reader.py:123: UserWarning: Warning: in file /content/gdrive/MyDrive/Major FINAL RUN/Final Audio Dataset/nzlfbilwow.mp4, 6220800 bytes wanted but 0 bytes read,at frame 300/301, at time 10.01/10.02 sec. Using the last valid frame instead.\n",
            "  warnings.warn(\"Warning: in file %s, \"%(self.filename)+\n",
            "\n"
          ]
        },
        {
          "name": "stdout",
          "output_type": "stream",
          "text": [
            "Moviepy - Done !\n",
            "Moviepy - video ready /content/gdrive/MyDrive/Major FINAL RUN/Audio_altFinal/nzlfbilwow.mp4\n",
            "Processed 1 out of 744 videos. Audio removed from nzlfbilwow.mp4 and saved to silent videos folder.\n",
            "Moviepy - Building video /content/gdrive/MyDrive/Major FINAL RUN/Audio_altFinal/zwxefbpfee.mp4.\n",
            "Moviepy - Writing video /content/gdrive/MyDrive/Major FINAL RUN/Audio_altFinal/zwxefbpfee.mp4\n",
            "\n"
          ]
        },
        {
          "name": "stderr",
          "output_type": "stream",
          "text": [
            "t: 100%|██████████| 301/301 [00:48<00:00,  7.86it/s, now=None]WARNING:py.warnings:/usr/local/lib/python3.10/dist-packages/moviepy/video/io/ffmpeg_reader.py:123: UserWarning: Warning: in file /content/gdrive/MyDrive/Major FINAL RUN/Final Audio Dataset/zwxefbpfee.mp4, 6220800 bytes wanted but 0 bytes read,at frame 300/301, at time 10.01/10.02 sec. Using the last valid frame instead.\n",
            "  warnings.warn(\"Warning: in file %s, \"%(self.filename)+\n",
            "\n"
          ]
        },
        {
          "name": "stdout",
          "output_type": "stream",
          "text": [
            "Moviepy - Done !\n",
            "Moviepy - video ready /content/gdrive/MyDrive/Major FINAL RUN/Audio_altFinal/zwxefbpfee.mp4\n",
            "Processed 2 out of 744 videos. Audio removed from zwxefbpfee.mp4 and saved to silent videos folder.\n",
            "Moviepy - Building video /content/gdrive/MyDrive/Major FINAL RUN/Audio_altFinal/trpofaspmo.mp4.\n",
            "Moviepy - Writing video /content/gdrive/MyDrive/Major FINAL RUN/Audio_altFinal/trpofaspmo.mp4\n",
            "\n"
          ]
        },
        {
          "name": "stderr",
          "output_type": "stream",
          "text": [
            "t: 100%|██████████| 301/301 [00:40<00:00,  8.96it/s, now=None]WARNING:py.warnings:/usr/local/lib/python3.10/dist-packages/moviepy/video/io/ffmpeg_reader.py:123: UserWarning: Warning: in file /content/gdrive/MyDrive/Major FINAL RUN/Final Audio Dataset/trpofaspmo.mp4, 6220800 bytes wanted but 0 bytes read,at frame 300/301, at time 10.01/10.02 sec. Using the last valid frame instead.\n",
            "  warnings.warn(\"Warning: in file %s, \"%(self.filename)+\n",
            "\n"
          ]
        },
        {
          "name": "stdout",
          "output_type": "stream",
          "text": [
            "Moviepy - Done !\n",
            "Moviepy - video ready /content/gdrive/MyDrive/Major FINAL RUN/Audio_altFinal/trpofaspmo.mp4\n",
            "Processed 3 out of 744 videos. Audio removed from trpofaspmo.mp4 and saved to silent videos folder.\n",
            "Moviepy - Building video /content/gdrive/MyDrive/Major FINAL RUN/Audio_altFinal/zwswwwrefl.mp4.\n",
            "Moviepy - Writing video /content/gdrive/MyDrive/Major FINAL RUN/Audio_altFinal/zwswwwrefl.mp4\n",
            "\n"
          ]
        },
        {
          "name": "stderr",
          "output_type": "stream",
          "text": [
            "t: 100%|█████████▉| 299/300 [00:54<00:00,  4.05it/s, now=None]WARNING:py.warnings:/usr/local/lib/python3.10/dist-packages/moviepy/video/io/ffmpeg_reader.py:123: UserWarning: Warning: in file /content/gdrive/MyDrive/Major FINAL RUN/Final Audio Dataset/zwswwwrefl.mp4, 6220800 bytes wanted but 0 bytes read,at frame 299/300, at time 10.01/10.02 sec. Using the last valid frame instead.\n",
            "  warnings.warn(\"Warning: in file %s, \"%(self.filename)+\n",
            "\n"
          ]
        },
        {
          "name": "stdout",
          "output_type": "stream",
          "text": [
            "Moviepy - Done !\n",
            "Moviepy - video ready /content/gdrive/MyDrive/Major FINAL RUN/Audio_altFinal/zwswwwrefl.mp4\n",
            "Processed 4 out of 744 videos. Audio removed from zwswwwrefl.mp4 and saved to silent videos folder.\n",
            "Moviepy - Building video /content/gdrive/MyDrive/Major FINAL RUN/Audio_altFinal/ufiwltnbqn.mp4.\n",
            "Moviepy - Writing video /content/gdrive/MyDrive/Major FINAL RUN/Audio_altFinal/ufiwltnbqn.mp4\n",
            "\n"
          ]
        },
        {
          "name": "stderr",
          "output_type": "stream",
          "text": [
            "t: 100%|██████████| 301/301 [00:37<00:00,  9.29it/s, now=None]WARNING:py.warnings:/usr/local/lib/python3.10/dist-packages/moviepy/video/io/ffmpeg_reader.py:123: UserWarning: Warning: in file /content/gdrive/MyDrive/Major FINAL RUN/Final Audio Dataset/ufiwltnbqn.mp4, 6220800 bytes wanted but 0 bytes read,at frame 300/301, at time 10.01/10.02 sec. Using the last valid frame instead.\n",
            "  warnings.warn(\"Warning: in file %s, \"%(self.filename)+\n",
            "\n"
          ]
        },
        {
          "name": "stdout",
          "output_type": "stream",
          "text": [
            "Moviepy - Done !\n",
            "Moviepy - video ready /content/gdrive/MyDrive/Major FINAL RUN/Audio_altFinal/ufiwltnbqn.mp4\n",
            "Processed 5 out of 744 videos. Audio removed from ufiwltnbqn.mp4 and saved to silent videos folder.\n",
            "Moviepy - Building video /content/gdrive/MyDrive/Major FINAL RUN/Audio_altFinal/ztdzaacgbv.mp4.\n",
            "Moviepy - Writing video /content/gdrive/MyDrive/Major FINAL RUN/Audio_altFinal/ztdzaacgbv.mp4\n",
            "\n"
          ]
        },
        {
          "name": "stderr",
          "output_type": "stream",
          "text": [
            "t: 100%|██████████| 301/301 [00:41<00:00,  7.53it/s, now=None]WARNING:py.warnings:/usr/local/lib/python3.10/dist-packages/moviepy/video/io/ffmpeg_reader.py:123: UserWarning: Warning: in file /content/gdrive/MyDrive/Major FINAL RUN/Final Audio Dataset/ztdzaacgbv.mp4, 6220800 bytes wanted but 0 bytes read,at frame 300/301, at time 10.01/10.02 sec. Using the last valid frame instead.\n",
            "  warnings.warn(\"Warning: in file %s, \"%(self.filename)+\n",
            "\n"
          ]
        },
        {
          "name": "stdout",
          "output_type": "stream",
          "text": [
            "Moviepy - Done !\n",
            "Moviepy - video ready /content/gdrive/MyDrive/Major FINAL RUN/Audio_altFinal/ztdzaacgbv.mp4\n",
            "Processed 6 out of 744 videos. Audio removed from ztdzaacgbv.mp4 and saved to silent videos folder.\n",
            "Moviepy - Building video /content/gdrive/MyDrive/Major FINAL RUN/Audio_altFinal/uztttikeuj.mp4.\n",
            "Moviepy - Writing video /content/gdrive/MyDrive/Major FINAL RUN/Audio_altFinal/uztttikeuj.mp4\n",
            "\n"
          ]
        },
        {
          "name": "stderr",
          "output_type": "stream",
          "text": [
            "t: 100%|█████████▉| 300/301 [00:37<00:00,  8.58it/s, now=None]WARNING:py.warnings:/usr/local/lib/python3.10/dist-packages/moviepy/video/io/ffmpeg_reader.py:123: UserWarning: Warning: in file /content/gdrive/MyDrive/Major FINAL RUN/Final Audio Dataset/uztttikeuj.mp4, 6220800 bytes wanted but 0 bytes read,at frame 300/301, at time 10.01/10.02 sec. Using the last valid frame instead.\n",
            "  warnings.warn(\"Warning: in file %s, \"%(self.filename)+\n",
            "\n"
          ]
        },
        {
          "name": "stdout",
          "output_type": "stream",
          "text": [
            "Moviepy - Done !\n",
            "Moviepy - video ready /content/gdrive/MyDrive/Major FINAL RUN/Audio_altFinal/uztttikeuj.mp4\n",
            "Processed 7 out of 744 videos. Audio removed from uztttikeuj.mp4 and saved to silent videos folder.\n",
            "Moviepy - Building video /content/gdrive/MyDrive/Major FINAL RUN/Audio_altFinal/wmxljnrvkp.mp4.\n",
            "Moviepy - Writing video /content/gdrive/MyDrive/Major FINAL RUN/Audio_altFinal/wmxljnrvkp.mp4\n",
            "\n"
          ]
        },
        {
          "name": "stderr",
          "output_type": "stream",
          "text": [
            "t: 100%|█████████▉| 300/301 [00:40<00:00,  4.53it/s, now=None]WARNING:py.warnings:/usr/local/lib/python3.10/dist-packages/moviepy/video/io/ffmpeg_reader.py:123: UserWarning: Warning: in file /content/gdrive/MyDrive/Major FINAL RUN/Final Audio Dataset/wmxljnrvkp.mp4, 6220800 bytes wanted but 0 bytes read,at frame 300/301, at time 10.01/10.02 sec. Using the last valid frame instead.\n",
            "  warnings.warn(\"Warning: in file %s, \"%(self.filename)+\n",
            "\n"
          ]
        },
        {
          "name": "stdout",
          "output_type": "stream",
          "text": [
            "Moviepy - Done !\n",
            "Moviepy - video ready /content/gdrive/MyDrive/Major FINAL RUN/Audio_altFinal/wmxljnrvkp.mp4\n",
            "Processed 8 out of 744 videos. Audio removed from wmxljnrvkp.mp4 and saved to silent videos folder.\n",
            "Moviepy - Building video /content/gdrive/MyDrive/Major FINAL RUN/Audio_altFinal/aokxvqadsx.mp4.\n",
            "Moviepy - Writing video /content/gdrive/MyDrive/Major FINAL RUN/Audio_altFinal/aokxvqadsx.mp4\n",
            "\n"
          ]
        },
        {
          "name": "stderr",
          "output_type": "stream",
          "text": [
            "t: 100%|██████████| 301/301 [00:47<00:00,  7.81it/s, now=None]WARNING:py.warnings:/usr/local/lib/python3.10/dist-packages/moviepy/video/io/ffmpeg_reader.py:123: UserWarning: Warning: in file /content/gdrive/MyDrive/Major FINAL RUN/Final Audio Dataset/aokxvqadsx.mp4, 6220800 bytes wanted but 0 bytes read,at frame 300/301, at time 10.00/10.02 sec. Using the last valid frame instead.\n",
            "  warnings.warn(\"Warning: in file %s, \"%(self.filename)+\n",
            "\n"
          ]
        },
        {
          "name": "stdout",
          "output_type": "stream",
          "text": [
            "Moviepy - Done !\n",
            "Moviepy - video ready /content/gdrive/MyDrive/Major FINAL RUN/Audio_altFinal/aokxvqadsx.mp4\n",
            "Processed 9 out of 744 videos. Audio removed from aokxvqadsx.mp4 and saved to silent videos folder.\n",
            "Moviepy - Building video /content/gdrive/MyDrive/Major FINAL RUN/Audio_altFinal/bcbqxhziqz.mp4.\n",
            "Moviepy - Writing video /content/gdrive/MyDrive/Major FINAL RUN/Audio_altFinal/bcbqxhziqz.mp4\n",
            "\n"
          ]
        },
        {
          "name": "stderr",
          "output_type": "stream",
          "text": [
            "t: 100%|██████████| 300/300 [00:57<00:00,  6.46it/s, now=None]WARNING:py.warnings:/usr/local/lib/python3.10/dist-packages/moviepy/video/io/ffmpeg_reader.py:123: UserWarning: Warning: in file /content/gdrive/MyDrive/Major FINAL RUN/Final Audio Dataset/bcbqxhziqz.mp4, 6220800 bytes wanted but 0 bytes read,at frame 299/300, at time 10.01/10.02 sec. Using the last valid frame instead.\n",
            "  warnings.warn(\"Warning: in file %s, \"%(self.filename)+\n",
            "\n"
          ]
        },
        {
          "name": "stdout",
          "output_type": "stream",
          "text": [
            "Moviepy - Done !\n",
            "Moviepy - video ready /content/gdrive/MyDrive/Major FINAL RUN/Audio_altFinal/bcbqxhziqz.mp4\n",
            "Processed 10 out of 744 videos. Audio removed from bcbqxhziqz.mp4 and saved to silent videos folder.\n",
            "Moviepy - Building video /content/gdrive/MyDrive/Major FINAL RUN/Audio_altFinal/blkbkvcffn.mp4.\n",
            "Moviepy - Writing video /content/gdrive/MyDrive/Major FINAL RUN/Audio_altFinal/blkbkvcffn.mp4\n",
            "\n"
          ]
        },
        {
          "name": "stderr",
          "output_type": "stream",
          "text": [
            "t: 100%|██████████| 301/301 [00:47<00:00,  3.90it/s, now=None]WARNING:py.warnings:/usr/local/lib/python3.10/dist-packages/moviepy/video/io/ffmpeg_reader.py:123: UserWarning: Warning: in file /content/gdrive/MyDrive/Major FINAL RUN/Final Audio Dataset/blkbkvcffn.mp4, 6220800 bytes wanted but 0 bytes read,at frame 300/301, at time 10.00/10.02 sec. Using the last valid frame instead.\n",
            "  warnings.warn(\"Warning: in file %s, \"%(self.filename)+\n",
            "\n"
          ]
        },
        {
          "name": "stdout",
          "output_type": "stream",
          "text": [
            "Moviepy - Done !\n",
            "Moviepy - video ready /content/gdrive/MyDrive/Major FINAL RUN/Audio_altFinal/blkbkvcffn.mp4\n",
            "Processed 11 out of 744 videos. Audio removed from blkbkvcffn.mp4 and saved to silent videos folder.\n",
            "Moviepy - Building video /content/gdrive/MyDrive/Major FINAL RUN/Audio_altFinal/bnuwxhfahw.mp4.\n",
            "Moviepy - Writing video /content/gdrive/MyDrive/Major FINAL RUN/Audio_altFinal/bnuwxhfahw.mp4\n",
            "\n"
          ]
        },
        {
          "name": "stderr",
          "output_type": "stream",
          "text": [
            "t: 100%|██████████| 300/300 [00:52<00:00,  7.51it/s, now=None]WARNING:py.warnings:/usr/local/lib/python3.10/dist-packages/moviepy/video/io/ffmpeg_reader.py:123: UserWarning: Warning: in file /content/gdrive/MyDrive/Major FINAL RUN/Final Audio Dataset/bnuwxhfahw.mp4, 6220800 bytes wanted but 0 bytes read,at frame 299/300, at time 10.01/10.02 sec. Using the last valid frame instead.\n",
            "  warnings.warn(\"Warning: in file %s, \"%(self.filename)+\n",
            "\n"
          ]
        },
        {
          "name": "stdout",
          "output_type": "stream",
          "text": [
            "Moviepy - Done !\n",
            "Moviepy - video ready /content/gdrive/MyDrive/Major FINAL RUN/Audio_altFinal/bnuwxhfahw.mp4\n",
            "Processed 12 out of 744 videos. Audio removed from bnuwxhfahw.mp4 and saved to silent videos folder.\n",
            "Moviepy - Building video /content/gdrive/MyDrive/Major FINAL RUN/Audio_altFinal/cnpanmywno.mp4.\n",
            "Moviepy - Writing video /content/gdrive/MyDrive/Major FINAL RUN/Audio_altFinal/cnpanmywno.mp4\n",
            "\n"
          ]
        },
        {
          "name": "stderr",
          "output_type": "stream",
          "text": [
            "t: 100%|██████████| 300/300 [00:52<00:00,  4.53it/s, now=None]WARNING:py.warnings:/usr/local/lib/python3.10/dist-packages/moviepy/video/io/ffmpeg_reader.py:123: UserWarning: Warning: in file /content/gdrive/MyDrive/Major FINAL RUN/Final Audio Dataset/cnpanmywno.mp4, 6220800 bytes wanted but 0 bytes read,at frame 299/300, at time 10.01/10.02 sec. Using the last valid frame instead.\n",
            "  warnings.warn(\"Warning: in file %s, \"%(self.filename)+\n",
            "\n"
          ]
        },
        {
          "name": "stdout",
          "output_type": "stream",
          "text": [
            "Moviepy - Done !\n",
            "Moviepy - video ready /content/gdrive/MyDrive/Major FINAL RUN/Audio_altFinal/cnpanmywno.mp4\n",
            "Processed 13 out of 744 videos. Audio removed from cnpanmywno.mp4 and saved to silent videos folder.\n",
            "Moviepy - Building video /content/gdrive/MyDrive/Major FINAL RUN/Audio_altFinal/comqkwjrft.mp4.\n",
            "Moviepy - Writing video /content/gdrive/MyDrive/Major FINAL RUN/Audio_altFinal/comqkwjrft.mp4\n",
            "\n"
          ]
        },
        {
          "name": "stderr",
          "output_type": "stream",
          "text": [
            "t: 100%|█████████▉| 299/300 [00:43<00:00,  6.81it/s, now=None]WARNING:py.warnings:/usr/local/lib/python3.10/dist-packages/moviepy/video/io/ffmpeg_reader.py:123: UserWarning: Warning: in file /content/gdrive/MyDrive/Major FINAL RUN/Final Audio Dataset/comqkwjrft.mp4, 6220800 bytes wanted but 0 bytes read,at frame 299/300, at time 10.01/10.02 sec. Using the last valid frame instead.\n",
            "  warnings.warn(\"Warning: in file %s, \"%(self.filename)+\n",
            "\n"
          ]
        },
        {
          "name": "stdout",
          "output_type": "stream",
          "text": [
            "Moviepy - Done !\n",
            "Moviepy - video ready /content/gdrive/MyDrive/Major FINAL RUN/Audio_altFinal/comqkwjrft.mp4\n",
            "Processed 14 out of 744 videos. Audio removed from comqkwjrft.mp4 and saved to silent videos folder.\n",
            "Moviepy - Building video /content/gdrive/MyDrive/Major FINAL RUN/Audio_altFinal/cosghhimnd.mp4.\n",
            "Moviepy - Writing video /content/gdrive/MyDrive/Major FINAL RUN/Audio_altFinal/cosghhimnd.mp4\n",
            "\n"
          ]
        },
        {
          "name": "stderr",
          "output_type": "stream",
          "text": [
            "t: 100%|█████████▉| 299/300 [00:45<00:00,  6.61it/s, now=None]WARNING:py.warnings:/usr/local/lib/python3.10/dist-packages/moviepy/video/io/ffmpeg_reader.py:123: UserWarning: Warning: in file /content/gdrive/MyDrive/Major FINAL RUN/Final Audio Dataset/cosghhimnd.mp4, 6220800 bytes wanted but 0 bytes read,at frame 299/300, at time 10.01/10.02 sec. Using the last valid frame instead.\n",
            "  warnings.warn(\"Warning: in file %s, \"%(self.filename)+\n",
            "\n"
          ]
        },
        {
          "name": "stdout",
          "output_type": "stream",
          "text": [
            "Moviepy - Done !\n",
            "Moviepy - video ready /content/gdrive/MyDrive/Major FINAL RUN/Audio_altFinal/cosghhimnd.mp4\n",
            "Processed 15 out of 744 videos. Audio removed from cosghhimnd.mp4 and saved to silent videos folder.\n",
            "Moviepy - Building video /content/gdrive/MyDrive/Major FINAL RUN/Audio_altFinal/cqxxumarvp.mp4.\n",
            "Moviepy - Writing video /content/gdrive/MyDrive/Major FINAL RUN/Audio_altFinal/cqxxumarvp.mp4\n",
            "\n"
          ]
        },
        {
          "name": "stderr",
          "output_type": "stream",
          "text": [
            "t: 100%|█████████▉| 299/300 [00:36<00:00,  9.14it/s, now=None]WARNING:py.warnings:/usr/local/lib/python3.10/dist-packages/moviepy/video/io/ffmpeg_reader.py:123: UserWarning: Warning: in file /content/gdrive/MyDrive/Major FINAL RUN/Final Audio Dataset/cqxxumarvp.mp4, 6220800 bytes wanted but 0 bytes read,at frame 299/300, at time 10.01/10.02 sec. Using the last valid frame instead.\n",
            "  warnings.warn(\"Warning: in file %s, \"%(self.filename)+\n",
            "\n"
          ]
        },
        {
          "name": "stdout",
          "output_type": "stream",
          "text": [
            "Moviepy - Done !\n",
            "Moviepy - video ready /content/gdrive/MyDrive/Major FINAL RUN/Audio_altFinal/cqxxumarvp.mp4\n",
            "Processed 16 out of 744 videos. Audio removed from cqxxumarvp.mp4 and saved to silent videos folder.\n",
            "Moviepy - Building video /content/gdrive/MyDrive/Major FINAL RUN/Audio_altFinal/djjgzhluss.mp4.\n",
            "Moviepy - Writing video /content/gdrive/MyDrive/Major FINAL RUN/Audio_altFinal/djjgzhluss.mp4\n",
            "\n"
          ]
        },
        {
          "name": "stderr",
          "output_type": "stream",
          "text": [
            "t: 100%|██████████| 300/300 [00:51<00:00,  7.17it/s, now=None]WARNING:py.warnings:/usr/local/lib/python3.10/dist-packages/moviepy/video/io/ffmpeg_reader.py:123: UserWarning: Warning: in file /content/gdrive/MyDrive/Major FINAL RUN/Final Audio Dataset/djjgzhluss.mp4, 6220800 bytes wanted but 0 bytes read,at frame 299/300, at time 10.01/10.02 sec. Using the last valid frame instead.\n",
            "  warnings.warn(\"Warning: in file %s, \"%(self.filename)+\n",
            "\n"
          ]
        },
        {
          "name": "stdout",
          "output_type": "stream",
          "text": [
            "Moviepy - Done !\n",
            "Moviepy - video ready /content/gdrive/MyDrive/Major FINAL RUN/Audio_altFinal/djjgzhluss.mp4\n",
            "Processed 17 out of 744 videos. Audio removed from djjgzhluss.mp4 and saved to silent videos folder.\n",
            "Moviepy - Building video /content/gdrive/MyDrive/Major FINAL RUN/Audio_altFinal/dvtpwatuja.mp4.\n",
            "Moviepy - Writing video /content/gdrive/MyDrive/Major FINAL RUN/Audio_altFinal/dvtpwatuja.mp4\n",
            "\n"
          ]
        },
        {
          "name": "stderr",
          "output_type": "stream",
          "text": [
            "t: 100%|█████████▉| 299/300 [00:52<00:00,  3.40it/s, now=None]WARNING:py.warnings:/usr/local/lib/python3.10/dist-packages/moviepy/video/io/ffmpeg_reader.py:123: UserWarning: Warning: in file /content/gdrive/MyDrive/Major FINAL RUN/Final Audio Dataset/dvtpwatuja.mp4, 6220800 bytes wanted but 0 bytes read,at frame 299/300, at time 10.01/10.02 sec. Using the last valid frame instead.\n",
            "  warnings.warn(\"Warning: in file %s, \"%(self.filename)+\n",
            "\n"
          ]
        },
        {
          "name": "stdout",
          "output_type": "stream",
          "text": [
            "Moviepy - Done !\n",
            "Moviepy - video ready /content/gdrive/MyDrive/Major FINAL RUN/Audio_altFinal/dvtpwatuja.mp4\n",
            "Processed 18 out of 744 videos. Audio removed from dvtpwatuja.mp4 and saved to silent videos folder.\n",
            "Moviepy - Building video /content/gdrive/MyDrive/Major FINAL RUN/Audio_altFinal/dvwpvqdflx.mp4.\n",
            "Moviepy - Writing video /content/gdrive/MyDrive/Major FINAL RUN/Audio_altFinal/dvwpvqdflx.mp4\n",
            "\n"
          ]
        },
        {
          "name": "stderr",
          "output_type": "stream",
          "text": [
            "t: 100%|█████████▉| 299/300 [00:35<00:00,  9.01it/s, now=None]WARNING:py.warnings:/usr/local/lib/python3.10/dist-packages/moviepy/video/io/ffmpeg_reader.py:123: UserWarning: Warning: in file /content/gdrive/MyDrive/Major FINAL RUN/Final Audio Dataset/dvwpvqdflx.mp4, 6220800 bytes wanted but 0 bytes read,at frame 299/300, at time 10.01/10.02 sec. Using the last valid frame instead.\n",
            "  warnings.warn(\"Warning: in file %s, \"%(self.filename)+\n",
            "\n"
          ]
        },
        {
          "name": "stdout",
          "output_type": "stream",
          "text": [
            "Moviepy - Done !\n",
            "Moviepy - video ready /content/gdrive/MyDrive/Major FINAL RUN/Audio_altFinal/dvwpvqdflx.mp4\n",
            "Processed 19 out of 744 videos. Audio removed from dvwpvqdflx.mp4 and saved to silent videos folder.\n",
            "Moviepy - Building video /content/gdrive/MyDrive/Major FINAL RUN/Audio_altFinal/dzrrklwrgn.mp4.\n",
            "Moviepy - Writing video /content/gdrive/MyDrive/Major FINAL RUN/Audio_altFinal/dzrrklwrgn.mp4\n",
            "\n"
          ]
        },
        {
          "name": "stderr",
          "output_type": "stream",
          "text": [
            "t: 100%|█████████▉| 299/300 [00:44<00:00,  6.54it/s, now=None]WARNING:py.warnings:/usr/local/lib/python3.10/dist-packages/moviepy/video/io/ffmpeg_reader.py:123: UserWarning: Warning: in file /content/gdrive/MyDrive/Major FINAL RUN/Final Audio Dataset/dzrrklwrgn.mp4, 6220800 bytes wanted but 0 bytes read,at frame 299/300, at time 10.01/10.02 sec. Using the last valid frame instead.\n",
            "  warnings.warn(\"Warning: in file %s, \"%(self.filename)+\n",
            "\n"
          ]
        },
        {
          "name": "stdout",
          "output_type": "stream",
          "text": [
            "Moviepy - Done !\n",
            "Moviepy - video ready /content/gdrive/MyDrive/Major FINAL RUN/Audio_altFinal/dzrrklwrgn.mp4\n",
            "Processed 20 out of 744 videos. Audio removed from dzrrklwrgn.mp4 and saved to silent videos folder.\n",
            "Moviepy - Building video /content/gdrive/MyDrive/Major FINAL RUN/Audio_altFinal/emqeprwwpi.mp4.\n",
            "Moviepy - Writing video /content/gdrive/MyDrive/Major FINAL RUN/Audio_altFinal/emqeprwwpi.mp4\n",
            "\n"
          ]
        },
        {
          "name": "stderr",
          "output_type": "stream",
          "text": [
            "t: 100%|██████████| 300/300 [00:45<00:00,  5.17it/s, now=None]WARNING:py.warnings:/usr/local/lib/python3.10/dist-packages/moviepy/video/io/ffmpeg_reader.py:123: UserWarning: Warning: in file /content/gdrive/MyDrive/Major FINAL RUN/Final Audio Dataset/emqeprwwpi.mp4, 6220800 bytes wanted but 0 bytes read,at frame 299/300, at time 10.01/10.02 sec. Using the last valid frame instead.\n",
            "  warnings.warn(\"Warning: in file %s, \"%(self.filename)+\n",
            "\n"
          ]
        },
        {
          "name": "stdout",
          "output_type": "stream",
          "text": [
            "Moviepy - Done !\n",
            "Moviepy - video ready /content/gdrive/MyDrive/Major FINAL RUN/Audio_altFinal/emqeprwwpi.mp4\n",
            "Processed 21 out of 744 videos. Audio removed from emqeprwwpi.mp4 and saved to silent videos folder.\n",
            "Moviepy - Building video /content/gdrive/MyDrive/Major FINAL RUN/Audio_altFinal/emwbovxems.mp4.\n",
            "Moviepy - Writing video /content/gdrive/MyDrive/Major FINAL RUN/Audio_altFinal/emwbovxems.mp4\n",
            "\n"
          ]
        },
        {
          "name": "stderr",
          "output_type": "stream",
          "text": [
            "t: 100%|██████████| 300/300 [00:53<00:00,  7.08it/s, now=None]WARNING:py.warnings:/usr/local/lib/python3.10/dist-packages/moviepy/video/io/ffmpeg_reader.py:123: UserWarning: Warning: in file /content/gdrive/MyDrive/Major FINAL RUN/Final Audio Dataset/emwbovxems.mp4, 6220800 bytes wanted but 0 bytes read,at frame 299/300, at time 10.01/10.02 sec. Using the last valid frame instead.\n",
            "  warnings.warn(\"Warning: in file %s, \"%(self.filename)+\n",
            "\n"
          ]
        },
        {
          "name": "stdout",
          "output_type": "stream",
          "text": [
            "Moviepy - Done !\n",
            "Moviepy - video ready /content/gdrive/MyDrive/Major FINAL RUN/Audio_altFinal/emwbovxems.mp4\n",
            "Processed 22 out of 744 videos. Audio removed from emwbovxems.mp4 and saved to silent videos folder.\n",
            "Moviepy - Building video /content/gdrive/MyDrive/Major FINAL RUN/Audio_altFinal/ekelfsnqof.mp4.\n",
            "Moviepy - Writing video /content/gdrive/MyDrive/Major FINAL RUN/Audio_altFinal/ekelfsnqof.mp4\n",
            "\n"
          ]
        },
        {
          "name": "stderr",
          "output_type": "stream",
          "text": [
            "t: 100%|██████████| 300/300 [00:39<00:00,  8.86it/s, now=None]WARNING:py.warnings:/usr/local/lib/python3.10/dist-packages/moviepy/video/io/ffmpeg_reader.py:123: UserWarning: Warning: in file /content/gdrive/MyDrive/Major FINAL RUN/Final Audio Dataset/ekelfsnqof.mp4, 6220800 bytes wanted but 0 bytes read,at frame 299/300, at time 10.01/10.02 sec. Using the last valid frame instead.\n",
            "  warnings.warn(\"Warning: in file %s, \"%(self.filename)+\n",
            "\n"
          ]
        },
        {
          "name": "stdout",
          "output_type": "stream",
          "text": [
            "Moviepy - Done !\n",
            "Moviepy - video ready /content/gdrive/MyDrive/Major FINAL RUN/Audio_altFinal/ekelfsnqof.mp4\n",
            "Processed 23 out of 744 videos. Audio removed from ekelfsnqof.mp4 and saved to silent videos folder.\n",
            "Moviepy - Building video /content/gdrive/MyDrive/Major FINAL RUN/Audio_altFinal/enpnclhmik.mp4.\n",
            "Moviepy - Writing video /content/gdrive/MyDrive/Major FINAL RUN/Audio_altFinal/enpnclhmik.mp4\n",
            "\n"
          ]
        },
        {
          "name": "stderr",
          "output_type": "stream",
          "text": [
            "t: 100%|█████████▉| 299/300 [00:52<00:00,  3.76it/s, now=None]WARNING:py.warnings:/usr/local/lib/python3.10/dist-packages/moviepy/video/io/ffmpeg_reader.py:123: UserWarning: Warning: in file /content/gdrive/MyDrive/Major FINAL RUN/Final Audio Dataset/enpnclhmik.mp4, 6220800 bytes wanted but 0 bytes read,at frame 299/300, at time 10.01/10.02 sec. Using the last valid frame instead.\n",
            "  warnings.warn(\"Warning: in file %s, \"%(self.filename)+\n",
            "\n"
          ]
        },
        {
          "name": "stdout",
          "output_type": "stream",
          "text": [
            "Moviepy - Done !\n",
            "Moviepy - video ready /content/gdrive/MyDrive/Major FINAL RUN/Audio_altFinal/enpnclhmik.mp4\n",
            "Processed 24 out of 744 videos. Audio removed from enpnclhmik.mp4 and saved to silent videos folder.\n",
            "Moviepy - Building video /content/gdrive/MyDrive/Major FINAL RUN/Audio_altFinal/enljrpodub.mp4.\n",
            "Moviepy - Writing video /content/gdrive/MyDrive/Major FINAL RUN/Audio_altFinal/enljrpodub.mp4\n",
            "\n"
          ]
        },
        {
          "name": "stderr",
          "output_type": "stream",
          "text": [
            "t: 100%|██████████| 300/300 [00:43<00:00,  4.17it/s, now=None]WARNING:py.warnings:/usr/local/lib/python3.10/dist-packages/moviepy/video/io/ffmpeg_reader.py:123: UserWarning: Warning: in file /content/gdrive/MyDrive/Major FINAL RUN/Final Audio Dataset/enljrpodub.mp4, 6220800 bytes wanted but 0 bytes read,at frame 299/300, at time 10.01/10.02 sec. Using the last valid frame instead.\n",
            "  warnings.warn(\"Warning: in file %s, \"%(self.filename)+\n",
            "\n"
          ]
        },
        {
          "name": "stdout",
          "output_type": "stream",
          "text": [
            "Moviepy - Done !\n",
            "Moviepy - video ready /content/gdrive/MyDrive/Major FINAL RUN/Audio_altFinal/enljrpodub.mp4\n",
            "Processed 25 out of 744 videos. Audio removed from enljrpodub.mp4 and saved to silent videos folder.\n",
            "Moviepy - Building video /content/gdrive/MyDrive/Major FINAL RUN/Audio_altFinal/endyepvcxe.mp4.\n",
            "Moviepy - Writing video /content/gdrive/MyDrive/Major FINAL RUN/Audio_altFinal/endyepvcxe.mp4\n",
            "\n"
          ]
        },
        {
          "name": "stderr",
          "output_type": "stream",
          "text": [
            "t: 100%|██████████| 300/300 [00:53<00:00,  6.65it/s, now=None]WARNING:py.warnings:/usr/local/lib/python3.10/dist-packages/moviepy/video/io/ffmpeg_reader.py:123: UserWarning: Warning: in file /content/gdrive/MyDrive/Major FINAL RUN/Final Audio Dataset/endyepvcxe.mp4, 6220800 bytes wanted but 0 bytes read,at frame 299/300, at time 10.01/10.02 sec. Using the last valid frame instead.\n",
            "  warnings.warn(\"Warning: in file %s, \"%(self.filename)+\n",
            "\n"
          ]
        },
        {
          "name": "stdout",
          "output_type": "stream",
          "text": [
            "Moviepy - Done !\n",
            "Moviepy - video ready /content/gdrive/MyDrive/Major FINAL RUN/Audio_altFinal/endyepvcxe.mp4\n",
            "Processed 26 out of 744 videos. Audio removed from endyepvcxe.mp4 and saved to silent videos folder.\n",
            "Moviepy - Building video /content/gdrive/MyDrive/Major FINAL RUN/Audio_altFinal/enrrlpgbeg.mp4.\n",
            "Moviepy - Writing video /content/gdrive/MyDrive/Major FINAL RUN/Audio_altFinal/enrrlpgbeg.mp4\n",
            "\n"
          ]
        },
        {
          "name": "stderr",
          "output_type": "stream",
          "text": [
            "t: 100%|█████████▉| 299/300 [00:39<00:00,  7.71it/s, now=None]WARNING:py.warnings:/usr/local/lib/python3.10/dist-packages/moviepy/video/io/ffmpeg_reader.py:123: UserWarning: Warning: in file /content/gdrive/MyDrive/Major FINAL RUN/Final Audio Dataset/enrrlpgbeg.mp4, 6220800 bytes wanted but 0 bytes read,at frame 299/300, at time 10.01/10.02 sec. Using the last valid frame instead.\n",
            "  warnings.warn(\"Warning: in file %s, \"%(self.filename)+\n",
            "\n"
          ]
        },
        {
          "name": "stdout",
          "output_type": "stream",
          "text": [
            "Moviepy - Done !\n",
            "Moviepy - video ready /content/gdrive/MyDrive/Major FINAL RUN/Audio_altFinal/enrrlpgbeg.mp4\n",
            "Processed 27 out of 744 videos. Audio removed from enrrlpgbeg.mp4 and saved to silent videos folder.\n",
            "Moviepy - Building video /content/gdrive/MyDrive/Major FINAL RUN/Audio_altFinal/eqslzbqfea.mp4.\n",
            "Moviepy - Writing video /content/gdrive/MyDrive/Major FINAL RUN/Audio_altFinal/eqslzbqfea.mp4\n",
            "\n"
          ]
        },
        {
          "name": "stderr",
          "output_type": "stream",
          "text": [
            "t: 100%|██████████| 301/301 [00:50<00:00,  6.74it/s, now=None]WARNING:py.warnings:/usr/local/lib/python3.10/dist-packages/moviepy/video/io/ffmpeg_reader.py:123: UserWarning: Warning: in file /content/gdrive/MyDrive/Major FINAL RUN/Final Audio Dataset/eqslzbqfea.mp4, 6220800 bytes wanted but 0 bytes read,at frame 300/301, at time 10.00/10.02 sec. Using the last valid frame instead.\n",
            "  warnings.warn(\"Warning: in file %s, \"%(self.filename)+\n",
            "\n"
          ]
        },
        {
          "name": "stdout",
          "output_type": "stream",
          "text": [
            "Moviepy - Done !\n",
            "Moviepy - video ready /content/gdrive/MyDrive/Major FINAL RUN/Audio_altFinal/eqslzbqfea.mp4\n",
            "Processed 28 out of 744 videos. Audio removed from eqslzbqfea.mp4 and saved to silent videos folder.\n",
            "Moviepy - Building video /content/gdrive/MyDrive/Major FINAL RUN/Audio_altFinal/ercvulggxk.mp4.\n",
            "Moviepy - Writing video /content/gdrive/MyDrive/Major FINAL RUN/Audio_altFinal/ercvulggxk.mp4\n",
            "\n"
          ]
        },
        {
          "name": "stderr",
          "output_type": "stream",
          "text": [
            "t:  99%|█████████▉| 298/300 [00:54<00:00,  5.08it/s, now=None]WARNING:py.warnings:/usr/local/lib/python3.10/dist-packages/moviepy/video/io/ffmpeg_reader.py:123: UserWarning: Warning: in file /content/gdrive/MyDrive/Major FINAL RUN/Final Audio Dataset/ercvulggxk.mp4, 6220800 bytes wanted but 0 bytes read,at frame 299/300, at time 10.01/10.02 sec. Using the last valid frame instead.\n",
            "  warnings.warn(\"Warning: in file %s, \"%(self.filename)+\n",
            "\n"
          ]
        },
        {
          "name": "stdout",
          "output_type": "stream",
          "text": [
            "Moviepy - Done !\n",
            "Moviepy - video ready /content/gdrive/MyDrive/Major FINAL RUN/Audio_altFinal/ercvulggxk.mp4\n",
            "Processed 29 out of 744 videos. Audio removed from ercvulggxk.mp4 and saved to silent videos folder.\n",
            "Moviepy - Building video /content/gdrive/MyDrive/Major FINAL RUN/Audio_altFinal/ercqmajdid.mp4.\n",
            "Moviepy - Writing video /content/gdrive/MyDrive/Major FINAL RUN/Audio_altFinal/ercqmajdid.mp4\n",
            "\n"
          ]
        },
        {
          "name": "stderr",
          "output_type": "stream",
          "text": [
            "t: 100%|██████████| 300/300 [00:38<00:00,  9.50it/s, now=None]WARNING:py.warnings:/usr/local/lib/python3.10/dist-packages/moviepy/video/io/ffmpeg_reader.py:123: UserWarning: Warning: in file /content/gdrive/MyDrive/Major FINAL RUN/Final Audio Dataset/ercqmajdid.mp4, 6220800 bytes wanted but 0 bytes read,at frame 299/300, at time 10.01/10.02 sec. Using the last valid frame instead.\n",
            "  warnings.warn(\"Warning: in file %s, \"%(self.filename)+\n",
            "\n"
          ]
        },
        {
          "name": "stdout",
          "output_type": "stream",
          "text": [
            "Moviepy - Done !\n",
            "Moviepy - video ready /content/gdrive/MyDrive/Major FINAL RUN/Audio_altFinal/ercqmajdid.mp4\n",
            "Processed 30 out of 744 videos. Audio removed from ercqmajdid.mp4 and saved to silent videos folder.\n",
            "Moviepy - Building video /content/gdrive/MyDrive/Major FINAL RUN/Audio_altFinal/eppozcvlub.mp4.\n",
            "Moviepy - Writing video /content/gdrive/MyDrive/Major FINAL RUN/Audio_altFinal/eppozcvlub.mp4\n",
            "\n"
          ]
        },
        {
          "name": "stderr",
          "output_type": "stream",
          "text": [
            "t: 100%|██████████| 300/300 [00:46<00:00,  4.64it/s, now=None]WARNING:py.warnings:/usr/local/lib/python3.10/dist-packages/moviepy/video/io/ffmpeg_reader.py:123: UserWarning: Warning: in file /content/gdrive/MyDrive/Major FINAL RUN/Final Audio Dataset/eppozcvlub.mp4, 6220800 bytes wanted but 0 bytes read,at frame 299/300, at time 10.01/10.02 sec. Using the last valid frame instead.\n",
            "  warnings.warn(\"Warning: in file %s, \"%(self.filename)+\n",
            "\n"
          ]
        },
        {
          "name": "stdout",
          "output_type": "stream",
          "text": [
            "Moviepy - Done !\n",
            "Moviepy - video ready /content/gdrive/MyDrive/Major FINAL RUN/Audio_altFinal/eppozcvlub.mp4\n",
            "Processed 31 out of 744 videos. Audio removed from eppozcvlub.mp4 and saved to silent videos folder.\n",
            "Moviepy - Building video /content/gdrive/MyDrive/Major FINAL RUN/Audio_altFinal/eqbyeipxqh.mp4.\n",
            "Moviepy - Writing video /content/gdrive/MyDrive/Major FINAL RUN/Audio_altFinal/eqbyeipxqh.mp4\n",
            "\n"
          ]
        },
        {
          "name": "stderr",
          "output_type": "stream",
          "text": [
            "t: 100%|█████████▉| 299/300 [00:55<00:00,  4.60it/s, now=None]WARNING:py.warnings:/usr/local/lib/python3.10/dist-packages/moviepy/video/io/ffmpeg_reader.py:123: UserWarning: Warning: in file /content/gdrive/MyDrive/Major FINAL RUN/Final Audio Dataset/eqbyeipxqh.mp4, 6220800 bytes wanted but 0 bytes read,at frame 299/300, at time 10.01/10.02 sec. Using the last valid frame instead.\n",
            "  warnings.warn(\"Warning: in file %s, \"%(self.filename)+\n",
            "\n"
          ]
        },
        {
          "name": "stdout",
          "output_type": "stream",
          "text": [
            "Moviepy - Done !\n",
            "Moviepy - video ready /content/gdrive/MyDrive/Major FINAL RUN/Audio_altFinal/eqbyeipxqh.mp4\n",
            "Processed 32 out of 744 videos. Audio removed from eqbyeipxqh.mp4 and saved to silent videos folder.\n",
            "Moviepy - Building video /content/gdrive/MyDrive/Major FINAL RUN/Audio_altFinal/eqsnaqrnmz.mp4.\n",
            "Moviepy - Writing video /content/gdrive/MyDrive/Major FINAL RUN/Audio_altFinal/eqsnaqrnmz.mp4\n",
            "\n"
          ]
        },
        {
          "name": "stderr",
          "output_type": "stream",
          "text": [
            "t: 100%|█████████▉| 299/300 [00:57<00:00,  3.41it/s, now=None]WARNING:py.warnings:/usr/local/lib/python3.10/dist-packages/moviepy/video/io/ffmpeg_reader.py:123: UserWarning: Warning: in file /content/gdrive/MyDrive/Major FINAL RUN/Final Audio Dataset/eqsnaqrnmz.mp4, 6220800 bytes wanted but 0 bytes read,at frame 299/300, at time 10.01/10.02 sec. Using the last valid frame instead.\n",
            "  warnings.warn(\"Warning: in file %s, \"%(self.filename)+\n",
            "\n"
          ]
        },
        {
          "name": "stdout",
          "output_type": "stream",
          "text": [
            "Moviepy - Done !\n",
            "Moviepy - video ready /content/gdrive/MyDrive/Major FINAL RUN/Audio_altFinal/eqsnaqrnmz.mp4\n",
            "Processed 33 out of 744 videos. Audio removed from eqsnaqrnmz.mp4 and saved to silent videos folder.\n",
            "Moviepy - Building video /content/gdrive/MyDrive/Major FINAL RUN/Audio_altFinal/ettliojswb.mp4.\n",
            "Moviepy - Writing video /content/gdrive/MyDrive/Major FINAL RUN/Audio_altFinal/ettliojswb.mp4\n",
            "\n"
          ]
        },
        {
          "name": "stderr",
          "output_type": "stream",
          "text": [
            "t: 100%|██████████| 300/300 [00:50<00:00,  6.82it/s, now=None]WARNING:py.warnings:/usr/local/lib/python3.10/dist-packages/moviepy/video/io/ffmpeg_reader.py:123: UserWarning: Warning: in file /content/gdrive/MyDrive/Major FINAL RUN/Final Audio Dataset/ettliojswb.mp4, 6220800 bytes wanted but 0 bytes read,at frame 299/300, at time 10.01/10.02 sec. Using the last valid frame instead.\n",
            "  warnings.warn(\"Warning: in file %s, \"%(self.filename)+\n",
            "\n"
          ]
        },
        {
          "name": "stdout",
          "output_type": "stream",
          "text": [
            "Moviepy - Done !\n",
            "Moviepy - video ready /content/gdrive/MyDrive/Major FINAL RUN/Audio_altFinal/ettliojswb.mp4\n",
            "Processed 34 out of 744 videos. Audio removed from ettliojswb.mp4 and saved to silent videos folder.\n",
            "Moviepy - Building video /content/gdrive/MyDrive/Major FINAL RUN/Audio_altFinal/etqyrutfok.mp4.\n",
            "Moviepy - Writing video /content/gdrive/MyDrive/Major FINAL RUN/Audio_altFinal/etqyrutfok.mp4\n",
            "\n"
          ]
        },
        {
          "name": "stderr",
          "output_type": "stream",
          "text": [
            "t: 100%|██████████| 300/300 [00:56<00:00,  7.08it/s, now=None]WARNING:py.warnings:/usr/local/lib/python3.10/dist-packages/moviepy/video/io/ffmpeg_reader.py:123: UserWarning: Warning: in file /content/gdrive/MyDrive/Major FINAL RUN/Final Audio Dataset/etqyrutfok.mp4, 6220800 bytes wanted but 0 bytes read,at frame 299/300, at time 10.01/10.02 sec. Using the last valid frame instead.\n",
            "  warnings.warn(\"Warning: in file %s, \"%(self.filename)+\n",
            "\n"
          ]
        },
        {
          "name": "stdout",
          "output_type": "stream",
          "text": [
            "Moviepy - Done !\n",
            "Moviepy - video ready /content/gdrive/MyDrive/Major FINAL RUN/Audio_altFinal/etqyrutfok.mp4\n",
            "Processed 35 out of 744 videos. Audio removed from etqyrutfok.mp4 and saved to silent videos folder.\n",
            "Moviepy - Building video /content/gdrive/MyDrive/Major FINAL RUN/Audio_altFinal/etxmshgclx.mp4.\n",
            "Moviepy - Writing video /content/gdrive/MyDrive/Major FINAL RUN/Audio_altFinal/etxmshgclx.mp4\n",
            "\n"
          ]
        },
        {
          "name": "stderr",
          "output_type": "stream",
          "text": [
            "t: 100%|█████████▉| 299/300 [00:40<00:00,  8.31it/s, now=None]WARNING:py.warnings:/usr/local/lib/python3.10/dist-packages/moviepy/video/io/ffmpeg_reader.py:123: UserWarning: Warning: in file /content/gdrive/MyDrive/Major FINAL RUN/Final Audio Dataset/etxmshgclx.mp4, 6220800 bytes wanted but 0 bytes read,at frame 299/300, at time 10.01/10.02 sec. Using the last valid frame instead.\n",
            "  warnings.warn(\"Warning: in file %s, \"%(self.filename)+\n",
            "\n"
          ]
        },
        {
          "name": "stdout",
          "output_type": "stream",
          "text": [
            "Moviepy - Done !\n",
            "Moviepy - video ready /content/gdrive/MyDrive/Major FINAL RUN/Audio_altFinal/etxmshgclx.mp4\n",
            "Processed 36 out of 744 videos. Audio removed from etxmshgclx.mp4 and saved to silent videos folder.\n",
            "Moviepy - Building video /content/gdrive/MyDrive/Major FINAL RUN/Audio_altFinal/eugmwsetxd.mp4.\n",
            "Moviepy - Writing video /content/gdrive/MyDrive/Major FINAL RUN/Audio_altFinal/eugmwsetxd.mp4\n",
            "\n"
          ]
        },
        {
          "name": "stderr",
          "output_type": "stream",
          "text": [
            "t: 100%|██████████| 300/300 [00:44<00:00,  8.33it/s, now=None]WARNING:py.warnings:/usr/local/lib/python3.10/dist-packages/moviepy/video/io/ffmpeg_reader.py:123: UserWarning: Warning: in file /content/gdrive/MyDrive/Major FINAL RUN/Final Audio Dataset/eugmwsetxd.mp4, 6220800 bytes wanted but 0 bytes read,at frame 299/300, at time 10.01/10.02 sec. Using the last valid frame instead.\n",
            "  warnings.warn(\"Warning: in file %s, \"%(self.filename)+\n",
            "\n"
          ]
        },
        {
          "name": "stdout",
          "output_type": "stream",
          "text": [
            "Moviepy - Done !\n",
            "Moviepy - video ready /content/gdrive/MyDrive/Major FINAL RUN/Audio_altFinal/eugmwsetxd.mp4\n",
            "Processed 37 out of 744 videos. Audio removed from eugmwsetxd.mp4 and saved to silent videos folder.\n",
            "Moviepy - Building video /content/gdrive/MyDrive/Major FINAL RUN/Audio_altFinal/euictoiuma.mp4.\n",
            "Moviepy - Writing video /content/gdrive/MyDrive/Major FINAL RUN/Audio_altFinal/euictoiuma.mp4\n",
            "\n"
          ]
        },
        {
          "name": "stderr",
          "output_type": "stream",
          "text": [
            "t: 100%|█████████▉| 299/300 [00:49<00:00,  8.15it/s, now=None]WARNING:py.warnings:/usr/local/lib/python3.10/dist-packages/moviepy/video/io/ffmpeg_reader.py:123: UserWarning: Warning: in file /content/gdrive/MyDrive/Major FINAL RUN/Final Audio Dataset/euictoiuma.mp4, 6220800 bytes wanted but 0 bytes read,at frame 299/300, at time 10.01/10.02 sec. Using the last valid frame instead.\n",
            "  warnings.warn(\"Warning: in file %s, \"%(self.filename)+\n",
            "\n"
          ]
        },
        {
          "name": "stdout",
          "output_type": "stream",
          "text": [
            "Moviepy - Done !\n",
            "Moviepy - video ready /content/gdrive/MyDrive/Major FINAL RUN/Audio_altFinal/euictoiuma.mp4\n",
            "Processed 38 out of 744 videos. Audio removed from euictoiuma.mp4 and saved to silent videos folder.\n",
            "Moviepy - Building video /content/gdrive/MyDrive/Major FINAL RUN/Audio_altFinal/eupisnxhsb.mp4.\n",
            "Moviepy - Writing video /content/gdrive/MyDrive/Major FINAL RUN/Audio_altFinal/eupisnxhsb.mp4\n",
            "\n"
          ]
        },
        {
          "name": "stderr",
          "output_type": "stream",
          "text": [
            "t: 100%|██████████| 300/300 [00:53<00:00,  6.22it/s, now=None]WARNING:py.warnings:/usr/local/lib/python3.10/dist-packages/moviepy/video/io/ffmpeg_reader.py:123: UserWarning: Warning: in file /content/gdrive/MyDrive/Major FINAL RUN/Final Audio Dataset/eupisnxhsb.mp4, 6220800 bytes wanted but 0 bytes read,at frame 299/300, at time 10.01/10.02 sec. Using the last valid frame instead.\n",
            "  warnings.warn(\"Warning: in file %s, \"%(self.filename)+\n",
            "\n"
          ]
        },
        {
          "name": "stdout",
          "output_type": "stream",
          "text": [
            "Moviepy - Done !\n",
            "Moviepy - video ready /content/gdrive/MyDrive/Major FINAL RUN/Audio_altFinal/eupisnxhsb.mp4\n",
            "Processed 39 out of 744 videos. Audio removed from eupisnxhsb.mp4 and saved to silent videos folder.\n",
            "Moviepy - Building video /content/gdrive/MyDrive/Major FINAL RUN/Audio_altFinal/fmhiujydwo.mp4.\n",
            "Moviepy - Writing video /content/gdrive/MyDrive/Major FINAL RUN/Audio_altFinal/fmhiujydwo.mp4\n",
            "\n"
          ]
        },
        {
          "name": "stderr",
          "output_type": "stream",
          "text": [
            "t: 100%|██████████| 300/300 [00:57<00:00,  4.40it/s, now=None]WARNING:py.warnings:/usr/local/lib/python3.10/dist-packages/moviepy/video/io/ffmpeg_reader.py:123: UserWarning: Warning: in file /content/gdrive/MyDrive/Major FINAL RUN/Final Audio Dataset/fmhiujydwo.mp4, 6220800 bytes wanted but 0 bytes read,at frame 299/300, at time 10.01/10.02 sec. Using the last valid frame instead.\n",
            "  warnings.warn(\"Warning: in file %s, \"%(self.filename)+\n",
            "\n"
          ]
        },
        {
          "name": "stdout",
          "output_type": "stream",
          "text": [
            "Moviepy - Done !\n",
            "Moviepy - video ready /content/gdrive/MyDrive/Major FINAL RUN/Audio_altFinal/fmhiujydwo.mp4\n",
            "Processed 40 out of 744 videos. Audio removed from fmhiujydwo.mp4 and saved to silent videos folder.\n",
            "Moviepy - Building video /content/gdrive/MyDrive/Major FINAL RUN/Audio_altFinal/fneqiqpqvs.mp4.\n",
            "Moviepy - Writing video /content/gdrive/MyDrive/Major FINAL RUN/Audio_altFinal/fneqiqpqvs.mp4\n",
            "\n"
          ]
        },
        {
          "name": "stderr",
          "output_type": "stream",
          "text": [
            "t: 100%|██████████| 300/300 [00:54<00:00,  4.40it/s, now=None]WARNING:py.warnings:/usr/local/lib/python3.10/dist-packages/moviepy/video/io/ffmpeg_reader.py:123: UserWarning: Warning: in file /content/gdrive/MyDrive/Major FINAL RUN/Final Audio Dataset/fneqiqpqvs.mp4, 6220800 bytes wanted but 0 bytes read,at frame 299/300, at time 10.01/10.02 sec. Using the last valid frame instead.\n",
            "  warnings.warn(\"Warning: in file %s, \"%(self.filename)+\n",
            "\n"
          ]
        },
        {
          "name": "stdout",
          "output_type": "stream",
          "text": [
            "Moviepy - Done !\n",
            "Moviepy - video ready /content/gdrive/MyDrive/Major FINAL RUN/Audio_altFinal/fneqiqpqvs.mp4\n",
            "Processed 41 out of 744 videos. Audio removed from fneqiqpqvs.mp4 and saved to silent videos folder.\n",
            "Moviepy - Building video /content/gdrive/MyDrive/Major FINAL RUN/Audio_altFinal/fqnvpbvfmf.mp4.\n",
            "Moviepy - Writing video /content/gdrive/MyDrive/Major FINAL RUN/Audio_altFinal/fqnvpbvfmf.mp4\n",
            "\n"
          ]
        },
        {
          "name": "stderr",
          "output_type": "stream",
          "text": [
            "t: 100%|█████████▉| 299/300 [00:40<00:00,  5.05it/s, now=None]WARNING:py.warnings:/usr/local/lib/python3.10/dist-packages/moviepy/video/io/ffmpeg_reader.py:123: UserWarning: Warning: in file /content/gdrive/MyDrive/Major FINAL RUN/Final Audio Dataset/fqnvpbvfmf.mp4, 6220800 bytes wanted but 0 bytes read,at frame 299/300, at time 10.01/10.02 sec. Using the last valid frame instead.\n",
            "  warnings.warn(\"Warning: in file %s, \"%(self.filename)+\n",
            "\n"
          ]
        },
        {
          "name": "stdout",
          "output_type": "stream",
          "text": [
            "Moviepy - Done !\n",
            "Moviepy - video ready /content/gdrive/MyDrive/Major FINAL RUN/Audio_altFinal/fqnvpbvfmf.mp4\n",
            "Processed 42 out of 744 videos. Audio removed from fqnvpbvfmf.mp4 and saved to silent videos folder.\n",
            "Moviepy - Building video /content/gdrive/MyDrive/Major FINAL RUN/Audio_altFinal/frqfsucgao.mp4.\n",
            "Moviepy - Writing video /content/gdrive/MyDrive/Major FINAL RUN/Audio_altFinal/frqfsucgao.mp4\n",
            "\n"
          ]
        },
        {
          "name": "stderr",
          "output_type": "stream",
          "text": [
            "t: 100%|█████████▉| 299/300 [00:35<00:00,  9.41it/s, now=None]WARNING:py.warnings:/usr/local/lib/python3.10/dist-packages/moviepy/video/io/ffmpeg_reader.py:123: UserWarning: Warning: in file /content/gdrive/MyDrive/Major FINAL RUN/Final Audio Dataset/frqfsucgao.mp4, 6220800 bytes wanted but 0 bytes read,at frame 299/300, at time 10.01/10.02 sec. Using the last valid frame instead.\n",
            "  warnings.warn(\"Warning: in file %s, \"%(self.filename)+\n",
            "\n"
          ]
        },
        {
          "name": "stdout",
          "output_type": "stream",
          "text": [
            "Moviepy - Done !\n",
            "Moviepy - video ready /content/gdrive/MyDrive/Major FINAL RUN/Audio_altFinal/frqfsucgao.mp4\n",
            "Processed 43 out of 744 videos. Audio removed from frqfsucgao.mp4 and saved to silent videos folder.\n",
            "Moviepy - Building video /content/gdrive/MyDrive/Major FINAL RUN/Audio_altFinal/fyyyoslpgo.mp4.\n",
            "Moviepy - Writing video /content/gdrive/MyDrive/Major FINAL RUN/Audio_altFinal/fyyyoslpgo.mp4\n",
            "\n"
          ]
        },
        {
          "name": "stderr",
          "output_type": "stream",
          "text": [
            "t: 100%|█████████▉| 299/300 [00:45<00:00,  6.57it/s, now=None]WARNING:py.warnings:/usr/local/lib/python3.10/dist-packages/moviepy/video/io/ffmpeg_reader.py:123: UserWarning: Warning: in file /content/gdrive/MyDrive/Major FINAL RUN/Final Audio Dataset/fyyyoslpgo.mp4, 6220800 bytes wanted but 0 bytes read,at frame 299/300, at time 10.01/10.02 sec. Using the last valid frame instead.\n",
            "  warnings.warn(\"Warning: in file %s, \"%(self.filename)+\n",
            "\n"
          ]
        },
        {
          "name": "stdout",
          "output_type": "stream",
          "text": [
            "Moviepy - Done !\n",
            "Moviepy - video ready /content/gdrive/MyDrive/Major FINAL RUN/Audio_altFinal/fyyyoslpgo.mp4\n",
            "Processed 44 out of 744 videos. Audio removed from fyyyoslpgo.mp4 and saved to silent videos folder.\n",
            "Moviepy - Building video /content/gdrive/MyDrive/Major FINAL RUN/Audio_altFinal/gahgyuwzbu.mp4.\n",
            "Moviepy - Writing video /content/gdrive/MyDrive/Major FINAL RUN/Audio_altFinal/gahgyuwzbu.mp4\n",
            "\n"
          ]
        },
        {
          "name": "stderr",
          "output_type": "stream",
          "text": [
            "t: 100%|██████████| 300/300 [00:49<00:00,  3.73it/s, now=None]WARNING:py.warnings:/usr/local/lib/python3.10/dist-packages/moviepy/video/io/ffmpeg_reader.py:123: UserWarning: Warning: in file /content/gdrive/MyDrive/Major FINAL RUN/Final Audio Dataset/gahgyuwzbu.mp4, 6220800 bytes wanted but 0 bytes read,at frame 299/300, at time 10.01/10.02 sec. Using the last valid frame instead.\n",
            "  warnings.warn(\"Warning: in file %s, \"%(self.filename)+\n",
            "\n"
          ]
        },
        {
          "name": "stdout",
          "output_type": "stream",
          "text": [
            "Moviepy - Done !\n",
            "Moviepy - video ready /content/gdrive/MyDrive/Major FINAL RUN/Audio_altFinal/gahgyuwzbu.mp4\n",
            "Processed 45 out of 744 videos. Audio removed from gahgyuwzbu.mp4 and saved to silent videos folder.\n",
            "Moviepy - Building video /content/gdrive/MyDrive/Major FINAL RUN/Audio_altFinal/gsshxchgqv.mp4.\n",
            "Moviepy - Writing video /content/gdrive/MyDrive/Major FINAL RUN/Audio_altFinal/gsshxchgqv.mp4\n",
            "\n"
          ]
        },
        {
          "name": "stderr",
          "output_type": "stream",
          "text": [
            "t: 100%|██████████| 300/300 [00:53<00:00,  6.83it/s, now=None]WARNING:py.warnings:/usr/local/lib/python3.10/dist-packages/moviepy/video/io/ffmpeg_reader.py:123: UserWarning: Warning: in file /content/gdrive/MyDrive/Major FINAL RUN/Final Audio Dataset/gsshxchgqv.mp4, 6220800 bytes wanted but 0 bytes read,at frame 299/300, at time 10.01/10.02 sec. Using the last valid frame instead.\n",
            "  warnings.warn(\"Warning: in file %s, \"%(self.filename)+\n",
            "\n"
          ]
        },
        {
          "name": "stdout",
          "output_type": "stream",
          "text": [
            "Moviepy - Done !\n",
            "Moviepy - video ready /content/gdrive/MyDrive/Major FINAL RUN/Audio_altFinal/gsshxchgqv.mp4\n",
            "Processed 46 out of 744 videos. Audio removed from gsshxchgqv.mp4 and saved to silent videos folder.\n",
            "Moviepy - Building video /content/gdrive/MyDrive/Major FINAL RUN/Audio_altFinal/hbufmvbium.mp4.\n",
            "Moviepy - Writing video /content/gdrive/MyDrive/Major FINAL RUN/Audio_altFinal/hbufmvbium.mp4\n",
            "\n"
          ]
        },
        {
          "name": "stderr",
          "output_type": "stream",
          "text": [
            "t: 100%|██████████| 300/300 [00:41<00:00,  9.32it/s, now=None]WARNING:py.warnings:/usr/local/lib/python3.10/dist-packages/moviepy/video/io/ffmpeg_reader.py:123: UserWarning: Warning: in file /content/gdrive/MyDrive/Major FINAL RUN/Final Audio Dataset/hbufmvbium.mp4, 6220800 bytes wanted but 0 bytes read,at frame 299/300, at time 10.01/10.02 sec. Using the last valid frame instead.\n",
            "  warnings.warn(\"Warning: in file %s, \"%(self.filename)+\n",
            "\n"
          ]
        },
        {
          "name": "stdout",
          "output_type": "stream",
          "text": [
            "Moviepy - Done !\n",
            "Moviepy - video ready /content/gdrive/MyDrive/Major FINAL RUN/Audio_altFinal/hbufmvbium.mp4\n",
            "Processed 47 out of 744 videos. Audio removed from hbufmvbium.mp4 and saved to silent videos folder.\n",
            "Moviepy - Building video /content/gdrive/MyDrive/Major FINAL RUN/Audio_altFinal/hntguogkqd.mp4.\n",
            "Moviepy - Writing video /content/gdrive/MyDrive/Major FINAL RUN/Audio_altFinal/hntguogkqd.mp4\n",
            "\n"
          ]
        },
        {
          "name": "stderr",
          "output_type": "stream",
          "text": [
            "t: 100%|█████████▉| 299/300 [00:53<00:00,  5.58it/s, now=None]WARNING:py.warnings:/usr/local/lib/python3.10/dist-packages/moviepy/video/io/ffmpeg_reader.py:123: UserWarning: Warning: in file /content/gdrive/MyDrive/Major FINAL RUN/Final Audio Dataset/hntguogkqd.mp4, 6220800 bytes wanted but 0 bytes read,at frame 299/300, at time 10.01/10.02 sec. Using the last valid frame instead.\n",
            "  warnings.warn(\"Warning: in file %s, \"%(self.filename)+\n",
            "\n"
          ]
        },
        {
          "name": "stdout",
          "output_type": "stream",
          "text": [
            "Moviepy - Done !\n",
            "Moviepy - video ready /content/gdrive/MyDrive/Major FINAL RUN/Audio_altFinal/hntguogkqd.mp4\n",
            "Processed 48 out of 744 videos. Audio removed from hntguogkqd.mp4 and saved to silent videos folder.\n",
            "Moviepy - Building video /content/gdrive/MyDrive/Major FINAL RUN/Audio_altFinal/hqxpzbyijx.mp4.\n",
            "Moviepy - Writing video /content/gdrive/MyDrive/Major FINAL RUN/Audio_altFinal/hqxpzbyijx.mp4\n",
            "\n"
          ]
        },
        {
          "name": "stderr",
          "output_type": "stream",
          "text": [
            "t:  99%|█████████▉| 298/300 [00:44<00:00,  6.75it/s, now=None]WARNING:py.warnings:/usr/local/lib/python3.10/dist-packages/moviepy/video/io/ffmpeg_reader.py:123: UserWarning: Warning: in file /content/gdrive/MyDrive/Major FINAL RUN/Final Audio Dataset/hqxpzbyijx.mp4, 6220800 bytes wanted but 0 bytes read,at frame 299/300, at time 10.01/10.02 sec. Using the last valid frame instead.\n",
            "  warnings.warn(\"Warning: in file %s, \"%(self.filename)+\n",
            "\n"
          ]
        },
        {
          "name": "stdout",
          "output_type": "stream",
          "text": [
            "Moviepy - Done !\n",
            "Moviepy - video ready /content/gdrive/MyDrive/Major FINAL RUN/Audio_altFinal/hqxpzbyijx.mp4\n",
            "Processed 49 out of 744 videos. Audio removed from hqxpzbyijx.mp4 and saved to silent videos folder.\n",
            "Moviepy - Building video /content/gdrive/MyDrive/Major FINAL RUN/Audio_altFinal/iyrafvzjnf.mp4.\n",
            "Moviepy - Writing video /content/gdrive/MyDrive/Major FINAL RUN/Audio_altFinal/iyrafvzjnf.mp4\n",
            "\n"
          ]
        },
        {
          "name": "stderr",
          "output_type": "stream",
          "text": [
            "t: 100%|██████████| 300/300 [00:43<00:00,  8.25it/s, now=None]WARNING:py.warnings:/usr/local/lib/python3.10/dist-packages/moviepy/video/io/ffmpeg_reader.py:123: UserWarning: Warning: in file /content/gdrive/MyDrive/Major FINAL RUN/Final Audio Dataset/iyrafvzjnf.mp4, 6220800 bytes wanted but 0 bytes read,at frame 299/300, at time 10.01/10.02 sec. Using the last valid frame instead.\n",
            "  warnings.warn(\"Warning: in file %s, \"%(self.filename)+\n",
            "\n"
          ]
        },
        {
          "name": "stdout",
          "output_type": "stream",
          "text": [
            "Moviepy - Done !\n",
            "Moviepy - video ready /content/gdrive/MyDrive/Major FINAL RUN/Audio_altFinal/iyrafvzjnf.mp4\n",
            "Processed 50 out of 744 videos. Audio removed from iyrafvzjnf.mp4 and saved to silent videos folder.\n",
            "Moviepy - Building video /content/gdrive/MyDrive/Major FINAL RUN/Audio_altFinal/jglooveumk.mp4.\n",
            "Moviepy - Writing video /content/gdrive/MyDrive/Major FINAL RUN/Audio_altFinal/jglooveumk.mp4\n",
            "\n"
          ]
        },
        {
          "name": "stderr",
          "output_type": "stream",
          "text": [
            "t: 100%|█████████▉| 299/300 [00:51<00:00,  3.95it/s, now=None]WARNING:py.warnings:/usr/local/lib/python3.10/dist-packages/moviepy/video/io/ffmpeg_reader.py:123: UserWarning: Warning: in file /content/gdrive/MyDrive/Major FINAL RUN/Final Audio Dataset/jglooveumk.mp4, 6220800 bytes wanted but 0 bytes read,at frame 299/300, at time 10.01/10.02 sec. Using the last valid frame instead.\n",
            "  warnings.warn(\"Warning: in file %s, \"%(self.filename)+\n",
            "\n"
          ]
        },
        {
          "name": "stdout",
          "output_type": "stream",
          "text": [
            "Moviepy - Done !\n",
            "Moviepy - video ready /content/gdrive/MyDrive/Major FINAL RUN/Audio_altFinal/jglooveumk.mp4\n",
            "Processed 51 out of 744 videos. Audio removed from jglooveumk.mp4 and saved to silent videos folder.\n",
            "Moviepy - Building video /content/gdrive/MyDrive/Major FINAL RUN/Audio_altFinal/jgdrcvviil.mp4.\n",
            "Moviepy - Writing video /content/gdrive/MyDrive/Major FINAL RUN/Audio_altFinal/jgdrcvviil.mp4\n",
            "\n"
          ]
        },
        {
          "name": "stderr",
          "output_type": "stream",
          "text": [
            "t: 100%|██████████| 301/301 [00:51<00:00,  7.77it/s, now=None]WARNING:py.warnings:/usr/local/lib/python3.10/dist-packages/moviepy/video/io/ffmpeg_reader.py:123: UserWarning: Warning: in file /content/gdrive/MyDrive/Major FINAL RUN/Final Audio Dataset/jgdrcvviil.mp4, 6220800 bytes wanted but 0 bytes read,at frame 300/301, at time 10.00/10.02 sec. Using the last valid frame instead.\n",
            "  warnings.warn(\"Warning: in file %s, \"%(self.filename)+\n",
            "\n"
          ]
        },
        {
          "name": "stdout",
          "output_type": "stream",
          "text": [
            "Moviepy - Done !\n",
            "Moviepy - video ready /content/gdrive/MyDrive/Major FINAL RUN/Audio_altFinal/jgdrcvviil.mp4\n",
            "Processed 52 out of 744 videos. Audio removed from jgdrcvviil.mp4 and saved to silent videos folder.\n",
            "Moviepy - Building video /content/gdrive/MyDrive/Major FINAL RUN/Audio_altFinal/jgpxmqxazp.mp4.\n",
            "Moviepy - Writing video /content/gdrive/MyDrive/Major FINAL RUN/Audio_altFinal/jgpxmqxazp.mp4\n",
            "\n"
          ]
        },
        {
          "name": "stderr",
          "output_type": "stream",
          "text": [
            "t: 100%|██████████| 300/300 [00:55<00:00,  3.98it/s, now=None]WARNING:py.warnings:/usr/local/lib/python3.10/dist-packages/moviepy/video/io/ffmpeg_reader.py:123: UserWarning: Warning: in file /content/gdrive/MyDrive/Major FINAL RUN/Final Audio Dataset/jgpxmqxazp.mp4, 6220800 bytes wanted but 0 bytes read,at frame 299/300, at time 10.01/10.02 sec. Using the last valid frame instead.\n",
            "  warnings.warn(\"Warning: in file %s, \"%(self.filename)+\n",
            "\n"
          ]
        },
        {
          "name": "stdout",
          "output_type": "stream",
          "text": [
            "Moviepy - Done !\n",
            "Moviepy - video ready /content/gdrive/MyDrive/Major FINAL RUN/Audio_altFinal/jgpxmqxazp.mp4\n",
            "Processed 53 out of 744 videos. Audio removed from jgpxmqxazp.mp4 and saved to silent videos folder.\n",
            "Moviepy - Building video /content/gdrive/MyDrive/Major FINAL RUN/Audio_altFinal/jhpkbwstpw.mp4.\n",
            "Moviepy - Writing video /content/gdrive/MyDrive/Major FINAL RUN/Audio_altFinal/jhpkbwstpw.mp4\n",
            "\n"
          ]
        },
        {
          "name": "stderr",
          "output_type": "stream",
          "text": [
            "t: 100%|██████████| 301/301 [00:37<00:00, 10.63it/s, now=None]WARNING:py.warnings:/usr/local/lib/python3.10/dist-packages/moviepy/video/io/ffmpeg_reader.py:123: UserWarning: Warning: in file /content/gdrive/MyDrive/Major FINAL RUN/Final Audio Dataset/jhpkbwstpw.mp4, 6220800 bytes wanted but 0 bytes read,at frame 300/301, at time 10.00/10.02 sec. Using the last valid frame instead.\n",
            "  warnings.warn(\"Warning: in file %s, \"%(self.filename)+\n",
            "\n"
          ]
        },
        {
          "name": "stdout",
          "output_type": "stream",
          "text": [
            "Moviepy - Done !\n",
            "Moviepy - video ready /content/gdrive/MyDrive/Major FINAL RUN/Audio_altFinal/jhpkbwstpw.mp4\n",
            "Processed 54 out of 744 videos. Audio removed from jhpkbwstpw.mp4 and saved to silent videos folder.\n",
            "Moviepy - Building video /content/gdrive/MyDrive/Major FINAL RUN/Audio_altFinal/jhnaxwgasd.mp4.\n",
            "Moviepy - Writing video /content/gdrive/MyDrive/Major FINAL RUN/Audio_altFinal/jhnaxwgasd.mp4\n",
            "\n"
          ]
        },
        {
          "name": "stderr",
          "output_type": "stream",
          "text": [
            "t: 100%|██████████| 300/300 [00:52<00:00,  3.82it/s, now=None]WARNING:py.warnings:/usr/local/lib/python3.10/dist-packages/moviepy/video/io/ffmpeg_reader.py:123: UserWarning: Warning: in file /content/gdrive/MyDrive/Major FINAL RUN/Final Audio Dataset/jhnaxwgasd.mp4, 6220800 bytes wanted but 0 bytes read,at frame 299/300, at time 10.01/10.02 sec. Using the last valid frame instead.\n",
            "  warnings.warn(\"Warning: in file %s, \"%(self.filename)+\n",
            "\n"
          ]
        },
        {
          "name": "stdout",
          "output_type": "stream",
          "text": [
            "Moviepy - Done !\n",
            "Moviepy - video ready /content/gdrive/MyDrive/Major FINAL RUN/Audio_altFinal/jhnaxwgasd.mp4\n",
            "Processed 55 out of 744 videos. Audio removed from jhnaxwgasd.mp4 and saved to silent videos folder.\n",
            "Moviepy - Building video /content/gdrive/MyDrive/Major FINAL RUN/Audio_altFinal/jgwnsuhilq.mp4.\n",
            "Moviepy - Writing video /content/gdrive/MyDrive/Major FINAL RUN/Audio_altFinal/jgwnsuhilq.mp4\n",
            "\n"
          ]
        },
        {
          "name": "stderr",
          "output_type": "stream",
          "text": [
            "t: 100%|█████████▉| 299/300 [00:45<00:00,  7.10it/s, now=None]WARNING:py.warnings:/usr/local/lib/python3.10/dist-packages/moviepy/video/io/ffmpeg_reader.py:123: UserWarning: Warning: in file /content/gdrive/MyDrive/Major FINAL RUN/Final Audio Dataset/jgwnsuhilq.mp4, 6220800 bytes wanted but 0 bytes read,at frame 299/300, at time 10.01/10.02 sec. Using the last valid frame instead.\n",
            "  warnings.warn(\"Warning: in file %s, \"%(self.filename)+\n",
            "\n"
          ]
        },
        {
          "name": "stdout",
          "output_type": "stream",
          "text": [
            "Moviepy - Done !\n",
            "Moviepy - video ready /content/gdrive/MyDrive/Major FINAL RUN/Audio_altFinal/jgwnsuhilq.mp4\n",
            "Processed 56 out of 744 videos. Audio removed from jgwnsuhilq.mp4 and saved to silent videos folder.\n",
            "Moviepy - Building video /content/gdrive/MyDrive/Major FINAL RUN/Audio_altFinal/jmkkzjwnst.mp4.\n",
            "Moviepy - Writing video /content/gdrive/MyDrive/Major FINAL RUN/Audio_altFinal/jmkkzjwnst.mp4\n",
            "\n"
          ]
        },
        {
          "name": "stderr",
          "output_type": "stream",
          "text": [
            "t: 100%|██████████| 300/300 [00:59<00:00,  4.14it/s, now=None]WARNING:py.warnings:/usr/local/lib/python3.10/dist-packages/moviepy/video/io/ffmpeg_reader.py:123: UserWarning: Warning: in file /content/gdrive/MyDrive/Major FINAL RUN/Final Audio Dataset/jmkkzjwnst.mp4, 6220800 bytes wanted but 0 bytes read,at frame 299/300, at time 10.01/10.02 sec. Using the last valid frame instead.\n",
            "  warnings.warn(\"Warning: in file %s, \"%(self.filename)+\n",
            "\n"
          ]
        },
        {
          "name": "stdout",
          "output_type": "stream",
          "text": [
            "Moviepy - Done !\n",
            "Moviepy - video ready /content/gdrive/MyDrive/Major FINAL RUN/Audio_altFinal/jmkkzjwnst.mp4\n",
            "Processed 57 out of 744 videos. Audio removed from jmkkzjwnst.mp4 and saved to silent videos folder.\n",
            "Moviepy - Building video /content/gdrive/MyDrive/Major FINAL RUN/Audio_altFinal/jmtspvpecy.mp4.\n",
            "Moviepy - Writing video /content/gdrive/MyDrive/Major FINAL RUN/Audio_altFinal/jmtspvpecy.mp4\n",
            "\n"
          ]
        },
        {
          "name": "stderr",
          "output_type": "stream",
          "text": [
            "t: 100%|█████████▉| 299/300 [00:56<00:00,  3.22it/s, now=None]WARNING:py.warnings:/usr/local/lib/python3.10/dist-packages/moviepy/video/io/ffmpeg_reader.py:123: UserWarning: Warning: in file /content/gdrive/MyDrive/Major FINAL RUN/Final Audio Dataset/jmtspvpecy.mp4, 6220800 bytes wanted but 0 bytes read,at frame 299/300, at time 10.01/10.02 sec. Using the last valid frame instead.\n",
            "  warnings.warn(\"Warning: in file %s, \"%(self.filename)+\n",
            "\n"
          ]
        },
        {
          "name": "stdout",
          "output_type": "stream",
          "text": [
            "Moviepy - Done !\n",
            "Moviepy - video ready /content/gdrive/MyDrive/Major FINAL RUN/Audio_altFinal/jmtspvpecy.mp4\n",
            "Processed 58 out of 744 videos. Audio removed from jmtspvpecy.mp4 and saved to silent videos folder.\n",
            "Moviepy - Building video /content/gdrive/MyDrive/Major FINAL RUN/Audio_altFinal/jnxuezglcb.mp4.\n",
            "Moviepy - Writing video /content/gdrive/MyDrive/Major FINAL RUN/Audio_altFinal/jnxuezglcb.mp4\n",
            "\n"
          ]
        },
        {
          "name": "stderr",
          "output_type": "stream",
          "text": [
            "t: 100%|█████████▉| 299/300 [01:00<00:00,  4.12it/s, now=None]WARNING:py.warnings:/usr/local/lib/python3.10/dist-packages/moviepy/video/io/ffmpeg_reader.py:123: UserWarning: Warning: in file /content/gdrive/MyDrive/Major FINAL RUN/Final Audio Dataset/jnxuezglcb.mp4, 6220800 bytes wanted but 0 bytes read,at frame 299/300, at time 10.01/10.02 sec. Using the last valid frame instead.\n",
            "  warnings.warn(\"Warning: in file %s, \"%(self.filename)+\n",
            "\n"
          ]
        },
        {
          "name": "stdout",
          "output_type": "stream",
          "text": [
            "Moviepy - Done !\n",
            "Moviepy - video ready /content/gdrive/MyDrive/Major FINAL RUN/Audio_altFinal/jnxuezglcb.mp4\n",
            "Processed 59 out of 744 videos. Audio removed from jnxuezglcb.mp4 and saved to silent videos folder.\n",
            "Moviepy - Building video /content/gdrive/MyDrive/Major FINAL RUN/Audio_altFinal/jncnzarlsm.mp4.\n",
            "Moviepy - Writing video /content/gdrive/MyDrive/Major FINAL RUN/Audio_altFinal/jncnzarlsm.mp4\n",
            "\n"
          ]
        },
        {
          "name": "stderr",
          "output_type": "stream",
          "text": [
            "t: 100%|██████████| 300/300 [00:51<00:00,  6.02it/s, now=None]WARNING:py.warnings:/usr/local/lib/python3.10/dist-packages/moviepy/video/io/ffmpeg_reader.py:123: UserWarning: Warning: in file /content/gdrive/MyDrive/Major FINAL RUN/Final Audio Dataset/jncnzarlsm.mp4, 6220800 bytes wanted but 0 bytes read,at frame 299/300, at time 10.01/10.02 sec. Using the last valid frame instead.\n",
            "  warnings.warn(\"Warning: in file %s, \"%(self.filename)+\n",
            "\n"
          ]
        },
        {
          "name": "stdout",
          "output_type": "stream",
          "text": [
            "Moviepy - Done !\n",
            "Moviepy - video ready /content/gdrive/MyDrive/Major FINAL RUN/Audio_altFinal/jncnzarlsm.mp4\n",
            "Processed 60 out of 744 videos. Audio removed from jncnzarlsm.mp4 and saved to silent videos folder.\n",
            "Moviepy - Building video /content/gdrive/MyDrive/Major FINAL RUN/Audio_altFinal/jocjbgbfqo.mp4.\n",
            "Moviepy - Writing video /content/gdrive/MyDrive/Major FINAL RUN/Audio_altFinal/jocjbgbfqo.mp4\n",
            "\n"
          ]
        },
        {
          "name": "stderr",
          "output_type": "stream",
          "text": [
            "t: 100%|██████████| 300/300 [00:39<00:00,  5.75it/s, now=None]WARNING:py.warnings:/usr/local/lib/python3.10/dist-packages/moviepy/video/io/ffmpeg_reader.py:123: UserWarning: Warning: in file /content/gdrive/MyDrive/Major FINAL RUN/Final Audio Dataset/jocjbgbfqo.mp4, 6220800 bytes wanted but 0 bytes read,at frame 299/300, at time 10.01/10.02 sec. Using the last valid frame instead.\n",
            "  warnings.warn(\"Warning: in file %s, \"%(self.filename)+\n",
            "\n"
          ]
        },
        {
          "name": "stdout",
          "output_type": "stream",
          "text": [
            "Moviepy - Done !\n",
            "Moviepy - video ready /content/gdrive/MyDrive/Major FINAL RUN/Audio_altFinal/jocjbgbfqo.mp4\n",
            "Processed 61 out of 744 videos. Audio removed from jocjbgbfqo.mp4 and saved to silent videos folder.\n",
            "Moviepy - Building video /content/gdrive/MyDrive/Major FINAL RUN/Audio_altFinal/jpvkoxrueh.mp4.\n",
            "Moviepy - Writing video /content/gdrive/MyDrive/Major FINAL RUN/Audio_altFinal/jpvkoxrueh.mp4\n",
            "\n"
          ]
        },
        {
          "name": "stderr",
          "output_type": "stream",
          "text": [
            "t: 100%|██████████| 300/300 [00:54<00:00,  6.92it/s, now=None]WARNING:py.warnings:/usr/local/lib/python3.10/dist-packages/moviepy/video/io/ffmpeg_reader.py:123: UserWarning: Warning: in file /content/gdrive/MyDrive/Major FINAL RUN/Final Audio Dataset/jpvkoxrueh.mp4, 6220800 bytes wanted but 0 bytes read,at frame 299/300, at time 10.01/10.02 sec. Using the last valid frame instead.\n",
            "  warnings.warn(\"Warning: in file %s, \"%(self.filename)+\n",
            "\n"
          ]
        },
        {
          "name": "stdout",
          "output_type": "stream",
          "text": [
            "Moviepy - Done !\n",
            "Moviepy - video ready /content/gdrive/MyDrive/Major FINAL RUN/Audio_altFinal/jpvkoxrueh.mp4\n",
            "Processed 62 out of 744 videos. Audio removed from jpvkoxrueh.mp4 and saved to silent videos folder.\n",
            "Moviepy - Building video /content/gdrive/MyDrive/Major FINAL RUN/Audio_altFinal/jsaxugyuqt.mp4.\n",
            "Moviepy - Writing video /content/gdrive/MyDrive/Major FINAL RUN/Audio_altFinal/jsaxugyuqt.mp4\n",
            "\n"
          ]
        },
        {
          "name": "stderr",
          "output_type": "stream",
          "text": [
            "t: 100%|█████████▉| 299/300 [00:52<00:00,  5.42it/s, now=None]WARNING:py.warnings:/usr/local/lib/python3.10/dist-packages/moviepy/video/io/ffmpeg_reader.py:123: UserWarning: Warning: in file /content/gdrive/MyDrive/Major FINAL RUN/Final Audio Dataset/jsaxugyuqt.mp4, 6220800 bytes wanted but 0 bytes read,at frame 299/300, at time 10.01/10.02 sec. Using the last valid frame instead.\n",
            "  warnings.warn(\"Warning: in file %s, \"%(self.filename)+\n",
            "\n"
          ]
        },
        {
          "name": "stdout",
          "output_type": "stream",
          "text": [
            "Moviepy - Done !\n",
            "Moviepy - video ready /content/gdrive/MyDrive/Major FINAL RUN/Audio_altFinal/jsaxugyuqt.mp4\n",
            "Processed 63 out of 744 videos. Audio removed from jsaxugyuqt.mp4 and saved to silent videos folder.\n",
            "Moviepy - Building video /content/gdrive/MyDrive/Major FINAL RUN/Audio_altFinal/jrwjdkoouq.mp4.\n",
            "Moviepy - Writing video /content/gdrive/MyDrive/Major FINAL RUN/Audio_altFinal/jrwjdkoouq.mp4\n",
            "\n"
          ]
        },
        {
          "name": "stderr",
          "output_type": "stream",
          "text": [
            "t: 100%|██████████| 300/300 [00:52<00:00,  5.06it/s, now=None]WARNING:py.warnings:/usr/local/lib/python3.10/dist-packages/moviepy/video/io/ffmpeg_reader.py:123: UserWarning: Warning: in file /content/gdrive/MyDrive/Major FINAL RUN/Final Audio Dataset/jrwjdkoouq.mp4, 6220800 bytes wanted but 0 bytes read,at frame 299/300, at time 10.01/10.02 sec. Using the last valid frame instead.\n",
            "  warnings.warn(\"Warning: in file %s, \"%(self.filename)+\n",
            "\n"
          ]
        },
        {
          "name": "stdout",
          "output_type": "stream",
          "text": [
            "Moviepy - Done !\n",
            "Moviepy - video ready /content/gdrive/MyDrive/Major FINAL RUN/Audio_altFinal/jrwjdkoouq.mp4\n",
            "Processed 64 out of 744 videos. Audio removed from jrwjdkoouq.mp4 and saved to silent videos folder.\n",
            "Moviepy - Building video /content/gdrive/MyDrive/Major FINAL RUN/Audio_altFinal/junllgghcq.mp4.\n",
            "Moviepy - Writing video /content/gdrive/MyDrive/Major FINAL RUN/Audio_altFinal/junllgghcq.mp4\n",
            "\n"
          ]
        },
        {
          "name": "stderr",
          "output_type": "stream",
          "text": [
            "t: 100%|█████████▉| 299/300 [00:37<00:00,  8.58it/s, now=None]WARNING:py.warnings:/usr/local/lib/python3.10/dist-packages/moviepy/video/io/ffmpeg_reader.py:123: UserWarning: Warning: in file /content/gdrive/MyDrive/Major FINAL RUN/Final Audio Dataset/junllgghcq.mp4, 6220800 bytes wanted but 0 bytes read,at frame 299/300, at time 10.01/10.02 sec. Using the last valid frame instead.\n",
            "  warnings.warn(\"Warning: in file %s, \"%(self.filename)+\n",
            "\n"
          ]
        },
        {
          "name": "stdout",
          "output_type": "stream",
          "text": [
            "Moviepy - Done !\n",
            "Moviepy - video ready /content/gdrive/MyDrive/Major FINAL RUN/Audio_altFinal/junllgghcq.mp4\n",
            "Processed 65 out of 744 videos. Audio removed from junllgghcq.mp4 and saved to silent videos folder.\n",
            "Moviepy - Building video /content/gdrive/MyDrive/Major FINAL RUN/Audio_altFinal/jsvqjkmpzu.mp4.\n",
            "Moviepy - Writing video /content/gdrive/MyDrive/Major FINAL RUN/Audio_altFinal/jsvqjkmpzu.mp4\n",
            "\n"
          ]
        },
        {
          "name": "stderr",
          "output_type": "stream",
          "text": [
            "t: 100%|█████████▉| 299/300 [00:43<00:00,  7.27it/s, now=None]WARNING:py.warnings:/usr/local/lib/python3.10/dist-packages/moviepy/video/io/ffmpeg_reader.py:123: UserWarning: Warning: in file /content/gdrive/MyDrive/Major FINAL RUN/Final Audio Dataset/jsvqjkmpzu.mp4, 6220800 bytes wanted but 0 bytes read,at frame 299/300, at time 10.01/10.02 sec. Using the last valid frame instead.\n",
            "  warnings.warn(\"Warning: in file %s, \"%(self.filename)+\n",
            "\n"
          ]
        },
        {
          "name": "stdout",
          "output_type": "stream",
          "text": [
            "Moviepy - Done !\n",
            "Moviepy - video ready /content/gdrive/MyDrive/Major FINAL RUN/Audio_altFinal/jsvqjkmpzu.mp4\n",
            "Processed 66 out of 744 videos. Audio removed from jsvqjkmpzu.mp4 and saved to silent videos folder.\n",
            "Moviepy - Building video /content/gdrive/MyDrive/Major FINAL RUN/Audio_altFinal/jsrmwevsmp.mp4.\n",
            "Moviepy - Writing video /content/gdrive/MyDrive/Major FINAL RUN/Audio_altFinal/jsrmwevsmp.mp4\n",
            "\n"
          ]
        },
        {
          "name": "stderr",
          "output_type": "stream",
          "text": [
            "t: 100%|██████████| 301/301 [00:51<00:00,  7.30it/s, now=None]WARNING:py.warnings:/usr/local/lib/python3.10/dist-packages/moviepy/video/io/ffmpeg_reader.py:123: UserWarning: Warning: in file /content/gdrive/MyDrive/Major FINAL RUN/Final Audio Dataset/jsrmwevsmp.mp4, 6220800 bytes wanted but 0 bytes read,at frame 300/301, at time 10.00/10.02 sec. Using the last valid frame instead.\n",
            "  warnings.warn(\"Warning: in file %s, \"%(self.filename)+\n",
            "\n"
          ]
        },
        {
          "name": "stdout",
          "output_type": "stream",
          "text": [
            "Moviepy - Done !\n",
            "Moviepy - video ready /content/gdrive/MyDrive/Major FINAL RUN/Audio_altFinal/jsrmwevsmp.mp4\n",
            "Processed 67 out of 744 videos. Audio removed from jsrmwevsmp.mp4 and saved to silent videos folder.\n",
            "Moviepy - Building video /content/gdrive/MyDrive/Major FINAL RUN/Audio_altFinal/jtazbdmcqi.mp4.\n",
            "Moviepy - Writing video /content/gdrive/MyDrive/Major FINAL RUN/Audio_altFinal/jtazbdmcqi.mp4\n",
            "\n"
          ]
        },
        {
          "name": "stderr",
          "output_type": "stream",
          "text": [
            "t: 100%|██████████| 300/300 [00:39<00:00,  8.12it/s, now=None]WARNING:py.warnings:/usr/local/lib/python3.10/dist-packages/moviepy/video/io/ffmpeg_reader.py:123: UserWarning: Warning: in file /content/gdrive/MyDrive/Major FINAL RUN/Final Audio Dataset/jtazbdmcqi.mp4, 6220800 bytes wanted but 0 bytes read,at frame 299/300, at time 10.01/10.02 sec. Using the last valid frame instead.\n",
            "  warnings.warn(\"Warning: in file %s, \"%(self.filename)+\n",
            "\n"
          ]
        },
        {
          "name": "stdout",
          "output_type": "stream",
          "text": [
            "Moviepy - Done !\n",
            "Moviepy - video ready /content/gdrive/MyDrive/Major FINAL RUN/Audio_altFinal/jtazbdmcqi.mp4\n",
            "Processed 68 out of 744 videos. Audio removed from jtazbdmcqi.mp4 and saved to silent videos folder.\n",
            "Moviepy - Building video /content/gdrive/MyDrive/Major FINAL RUN/Audio_altFinal/jxmpyjkxoc.mp4.\n",
            "Moviepy - Writing video /content/gdrive/MyDrive/Major FINAL RUN/Audio_altFinal/jxmpyjkxoc.mp4\n",
            "\n"
          ]
        },
        {
          "name": "stderr",
          "output_type": "stream",
          "text": [
            "t: 100%|██████████| 300/300 [00:48<00:00,  8.48it/s, now=None]WARNING:py.warnings:/usr/local/lib/python3.10/dist-packages/moviepy/video/io/ffmpeg_reader.py:123: UserWarning: Warning: in file /content/gdrive/MyDrive/Major FINAL RUN/Final Audio Dataset/jxmpyjkxoc.mp4, 6220800 bytes wanted but 0 bytes read,at frame 299/300, at time 10.01/10.02 sec. Using the last valid frame instead.\n",
            "  warnings.warn(\"Warning: in file %s, \"%(self.filename)+\n",
            "\n"
          ]
        },
        {
          "name": "stdout",
          "output_type": "stream",
          "text": [
            "Moviepy - Done !\n",
            "Moviepy - video ready /content/gdrive/MyDrive/Major FINAL RUN/Audio_altFinal/jxmpyjkxoc.mp4\n",
            "Processed 69 out of 744 videos. Audio removed from jxmpyjkxoc.mp4 and saved to silent videos folder.\n",
            "Moviepy - Building video /content/gdrive/MyDrive/Major FINAL RUN/Audio_altFinal/jwuyeomibc.mp4.\n",
            "Moviepy - Writing video /content/gdrive/MyDrive/Major FINAL RUN/Audio_altFinal/jwuyeomibc.mp4\n",
            "\n"
          ]
        },
        {
          "name": "stderr",
          "output_type": "stream",
          "text": [
            "t: 100%|█████████▉| 299/300 [00:58<00:00,  5.65it/s, now=None]WARNING:py.warnings:/usr/local/lib/python3.10/dist-packages/moviepy/video/io/ffmpeg_reader.py:123: UserWarning: Warning: in file /content/gdrive/MyDrive/Major FINAL RUN/Final Audio Dataset/jwuyeomibc.mp4, 6220800 bytes wanted but 0 bytes read,at frame 299/300, at time 10.01/10.02 sec. Using the last valid frame instead.\n",
            "  warnings.warn(\"Warning: in file %s, \"%(self.filename)+\n",
            "\n"
          ]
        },
        {
          "name": "stdout",
          "output_type": "stream",
          "text": [
            "Moviepy - Done !\n",
            "Moviepy - video ready /content/gdrive/MyDrive/Major FINAL RUN/Audio_altFinal/jwuyeomibc.mp4\n",
            "Processed 70 out of 744 videos. Audio removed from jwuyeomibc.mp4 and saved to silent videos folder.\n",
            "Moviepy - Building video /content/gdrive/MyDrive/Major FINAL RUN/Audio_altFinal/jyrvsifszr.mp4.\n",
            "Moviepy - Writing video /content/gdrive/MyDrive/Major FINAL RUN/Audio_altFinal/jyrvsifszr.mp4\n",
            "\n"
          ]
        },
        {
          "name": "stderr",
          "output_type": "stream",
          "text": [
            "t: 100%|██████████| 301/301 [00:47<00:00,  6.17it/s, now=None]WARNING:py.warnings:/usr/local/lib/python3.10/dist-packages/moviepy/video/io/ffmpeg_reader.py:123: UserWarning: Warning: in file /content/gdrive/MyDrive/Major FINAL RUN/Final Audio Dataset/jyrvsifszr.mp4, 6220800 bytes wanted but 0 bytes read,at frame 300/301, at time 10.00/10.02 sec. Using the last valid frame instead.\n",
            "  warnings.warn(\"Warning: in file %s, \"%(self.filename)+\n",
            "\n"
          ]
        },
        {
          "name": "stdout",
          "output_type": "stream",
          "text": [
            "Moviepy - Done !\n",
            "Moviepy - video ready /content/gdrive/MyDrive/Major FINAL RUN/Audio_altFinal/jyrvsifszr.mp4\n",
            "Processed 71 out of 744 videos. Audio removed from jyrvsifszr.mp4 and saved to silent videos folder.\n",
            "Moviepy - Building video /content/gdrive/MyDrive/Major FINAL RUN/Audio_altFinal/jxemsrsrmc.mp4.\n",
            "Moviepy - Writing video /content/gdrive/MyDrive/Major FINAL RUN/Audio_altFinal/jxemsrsrmc.mp4\n",
            "\n"
          ]
        },
        {
          "name": "stderr",
          "output_type": "stream",
          "text": [
            "t: 100%|█████████▉| 299/300 [00:54<00:00,  4.98it/s, now=None]WARNING:py.warnings:/usr/local/lib/python3.10/dist-packages/moviepy/video/io/ffmpeg_reader.py:123: UserWarning: Warning: in file /content/gdrive/MyDrive/Major FINAL RUN/Final Audio Dataset/jxemsrsrmc.mp4, 6220800 bytes wanted but 0 bytes read,at frame 299/300, at time 10.01/10.02 sec. Using the last valid frame instead.\n",
            "  warnings.warn(\"Warning: in file %s, \"%(self.filename)+\n",
            "\n"
          ]
        },
        {
          "name": "stdout",
          "output_type": "stream",
          "text": [
            "Moviepy - Done !\n",
            "Moviepy - video ready /content/gdrive/MyDrive/Major FINAL RUN/Audio_altFinal/jxemsrsrmc.mp4\n",
            "Processed 72 out of 744 videos. Audio removed from jxemsrsrmc.mp4 and saved to silent videos folder.\n",
            "Moviepy - Building video /content/gdrive/MyDrive/Major FINAL RUN/Audio_altFinal/jzgslftukh.mp4.\n",
            "Moviepy - Writing video /content/gdrive/MyDrive/Major FINAL RUN/Audio_altFinal/jzgslftukh.mp4\n",
            "\n"
          ]
        },
        {
          "name": "stderr",
          "output_type": "stream",
          "text": [
            "t: 100%|██████████| 300/300 [00:51<00:00,  6.26it/s, now=None]WARNING:py.warnings:/usr/local/lib/python3.10/dist-packages/moviepy/video/io/ffmpeg_reader.py:123: UserWarning: Warning: in file /content/gdrive/MyDrive/Major FINAL RUN/Final Audio Dataset/jzgslftukh.mp4, 6220800 bytes wanted but 0 bytes read,at frame 299/300, at time 10.01/10.02 sec. Using the last valid frame instead.\n",
            "  warnings.warn(\"Warning: in file %s, \"%(self.filename)+\n",
            "\n"
          ]
        },
        {
          "name": "stdout",
          "output_type": "stream",
          "text": [
            "Moviepy - Done !\n",
            "Moviepy - video ready /content/gdrive/MyDrive/Major FINAL RUN/Audio_altFinal/jzgslftukh.mp4\n",
            "Processed 73 out of 744 videos. Audio removed from jzgslftukh.mp4 and saved to silent videos folder.\n",
            "Moviepy - Building video /content/gdrive/MyDrive/Major FINAL RUN/Audio_altFinal/kpnakfmmlh.mp4.\n",
            "Moviepy - Writing video /content/gdrive/MyDrive/Major FINAL RUN/Audio_altFinal/kpnakfmmlh.mp4\n",
            "\n"
          ]
        },
        {
          "name": "stderr",
          "output_type": "stream",
          "text": [
            "t: 100%|█████████▉| 299/300 [00:56<00:00,  4.82it/s, now=None]WARNING:py.warnings:/usr/local/lib/python3.10/dist-packages/moviepy/video/io/ffmpeg_reader.py:123: UserWarning: Warning: in file /content/gdrive/MyDrive/Major FINAL RUN/Final Audio Dataset/kpnakfmmlh.mp4, 6220800 bytes wanted but 0 bytes read,at frame 299/300, at time 10.01/10.02 sec. Using the last valid frame instead.\n",
            "  warnings.warn(\"Warning: in file %s, \"%(self.filename)+\n",
            "\n"
          ]
        },
        {
          "name": "stdout",
          "output_type": "stream",
          "text": [
            "Moviepy - Done !\n",
            "Moviepy - video ready /content/gdrive/MyDrive/Major FINAL RUN/Audio_altFinal/kpnakfmmlh.mp4\n",
            "Processed 74 out of 744 videos. Audio removed from kpnakfmmlh.mp4 and saved to silent videos folder.\n",
            "Moviepy - Building video /content/gdrive/MyDrive/Major FINAL RUN/Audio_altFinal/kwfdyqofzw.mp4.\n",
            "Moviepy - Writing video /content/gdrive/MyDrive/Major FINAL RUN/Audio_altFinal/kwfdyqofzw.mp4\n",
            "\n"
          ]
        },
        {
          "name": "stderr",
          "output_type": "stream",
          "text": [
            "t: 100%|█████████▉| 299/300 [00:40<00:00,  7.45it/s, now=None]WARNING:py.warnings:/usr/local/lib/python3.10/dist-packages/moviepy/video/io/ffmpeg_reader.py:123: UserWarning: Warning: in file /content/gdrive/MyDrive/Major FINAL RUN/Final Audio Dataset/kwfdyqofzw.mp4, 6220800 bytes wanted but 0 bytes read,at frame 299/300, at time 10.01/10.02 sec. Using the last valid frame instead.\n",
            "  warnings.warn(\"Warning: in file %s, \"%(self.filename)+\n",
            "\n"
          ]
        },
        {
          "name": "stdout",
          "output_type": "stream",
          "text": [
            "Moviepy - Done !\n",
            "Moviepy - video ready /content/gdrive/MyDrive/Major FINAL RUN/Audio_altFinal/kwfdyqofzw.mp4\n",
            "Processed 75 out of 744 videos. Audio removed from kwfdyqofzw.mp4 and saved to silent videos folder.\n",
            "Moviepy - Building video /content/gdrive/MyDrive/Major FINAL RUN/Audio_altFinal/kvmpmhdxly.mp4.\n",
            "Moviepy - Writing video /content/gdrive/MyDrive/Major FINAL RUN/Audio_altFinal/kvmpmhdxly.mp4\n",
            "\n"
          ]
        },
        {
          "name": "stderr",
          "output_type": "stream",
          "text": [
            "t: 100%|██████████| 300/300 [00:42<00:00,  8.57it/s, now=None]WARNING:py.warnings:/usr/local/lib/python3.10/dist-packages/moviepy/video/io/ffmpeg_reader.py:123: UserWarning: Warning: in file /content/gdrive/MyDrive/Major FINAL RUN/Final Audio Dataset/kvmpmhdxly.mp4, 6220800 bytes wanted but 0 bytes read,at frame 299/300, at time 10.01/10.02 sec. Using the last valid frame instead.\n",
            "  warnings.warn(\"Warning: in file %s, \"%(self.filename)+\n",
            "\n"
          ]
        },
        {
          "name": "stdout",
          "output_type": "stream",
          "text": [
            "Moviepy - Done !\n",
            "Moviepy - video ready /content/gdrive/MyDrive/Major FINAL RUN/Audio_altFinal/kvmpmhdxly.mp4\n",
            "Processed 76 out of 744 videos. Audio removed from kvmpmhdxly.mp4 and saved to silent videos folder.\n",
            "Moviepy - Building video /content/gdrive/MyDrive/Major FINAL RUN/Audio_altFinal/lujvyveojc.mp4.\n",
            "Moviepy - Writing video /content/gdrive/MyDrive/Major FINAL RUN/Audio_altFinal/lujvyveojc.mp4\n",
            "\n"
          ]
        },
        {
          "name": "stderr",
          "output_type": "stream",
          "text": [
            "t: 100%|█████████▉| 299/300 [00:45<00:00,  4.51it/s, now=None]WARNING:py.warnings:/usr/local/lib/python3.10/dist-packages/moviepy/video/io/ffmpeg_reader.py:123: UserWarning: Warning: in file /content/gdrive/MyDrive/Major FINAL RUN/Final Audio Dataset/lujvyveojc.mp4, 6220800 bytes wanted but 0 bytes read,at frame 299/300, at time 10.01/10.02 sec. Using the last valid frame instead.\n",
            "  warnings.warn(\"Warning: in file %s, \"%(self.filename)+\n",
            "\n"
          ]
        },
        {
          "name": "stdout",
          "output_type": "stream",
          "text": [
            "Moviepy - Done !\n",
            "Moviepy - video ready /content/gdrive/MyDrive/Major FINAL RUN/Audio_altFinal/lujvyveojc.mp4\n",
            "Processed 77 out of 744 videos. Audio removed from lujvyveojc.mp4 and saved to silent videos folder.\n",
            "Moviepy - Building video /content/gdrive/MyDrive/Major FINAL RUN/Audio_altFinal/mkzaekkvej.mp4.\n",
            "Moviepy - Writing video /content/gdrive/MyDrive/Major FINAL RUN/Audio_altFinal/mkzaekkvej.mp4\n",
            "\n"
          ]
        },
        {
          "name": "stderr",
          "output_type": "stream",
          "text": [
            "t: 100%|█████████▉| 299/300 [00:43<00:00,  4.62it/s, now=None]WARNING:py.warnings:/usr/local/lib/python3.10/dist-packages/moviepy/video/io/ffmpeg_reader.py:123: UserWarning: Warning: in file /content/gdrive/MyDrive/Major FINAL RUN/Final Audio Dataset/mkzaekkvej.mp4, 6220800 bytes wanted but 0 bytes read,at frame 299/300, at time 10.01/10.02 sec. Using the last valid frame instead.\n",
            "  warnings.warn(\"Warning: in file %s, \"%(self.filename)+\n",
            "\n"
          ]
        },
        {
          "name": "stdout",
          "output_type": "stream",
          "text": [
            "Moviepy - Done !\n",
            "Moviepy - video ready /content/gdrive/MyDrive/Major FINAL RUN/Audio_altFinal/mkzaekkvej.mp4\n",
            "Processed 78 out of 744 videos. Audio removed from mkzaekkvej.mp4 and saved to silent videos folder.\n",
            "Moviepy - Building video /content/gdrive/MyDrive/Major FINAL RUN/Audio_altFinal/nfimdsszyf.mp4.\n",
            "Moviepy - Writing video /content/gdrive/MyDrive/Major FINAL RUN/Audio_altFinal/nfimdsszyf.mp4\n",
            "\n"
          ]
        },
        {
          "name": "stderr",
          "output_type": "stream",
          "text": [
            "t: 100%|██████████| 301/301 [00:34<00:00, 10.16it/s, now=None]WARNING:py.warnings:/usr/local/lib/python3.10/dist-packages/moviepy/video/io/ffmpeg_reader.py:123: UserWarning: Warning: in file /content/gdrive/MyDrive/Major FINAL RUN/Final Audio Dataset/nfimdsszyf.mp4, 6220800 bytes wanted but 0 bytes read,at frame 300/301, at time 10.00/10.02 sec. Using the last valid frame instead.\n",
            "  warnings.warn(\"Warning: in file %s, \"%(self.filename)+\n",
            "\n"
          ]
        },
        {
          "name": "stdout",
          "output_type": "stream",
          "text": [
            "Moviepy - Done !\n",
            "Moviepy - video ready /content/gdrive/MyDrive/Major FINAL RUN/Audio_altFinal/nfimdsszyf.mp4\n",
            "Processed 79 out of 744 videos. Audio removed from nfimdsszyf.mp4 and saved to silent videos folder.\n",
            "Moviepy - Building video /content/gdrive/MyDrive/Major FINAL RUN/Audio_altFinal/nlbeldnhpa.mp4.\n",
            "Moviepy - Writing video /content/gdrive/MyDrive/Major FINAL RUN/Audio_altFinal/nlbeldnhpa.mp4\n",
            "\n"
          ]
        },
        {
          "name": "stderr",
          "output_type": "stream",
          "text": [
            "t: 100%|█████████▉| 299/300 [00:51<00:00,  3.75it/s, now=None]WARNING:py.warnings:/usr/local/lib/python3.10/dist-packages/moviepy/video/io/ffmpeg_reader.py:123: UserWarning: Warning: in file /content/gdrive/MyDrive/Major FINAL RUN/Final Audio Dataset/nlbeldnhpa.mp4, 6220800 bytes wanted but 0 bytes read,at frame 299/300, at time 10.01/10.02 sec. Using the last valid frame instead.\n",
            "  warnings.warn(\"Warning: in file %s, \"%(self.filename)+\n",
            "\n"
          ]
        },
        {
          "name": "stdout",
          "output_type": "stream",
          "text": [
            "Moviepy - Done !\n",
            "Moviepy - video ready /content/gdrive/MyDrive/Major FINAL RUN/Audio_altFinal/nlbeldnhpa.mp4\n",
            "Processed 80 out of 744 videos. Audio removed from nlbeldnhpa.mp4 and saved to silent videos folder.\n",
            "Moviepy - Building video /content/gdrive/MyDrive/Major FINAL RUN/Audio_altFinal/nswtvttxre.mp4.\n",
            "Moviepy - Writing video /content/gdrive/MyDrive/Major FINAL RUN/Audio_altFinal/nswtvttxre.mp4\n",
            "\n"
          ]
        },
        {
          "name": "stderr",
          "output_type": "stream",
          "text": [
            "t: 100%|██████████| 301/301 [00:35<00:00,  9.32it/s, now=None]WARNING:py.warnings:/usr/local/lib/python3.10/dist-packages/moviepy/video/io/ffmpeg_reader.py:123: UserWarning: Warning: in file /content/gdrive/MyDrive/Major FINAL RUN/Final Audio Dataset/nswtvttxre.mp4, 6220800 bytes wanted but 0 bytes read,at frame 300/301, at time 10.00/10.02 sec. Using the last valid frame instead.\n",
            "  warnings.warn(\"Warning: in file %s, \"%(self.filename)+\n",
            "\n"
          ]
        },
        {
          "name": "stdout",
          "output_type": "stream",
          "text": [
            "Moviepy - Done !\n",
            "Moviepy - video ready /content/gdrive/MyDrive/Major FINAL RUN/Audio_altFinal/nswtvttxre.mp4\n",
            "Processed 81 out of 744 videos. Audio removed from nswtvttxre.mp4 and saved to silent videos folder.\n",
            "Moviepy - Building video /content/gdrive/MyDrive/Major FINAL RUN/Audio_altFinal/objgwnmscm.mp4.\n",
            "Moviepy - Writing video /content/gdrive/MyDrive/Major FINAL RUN/Audio_altFinal/objgwnmscm.mp4\n",
            "\n"
          ]
        },
        {
          "name": "stderr",
          "output_type": "stream",
          "text": [
            "t: 100%|█████████▉| 299/300 [00:52<00:00,  3.94it/s, now=None]WARNING:py.warnings:/usr/local/lib/python3.10/dist-packages/moviepy/video/io/ffmpeg_reader.py:123: UserWarning: Warning: in file /content/gdrive/MyDrive/Major FINAL RUN/Final Audio Dataset/objgwnmscm.mp4, 6220800 bytes wanted but 0 bytes read,at frame 299/300, at time 10.01/10.02 sec. Using the last valid frame instead.\n",
            "  warnings.warn(\"Warning: in file %s, \"%(self.filename)+\n",
            "\n"
          ]
        },
        {
          "name": "stdout",
          "output_type": "stream",
          "text": [
            "Moviepy - Done !\n",
            "Moviepy - video ready /content/gdrive/MyDrive/Major FINAL RUN/Audio_altFinal/objgwnmscm.mp4\n",
            "Processed 82 out of 744 videos. Audio removed from objgwnmscm.mp4 and saved to silent videos folder.\n",
            "Moviepy - Building video /content/gdrive/MyDrive/Major FINAL RUN/Audio_altFinal/obozirvzxd.mp4.\n",
            "Moviepy - Writing video /content/gdrive/MyDrive/Major FINAL RUN/Audio_altFinal/obozirvzxd.mp4\n",
            "\n"
          ]
        },
        {
          "name": "stderr",
          "output_type": "stream",
          "text": [
            "t: 100%|█████████▉| 299/300 [00:52<00:00,  5.65it/s, now=None]WARNING:py.warnings:/usr/local/lib/python3.10/dist-packages/moviepy/video/io/ffmpeg_reader.py:123: UserWarning: Warning: in file /content/gdrive/MyDrive/Major FINAL RUN/Final Audio Dataset/obozirvzxd.mp4, 6220800 bytes wanted but 0 bytes read,at frame 299/300, at time 10.01/10.02 sec. Using the last valid frame instead.\n",
            "  warnings.warn(\"Warning: in file %s, \"%(self.filename)+\n",
            "\n"
          ]
        },
        {
          "name": "stdout",
          "output_type": "stream",
          "text": [
            "Moviepy - Done !\n",
            "Moviepy - video ready /content/gdrive/MyDrive/Major FINAL RUN/Audio_altFinal/obozirvzxd.mp4\n",
            "Processed 83 out of 744 videos. Audio removed from obozirvzxd.mp4 and saved to silent videos folder.\n",
            "Moviepy - Building video /content/gdrive/MyDrive/Major FINAL RUN/Audio_altFinal/ocnqcaojtf.mp4.\n",
            "Moviepy - Writing video /content/gdrive/MyDrive/Major FINAL RUN/Audio_altFinal/ocnqcaojtf.mp4\n",
            "\n"
          ]
        },
        {
          "name": "stderr",
          "output_type": "stream",
          "text": [
            "t: 100%|██████████| 300/300 [00:56<00:00,  7.58it/s, now=None]WARNING:py.warnings:/usr/local/lib/python3.10/dist-packages/moviepy/video/io/ffmpeg_reader.py:123: UserWarning: Warning: in file /content/gdrive/MyDrive/Major FINAL RUN/Final Audio Dataset/ocnqcaojtf.mp4, 6220800 bytes wanted but 0 bytes read,at frame 299/300, at time 10.01/10.02 sec. Using the last valid frame instead.\n",
            "  warnings.warn(\"Warning: in file %s, \"%(self.filename)+\n",
            "\n"
          ]
        },
        {
          "name": "stdout",
          "output_type": "stream",
          "text": [
            "Moviepy - Done !\n",
            "Moviepy - video ready /content/gdrive/MyDrive/Major FINAL RUN/Audio_altFinal/ocnqcaojtf.mp4\n",
            "Processed 84 out of 744 videos. Audio removed from ocnqcaojtf.mp4 and saved to silent videos folder.\n",
            "Moviepy - Building video /content/gdrive/MyDrive/Major FINAL RUN/Audio_altFinal/ooafcxxfrs.mp4.\n",
            "Moviepy - Writing video /content/gdrive/MyDrive/Major FINAL RUN/Audio_altFinal/ooafcxxfrs.mp4\n",
            "\n"
          ]
        },
        {
          "name": "stderr",
          "output_type": "stream",
          "text": [
            "t: 100%|██████████| 300/300 [00:41<00:00,  9.93it/s, now=None]WARNING:py.warnings:/usr/local/lib/python3.10/dist-packages/moviepy/video/io/ffmpeg_reader.py:123: UserWarning: Warning: in file /content/gdrive/MyDrive/Major FINAL RUN/Final Audio Dataset/ooafcxxfrs.mp4, 6220800 bytes wanted but 0 bytes read,at frame 299/300, at time 10.01/10.02 sec. Using the last valid frame instead.\n",
            "  warnings.warn(\"Warning: in file %s, \"%(self.filename)+\n",
            "\n"
          ]
        },
        {
          "name": "stdout",
          "output_type": "stream",
          "text": [
            "Moviepy - Done !\n",
            "Moviepy - video ready /content/gdrive/MyDrive/Major FINAL RUN/Audio_altFinal/ooafcxxfrs.mp4\n",
            "Processed 85 out of 744 videos. Audio removed from ooafcxxfrs.mp4 and saved to silent videos folder.\n",
            "Moviepy - Building video /content/gdrive/MyDrive/Major FINAL RUN/Audio_altFinal/orblnqzpra.mp4.\n",
            "Moviepy - Writing video /content/gdrive/MyDrive/Major FINAL RUN/Audio_altFinal/orblnqzpra.mp4\n",
            "\n"
          ]
        },
        {
          "name": "stderr",
          "output_type": "stream",
          "text": [
            "t: 100%|█████████▉| 299/300 [00:42<00:00,  7.95it/s, now=None]WARNING:py.warnings:/usr/local/lib/python3.10/dist-packages/moviepy/video/io/ffmpeg_reader.py:123: UserWarning: Warning: in file /content/gdrive/MyDrive/Major FINAL RUN/Final Audio Dataset/orblnqzpra.mp4, 6220800 bytes wanted but 0 bytes read,at frame 299/300, at time 10.01/10.02 sec. Using the last valid frame instead.\n",
            "  warnings.warn(\"Warning: in file %s, \"%(self.filename)+\n",
            "\n"
          ]
        },
        {
          "name": "stdout",
          "output_type": "stream",
          "text": [
            "Moviepy - Done !\n",
            "Moviepy - video ready /content/gdrive/MyDrive/Major FINAL RUN/Audio_altFinal/orblnqzpra.mp4\n",
            "Processed 86 out of 744 videos. Audio removed from orblnqzpra.mp4 and saved to silent videos folder.\n",
            "Moviepy - Building video /content/gdrive/MyDrive/Major FINAL RUN/Audio_altFinal/opsgvfjlgh.mp4.\n",
            "Moviepy - Writing video /content/gdrive/MyDrive/Major FINAL RUN/Audio_altFinal/opsgvfjlgh.mp4\n",
            "\n"
          ]
        },
        {
          "name": "stderr",
          "output_type": "stream",
          "text": [
            "t: 100%|█████████▉| 299/300 [00:58<00:00,  4.39it/s, now=None]WARNING:py.warnings:/usr/local/lib/python3.10/dist-packages/moviepy/video/io/ffmpeg_reader.py:123: UserWarning: Warning: in file /content/gdrive/MyDrive/Major FINAL RUN/Final Audio Dataset/opsgvfjlgh.mp4, 6220800 bytes wanted but 0 bytes read,at frame 299/300, at time 10.01/10.02 sec. Using the last valid frame instead.\n",
            "  warnings.warn(\"Warning: in file %s, \"%(self.filename)+\n",
            "\n"
          ]
        },
        {
          "name": "stdout",
          "output_type": "stream",
          "text": [
            "Moviepy - Done !\n",
            "Moviepy - video ready /content/gdrive/MyDrive/Major FINAL RUN/Audio_altFinal/opsgvfjlgh.mp4\n",
            "Processed 87 out of 744 videos. Audio removed from opsgvfjlgh.mp4 and saved to silent videos folder.\n",
            "Moviepy - Building video /content/gdrive/MyDrive/Major FINAL RUN/Audio_altFinal/ouaowjmigq.mp4.\n",
            "Moviepy - Writing video /content/gdrive/MyDrive/Major FINAL RUN/Audio_altFinal/ouaowjmigq.mp4\n",
            "\n"
          ]
        },
        {
          "name": "stderr",
          "output_type": "stream",
          "text": [
            "t: 100%|█████████▉| 299/300 [00:58<00:00,  5.41it/s, now=None]WARNING:py.warnings:/usr/local/lib/python3.10/dist-packages/moviepy/video/io/ffmpeg_reader.py:123: UserWarning: Warning: in file /content/gdrive/MyDrive/Major FINAL RUN/Final Audio Dataset/ouaowjmigq.mp4, 6220800 bytes wanted but 0 bytes read,at frame 299/300, at time 10.01/10.02 sec. Using the last valid frame instead.\n",
            "  warnings.warn(\"Warning: in file %s, \"%(self.filename)+\n",
            "\n"
          ]
        },
        {
          "name": "stdout",
          "output_type": "stream",
          "text": [
            "Moviepy - Done !\n",
            "Moviepy - video ready /content/gdrive/MyDrive/Major FINAL RUN/Audio_altFinal/ouaowjmigq.mp4\n",
            "Processed 88 out of 744 videos. Audio removed from ouaowjmigq.mp4 and saved to silent videos folder.\n",
            "Moviepy - Building video /content/gdrive/MyDrive/Major FINAL RUN/Audio_altFinal/oznyyhvzxk.mp4.\n",
            "Moviepy - Writing video /content/gdrive/MyDrive/Major FINAL RUN/Audio_altFinal/oznyyhvzxk.mp4\n",
            "\n"
          ]
        },
        {
          "name": "stderr",
          "output_type": "stream",
          "text": [
            "t: 100%|█████████▉| 299/300 [00:43<00:00,  6.74it/s, now=None]WARNING:py.warnings:/usr/local/lib/python3.10/dist-packages/moviepy/video/io/ffmpeg_reader.py:123: UserWarning: Warning: in file /content/gdrive/MyDrive/Major FINAL RUN/Final Audio Dataset/oznyyhvzxk.mp4, 6220800 bytes wanted but 0 bytes read,at frame 299/300, at time 10.01/10.02 sec. Using the last valid frame instead.\n",
            "  warnings.warn(\"Warning: in file %s, \"%(self.filename)+\n",
            "\n"
          ]
        },
        {
          "name": "stdout",
          "output_type": "stream",
          "text": [
            "Moviepy - Done !\n",
            "Moviepy - video ready /content/gdrive/MyDrive/Major FINAL RUN/Audio_altFinal/oznyyhvzxk.mp4\n",
            "Processed 89 out of 744 videos. Audio removed from oznyyhvzxk.mp4 and saved to silent videos folder.\n",
            "Moviepy - Building video /content/gdrive/MyDrive/Major FINAL RUN/Audio_altFinal/papagllumt.mp4.\n",
            "Moviepy - Writing video /content/gdrive/MyDrive/Major FINAL RUN/Audio_altFinal/papagllumt.mp4\n",
            "\n"
          ]
        },
        {
          "name": "stderr",
          "output_type": "stream",
          "text": [
            "t: 100%|█████████▉| 299/300 [00:43<00:00,  8.73it/s, now=None]WARNING:py.warnings:/usr/local/lib/python3.10/dist-packages/moviepy/video/io/ffmpeg_reader.py:123: UserWarning: Warning: in file /content/gdrive/MyDrive/Major FINAL RUN/Final Audio Dataset/papagllumt.mp4, 6220800 bytes wanted but 0 bytes read,at frame 299/300, at time 10.01/10.02 sec. Using the last valid frame instead.\n",
            "  warnings.warn(\"Warning: in file %s, \"%(self.filename)+\n",
            "\n"
          ]
        },
        {
          "name": "stdout",
          "output_type": "stream",
          "text": [
            "Moviepy - Done !\n",
            "Moviepy - video ready /content/gdrive/MyDrive/Major FINAL RUN/Audio_altFinal/papagllumt.mp4\n",
            "Processed 90 out of 744 videos. Audio removed from papagllumt.mp4 and saved to silent videos folder.\n",
            "Moviepy - Building video /content/gdrive/MyDrive/Major FINAL RUN/Audio_altFinal/peysyddtmp.mp4.\n",
            "Moviepy - Writing video /content/gdrive/MyDrive/Major FINAL RUN/Audio_altFinal/peysyddtmp.mp4\n",
            "\n"
          ]
        },
        {
          "name": "stderr",
          "output_type": "stream",
          "text": [
            "t: 100%|█████████▉| 299/300 [00:39<00:00,  6.39it/s, now=None]WARNING:py.warnings:/usr/local/lib/python3.10/dist-packages/moviepy/video/io/ffmpeg_reader.py:123: UserWarning: Warning: in file /content/gdrive/MyDrive/Major FINAL RUN/Final Audio Dataset/peysyddtmp.mp4, 6220800 bytes wanted but 0 bytes read,at frame 299/300, at time 10.01/10.02 sec. Using the last valid frame instead.\n",
            "  warnings.warn(\"Warning: in file %s, \"%(self.filename)+\n",
            "\n"
          ]
        },
        {
          "name": "stdout",
          "output_type": "stream",
          "text": [
            "Moviepy - Done !\n",
            "Moviepy - video ready /content/gdrive/MyDrive/Major FINAL RUN/Audio_altFinal/peysyddtmp.mp4\n",
            "Processed 91 out of 744 videos. Audio removed from peysyddtmp.mp4 and saved to silent videos folder.\n",
            "Moviepy - Building video /content/gdrive/MyDrive/Major FINAL RUN/Audio_altFinal/qyefejorlb.mp4.\n",
            "Moviepy - Writing video /content/gdrive/MyDrive/Major FINAL RUN/Audio_altFinal/qyefejorlb.mp4\n",
            "\n"
          ]
        },
        {
          "name": "stderr",
          "output_type": "stream",
          "text": [
            "t: 100%|█████████▉| 299/300 [00:37<00:00,  8.50it/s, now=None]WARNING:py.warnings:/usr/local/lib/python3.10/dist-packages/moviepy/video/io/ffmpeg_reader.py:123: UserWarning: Warning: in file /content/gdrive/MyDrive/Major FINAL RUN/Final Audio Dataset/qyefejorlb.mp4, 6220800 bytes wanted but 0 bytes read,at frame 299/300, at time 10.01/10.02 sec. Using the last valid frame instead.\n",
            "  warnings.warn(\"Warning: in file %s, \"%(self.filename)+\n",
            "\n"
          ]
        },
        {
          "name": "stdout",
          "output_type": "stream",
          "text": [
            "Moviepy - Done !\n",
            "Moviepy - video ready /content/gdrive/MyDrive/Major FINAL RUN/Audio_altFinal/qyefejorlb.mp4\n",
            "Processed 92 out of 744 videos. Audio removed from qyefejorlb.mp4 and saved to silent videos folder.\n",
            "Moviepy - Building video /content/gdrive/MyDrive/Major FINAL RUN/Audio_altFinal/rmpbqeawlq.mp4.\n",
            "Moviepy - Writing video /content/gdrive/MyDrive/Major FINAL RUN/Audio_altFinal/rmpbqeawlq.mp4\n",
            "\n"
          ]
        },
        {
          "name": "stderr",
          "output_type": "stream",
          "text": [
            "t: 100%|██████████| 300/300 [00:53<00:00,  5.69it/s, now=None]WARNING:py.warnings:/usr/local/lib/python3.10/dist-packages/moviepy/video/io/ffmpeg_reader.py:123: UserWarning: Warning: in file /content/gdrive/MyDrive/Major FINAL RUN/Final Audio Dataset/rmpbqeawlq.mp4, 6220800 bytes wanted but 0 bytes read,at frame 299/300, at time 10.01/10.02 sec. Using the last valid frame instead.\n",
            "  warnings.warn(\"Warning: in file %s, \"%(self.filename)+\n",
            "\n"
          ]
        },
        {
          "name": "stdout",
          "output_type": "stream",
          "text": [
            "Moviepy - Done !\n",
            "Moviepy - video ready /content/gdrive/MyDrive/Major FINAL RUN/Audio_altFinal/rmpbqeawlq.mp4\n",
            "Processed 93 out of 744 videos. Audio removed from rmpbqeawlq.mp4 and saved to silent videos folder.\n",
            "Moviepy - Building video /content/gdrive/MyDrive/Major FINAL RUN/Audio_altFinal/rmhsahyvta.mp4.\n",
            "Moviepy - Writing video /content/gdrive/MyDrive/Major FINAL RUN/Audio_altFinal/rmhsahyvta.mp4\n",
            "\n"
          ]
        },
        {
          "name": "stderr",
          "output_type": "stream",
          "text": [
            "t: 100%|██████████| 300/300 [00:51<00:00,  7.07it/s, now=None]WARNING:py.warnings:/usr/local/lib/python3.10/dist-packages/moviepy/video/io/ffmpeg_reader.py:123: UserWarning: Warning: in file /content/gdrive/MyDrive/Major FINAL RUN/Final Audio Dataset/rmhsahyvta.mp4, 6220800 bytes wanted but 0 bytes read,at frame 299/300, at time 10.01/10.02 sec. Using the last valid frame instead.\n",
            "  warnings.warn(\"Warning: in file %s, \"%(self.filename)+\n",
            "\n"
          ]
        },
        {
          "name": "stdout",
          "output_type": "stream",
          "text": [
            "Moviepy - Done !\n",
            "Moviepy - video ready /content/gdrive/MyDrive/Major FINAL RUN/Audio_altFinal/rmhsahyvta.mp4\n",
            "Processed 94 out of 744 videos. Audio removed from rmhsahyvta.mp4 and saved to silent videos folder.\n",
            "Moviepy - Building video /content/gdrive/MyDrive/Major FINAL RUN/Audio_altFinal/tgtndszori.mp4.\n",
            "Moviepy - Writing video /content/gdrive/MyDrive/Major FINAL RUN/Audio_altFinal/tgtndszori.mp4\n",
            "\n"
          ]
        },
        {
          "name": "stderr",
          "output_type": "stream",
          "text": [
            "t: 100%|█████████▉| 299/300 [00:37<00:00,  8.55it/s, now=None]WARNING:py.warnings:/usr/local/lib/python3.10/dist-packages/moviepy/video/io/ffmpeg_reader.py:123: UserWarning: Warning: in file /content/gdrive/MyDrive/Major FINAL RUN/Final Audio Dataset/tgtndszori.mp4, 6220800 bytes wanted but 0 bytes read,at frame 299/300, at time 10.01/10.02 sec. Using the last valid frame instead.\n",
            "  warnings.warn(\"Warning: in file %s, \"%(self.filename)+\n",
            "\n"
          ]
        },
        {
          "name": "stdout",
          "output_type": "stream",
          "text": [
            "Moviepy - Done !\n",
            "Moviepy - video ready /content/gdrive/MyDrive/Major FINAL RUN/Audio_altFinal/tgtndszori.mp4\n",
            "Processed 95 out of 744 videos. Audio removed from tgtndszori.mp4 and saved to silent videos folder.\n",
            "Moviepy - Building video /content/gdrive/MyDrive/Major FINAL RUN/Audio_altFinal/tguqyatciq.mp4.\n",
            "Moviepy - Writing video /content/gdrive/MyDrive/Major FINAL RUN/Audio_altFinal/tguqyatciq.mp4\n",
            "\n"
          ]
        },
        {
          "name": "stderr",
          "output_type": "stream",
          "text": [
            "t: 100%|██████████| 300/300 [00:44<00:00,  7.35it/s, now=None]WARNING:py.warnings:/usr/local/lib/python3.10/dist-packages/moviepy/video/io/ffmpeg_reader.py:123: UserWarning: Warning: in file /content/gdrive/MyDrive/Major FINAL RUN/Final Audio Dataset/tguqyatciq.mp4, 6220800 bytes wanted but 0 bytes read,at frame 299/300, at time 10.01/10.02 sec. Using the last valid frame instead.\n",
            "  warnings.warn(\"Warning: in file %s, \"%(self.filename)+\n",
            "\n"
          ]
        },
        {
          "name": "stdout",
          "output_type": "stream",
          "text": [
            "Moviepy - Done !\n",
            "Moviepy - video ready /content/gdrive/MyDrive/Major FINAL RUN/Audio_altFinal/tguqyatciq.mp4\n",
            "Processed 96 out of 744 videos. Audio removed from tguqyatciq.mp4 and saved to silent videos folder.\n",
            "Moviepy - Building video /content/gdrive/MyDrive/Major FINAL RUN/Audio_altFinal/tgkhgnukkq.mp4.\n",
            "Moviepy - Writing video /content/gdrive/MyDrive/Major FINAL RUN/Audio_altFinal/tgkhgnukkq.mp4\n",
            "\n"
          ]
        },
        {
          "name": "stderr",
          "output_type": "stream",
          "text": [
            "t: 100%|██████████| 301/301 [00:38<00:00, 10.21it/s, now=None]WARNING:py.warnings:/usr/local/lib/python3.10/dist-packages/moviepy/video/io/ffmpeg_reader.py:123: UserWarning: Warning: in file /content/gdrive/MyDrive/Major FINAL RUN/Final Audio Dataset/tgkhgnukkq.mp4, 6220800 bytes wanted but 0 bytes read,at frame 300/301, at time 10.00/10.02 sec. Using the last valid frame instead.\n",
            "  warnings.warn(\"Warning: in file %s, \"%(self.filename)+\n",
            "\n"
          ]
        },
        {
          "name": "stdout",
          "output_type": "stream",
          "text": [
            "Moviepy - Done !\n",
            "Moviepy - video ready /content/gdrive/MyDrive/Major FINAL RUN/Audio_altFinal/tgkhgnukkq.mp4\n",
            "Processed 97 out of 744 videos. Audio removed from tgkhgnukkq.mp4 and saved to silent videos folder.\n",
            "Moviepy - Building video /content/gdrive/MyDrive/Major FINAL RUN/Audio_altFinal/tgyyqyyfau.mp4.\n",
            "Moviepy - Writing video /content/gdrive/MyDrive/Major FINAL RUN/Audio_altFinal/tgyyqyyfau.mp4\n",
            "\n"
          ]
        },
        {
          "name": "stderr",
          "output_type": "stream",
          "text": [
            "t: 100%|██████████| 300/300 [00:52<00:00,  7.26it/s, now=None]WARNING:py.warnings:/usr/local/lib/python3.10/dist-packages/moviepy/video/io/ffmpeg_reader.py:123: UserWarning: Warning: in file /content/gdrive/MyDrive/Major FINAL RUN/Final Audio Dataset/tgyyqyyfau.mp4, 6220800 bytes wanted but 0 bytes read,at frame 299/300, at time 10.01/10.02 sec. Using the last valid frame instead.\n",
            "  warnings.warn(\"Warning: in file %s, \"%(self.filename)+\n",
            "\n"
          ]
        },
        {
          "name": "stdout",
          "output_type": "stream",
          "text": [
            "Moviepy - Done !\n",
            "Moviepy - video ready /content/gdrive/MyDrive/Major FINAL RUN/Audio_altFinal/tgyyqyyfau.mp4\n",
            "Processed 98 out of 744 videos. Audio removed from tgyyqyyfau.mp4 and saved to silent videos folder.\n",
            "Moviepy - Building video /content/gdrive/MyDrive/Major FINAL RUN/Audio_altFinal/thlidrchzq.mp4.\n",
            "Moviepy - Writing video /content/gdrive/MyDrive/Major FINAL RUN/Audio_altFinal/thlidrchzq.mp4\n",
            "\n"
          ]
        },
        {
          "name": "stderr",
          "output_type": "stream",
          "text": [
            "t: 100%|██████████| 300/300 [00:54<00:00,  6.26it/s, now=None]WARNING:py.warnings:/usr/local/lib/python3.10/dist-packages/moviepy/video/io/ffmpeg_reader.py:123: UserWarning: Warning: in file /content/gdrive/MyDrive/Major FINAL RUN/Final Audio Dataset/thlidrchzq.mp4, 6220800 bytes wanted but 0 bytes read,at frame 299/300, at time 10.01/10.02 sec. Using the last valid frame instead.\n",
            "  warnings.warn(\"Warning: in file %s, \"%(self.filename)+\n",
            "\n"
          ]
        },
        {
          "name": "stdout",
          "output_type": "stream",
          "text": [
            "Moviepy - Done !\n",
            "Moviepy - video ready /content/gdrive/MyDrive/Major FINAL RUN/Audio_altFinal/thlidrchzq.mp4\n",
            "Processed 99 out of 744 videos. Audio removed from thlidrchzq.mp4 and saved to silent videos folder.\n",
            "Moviepy - Building video /content/gdrive/MyDrive/Major FINAL RUN/Audio_altFinal/thqkpnwxit.mp4.\n",
            "Moviepy - Writing video /content/gdrive/MyDrive/Major FINAL RUN/Audio_altFinal/thqkpnwxit.mp4\n",
            "\n"
          ]
        },
        {
          "name": "stderr",
          "output_type": "stream",
          "text": [
            "t: 100%|██████████| 300/300 [00:52<00:00,  5.24it/s, now=None]WARNING:py.warnings:/usr/local/lib/python3.10/dist-packages/moviepy/video/io/ffmpeg_reader.py:123: UserWarning: Warning: in file /content/gdrive/MyDrive/Major FINAL RUN/Final Audio Dataset/thqkpnwxit.mp4, 6220800 bytes wanted but 0 bytes read,at frame 299/300, at time 10.01/10.02 sec. Using the last valid frame instead.\n",
            "  warnings.warn(\"Warning: in file %s, \"%(self.filename)+\n",
            "\n"
          ]
        },
        {
          "name": "stdout",
          "output_type": "stream",
          "text": [
            "Moviepy - Done !\n",
            "Moviepy - video ready /content/gdrive/MyDrive/Major FINAL RUN/Audio_altFinal/thqkpnwxit.mp4\n",
            "Processed 100 out of 744 videos. Audio removed from thqkpnwxit.mp4 and saved to silent videos folder.\n",
            "Moviepy - Building video /content/gdrive/MyDrive/Major FINAL RUN/Audio_altFinal/tjhpwqxqlu.mp4.\n",
            "Moviepy - Writing video /content/gdrive/MyDrive/Major FINAL RUN/Audio_altFinal/tjhpwqxqlu.mp4\n",
            "\n"
          ]
        },
        {
          "name": "stderr",
          "output_type": "stream",
          "text": [
            "t: 100%|█████████▉| 299/300 [00:52<00:00,  5.20it/s, now=None]WARNING:py.warnings:/usr/local/lib/python3.10/dist-packages/moviepy/video/io/ffmpeg_reader.py:123: UserWarning: Warning: in file /content/gdrive/MyDrive/Major FINAL RUN/Final Audio Dataset/tjhpwqxqlu.mp4, 6220800 bytes wanted but 0 bytes read,at frame 299/300, at time 10.01/10.02 sec. Using the last valid frame instead.\n",
            "  warnings.warn(\"Warning: in file %s, \"%(self.filename)+\n",
            "\n"
          ]
        },
        {
          "name": "stdout",
          "output_type": "stream",
          "text": [
            "Moviepy - Done !\n",
            "Moviepy - video ready /content/gdrive/MyDrive/Major FINAL RUN/Audio_altFinal/tjhpwqxqlu.mp4\n",
            "Processed 101 out of 744 videos. Audio removed from tjhpwqxqlu.mp4 and saved to silent videos folder.\n",
            "Moviepy - Building video /content/gdrive/MyDrive/Major FINAL RUN/Audio_altFinal/tjlybsguby.mp4.\n",
            "Moviepy - Writing video /content/gdrive/MyDrive/Major FINAL RUN/Audio_altFinal/tjlybsguby.mp4\n",
            "\n"
          ]
        },
        {
          "name": "stderr",
          "output_type": "stream",
          "text": [
            "t:  99%|█████████▉| 298/300 [00:44<00:00,  7.01it/s, now=None]WARNING:py.warnings:/usr/local/lib/python3.10/dist-packages/moviepy/video/io/ffmpeg_reader.py:123: UserWarning: Warning: in file /content/gdrive/MyDrive/Major FINAL RUN/Final Audio Dataset/tjlybsguby.mp4, 6220800 bytes wanted but 0 bytes read,at frame 299/300, at time 10.01/10.02 sec. Using the last valid frame instead.\n",
            "  warnings.warn(\"Warning: in file %s, \"%(self.filename)+\n",
            "\n"
          ]
        },
        {
          "name": "stdout",
          "output_type": "stream",
          "text": [
            "Moviepy - Done !\n",
            "Moviepy - video ready /content/gdrive/MyDrive/Major FINAL RUN/Audio_altFinal/tjlybsguby.mp4\n",
            "Processed 102 out of 744 videos. Audio removed from tjlybsguby.mp4 and saved to silent videos folder.\n",
            "Moviepy - Building video /content/gdrive/MyDrive/Major FINAL RUN/Audio_altFinal/thyliacqnm.mp4.\n",
            "Moviepy - Writing video /content/gdrive/MyDrive/Major FINAL RUN/Audio_altFinal/thyliacqnm.mp4\n",
            "\n"
          ]
        },
        {
          "name": "stderr",
          "output_type": "stream",
          "text": [
            "t: 100%|█████████▉| 299/300 [00:57<00:00,  5.10it/s, now=None]WARNING:py.warnings:/usr/local/lib/python3.10/dist-packages/moviepy/video/io/ffmpeg_reader.py:123: UserWarning: Warning: in file /content/gdrive/MyDrive/Major FINAL RUN/Final Audio Dataset/thyliacqnm.mp4, 6220800 bytes wanted but 0 bytes read,at frame 299/300, at time 10.01/10.02 sec. Using the last valid frame instead.\n",
            "  warnings.warn(\"Warning: in file %s, \"%(self.filename)+\n",
            "\n"
          ]
        },
        {
          "name": "stdout",
          "output_type": "stream",
          "text": [
            "Moviepy - Done !\n",
            "Moviepy - video ready /content/gdrive/MyDrive/Major FINAL RUN/Audio_altFinal/thyliacqnm.mp4\n",
            "Processed 103 out of 744 videos. Audio removed from thyliacqnm.mp4 and saved to silent videos folder.\n",
            "Moviepy - Building video /content/gdrive/MyDrive/Major FINAL RUN/Audio_altFinal/tijqzpjcmz.mp4.\n",
            "Moviepy - Writing video /content/gdrive/MyDrive/Major FINAL RUN/Audio_altFinal/tijqzpjcmz.mp4\n",
            "\n"
          ]
        },
        {
          "name": "stderr",
          "output_type": "stream",
          "text": [
            "t: 100%|█████████▉| 299/300 [00:52<00:00,  3.43it/s, now=None]WARNING:py.warnings:/usr/local/lib/python3.10/dist-packages/moviepy/video/io/ffmpeg_reader.py:123: UserWarning: Warning: in file /content/gdrive/MyDrive/Major FINAL RUN/Final Audio Dataset/tijqzpjcmz.mp4, 6220800 bytes wanted but 0 bytes read,at frame 299/300, at time 10.01/10.02 sec. Using the last valid frame instead.\n",
            "  warnings.warn(\"Warning: in file %s, \"%(self.filename)+\n",
            "\n"
          ]
        },
        {
          "name": "stdout",
          "output_type": "stream",
          "text": [
            "Moviepy - Done !\n",
            "Moviepy - video ready /content/gdrive/MyDrive/Major FINAL RUN/Audio_altFinal/tijqzpjcmz.mp4\n",
            "Processed 104 out of 744 videos. Audio removed from tijqzpjcmz.mp4 and saved to silent videos folder.\n",
            "Moviepy - Building video /content/gdrive/MyDrive/Major FINAL RUN/Audio_altFinal/tyojwenpaf.mp4.\n",
            "Moviepy - Writing video /content/gdrive/MyDrive/Major FINAL RUN/Audio_altFinal/tyojwenpaf.mp4\n",
            "\n"
          ]
        },
        {
          "name": "stderr",
          "output_type": "stream",
          "text": [
            "t: 100%|█████████▉| 299/300 [00:42<00:00,  4.54it/s, now=None]WARNING:py.warnings:/usr/local/lib/python3.10/dist-packages/moviepy/video/io/ffmpeg_reader.py:123: UserWarning: Warning: in file /content/gdrive/MyDrive/Major FINAL RUN/Final Audio Dataset/tyojwenpaf.mp4, 6220800 bytes wanted but 0 bytes read,at frame 299/300, at time 10.01/10.02 sec. Using the last valid frame instead.\n",
            "  warnings.warn(\"Warning: in file %s, \"%(self.filename)+\n",
            "\n"
          ]
        },
        {
          "name": "stdout",
          "output_type": "stream",
          "text": [
            "Moviepy - Done !\n",
            "Moviepy - video ready /content/gdrive/MyDrive/Major FINAL RUN/Audio_altFinal/tyojwenpaf.mp4\n",
            "Processed 105 out of 744 videos. Audio removed from tyojwenpaf.mp4 and saved to silent videos folder.\n",
            "Moviepy - Building video /content/gdrive/MyDrive/Major FINAL RUN/Audio_altFinal/uonwfowmfa.mp4.\n",
            "Moviepy - Writing video /content/gdrive/MyDrive/Major FINAL RUN/Audio_altFinal/uonwfowmfa.mp4\n",
            "\n"
          ]
        },
        {
          "name": "stderr",
          "output_type": "stream",
          "text": [
            "t: 100%|██████████| 300/300 [00:44<00:00,  3.99it/s, now=None]WARNING:py.warnings:/usr/local/lib/python3.10/dist-packages/moviepy/video/io/ffmpeg_reader.py:123: UserWarning: Warning: in file /content/gdrive/MyDrive/Major FINAL RUN/Final Audio Dataset/uonwfowmfa.mp4, 6220800 bytes wanted but 0 bytes read,at frame 299/300, at time 10.01/10.02 sec. Using the last valid frame instead.\n",
            "  warnings.warn(\"Warning: in file %s, \"%(self.filename)+\n",
            "\n"
          ]
        },
        {
          "name": "stdout",
          "output_type": "stream",
          "text": [
            "Moviepy - Done !\n",
            "Moviepy - video ready /content/gdrive/MyDrive/Major FINAL RUN/Audio_altFinal/uonwfowmfa.mp4\n",
            "Processed 106 out of 744 videos. Audio removed from uonwfowmfa.mp4 and saved to silent videos folder.\n",
            "Moviepy - Building video /content/gdrive/MyDrive/Major FINAL RUN/Audio_altFinal/vizerpsvbz.mp4.\n",
            "Moviepy - Writing video /content/gdrive/MyDrive/Major FINAL RUN/Audio_altFinal/vizerpsvbz.mp4\n",
            "\n"
          ]
        },
        {
          "name": "stderr",
          "output_type": "stream",
          "text": [
            "t: 100%|█████████▉| 299/300 [00:37<00:00,  9.06it/s, now=None]WARNING:py.warnings:/usr/local/lib/python3.10/dist-packages/moviepy/video/io/ffmpeg_reader.py:123: UserWarning: Warning: in file /content/gdrive/MyDrive/Major FINAL RUN/Final Audio Dataset/vizerpsvbz.mp4, 6220800 bytes wanted but 0 bytes read,at frame 299/300, at time 10.01/10.02 sec. Using the last valid frame instead.\n",
            "  warnings.warn(\"Warning: in file %s, \"%(self.filename)+\n",
            "\n"
          ]
        },
        {
          "name": "stdout",
          "output_type": "stream",
          "text": [
            "Moviepy - Done !\n",
            "Moviepy - video ready /content/gdrive/MyDrive/Major FINAL RUN/Audio_altFinal/vizerpsvbz.mp4\n",
            "Processed 107 out of 744 videos. Audio removed from vizerpsvbz.mp4 and saved to silent videos folder.\n",
            "Moviepy - Building video /content/gdrive/MyDrive/Major FINAL RUN/Audio_altFinal/vssmlqoiti.mp4.\n",
            "Moviepy - Writing video /content/gdrive/MyDrive/Major FINAL RUN/Audio_altFinal/vssmlqoiti.mp4\n",
            "\n"
          ]
        },
        {
          "name": "stderr",
          "output_type": "stream",
          "text": [
            "t: 100%|█████████▉| 299/300 [00:59<00:00,  5.18it/s, now=None]WARNING:py.warnings:/usr/local/lib/python3.10/dist-packages/moviepy/video/io/ffmpeg_reader.py:123: UserWarning: Warning: in file /content/gdrive/MyDrive/Major FINAL RUN/Final Audio Dataset/vssmlqoiti.mp4, 6220800 bytes wanted but 0 bytes read,at frame 299/300, at time 10.01/10.02 sec. Using the last valid frame instead.\n",
            "  warnings.warn(\"Warning: in file %s, \"%(self.filename)+\n",
            "\n"
          ]
        },
        {
          "name": "stdout",
          "output_type": "stream",
          "text": [
            "Moviepy - Done !\n",
            "Moviepy - video ready /content/gdrive/MyDrive/Major FINAL RUN/Audio_altFinal/vssmlqoiti.mp4\n",
            "Processed 108 out of 744 videos. Audio removed from vssmlqoiti.mp4 and saved to silent videos folder.\n",
            "Moviepy - Building video /content/gdrive/MyDrive/Major FINAL RUN/Audio_altFinal/wapflpdhyi.mp4.\n",
            "Moviepy - Writing video /content/gdrive/MyDrive/Major FINAL RUN/Audio_altFinal/wapflpdhyi.mp4\n",
            "\n"
          ]
        },
        {
          "name": "stderr",
          "output_type": "stream",
          "text": [
            "t:  99%|█████████▉| 298/300 [00:40<00:00,  7.99it/s, now=None]WARNING:py.warnings:/usr/local/lib/python3.10/dist-packages/moviepy/video/io/ffmpeg_reader.py:123: UserWarning: Warning: in file /content/gdrive/MyDrive/Major FINAL RUN/Final Audio Dataset/wapflpdhyi.mp4, 6220800 bytes wanted but 0 bytes read,at frame 299/300, at time 10.01/10.02 sec. Using the last valid frame instead.\n",
            "  warnings.warn(\"Warning: in file %s, \"%(self.filename)+\n",
            "\n"
          ]
        },
        {
          "name": "stdout",
          "output_type": "stream",
          "text": [
            "Moviepy - Done !\n",
            "Moviepy - video ready /content/gdrive/MyDrive/Major FINAL RUN/Audio_altFinal/wapflpdhyi.mp4\n",
            "Processed 109 out of 744 videos. Audio removed from wapflpdhyi.mp4 and saved to silent videos folder.\n",
            "Moviepy - Building video /content/gdrive/MyDrive/Major FINAL RUN/Audio_altFinal/wfihvsniyz.mp4.\n",
            "Moviepy - Writing video /content/gdrive/MyDrive/Major FINAL RUN/Audio_altFinal/wfihvsniyz.mp4\n",
            "\n"
          ]
        },
        {
          "name": "stderr",
          "output_type": "stream",
          "text": [
            "t: 100%|██████████| 300/300 [00:45<00:00,  7.04it/s, now=None]WARNING:py.warnings:/usr/local/lib/python3.10/dist-packages/moviepy/video/io/ffmpeg_reader.py:123: UserWarning: Warning: in file /content/gdrive/MyDrive/Major FINAL RUN/Final Audio Dataset/wfihvsniyz.mp4, 6220800 bytes wanted but 0 bytes read,at frame 299/300, at time 10.01/10.02 sec. Using the last valid frame instead.\n",
            "  warnings.warn(\"Warning: in file %s, \"%(self.filename)+\n",
            "\n"
          ]
        },
        {
          "name": "stdout",
          "output_type": "stream",
          "text": [
            "Moviepy - Done !\n",
            "Moviepy - video ready /content/gdrive/MyDrive/Major FINAL RUN/Audio_altFinal/wfihvsniyz.mp4\n",
            "Processed 110 out of 744 videos. Audio removed from wfihvsniyz.mp4 and saved to silent videos folder.\n",
            "Moviepy - Building video /content/gdrive/MyDrive/Major FINAL RUN/Audio_altFinal/xjzmkuxskq.mp4.\n",
            "Moviepy - Writing video /content/gdrive/MyDrive/Major FINAL RUN/Audio_altFinal/xjzmkuxskq.mp4\n",
            "\n"
          ]
        },
        {
          "name": "stderr",
          "output_type": "stream",
          "text": [
            "t: 100%|██████████| 301/301 [00:35<00:00,  7.24it/s, now=None]WARNING:py.warnings:/usr/local/lib/python3.10/dist-packages/moviepy/video/io/ffmpeg_reader.py:123: UserWarning: Warning: in file /content/gdrive/MyDrive/Major FINAL RUN/Final Audio Dataset/xjzmkuxskq.mp4, 6220800 bytes wanted but 0 bytes read,at frame 300/301, at time 10.00/10.02 sec. Using the last valid frame instead.\n",
            "  warnings.warn(\"Warning: in file %s, \"%(self.filename)+\n",
            "\n"
          ]
        },
        {
          "name": "stdout",
          "output_type": "stream",
          "text": [
            "Moviepy - Done !\n",
            "Moviepy - video ready /content/gdrive/MyDrive/Major FINAL RUN/Audio_altFinal/xjzmkuxskq.mp4\n",
            "Processed 111 out of 744 videos. Audio removed from xjzmkuxskq.mp4 and saved to silent videos folder.\n",
            "Moviepy - Building video /content/gdrive/MyDrive/Major FINAL RUN/Audio_altFinal/xnjofwbsfg.mp4.\n",
            "Moviepy - Writing video /content/gdrive/MyDrive/Major FINAL RUN/Audio_altFinal/xnjofwbsfg.mp4\n",
            "\n"
          ]
        },
        {
          "name": "stderr",
          "output_type": "stream",
          "text": [
            "t: 100%|██████████| 300/300 [00:51<00:00,  6.77it/s, now=None]WARNING:py.warnings:/usr/local/lib/python3.10/dist-packages/moviepy/video/io/ffmpeg_reader.py:123: UserWarning: Warning: in file /content/gdrive/MyDrive/Major FINAL RUN/Final Audio Dataset/xnjofwbsfg.mp4, 6220800 bytes wanted but 0 bytes read,at frame 299/300, at time 10.01/10.02 sec. Using the last valid frame instead.\n",
            "  warnings.warn(\"Warning: in file %s, \"%(self.filename)+\n",
            "\n"
          ]
        },
        {
          "name": "stdout",
          "output_type": "stream",
          "text": [
            "Moviepy - Done !\n",
            "Moviepy - video ready /content/gdrive/MyDrive/Major FINAL RUN/Audio_altFinal/xnjofwbsfg.mp4\n",
            "Processed 112 out of 744 videos. Audio removed from xnjofwbsfg.mp4 and saved to silent videos folder.\n",
            "Moviepy - Building video /content/gdrive/MyDrive/Major FINAL RUN/Audio_altFinal/xnevdkbmkd.mp4.\n",
            "Moviepy - Writing video /content/gdrive/MyDrive/Major FINAL RUN/Audio_altFinal/xnevdkbmkd.mp4\n",
            "\n"
          ]
        },
        {
          "name": "stderr",
          "output_type": "stream",
          "text": [
            "t: 100%|█████████▉| 299/300 [00:52<00:00,  3.34it/s, now=None]WARNING:py.warnings:/usr/local/lib/python3.10/dist-packages/moviepy/video/io/ffmpeg_reader.py:123: UserWarning: Warning: in file /content/gdrive/MyDrive/Major FINAL RUN/Final Audio Dataset/xnevdkbmkd.mp4, 6220800 bytes wanted but 0 bytes read,at frame 299/300, at time 10.01/10.02 sec. Using the last valid frame instead.\n",
            "  warnings.warn(\"Warning: in file %s, \"%(self.filename)+\n",
            "\n"
          ]
        },
        {
          "name": "stdout",
          "output_type": "stream",
          "text": [
            "Moviepy - Done !\n",
            "Moviepy - video ready /content/gdrive/MyDrive/Major FINAL RUN/Audio_altFinal/xnevdkbmkd.mp4\n",
            "Processed 113 out of 744 videos. Audio removed from xnevdkbmkd.mp4 and saved to silent videos folder.\n",
            "Moviepy - Building video /content/gdrive/MyDrive/Major FINAL RUN/Audio_altFinal/xnyryxpmoo.mp4.\n",
            "Moviepy - Writing video /content/gdrive/MyDrive/Major FINAL RUN/Audio_altFinal/xnyryxpmoo.mp4\n",
            "\n"
          ]
        },
        {
          "name": "stderr",
          "output_type": "stream",
          "text": [
            "t: 100%|██████████| 300/300 [00:51<00:00,  6.62it/s, now=None]WARNING:py.warnings:/usr/local/lib/python3.10/dist-packages/moviepy/video/io/ffmpeg_reader.py:123: UserWarning: Warning: in file /content/gdrive/MyDrive/Major FINAL RUN/Final Audio Dataset/xnyryxpmoo.mp4, 6220800 bytes wanted but 0 bytes read,at frame 299/300, at time 10.01/10.02 sec. Using the last valid frame instead.\n",
            "  warnings.warn(\"Warning: in file %s, \"%(self.filename)+\n",
            "\n"
          ]
        },
        {
          "name": "stdout",
          "output_type": "stream",
          "text": [
            "Moviepy - Done !\n",
            "Moviepy - video ready /content/gdrive/MyDrive/Major FINAL RUN/Audio_altFinal/xnyryxpmoo.mp4\n",
            "Processed 114 out of 744 videos. Audio removed from xnyryxpmoo.mp4 and saved to silent videos folder.\n",
            "Moviepy - Building video /content/gdrive/MyDrive/Major FINAL RUN/Audio_altFinal/xsswirhdze.mp4.\n",
            "Moviepy - Writing video /content/gdrive/MyDrive/Major FINAL RUN/Audio_altFinal/xsswirhdze.mp4\n",
            "\n"
          ]
        },
        {
          "name": "stderr",
          "output_type": "stream",
          "text": [
            "t: 100%|█████████▉| 299/300 [00:52<00:00,  3.82it/s, now=None]WARNING:py.warnings:/usr/local/lib/python3.10/dist-packages/moviepy/video/io/ffmpeg_reader.py:123: UserWarning: Warning: in file /content/gdrive/MyDrive/Major FINAL RUN/Final Audio Dataset/xsswirhdze.mp4, 6220800 bytes wanted but 0 bytes read,at frame 299/300, at time 10.01/10.02 sec. Using the last valid frame instead.\n",
            "  warnings.warn(\"Warning: in file %s, \"%(self.filename)+\n",
            "\n"
          ]
        },
        {
          "name": "stdout",
          "output_type": "stream",
          "text": [
            "Moviepy - Done !\n",
            "Moviepy - video ready /content/gdrive/MyDrive/Major FINAL RUN/Audio_altFinal/xsswirhdze.mp4\n",
            "Processed 115 out of 744 videos. Audio removed from xsswirhdze.mp4 and saved to silent videos folder.\n",
            "Moviepy - Building video /content/gdrive/MyDrive/Major FINAL RUN/Audio_altFinal/xsqzctwhge.mp4.\n",
            "Moviepy - Writing video /content/gdrive/MyDrive/Major FINAL RUN/Audio_altFinal/xsqzctwhge.mp4\n",
            "\n"
          ]
        },
        {
          "name": "stderr",
          "output_type": "stream",
          "text": [
            "t: 100%|██████████| 300/300 [00:45<00:00,  4.62it/s, now=None]WARNING:py.warnings:/usr/local/lib/python3.10/dist-packages/moviepy/video/io/ffmpeg_reader.py:123: UserWarning: Warning: in file /content/gdrive/MyDrive/Major FINAL RUN/Final Audio Dataset/xsqzctwhge.mp4, 6220800 bytes wanted but 0 bytes read,at frame 299/300, at time 10.01/10.02 sec. Using the last valid frame instead.\n",
            "  warnings.warn(\"Warning: in file %s, \"%(self.filename)+\n",
            "\n"
          ]
        },
        {
          "name": "stdout",
          "output_type": "stream",
          "text": [
            "Moviepy - Done !\n",
            "Moviepy - video ready /content/gdrive/MyDrive/Major FINAL RUN/Audio_altFinal/xsqzctwhge.mp4\n",
            "Processed 116 out of 744 videos. Audio removed from xsqzctwhge.mp4 and saved to silent videos folder.\n",
            "Moviepy - Building video /content/gdrive/MyDrive/Major FINAL RUN/Audio_altFinal/xttqggwaze.mp4.\n",
            "Moviepy - Writing video /content/gdrive/MyDrive/Major FINAL RUN/Audio_altFinal/xttqggwaze.mp4\n",
            "\n"
          ]
        },
        {
          "name": "stderr",
          "output_type": "stream",
          "text": [
            "t: 100%|█████████▉| 299/300 [00:37<00:00,  8.08it/s, now=None]WARNING:py.warnings:/usr/local/lib/python3.10/dist-packages/moviepy/video/io/ffmpeg_reader.py:123: UserWarning: Warning: in file /content/gdrive/MyDrive/Major FINAL RUN/Final Audio Dataset/xttqggwaze.mp4, 6220800 bytes wanted but 0 bytes read,at frame 299/300, at time 10.01/10.02 sec. Using the last valid frame instead.\n",
            "  warnings.warn(\"Warning: in file %s, \"%(self.filename)+\n",
            "\n"
          ]
        },
        {
          "name": "stdout",
          "output_type": "stream",
          "text": [
            "Moviepy - Done !\n",
            "Moviepy - video ready /content/gdrive/MyDrive/Major FINAL RUN/Audio_altFinal/xttqggwaze.mp4\n",
            "Processed 117 out of 744 videos. Audio removed from xttqggwaze.mp4 and saved to silent videos folder.\n",
            "Moviepy - Building video /content/gdrive/MyDrive/Major FINAL RUN/Audio_altFinal/xxihzvtvuw.mp4.\n",
            "Moviepy - Writing video /content/gdrive/MyDrive/Major FINAL RUN/Audio_altFinal/xxihzvtvuw.mp4\n",
            "\n"
          ]
        },
        {
          "name": "stderr",
          "output_type": "stream",
          "text": [
            "t: 100%|██████████| 301/301 [00:51<00:00,  5.13it/s, now=None]WARNING:py.warnings:/usr/local/lib/python3.10/dist-packages/moviepy/video/io/ffmpeg_reader.py:123: UserWarning: Warning: in file /content/gdrive/MyDrive/Major FINAL RUN/Final Audio Dataset/xxihzvtvuw.mp4, 6220800 bytes wanted but 0 bytes read,at frame 300/301, at time 10.00/10.02 sec. Using the last valid frame instead.\n",
            "  warnings.warn(\"Warning: in file %s, \"%(self.filename)+\n",
            "\n"
          ]
        },
        {
          "name": "stdout",
          "output_type": "stream",
          "text": [
            "Moviepy - Done !\n",
            "Moviepy - video ready /content/gdrive/MyDrive/Major FINAL RUN/Audio_altFinal/xxihzvtvuw.mp4\n",
            "Processed 118 out of 744 videos. Audio removed from xxihzvtvuw.mp4 and saved to silent videos folder.\n",
            "Moviepy - Building video /content/gdrive/MyDrive/Major FINAL RUN/Audio_altFinal/xwzbbwsvls.mp4.\n",
            "Moviepy - Writing video /content/gdrive/MyDrive/Major FINAL RUN/Audio_altFinal/xwzbbwsvls.mp4\n",
            "\n"
          ]
        },
        {
          "name": "stderr",
          "output_type": "stream",
          "text": [
            "t: 100%|█████████▉| 299/300 [00:42<00:00,  5.06it/s, now=None]WARNING:py.warnings:/usr/local/lib/python3.10/dist-packages/moviepy/video/io/ffmpeg_reader.py:123: UserWarning: Warning: in file /content/gdrive/MyDrive/Major FINAL RUN/Final Audio Dataset/xwzbbwsvls.mp4, 6220800 bytes wanted but 0 bytes read,at frame 299/300, at time 10.01/10.02 sec. Using the last valid frame instead.\n",
            "  warnings.warn(\"Warning: in file %s, \"%(self.filename)+\n",
            "\n"
          ]
        },
        {
          "name": "stdout",
          "output_type": "stream",
          "text": [
            "Moviepy - Done !\n",
            "Moviepy - video ready /content/gdrive/MyDrive/Major FINAL RUN/Audio_altFinal/xwzbbwsvls.mp4\n",
            "Processed 119 out of 744 videos. Audio removed from xwzbbwsvls.mp4 and saved to silent videos folder.\n",
            "Moviepy - Building video /content/gdrive/MyDrive/Major FINAL RUN/Audio_altFinal/xwqucxeryw.mp4.\n",
            "Moviepy - Writing video /content/gdrive/MyDrive/Major FINAL RUN/Audio_altFinal/xwqucxeryw.mp4\n",
            "\n"
          ]
        },
        {
          "name": "stderr",
          "output_type": "stream",
          "text": [
            "t: 100%|█████████▉| 299/300 [00:54<00:00,  5.72it/s, now=None]WARNING:py.warnings:/usr/local/lib/python3.10/dist-packages/moviepy/video/io/ffmpeg_reader.py:123: UserWarning: Warning: in file /content/gdrive/MyDrive/Major FINAL RUN/Final Audio Dataset/xwqucxeryw.mp4, 6220800 bytes wanted but 0 bytes read,at frame 299/300, at time 10.01/10.02 sec. Using the last valid frame instead.\n",
            "  warnings.warn(\"Warning: in file %s, \"%(self.filename)+\n",
            "\n"
          ]
        },
        {
          "name": "stdout",
          "output_type": "stream",
          "text": [
            "Moviepy - Done !\n",
            "Moviepy - video ready /content/gdrive/MyDrive/Major FINAL RUN/Audio_altFinal/xwqucxeryw.mp4\n",
            "Processed 120 out of 744 videos. Audio removed from xwqucxeryw.mp4 and saved to silent videos folder.\n",
            "Moviepy - Building video /content/gdrive/MyDrive/Major FINAL RUN/Audio_altFinal/yaxgpxhavq.mp4.\n",
            "Moviepy - Writing video /content/gdrive/MyDrive/Major FINAL RUN/Audio_altFinal/yaxgpxhavq.mp4\n",
            "\n"
          ]
        },
        {
          "name": "stderr",
          "output_type": "stream",
          "text": [
            "t: 100%|██████████| 300/300 [00:51<00:00,  6.97it/s, now=None]WARNING:py.warnings:/usr/local/lib/python3.10/dist-packages/moviepy/video/io/ffmpeg_reader.py:123: UserWarning: Warning: in file /content/gdrive/MyDrive/Major FINAL RUN/Final Audio Dataset/yaxgpxhavq.mp4, 6220800 bytes wanted but 0 bytes read,at frame 299/300, at time 10.01/10.02 sec. Using the last valid frame instead.\n",
            "  warnings.warn(\"Warning: in file %s, \"%(self.filename)+\n",
            "\n"
          ]
        },
        {
          "name": "stdout",
          "output_type": "stream",
          "text": [
            "Moviepy - Done !\n",
            "Moviepy - video ready /content/gdrive/MyDrive/Major FINAL RUN/Audio_altFinal/yaxgpxhavq.mp4\n",
            "Processed 121 out of 744 videos. Audio removed from yaxgpxhavq.mp4 and saved to silent videos folder.\n",
            "Moviepy - Building video /content/gdrive/MyDrive/Major FINAL RUN/Audio_altFinal/yauwlfgbnc.mp4.\n",
            "Moviepy - Writing video /content/gdrive/MyDrive/Major FINAL RUN/Audio_altFinal/yauwlfgbnc.mp4\n",
            "\n"
          ]
        },
        {
          "name": "stderr",
          "output_type": "stream",
          "text": [
            "t:  99%|█████████▉| 299/301 [00:48<00:00,  6.15it/s, now=None]WARNING:py.warnings:/usr/local/lib/python3.10/dist-packages/moviepy/video/io/ffmpeg_reader.py:123: UserWarning: Warning: in file /content/gdrive/MyDrive/Major FINAL RUN/Final Audio Dataset/yauwlfgbnc.mp4, 6220800 bytes wanted but 0 bytes read,at frame 300/301, at time 10.00/10.02 sec. Using the last valid frame instead.\n",
            "  warnings.warn(\"Warning: in file %s, \"%(self.filename)+\n",
            "\n"
          ]
        },
        {
          "name": "stdout",
          "output_type": "stream",
          "text": [
            "Moviepy - Done !\n",
            "Moviepy - video ready /content/gdrive/MyDrive/Major FINAL RUN/Audio_altFinal/yauwlfgbnc.mp4\n",
            "Processed 122 out of 744 videos. Audio removed from yauwlfgbnc.mp4 and saved to silent videos folder.\n",
            "Moviepy - Building video /content/gdrive/MyDrive/Major FINAL RUN/Audio_altFinal/ybbziapzmv.mp4.\n",
            "Moviepy - Writing video /content/gdrive/MyDrive/Major FINAL RUN/Audio_altFinal/ybbziapzmv.mp4\n",
            "\n"
          ]
        },
        {
          "name": "stderr",
          "output_type": "stream",
          "text": [
            "t:  99%|█████████▉| 298/300 [00:49<00:00,  5.82it/s, now=None]WARNING:py.warnings:/usr/local/lib/python3.10/dist-packages/moviepy/video/io/ffmpeg_reader.py:123: UserWarning: Warning: in file /content/gdrive/MyDrive/Major FINAL RUN/Final Audio Dataset/ybbziapzmv.mp4, 6220800 bytes wanted but 0 bytes read,at frame 299/300, at time 10.01/10.02 sec. Using the last valid frame instead.\n",
            "  warnings.warn(\"Warning: in file %s, \"%(self.filename)+\n",
            "\n"
          ]
        },
        {
          "name": "stdout",
          "output_type": "stream",
          "text": [
            "Moviepy - Done !\n",
            "Moviepy - video ready /content/gdrive/MyDrive/Major FINAL RUN/Audio_altFinal/ybbziapzmv.mp4\n",
            "Processed 123 out of 744 videos. Audio removed from ybbziapzmv.mp4 and saved to silent videos folder.\n",
            "Moviepy - Building video /content/gdrive/MyDrive/Major FINAL RUN/Audio_altFinal/yhylappzid.mp4.\n",
            "Moviepy - Writing video /content/gdrive/MyDrive/Major FINAL RUN/Audio_altFinal/yhylappzid.mp4\n",
            "\n"
          ]
        },
        {
          "name": "stderr",
          "output_type": "stream",
          "text": [
            "t: 100%|█████████▉| 299/300 [00:57<00:00,  4.67it/s, now=None]WARNING:py.warnings:/usr/local/lib/python3.10/dist-packages/moviepy/video/io/ffmpeg_reader.py:123: UserWarning: Warning: in file /content/gdrive/MyDrive/Major FINAL RUN/Final Audio Dataset/yhylappzid.mp4, 6220800 bytes wanted but 0 bytes read,at frame 299/300, at time 10.01/10.02 sec. Using the last valid frame instead.\n",
            "  warnings.warn(\"Warning: in file %s, \"%(self.filename)+\n",
            "\n"
          ]
        },
        {
          "name": "stdout",
          "output_type": "stream",
          "text": [
            "Moviepy - Done !\n",
            "Moviepy - video ready /content/gdrive/MyDrive/Major FINAL RUN/Audio_altFinal/yhylappzid.mp4\n",
            "Processed 124 out of 744 videos. Audio removed from yhylappzid.mp4 and saved to silent videos folder.\n",
            "Moviepy - Building video /content/gdrive/MyDrive/Major FINAL RUN/Audio_altFinal/zlxfqidduw.mp4.\n",
            "Moviepy - Writing video /content/gdrive/MyDrive/Major FINAL RUN/Audio_altFinal/zlxfqidduw.mp4\n",
            "\n"
          ]
        },
        {
          "name": "stderr",
          "output_type": "stream",
          "text": [
            "t: 100%|██████████| 300/300 [00:55<00:00,  4.02it/s, now=None]WARNING:py.warnings:/usr/local/lib/python3.10/dist-packages/moviepy/video/io/ffmpeg_reader.py:123: UserWarning: Warning: in file /content/gdrive/MyDrive/Major FINAL RUN/Final Audio Dataset/zlxfqidduw.mp4, 6220800 bytes wanted but 0 bytes read,at frame 299/300, at time 10.01/10.02 sec. Using the last valid frame instead.\n",
            "  warnings.warn(\"Warning: in file %s, \"%(self.filename)+\n",
            "\n"
          ]
        },
        {
          "name": "stdout",
          "output_type": "stream",
          "text": [
            "Moviepy - Done !\n",
            "Moviepy - video ready /content/gdrive/MyDrive/Major FINAL RUN/Audio_altFinal/zlxfqidduw.mp4\n",
            "Processed 125 out of 744 videos. Audio removed from zlxfqidduw.mp4 and saved to silent videos folder.\n",
            "Moviepy - Building video /content/gdrive/MyDrive/Major FINAL RUN/Audio_altFinal/znvdxgaoay.mp4.\n",
            "Moviepy - Writing video /content/gdrive/MyDrive/Major FINAL RUN/Audio_altFinal/znvdxgaoay.mp4\n",
            "\n"
          ]
        },
        {
          "name": "stderr",
          "output_type": "stream",
          "text": [
            "t: 100%|██████████| 301/301 [00:35<00:00,  9.50it/s, now=None]WARNING:py.warnings:/usr/local/lib/python3.10/dist-packages/moviepy/video/io/ffmpeg_reader.py:123: UserWarning: Warning: in file /content/gdrive/MyDrive/Major FINAL RUN/Final Audio Dataset/znvdxgaoay.mp4, 6220800 bytes wanted but 0 bytes read,at frame 300/301, at time 10.00/10.02 sec. Using the last valid frame instead.\n",
            "  warnings.warn(\"Warning: in file %s, \"%(self.filename)+\n",
            "\n"
          ]
        },
        {
          "name": "stdout",
          "output_type": "stream",
          "text": [
            "Moviepy - Done !\n",
            "Moviepy - video ready /content/gdrive/MyDrive/Major FINAL RUN/Audio_altFinal/znvdxgaoay.mp4\n",
            "Processed 126 out of 744 videos. Audio removed from znvdxgaoay.mp4 and saved to silent videos folder.\n",
            "Moviepy - Building video /content/gdrive/MyDrive/Major FINAL RUN/Audio_altFinal/ztyuiqrhdk.mp4.\n",
            "Moviepy - Writing video /content/gdrive/MyDrive/Major FINAL RUN/Audio_altFinal/ztyuiqrhdk.mp4\n",
            "\n"
          ]
        },
        {
          "name": "stderr",
          "output_type": "stream",
          "text": [
            "t: 100%|█████████▉| 299/300 [00:53<00:00,  4.15it/s, now=None]WARNING:py.warnings:/usr/local/lib/python3.10/dist-packages/moviepy/video/io/ffmpeg_reader.py:123: UserWarning: Warning: in file /content/gdrive/MyDrive/Major FINAL RUN/Final Audio Dataset/ztyuiqrhdk.mp4, 6220800 bytes wanted but 0 bytes read,at frame 299/300, at time 10.01/10.02 sec. Using the last valid frame instead.\n",
            "  warnings.warn(\"Warning: in file %s, \"%(self.filename)+\n",
            "\n"
          ]
        },
        {
          "name": "stdout",
          "output_type": "stream",
          "text": [
            "Moviepy - Done !\n",
            "Moviepy - video ready /content/gdrive/MyDrive/Major FINAL RUN/Audio_altFinal/ztyuiqrhdk.mp4\n",
            "Processed 127 out of 744 videos. Audio removed from ztyuiqrhdk.mp4 and saved to silent videos folder.\n",
            "Moviepy - Building video /content/gdrive/MyDrive/Major FINAL RUN/Audio_altFinal/aabqyygbaa.mp4.\n",
            "Moviepy - Writing video /content/gdrive/MyDrive/Major FINAL RUN/Audio_altFinal/aabqyygbaa.mp4\n",
            "\n"
          ]
        },
        {
          "name": "stderr",
          "output_type": "stream",
          "text": [
            "t: 100%|█████████▉| 300/301 [00:37<00:00,  8.17it/s, now=None]WARNING:py.warnings:/usr/local/lib/python3.10/dist-packages/moviepy/video/io/ffmpeg_reader.py:123: UserWarning: Warning: in file /content/gdrive/MyDrive/Major FINAL RUN/Final Audio Dataset/aabqyygbaa.mp4, 6220800 bytes wanted but 0 bytes read,at frame 300/301, at time 10.01/10.02 sec. Using the last valid frame instead.\n",
            "  warnings.warn(\"Warning: in file %s, \"%(self.filename)+\n",
            "\n"
          ]
        },
        {
          "name": "stdout",
          "output_type": "stream",
          "text": [
            "Moviepy - Done !\n",
            "Moviepy - video ready /content/gdrive/MyDrive/Major FINAL RUN/Audio_altFinal/aabqyygbaa.mp4\n",
            "Processed 128 out of 744 videos. Audio removed from aabqyygbaa.mp4 and saved to silent videos folder.\n",
            "Moviepy - Building video /content/gdrive/MyDrive/Major FINAL RUN/Audio_altFinal/abzdxpmmdb.mp4.\n",
            "Moviepy - Writing video /content/gdrive/MyDrive/Major FINAL RUN/Audio_altFinal/abzdxpmmdb.mp4\n",
            "\n"
          ]
        },
        {
          "name": "stderr",
          "output_type": "stream",
          "text": [
            "t: 100%|██████████| 301/301 [00:38<00:00,  9.41it/s, now=None]WARNING:py.warnings:/usr/local/lib/python3.10/dist-packages/moviepy/video/io/ffmpeg_reader.py:123: UserWarning: Warning: in file /content/gdrive/MyDrive/Major FINAL RUN/Final Audio Dataset/abzdxpmmdb.mp4, 6220800 bytes wanted but 0 bytes read,at frame 300/301, at time 10.01/10.02 sec. Using the last valid frame instead.\n",
            "  warnings.warn(\"Warning: in file %s, \"%(self.filename)+\n",
            "\n"
          ]
        },
        {
          "name": "stdout",
          "output_type": "stream",
          "text": [
            "Moviepy - Done !\n",
            "Moviepy - video ready /content/gdrive/MyDrive/Major FINAL RUN/Audio_altFinal/abzdxpmmdb.mp4\n",
            "Processed 129 out of 744 videos. Audio removed from abzdxpmmdb.mp4 and saved to silent videos folder.\n",
            "Moviepy - Building video /content/gdrive/MyDrive/Major FINAL RUN/Audio_altFinal/addknoverp.mp4.\n",
            "Moviepy - Writing video /content/gdrive/MyDrive/Major FINAL RUN/Audio_altFinal/addknoverp.mp4\n",
            "\n"
          ]
        },
        {
          "name": "stderr",
          "output_type": "stream",
          "text": [
            "t: 100%|██████████| 301/301 [00:41<00:00,  6.32it/s, now=None]WARNING:py.warnings:/usr/local/lib/python3.10/dist-packages/moviepy/video/io/ffmpeg_reader.py:123: UserWarning: Warning: in file /content/gdrive/MyDrive/Major FINAL RUN/Final Audio Dataset/addknoverp.mp4, 6220800 bytes wanted but 0 bytes read,at frame 300/301, at time 10.01/10.02 sec. Using the last valid frame instead.\n",
            "  warnings.warn(\"Warning: in file %s, \"%(self.filename)+\n",
            "\n"
          ]
        },
        {
          "name": "stdout",
          "output_type": "stream",
          "text": [
            "Moviepy - Done !\n",
            "Moviepy - video ready /content/gdrive/MyDrive/Major FINAL RUN/Audio_altFinal/addknoverp.mp4\n",
            "Processed 130 out of 744 videos. Audio removed from addknoverp.mp4 and saved to silent videos folder.\n",
            "Moviepy - Building video /content/gdrive/MyDrive/Major FINAL RUN/Audio_altFinal/acukjpjxen.mp4.\n",
            "Moviepy - Writing video /content/gdrive/MyDrive/Major FINAL RUN/Audio_altFinal/acukjpjxen.mp4\n",
            "\n"
          ]
        },
        {
          "name": "stderr",
          "output_type": "stream",
          "text": [
            "t: 100%|██████████| 301/301 [00:40<00:00,  7.58it/s, now=None]WARNING:py.warnings:/usr/local/lib/python3.10/dist-packages/moviepy/video/io/ffmpeg_reader.py:123: UserWarning: Warning: in file /content/gdrive/MyDrive/Major FINAL RUN/Final Audio Dataset/acukjpjxen.mp4, 6220800 bytes wanted but 0 bytes read,at frame 300/301, at time 10.01/10.02 sec. Using the last valid frame instead.\n",
            "  warnings.warn(\"Warning: in file %s, \"%(self.filename)+\n",
            "\n"
          ]
        },
        {
          "name": "stdout",
          "output_type": "stream",
          "text": [
            "Moviepy - Done !\n",
            "Moviepy - video ready /content/gdrive/MyDrive/Major FINAL RUN/Audio_altFinal/acukjpjxen.mp4\n",
            "Processed 131 out of 744 videos. Audio removed from acukjpjxen.mp4 and saved to silent videos folder.\n",
            "Moviepy - Building video /content/gdrive/MyDrive/Major FINAL RUN/Audio_altFinal/aeeigmpocb.mp4.\n",
            "Moviepy - Writing video /content/gdrive/MyDrive/Major FINAL RUN/Audio_altFinal/aeeigmpocb.mp4\n",
            "\n"
          ]
        },
        {
          "name": "stderr",
          "output_type": "stream",
          "text": [
            "t: 100%|██████████| 301/301 [00:36<00:00,  9.70it/s, now=None]WARNING:py.warnings:/usr/local/lib/python3.10/dist-packages/moviepy/video/io/ffmpeg_reader.py:123: UserWarning: Warning: in file /content/gdrive/MyDrive/Major FINAL RUN/Final Audio Dataset/aeeigmpocb.mp4, 6220800 bytes wanted but 0 bytes read,at frame 300/301, at time 10.01/10.02 sec. Using the last valid frame instead.\n",
            "  warnings.warn(\"Warning: in file %s, \"%(self.filename)+\n",
            "\n"
          ]
        },
        {
          "name": "stdout",
          "output_type": "stream",
          "text": [
            "Moviepy - Done !\n",
            "Moviepy - video ready /content/gdrive/MyDrive/Major FINAL RUN/Audio_altFinal/aeeigmpocb.mp4\n",
            "Processed 132 out of 744 videos. Audio removed from aeeigmpocb.mp4 and saved to silent videos folder.\n",
            "Moviepy - Building video /content/gdrive/MyDrive/Major FINAL RUN/Audio_altFinal/adcnvlhawy.mp4.\n",
            "Moviepy - Writing video /content/gdrive/MyDrive/Major FINAL RUN/Audio_altFinal/adcnvlhawy.mp4\n",
            "\n"
          ]
        },
        {
          "name": "stderr",
          "output_type": "stream",
          "text": [
            "t: 100%|██████████| 301/301 [00:37<00:00,  6.26it/s, now=None]WARNING:py.warnings:/usr/local/lib/python3.10/dist-packages/moviepy/video/io/ffmpeg_reader.py:123: UserWarning: Warning: in file /content/gdrive/MyDrive/Major FINAL RUN/Final Audio Dataset/adcnvlhawy.mp4, 6220800 bytes wanted but 0 bytes read,at frame 300/301, at time 10.01/10.02 sec. Using the last valid frame instead.\n",
            "  warnings.warn(\"Warning: in file %s, \"%(self.filename)+\n",
            "\n"
          ]
        },
        {
          "name": "stdout",
          "output_type": "stream",
          "text": [
            "Moviepy - Done !\n",
            "Moviepy - video ready /content/gdrive/MyDrive/Major FINAL RUN/Audio_altFinal/adcnvlhawy.mp4\n",
            "Processed 133 out of 744 videos. Audio removed from adcnvlhawy.mp4 and saved to silent videos folder.\n",
            "Moviepy - Building video /content/gdrive/MyDrive/Major FINAL RUN/Audio_altFinal/aegwmawqov.mp4.\n",
            "Moviepy - Writing video /content/gdrive/MyDrive/Major FINAL RUN/Audio_altFinal/aegwmawqov.mp4\n",
            "\n"
          ]
        },
        {
          "name": "stderr",
          "output_type": "stream",
          "text": [
            "t: 100%|█████████▉| 300/301 [00:38<00:00,  9.67it/s, now=None]WARNING:py.warnings:/usr/local/lib/python3.10/dist-packages/moviepy/video/io/ffmpeg_reader.py:123: UserWarning: Warning: in file /content/gdrive/MyDrive/Major FINAL RUN/Final Audio Dataset/aegwmawqov.mp4, 6220800 bytes wanted but 0 bytes read,at frame 300/301, at time 10.01/10.02 sec. Using the last valid frame instead.\n",
            "  warnings.warn(\"Warning: in file %s, \"%(self.filename)+\n",
            "\n"
          ]
        },
        {
          "name": "stdout",
          "output_type": "stream",
          "text": [
            "Moviepy - Done !\n",
            "Moviepy - video ready /content/gdrive/MyDrive/Major FINAL RUN/Audio_altFinal/aegwmawqov.mp4\n",
            "Processed 134 out of 744 videos. Audio removed from aegwmawqov.mp4 and saved to silent videos folder.\n",
            "Moviepy - Building video /content/gdrive/MyDrive/Major FINAL RUN/Audio_altFinal/aizcvzaxcj.mp4.\n",
            "Moviepy - Writing video /content/gdrive/MyDrive/Major FINAL RUN/Audio_altFinal/aizcvzaxcj.mp4\n",
            "\n"
          ]
        },
        {
          "name": "stderr",
          "output_type": "stream",
          "text": [
            "t: 100%|██████████| 301/301 [00:40<00:00,  8.79it/s, now=None]WARNING:py.warnings:/usr/local/lib/python3.10/dist-packages/moviepy/video/io/ffmpeg_reader.py:123: UserWarning: Warning: in file /content/gdrive/MyDrive/Major FINAL RUN/Final Audio Dataset/aizcvzaxcj.mp4, 6220800 bytes wanted but 0 bytes read,at frame 300/301, at time 10.01/10.02 sec. Using the last valid frame instead.\n",
            "  warnings.warn(\"Warning: in file %s, \"%(self.filename)+\n",
            "\n"
          ]
        },
        {
          "name": "stdout",
          "output_type": "stream",
          "text": [
            "Moviepy - Done !\n",
            "Moviepy - video ready /content/gdrive/MyDrive/Major FINAL RUN/Audio_altFinal/aizcvzaxcj.mp4\n",
            "Processed 135 out of 744 videos. Audio removed from aizcvzaxcj.mp4 and saved to silent videos folder.\n",
            "Moviepy - Building video /content/gdrive/MyDrive/Major FINAL RUN/Audio_altFinal/aikmehbtbm.mp4.\n",
            "Moviepy - Writing video /content/gdrive/MyDrive/Major FINAL RUN/Audio_altFinal/aikmehbtbm.mp4\n",
            "\n"
          ]
        },
        {
          "name": "stderr",
          "output_type": "stream",
          "text": [
            "t: 100%|██████████| 301/301 [00:46<00:00,  8.46it/s, now=None]WARNING:py.warnings:/usr/local/lib/python3.10/dist-packages/moviepy/video/io/ffmpeg_reader.py:123: UserWarning: Warning: in file /content/gdrive/MyDrive/Major FINAL RUN/Final Audio Dataset/aikmehbtbm.mp4, 6220800 bytes wanted but 0 bytes read,at frame 300/301, at time 10.01/10.02 sec. Using the last valid frame instead.\n",
            "  warnings.warn(\"Warning: in file %s, \"%(self.filename)+\n",
            "\n"
          ]
        },
        {
          "name": "stdout",
          "output_type": "stream",
          "text": [
            "Moviepy - Done !\n",
            "Moviepy - video ready /content/gdrive/MyDrive/Major FINAL RUN/Audio_altFinal/aikmehbtbm.mp4\n",
            "Processed 136 out of 744 videos. Audio removed from aikmehbtbm.mp4 and saved to silent videos folder.\n",
            "Moviepy - Building video /content/gdrive/MyDrive/Major FINAL RUN/Audio_altFinal/ailmasxkxb.mp4.\n",
            "Moviepy - Writing video /content/gdrive/MyDrive/Major FINAL RUN/Audio_altFinal/ailmasxkxb.mp4\n",
            "\n"
          ]
        },
        {
          "name": "stderr",
          "output_type": "stream",
          "text": [
            "t: 100%|█████████▉| 300/301 [00:38<00:00,  9.07it/s, now=None]WARNING:py.warnings:/usr/local/lib/python3.10/dist-packages/moviepy/video/io/ffmpeg_reader.py:123: UserWarning: Warning: in file /content/gdrive/MyDrive/Major FINAL RUN/Final Audio Dataset/ailmasxkxb.mp4, 6220800 bytes wanted but 0 bytes read,at frame 300/301, at time 10.01/10.02 sec. Using the last valid frame instead.\n",
            "  warnings.warn(\"Warning: in file %s, \"%(self.filename)+\n",
            "\n"
          ]
        },
        {
          "name": "stdout",
          "output_type": "stream",
          "text": [
            "Moviepy - Done !\n",
            "Moviepy - video ready /content/gdrive/MyDrive/Major FINAL RUN/Audio_altFinal/ailmasxkxb.mp4\n",
            "Processed 137 out of 744 videos. Audio removed from ailmasxkxb.mp4 and saved to silent videos folder.\n",
            "Moviepy - Building video /content/gdrive/MyDrive/Major FINAL RUN/Audio_altFinal/akrebrefnz.mp4.\n",
            "Moviepy - Writing video /content/gdrive/MyDrive/Major FINAL RUN/Audio_altFinal/akrebrefnz.mp4\n",
            "\n"
          ]
        },
        {
          "name": "stderr",
          "output_type": "stream",
          "text": [
            "t: 100%|██████████| 301/301 [00:39<00:00,  5.49it/s, now=None]WARNING:py.warnings:/usr/local/lib/python3.10/dist-packages/moviepy/video/io/ffmpeg_reader.py:123: UserWarning: Warning: in file /content/gdrive/MyDrive/Major FINAL RUN/Final Audio Dataset/akrebrefnz.mp4, 6220800 bytes wanted but 0 bytes read,at frame 300/301, at time 10.01/10.02 sec. Using the last valid frame instead.\n",
            "  warnings.warn(\"Warning: in file %s, \"%(self.filename)+\n",
            "\n"
          ]
        },
        {
          "name": "stdout",
          "output_type": "stream",
          "text": [
            "Moviepy - Done !\n",
            "Moviepy - video ready /content/gdrive/MyDrive/Major FINAL RUN/Audio_altFinal/akrebrefnz.mp4\n",
            "Processed 138 out of 744 videos. Audio removed from akrebrefnz.mp4 and saved to silent videos folder.\n",
            "Moviepy - Building video /content/gdrive/MyDrive/Major FINAL RUN/Audio_altFinal/akmmrizujh.mp4.\n",
            "Moviepy - Writing video /content/gdrive/MyDrive/Major FINAL RUN/Audio_altFinal/akmmrizujh.mp4\n",
            "\n"
          ]
        },
        {
          "name": "stderr",
          "output_type": "stream",
          "text": [
            "t: 100%|██████████| 301/301 [00:40<00:00,  8.48it/s, now=None]WARNING:py.warnings:/usr/local/lib/python3.10/dist-packages/moviepy/video/io/ffmpeg_reader.py:123: UserWarning: Warning: in file /content/gdrive/MyDrive/Major FINAL RUN/Final Audio Dataset/akmmrizujh.mp4, 6220800 bytes wanted but 0 bytes read,at frame 300/301, at time 10.01/10.02 sec. Using the last valid frame instead.\n",
            "  warnings.warn(\"Warning: in file %s, \"%(self.filename)+\n",
            "\n"
          ]
        },
        {
          "name": "stdout",
          "output_type": "stream",
          "text": [
            "Moviepy - Done !\n",
            "Moviepy - video ready /content/gdrive/MyDrive/Major FINAL RUN/Audio_altFinal/akmmrizujh.mp4\n",
            "Processed 139 out of 744 videos. Audio removed from akmmrizujh.mp4 and saved to silent videos folder.\n",
            "Moviepy - Building video /content/gdrive/MyDrive/Major FINAL RUN/Audio_altFinal/aljzaalpym.mp4.\n",
            "Moviepy - Writing video /content/gdrive/MyDrive/Major FINAL RUN/Audio_altFinal/aljzaalpym.mp4\n",
            "\n"
          ]
        },
        {
          "name": "stderr",
          "output_type": "stream",
          "text": [
            "t: 100%|██████████| 299/299 [00:44<00:00,  6.97it/s, now=None]WARNING:py.warnings:/usr/local/lib/python3.10/dist-packages/moviepy/video/io/ffmpeg_reader.py:123: UserWarning: Warning: in file /content/gdrive/MyDrive/Major FINAL RUN/Final Audio Dataset/aljzaalpym.mp4, 6220800 bytes wanted but 0 bytes read,at frame 298/299, at time 10.01/10.02 sec. Using the last valid frame instead.\n",
            "  warnings.warn(\"Warning: in file %s, \"%(self.filename)+\n",
            "\n"
          ]
        },
        {
          "name": "stdout",
          "output_type": "stream",
          "text": [
            "Moviepy - Done !\n",
            "Moviepy - video ready /content/gdrive/MyDrive/Major FINAL RUN/Audio_altFinal/aljzaalpym.mp4\n",
            "Processed 140 out of 744 videos. Audio removed from aljzaalpym.mp4 and saved to silent videos folder.\n",
            "Moviepy - Building video /content/gdrive/MyDrive/Major FINAL RUN/Audio_altFinal/amvvmpoytv.mp4.\n",
            "Moviepy - Writing video /content/gdrive/MyDrive/Major FINAL RUN/Audio_altFinal/amvvmpoytv.mp4\n",
            "\n"
          ]
        },
        {
          "name": "stderr",
          "output_type": "stream",
          "text": [
            "t: 100%|██████████| 301/301 [00:41<00:00,  7.67it/s, now=None]WARNING:py.warnings:/usr/local/lib/python3.10/dist-packages/moviepy/video/io/ffmpeg_reader.py:123: UserWarning: Warning: in file /content/gdrive/MyDrive/Major FINAL RUN/Final Audio Dataset/amvvmpoytv.mp4, 6220800 bytes wanted but 0 bytes read,at frame 300/301, at time 10.01/10.02 sec. Using the last valid frame instead.\n",
            "  warnings.warn(\"Warning: in file %s, \"%(self.filename)+\n",
            "\n"
          ]
        },
        {
          "name": "stdout",
          "output_type": "stream",
          "text": [
            "Moviepy - Done !\n",
            "Moviepy - video ready /content/gdrive/MyDrive/Major FINAL RUN/Audio_altFinal/amvvmpoytv.mp4\n",
            "Processed 141 out of 744 videos. Audio removed from amvvmpoytv.mp4 and saved to silent videos folder.\n",
            "Moviepy - Building video /content/gdrive/MyDrive/Major FINAL RUN/Audio_altFinal/anikhdvdzo.mp4.\n",
            "Moviepy - Writing video /content/gdrive/MyDrive/Major FINAL RUN/Audio_altFinal/anikhdvdzo.mp4\n",
            "\n"
          ]
        },
        {
          "name": "stderr",
          "output_type": "stream",
          "text": [
            "t: 100%|██████████| 301/301 [00:37<00:00,  5.26it/s, now=None]WARNING:py.warnings:/usr/local/lib/python3.10/dist-packages/moviepy/video/io/ffmpeg_reader.py:123: UserWarning: Warning: in file /content/gdrive/MyDrive/Major FINAL RUN/Final Audio Dataset/anikhdvdzo.mp4, 6220800 bytes wanted but 0 bytes read,at frame 300/301, at time 10.01/10.02 sec. Using the last valid frame instead.\n",
            "  warnings.warn(\"Warning: in file %s, \"%(self.filename)+\n",
            "\n"
          ]
        },
        {
          "name": "stdout",
          "output_type": "stream",
          "text": [
            "Moviepy - Done !\n",
            "Moviepy - video ready /content/gdrive/MyDrive/Major FINAL RUN/Audio_altFinal/anikhdvdzo.mp4\n",
            "Processed 142 out of 744 videos. Audio removed from anikhdvdzo.mp4 and saved to silent videos folder.\n",
            "Moviepy - Building video /content/gdrive/MyDrive/Major FINAL RUN/Audio_altFinal/aonaupzilc.mp4.\n",
            "Moviepy - Writing video /content/gdrive/MyDrive/Major FINAL RUN/Audio_altFinal/aonaupzilc.mp4\n",
            "\n"
          ]
        },
        {
          "name": "stderr",
          "output_type": "stream",
          "text": [
            "t: 100%|█████████▉| 300/301 [00:38<00:00,  7.86it/s, now=None]WARNING:py.warnings:/usr/local/lib/python3.10/dist-packages/moviepy/video/io/ffmpeg_reader.py:123: UserWarning: Warning: in file /content/gdrive/MyDrive/Major FINAL RUN/Final Audio Dataset/aonaupzilc.mp4, 6220800 bytes wanted but 0 bytes read,at frame 300/301, at time 10.01/10.02 sec. Using the last valid frame instead.\n",
            "  warnings.warn(\"Warning: in file %s, \"%(self.filename)+\n",
            "\n"
          ]
        },
        {
          "name": "stdout",
          "output_type": "stream",
          "text": [
            "Moviepy - Done !\n",
            "Moviepy - video ready /content/gdrive/MyDrive/Major FINAL RUN/Audio_altFinal/aonaupzilc.mp4\n",
            "Processed 143 out of 744 videos. Audio removed from aonaupzilc.mp4 and saved to silent videos folder.\n",
            "Moviepy - Building video /content/gdrive/MyDrive/Major FINAL RUN/Audio_altFinal/arvqnhhwpm.mp4.\n",
            "Moviepy - Writing video /content/gdrive/MyDrive/Major FINAL RUN/Audio_altFinal/arvqnhhwpm.mp4\n",
            "\n"
          ]
        },
        {
          "name": "stderr",
          "output_type": "stream",
          "text": [
            "t: 100%|██████████| 301/301 [00:38<00:00,  8.81it/s, now=None]WARNING:py.warnings:/usr/local/lib/python3.10/dist-packages/moviepy/video/io/ffmpeg_reader.py:123: UserWarning: Warning: in file /content/gdrive/MyDrive/Major FINAL RUN/Final Audio Dataset/arvqnhhwpm.mp4, 6220800 bytes wanted but 0 bytes read,at frame 300/301, at time 10.01/10.02 sec. Using the last valid frame instead.\n",
            "  warnings.warn(\"Warning: in file %s, \"%(self.filename)+\n",
            "\n"
          ]
        },
        {
          "name": "stdout",
          "output_type": "stream",
          "text": [
            "Moviepy - Done !\n",
            "Moviepy - video ready /content/gdrive/MyDrive/Major FINAL RUN/Audio_altFinal/arvqnhhwpm.mp4\n",
            "Processed 144 out of 744 videos. Audio removed from arvqnhhwpm.mp4 and saved to silent videos folder.\n",
            "Moviepy - Building video /content/gdrive/MyDrive/Major FINAL RUN/Audio_altFinal/arjvscherh.mp4.\n",
            "Moviepy - Writing video /content/gdrive/MyDrive/Major FINAL RUN/Audio_altFinal/arjvscherh.mp4\n",
            "\n"
          ]
        },
        {
          "name": "stderr",
          "output_type": "stream",
          "text": [
            "t: 100%|█████████▉| 300/301 [00:36<00:00,  9.58it/s, now=None]WARNING:py.warnings:/usr/local/lib/python3.10/dist-packages/moviepy/video/io/ffmpeg_reader.py:123: UserWarning: Warning: in file /content/gdrive/MyDrive/Major FINAL RUN/Final Audio Dataset/arjvscherh.mp4, 6220800 bytes wanted but 0 bytes read,at frame 300/301, at time 10.01/10.02 sec. Using the last valid frame instead.\n",
            "  warnings.warn(\"Warning: in file %s, \"%(self.filename)+\n",
            "\n"
          ]
        },
        {
          "name": "stdout",
          "output_type": "stream",
          "text": [
            "Moviepy - Done !\n",
            "Moviepy - video ready /content/gdrive/MyDrive/Major FINAL RUN/Audio_altFinal/arjvscherh.mp4\n",
            "Processed 145 out of 744 videos. Audio removed from arjvscherh.mp4 and saved to silent videos folder.\n",
            "Moviepy - Building video /content/gdrive/MyDrive/Major FINAL RUN/Audio_altFinal/arsayfybpz.mp4.\n",
            "Moviepy - Writing video /content/gdrive/MyDrive/Major FINAL RUN/Audio_altFinal/arsayfybpz.mp4\n",
            "\n"
          ]
        },
        {
          "name": "stderr",
          "output_type": "stream",
          "text": [
            "t: 100%|█████████▉| 300/301 [00:39<00:00,  7.52it/s, now=None]WARNING:py.warnings:/usr/local/lib/python3.10/dist-packages/moviepy/video/io/ffmpeg_reader.py:123: UserWarning: Warning: in file /content/gdrive/MyDrive/Major FINAL RUN/Final Audio Dataset/arsayfybpz.mp4, 6220800 bytes wanted but 0 bytes read,at frame 300/301, at time 10.01/10.02 sec. Using the last valid frame instead.\n",
            "  warnings.warn(\"Warning: in file %s, \"%(self.filename)+\n",
            "\n"
          ]
        },
        {
          "name": "stdout",
          "output_type": "stream",
          "text": [
            "Moviepy - Done !\n",
            "Moviepy - video ready /content/gdrive/MyDrive/Major FINAL RUN/Audio_altFinal/arsayfybpz.mp4\n",
            "Processed 146 out of 744 videos. Audio removed from arsayfybpz.mp4 and saved to silent videos folder.\n",
            "Moviepy - Building video /content/gdrive/MyDrive/Major FINAL RUN/Audio_altFinal/arccwzfwkm.mp4.\n",
            "Moviepy - Writing video /content/gdrive/MyDrive/Major FINAL RUN/Audio_altFinal/arccwzfwkm.mp4\n",
            "\n"
          ]
        },
        {
          "name": "stderr",
          "output_type": "stream",
          "text": [
            "t: 100%|█████████▉| 300/301 [00:37<00:00,  5.64it/s, now=None]WARNING:py.warnings:/usr/local/lib/python3.10/dist-packages/moviepy/video/io/ffmpeg_reader.py:123: UserWarning: Warning: in file /content/gdrive/MyDrive/Major FINAL RUN/Final Audio Dataset/arccwzfwkm.mp4, 6220800 bytes wanted but 0 bytes read,at frame 300/301, at time 10.01/10.02 sec. Using the last valid frame instead.\n",
            "  warnings.warn(\"Warning: in file %s, \"%(self.filename)+\n",
            "\n"
          ]
        },
        {
          "name": "stdout",
          "output_type": "stream",
          "text": [
            "Moviepy - Done !\n",
            "Moviepy - video ready /content/gdrive/MyDrive/Major FINAL RUN/Audio_altFinal/arccwzfwkm.mp4\n",
            "Processed 147 out of 744 videos. Audio removed from arccwzfwkm.mp4 and saved to silent videos folder.\n",
            "Moviepy - Building video /content/gdrive/MyDrive/Major FINAL RUN/Audio_altFinal/asvheijspx.mp4.\n",
            "Moviepy - Writing video /content/gdrive/MyDrive/Major FINAL RUN/Audio_altFinal/asvheijspx.mp4\n",
            "\n"
          ]
        },
        {
          "name": "stderr",
          "output_type": "stream",
          "text": [
            "t: 100%|██████████| 301/301 [00:36<00:00,  9.74it/s, now=None]WARNING:py.warnings:/usr/local/lib/python3.10/dist-packages/moviepy/video/io/ffmpeg_reader.py:123: UserWarning: Warning: in file /content/gdrive/MyDrive/Major FINAL RUN/Final Audio Dataset/asvheijspx.mp4, 6220800 bytes wanted but 0 bytes read,at frame 300/301, at time 10.01/10.02 sec. Using the last valid frame instead.\n",
            "  warnings.warn(\"Warning: in file %s, \"%(self.filename)+\n",
            "\n"
          ]
        },
        {
          "name": "stdout",
          "output_type": "stream",
          "text": [
            "Moviepy - Done !\n",
            "Moviepy - video ready /content/gdrive/MyDrive/Major FINAL RUN/Audio_altFinal/asvheijspx.mp4\n",
            "Processed 148 out of 744 videos. Audio removed from asvheijspx.mp4 and saved to silent videos folder.\n",
            "Moviepy - Building video /content/gdrive/MyDrive/Major FINAL RUN/Audio_altFinal/atuweqcvfa.mp4.\n",
            "Moviepy - Writing video /content/gdrive/MyDrive/Major FINAL RUN/Audio_altFinal/atuweqcvfa.mp4\n",
            "\n"
          ]
        },
        {
          "name": "stderr",
          "output_type": "stream",
          "text": [
            "t: 100%|██████████| 301/301 [00:37<00:00,  5.52it/s, now=None]WARNING:py.warnings:/usr/local/lib/python3.10/dist-packages/moviepy/video/io/ffmpeg_reader.py:123: UserWarning: Warning: in file /content/gdrive/MyDrive/Major FINAL RUN/Final Audio Dataset/atuweqcvfa.mp4, 6220800 bytes wanted but 0 bytes read,at frame 300/301, at time 10.01/10.02 sec. Using the last valid frame instead.\n",
            "  warnings.warn(\"Warning: in file %s, \"%(self.filename)+\n",
            "\n"
          ]
        },
        {
          "name": "stdout",
          "output_type": "stream",
          "text": [
            "Moviepy - Done !\n",
            "Moviepy - video ready /content/gdrive/MyDrive/Major FINAL RUN/Audio_altFinal/atuweqcvfa.mp4\n",
            "Processed 149 out of 744 videos. Audio removed from atuweqcvfa.mp4 and saved to silent videos folder.\n",
            "Moviepy - Building video /content/gdrive/MyDrive/Major FINAL RUN/Audio_altFinal/atzdjguknk.mp4.\n",
            "Moviepy - Writing video /content/gdrive/MyDrive/Major FINAL RUN/Audio_altFinal/atzdjguknk.mp4\n",
            "\n"
          ]
        },
        {
          "name": "stderr",
          "output_type": "stream",
          "text": [
            "t: 100%|██████████| 301/301 [00:37<00:00,  9.25it/s, now=None]WARNING:py.warnings:/usr/local/lib/python3.10/dist-packages/moviepy/video/io/ffmpeg_reader.py:123: UserWarning: Warning: in file /content/gdrive/MyDrive/Major FINAL RUN/Final Audio Dataset/atzdjguknk.mp4, 6220800 bytes wanted but 0 bytes read,at frame 300/301, at time 10.01/10.02 sec. Using the last valid frame instead.\n",
            "  warnings.warn(\"Warning: in file %s, \"%(self.filename)+\n",
            "\n"
          ]
        },
        {
          "name": "stdout",
          "output_type": "stream",
          "text": [
            "Moviepy - Done !\n",
            "Moviepy - video ready /content/gdrive/MyDrive/Major FINAL RUN/Audio_altFinal/atzdjguknk.mp4\n",
            "Processed 150 out of 744 videos. Audio removed from atzdjguknk.mp4 and saved to silent videos folder.\n",
            "Moviepy - Building video /content/gdrive/MyDrive/Major FINAL RUN/Audio_altFinal/aurgosqhcy.mp4.\n",
            "Moviepy - Writing video /content/gdrive/MyDrive/Major FINAL RUN/Audio_altFinal/aurgosqhcy.mp4\n",
            "\n"
          ]
        },
        {
          "name": "stderr",
          "output_type": "stream",
          "text": [
            "t: 100%|█████████▉| 298/299 [00:43<00:00,  6.81it/s, now=None]WARNING:py.warnings:/usr/local/lib/python3.10/dist-packages/moviepy/video/io/ffmpeg_reader.py:123: UserWarning: Warning: in file /content/gdrive/MyDrive/Major FINAL RUN/Final Audio Dataset/aurgosqhcy.mp4, 6220800 bytes wanted but 0 bytes read,at frame 298/299, at time 10.01/10.02 sec. Using the last valid frame instead.\n",
            "  warnings.warn(\"Warning: in file %s, \"%(self.filename)+\n",
            "\n"
          ]
        },
        {
          "name": "stdout",
          "output_type": "stream",
          "text": [
            "Moviepy - Done !\n",
            "Moviepy - video ready /content/gdrive/MyDrive/Major FINAL RUN/Audio_altFinal/aurgosqhcy.mp4\n",
            "Processed 151 out of 744 videos. Audio removed from aurgosqhcy.mp4 and saved to silent videos folder.\n",
            "Moviepy - Building video /content/gdrive/MyDrive/Major FINAL RUN/Audio_altFinal/auubycdueq.mp4.\n",
            "Moviepy - Writing video /content/gdrive/MyDrive/Major FINAL RUN/Audio_altFinal/auubycdueq.mp4\n",
            "\n"
          ]
        },
        {
          "name": "stderr",
          "output_type": "stream",
          "text": [
            "t: 100%|█████████▉| 300/301 [00:38<00:00,  4.97it/s, now=None]WARNING:py.warnings:/usr/local/lib/python3.10/dist-packages/moviepy/video/io/ffmpeg_reader.py:123: UserWarning: Warning: in file /content/gdrive/MyDrive/Major FINAL RUN/Final Audio Dataset/auubycdueq.mp4, 6220800 bytes wanted but 0 bytes read,at frame 300/301, at time 10.01/10.02 sec. Using the last valid frame instead.\n",
            "  warnings.warn(\"Warning: in file %s, \"%(self.filename)+\n",
            "\n"
          ]
        },
        {
          "name": "stdout",
          "output_type": "stream",
          "text": [
            "Moviepy - Done !\n",
            "Moviepy - video ready /content/gdrive/MyDrive/Major FINAL RUN/Audio_altFinal/auubycdueq.mp4\n",
            "Processed 152 out of 744 videos. Audio removed from auubycdueq.mp4 and saved to silent videos folder.\n",
            "Moviepy - Building video /content/gdrive/MyDrive/Major FINAL RUN/Audio_altFinal/awtomwfgsw.mp4.\n",
            "Moviepy - Writing video /content/gdrive/MyDrive/Major FINAL RUN/Audio_altFinal/awtomwfgsw.mp4\n",
            "\n"
          ]
        },
        {
          "name": "stderr",
          "output_type": "stream",
          "text": [
            "t: 100%|██████████| 301/301 [00:36<00:00,  9.49it/s, now=None]WARNING:py.warnings:/usr/local/lib/python3.10/dist-packages/moviepy/video/io/ffmpeg_reader.py:123: UserWarning: Warning: in file /content/gdrive/MyDrive/Major FINAL RUN/Final Audio Dataset/awtomwfgsw.mp4, 6220800 bytes wanted but 0 bytes read,at frame 300/301, at time 10.01/10.02 sec. Using the last valid frame instead.\n",
            "  warnings.warn(\"Warning: in file %s, \"%(self.filename)+\n",
            "\n"
          ]
        },
        {
          "name": "stdout",
          "output_type": "stream",
          "text": [
            "Moviepy - Done !\n",
            "Moviepy - video ready /content/gdrive/MyDrive/Major FINAL RUN/Audio_altFinal/awtomwfgsw.mp4\n",
            "Processed 153 out of 744 videos. Audio removed from awtomwfgsw.mp4 and saved to silent videos folder.\n",
            "Moviepy - Building video /content/gdrive/MyDrive/Major FINAL RUN/Audio_altFinal/axjxsymyhw.mp4.\n",
            "Moviepy - Writing video /content/gdrive/MyDrive/Major FINAL RUN/Audio_altFinal/axjxsymyhw.mp4\n",
            "\n"
          ]
        },
        {
          "name": "stderr",
          "output_type": "stream",
          "text": [
            "t: 100%|██████████| 301/301 [00:39<00:00,  8.50it/s, now=None]WARNING:py.warnings:/usr/local/lib/python3.10/dist-packages/moviepy/video/io/ffmpeg_reader.py:123: UserWarning: Warning: in file /content/gdrive/MyDrive/Major FINAL RUN/Final Audio Dataset/axjxsymyhw.mp4, 6220800 bytes wanted but 0 bytes read,at frame 300/301, at time 10.01/10.02 sec. Using the last valid frame instead.\n",
            "  warnings.warn(\"Warning: in file %s, \"%(self.filename)+\n",
            "\n"
          ]
        },
        {
          "name": "stdout",
          "output_type": "stream",
          "text": [
            "Moviepy - Done !\n",
            "Moviepy - video ready /content/gdrive/MyDrive/Major FINAL RUN/Audio_altFinal/axjxsymyhw.mp4\n",
            "Processed 154 out of 744 videos. Audio removed from axjxsymyhw.mp4 and saved to silent videos folder.\n",
            "Moviepy - Building video /content/gdrive/MyDrive/Major FINAL RUN/Audio_altFinal/aysxspqqdm.mp4.\n",
            "Moviepy - Writing video /content/gdrive/MyDrive/Major FINAL RUN/Audio_altFinal/aysxspqqdm.mp4\n",
            "\n"
          ]
        },
        {
          "name": "stderr",
          "output_type": "stream",
          "text": [
            "t: 100%|██████████| 301/301 [00:36<00:00, 10.32it/s, now=None]WARNING:py.warnings:/usr/local/lib/python3.10/dist-packages/moviepy/video/io/ffmpeg_reader.py:123: UserWarning: Warning: in file /content/gdrive/MyDrive/Major FINAL RUN/Final Audio Dataset/aysxspqqdm.mp4, 6220800 bytes wanted but 0 bytes read,at frame 300/301, at time 10.01/10.02 sec. Using the last valid frame instead.\n",
            "  warnings.warn(\"Warning: in file %s, \"%(self.filename)+\n",
            "\n"
          ]
        },
        {
          "name": "stdout",
          "output_type": "stream",
          "text": [
            "Moviepy - Done !\n",
            "Moviepy - video ready /content/gdrive/MyDrive/Major FINAL RUN/Audio_altFinal/aysxspqqdm.mp4\n",
            "Processed 155 out of 744 videos. Audio removed from aysxspqqdm.mp4 and saved to silent videos folder.\n",
            "Moviepy - Building video /content/gdrive/MyDrive/Major FINAL RUN/Audio_altFinal/ayfohzyelj.mp4.\n",
            "Moviepy - Writing video /content/gdrive/MyDrive/Major FINAL RUN/Audio_altFinal/ayfohzyelj.mp4\n",
            "\n"
          ]
        },
        {
          "name": "stderr",
          "output_type": "stream",
          "text": [
            "t: 100%|██████████| 299/299 [00:43<00:00,  5.33it/s, now=None]WARNING:py.warnings:/usr/local/lib/python3.10/dist-packages/moviepy/video/io/ffmpeg_reader.py:123: UserWarning: Warning: in file /content/gdrive/MyDrive/Major FINAL RUN/Final Audio Dataset/ayfohzyelj.mp4, 6220800 bytes wanted but 0 bytes read,at frame 298/299, at time 10.01/10.02 sec. Using the last valid frame instead.\n",
            "  warnings.warn(\"Warning: in file %s, \"%(self.filename)+\n",
            "\n"
          ]
        },
        {
          "name": "stdout",
          "output_type": "stream",
          "text": [
            "Moviepy - Done !\n",
            "Moviepy - video ready /content/gdrive/MyDrive/Major FINAL RUN/Audio_altFinal/ayfohzyelj.mp4\n",
            "Processed 156 out of 744 videos. Audio removed from ayfohzyelj.mp4 and saved to silent videos folder.\n",
            "Moviepy - Building video /content/gdrive/MyDrive/Major FINAL RUN/Audio_altFinal/azenhytrlc.mp4.\n",
            "Moviepy - Writing video /content/gdrive/MyDrive/Major FINAL RUN/Audio_altFinal/azenhytrlc.mp4\n",
            "\n"
          ]
        },
        {
          "name": "stderr",
          "output_type": "stream",
          "text": [
            "t: 100%|█████████▉| 300/301 [00:37<00:00, 10.41it/s, now=None]WARNING:py.warnings:/usr/local/lib/python3.10/dist-packages/moviepy/video/io/ffmpeg_reader.py:123: UserWarning: Warning: in file /content/gdrive/MyDrive/Major FINAL RUN/Final Audio Dataset/azenhytrlc.mp4, 6220800 bytes wanted but 0 bytes read,at frame 300/301, at time 10.01/10.02 sec. Using the last valid frame instead.\n",
            "  warnings.warn(\"Warning: in file %s, \"%(self.filename)+\n",
            "\n"
          ]
        },
        {
          "name": "stdout",
          "output_type": "stream",
          "text": [
            "Moviepy - Done !\n",
            "Moviepy - video ready /content/gdrive/MyDrive/Major FINAL RUN/Audio_altFinal/azenhytrlc.mp4\n",
            "Processed 157 out of 744 videos. Audio removed from azenhytrlc.mp4 and saved to silent videos folder.\n",
            "Moviepy - Building video /content/gdrive/MyDrive/Major FINAL RUN/Audio_altFinal/ayyuycuyxl.mp4.\n",
            "Moviepy - Writing video /content/gdrive/MyDrive/Major FINAL RUN/Audio_altFinal/ayyuycuyxl.mp4\n",
            "\n"
          ]
        },
        {
          "name": "stderr",
          "output_type": "stream",
          "text": [
            "t: 100%|██████████| 301/301 [00:39<00:00,  5.32it/s, now=None]WARNING:py.warnings:/usr/local/lib/python3.10/dist-packages/moviepy/video/io/ffmpeg_reader.py:123: UserWarning: Warning: in file /content/gdrive/MyDrive/Major FINAL RUN/Final Audio Dataset/ayyuycuyxl.mp4, 6220800 bytes wanted but 0 bytes read,at frame 300/301, at time 10.01/10.02 sec. Using the last valid frame instead.\n",
            "  warnings.warn(\"Warning: in file %s, \"%(self.filename)+\n",
            "\n"
          ]
        },
        {
          "name": "stdout",
          "output_type": "stream",
          "text": [
            "Moviepy - Done !\n",
            "Moviepy - video ready /content/gdrive/MyDrive/Major FINAL RUN/Audio_altFinal/ayyuycuyxl.mp4\n",
            "Processed 158 out of 744 videos. Audio removed from ayyuycuyxl.mp4 and saved to silent videos folder.\n",
            "Moviepy - Building video /content/gdrive/MyDrive/Major FINAL RUN/Audio_altFinal/azlybpzqln.mp4.\n",
            "Moviepy - Writing video /content/gdrive/MyDrive/Major FINAL RUN/Audio_altFinal/azlybpzqln.mp4\n",
            "\n"
          ]
        },
        {
          "name": "stderr",
          "output_type": "stream",
          "text": [
            "t: 100%|██████████| 301/301 [00:48<00:00,  4.73it/s, now=None]WARNING:py.warnings:/usr/local/lib/python3.10/dist-packages/moviepy/video/io/ffmpeg_reader.py:123: UserWarning: Warning: in file /content/gdrive/MyDrive/Major FINAL RUN/Final Audio Dataset/azlybpzqln.mp4, 6220800 bytes wanted but 0 bytes read,at frame 300/301, at time 10.01/10.02 sec. Using the last valid frame instead.\n",
            "  warnings.warn(\"Warning: in file %s, \"%(self.filename)+\n",
            "\n"
          ]
        },
        {
          "name": "stdout",
          "output_type": "stream",
          "text": [
            "Moviepy - Done !\n",
            "Moviepy - video ready /content/gdrive/MyDrive/Major FINAL RUN/Audio_altFinal/azlybpzqln.mp4\n",
            "Processed 159 out of 744 videos. Audio removed from azlybpzqln.mp4 and saved to silent videos folder.\n",
            "Moviepy - Building video /content/gdrive/MyDrive/Major FINAL RUN/Audio_altFinal/bbkwwrlwpb.mp4.\n",
            "Moviepy - Writing video /content/gdrive/MyDrive/Major FINAL RUN/Audio_altFinal/bbkwwrlwpb.mp4\n",
            "\n"
          ]
        },
        {
          "name": "stderr",
          "output_type": "stream",
          "text": [
            "t: 100%|██████████| 301/301 [00:37<00:00,  8.97it/s, now=None]WARNING:py.warnings:/usr/local/lib/python3.10/dist-packages/moviepy/video/io/ffmpeg_reader.py:123: UserWarning: Warning: in file /content/gdrive/MyDrive/Major FINAL RUN/Final Audio Dataset/bbkwwrlwpb.mp4, 6220800 bytes wanted but 0 bytes read,at frame 300/301, at time 10.01/10.02 sec. Using the last valid frame instead.\n",
            "  warnings.warn(\"Warning: in file %s, \"%(self.filename)+\n",
            "\n"
          ]
        },
        {
          "name": "stdout",
          "output_type": "stream",
          "text": [
            "Moviepy - Done !\n",
            "Moviepy - video ready /content/gdrive/MyDrive/Major FINAL RUN/Audio_altFinal/bbkwwrlwpb.mp4\n",
            "Processed 160 out of 744 videos. Audio removed from bbkwwrlwpb.mp4 and saved to silent videos folder.\n",
            "Moviepy - Building video /content/gdrive/MyDrive/Major FINAL RUN/Audio_altFinal/bbwrqfawrj.mp4.\n",
            "Moviepy - Writing video /content/gdrive/MyDrive/Major FINAL RUN/Audio_altFinal/bbwrqfawrj.mp4\n",
            "\n"
          ]
        },
        {
          "name": "stderr",
          "output_type": "stream",
          "text": [
            "t: 100%|█████████▉| 300/301 [00:39<00:00,  9.52it/s, now=None]WARNING:py.warnings:/usr/local/lib/python3.10/dist-packages/moviepy/video/io/ffmpeg_reader.py:123: UserWarning: Warning: in file /content/gdrive/MyDrive/Major FINAL RUN/Final Audio Dataset/bbwrqfawrj.mp4, 6220800 bytes wanted but 0 bytes read,at frame 300/301, at time 10.01/10.02 sec. Using the last valid frame instead.\n",
            "  warnings.warn(\"Warning: in file %s, \"%(self.filename)+\n",
            "\n"
          ]
        },
        {
          "name": "stdout",
          "output_type": "stream",
          "text": [
            "Moviepy - Done !\n",
            "Moviepy - video ready /content/gdrive/MyDrive/Major FINAL RUN/Audio_altFinal/bbwrqfawrj.mp4\n",
            "Processed 161 out of 744 videos. Audio removed from bbwrqfawrj.mp4 and saved to silent videos folder.\n",
            "Moviepy - Building video /content/gdrive/MyDrive/Major FINAL RUN/Audio_altFinal/bdbqrjjyak.mp4.\n",
            "Moviepy - Writing video /content/gdrive/MyDrive/Major FINAL RUN/Audio_altFinal/bdbqrjjyak.mp4\n",
            "\n"
          ]
        },
        {
          "name": "stderr",
          "output_type": "stream",
          "text": [
            "t: 100%|██████████| 301/301 [00:41<00:00,  9.69it/s, now=None]WARNING:py.warnings:/usr/local/lib/python3.10/dist-packages/moviepy/video/io/ffmpeg_reader.py:123: UserWarning: Warning: in file /content/gdrive/MyDrive/Major FINAL RUN/Final Audio Dataset/bdbqrjjyak.mp4, 6220800 bytes wanted but 0 bytes read,at frame 300/301, at time 10.01/10.02 sec. Using the last valid frame instead.\n",
            "  warnings.warn(\"Warning: in file %s, \"%(self.filename)+\n",
            "\n"
          ]
        },
        {
          "name": "stdout",
          "output_type": "stream",
          "text": [
            "Moviepy - Done !\n",
            "Moviepy - video ready /content/gdrive/MyDrive/Major FINAL RUN/Audio_altFinal/bdbqrjjyak.mp4\n",
            "Processed 162 out of 744 videos. Audio removed from bdbqrjjyak.mp4 and saved to silent videos folder.\n",
            "Moviepy - Building video /content/gdrive/MyDrive/Major FINAL RUN/Audio_altFinal/beosdmoipb.mp4.\n",
            "Moviepy - Writing video /content/gdrive/MyDrive/Major FINAL RUN/Audio_altFinal/beosdmoipb.mp4\n",
            "\n"
          ]
        },
        {
          "name": "stderr",
          "output_type": "stream",
          "text": [
            "t: 100%|█████████▉| 300/301 [00:37<00:00,  9.21it/s, now=None]WARNING:py.warnings:/usr/local/lib/python3.10/dist-packages/moviepy/video/io/ffmpeg_reader.py:123: UserWarning: Warning: in file /content/gdrive/MyDrive/Major FINAL RUN/Final Audio Dataset/beosdmoipb.mp4, 6220800 bytes wanted but 0 bytes read,at frame 300/301, at time 10.01/10.02 sec. Using the last valid frame instead.\n",
            "  warnings.warn(\"Warning: in file %s, \"%(self.filename)+\n",
            "\n"
          ]
        },
        {
          "name": "stdout",
          "output_type": "stream",
          "text": [
            "Moviepy - Done !\n",
            "Moviepy - video ready /content/gdrive/MyDrive/Major FINAL RUN/Audio_altFinal/beosdmoipb.mp4\n",
            "Processed 163 out of 744 videos. Audio removed from beosdmoipb.mp4 and saved to silent videos folder.\n",
            "Moviepy - Building video /content/gdrive/MyDrive/Major FINAL RUN/Audio_altFinal/bgnxtocxqo.mp4.\n",
            "Moviepy - Writing video /content/gdrive/MyDrive/Major FINAL RUN/Audio_altFinal/bgnxtocxqo.mp4\n",
            "\n"
          ]
        },
        {
          "name": "stderr",
          "output_type": "stream",
          "text": [
            "t: 100%|█████████▉| 300/301 [00:38<00:00,  7.65it/s, now=None]WARNING:py.warnings:/usr/local/lib/python3.10/dist-packages/moviepy/video/io/ffmpeg_reader.py:123: UserWarning: Warning: in file /content/gdrive/MyDrive/Major FINAL RUN/Final Audio Dataset/bgnxtocxqo.mp4, 6220800 bytes wanted but 0 bytes read,at frame 300/301, at time 10.01/10.02 sec. Using the last valid frame instead.\n",
            "  warnings.warn(\"Warning: in file %s, \"%(self.filename)+\n",
            "\n"
          ]
        },
        {
          "name": "stdout",
          "output_type": "stream",
          "text": [
            "Moviepy - Done !\n",
            "Moviepy - video ready /content/gdrive/MyDrive/Major FINAL RUN/Audio_altFinal/bgnxtocxqo.mp4\n",
            "Processed 164 out of 744 videos. Audio removed from bgnxtocxqo.mp4 and saved to silent videos folder.\n",
            "Moviepy - Building video /content/gdrive/MyDrive/Major FINAL RUN/Audio_altFinal/bgqnopotbe.mp4.\n",
            "Moviepy - Writing video /content/gdrive/MyDrive/Major FINAL RUN/Audio_altFinal/bgqnopotbe.mp4\n",
            "\n"
          ]
        },
        {
          "name": "stderr",
          "output_type": "stream",
          "text": [
            "t: 100%|█████████▉| 300/301 [00:50<00:00,  5.49it/s, now=None]WARNING:py.warnings:/usr/local/lib/python3.10/dist-packages/moviepy/video/io/ffmpeg_reader.py:123: UserWarning: Warning: in file /content/gdrive/MyDrive/Major FINAL RUN/Final Audio Dataset/bgqnopotbe.mp4, 6220800 bytes wanted but 0 bytes read,at frame 300/301, at time 10.01/10.02 sec. Using the last valid frame instead.\n",
            "  warnings.warn(\"Warning: in file %s, \"%(self.filename)+\n",
            "\n"
          ]
        },
        {
          "name": "stdout",
          "output_type": "stream",
          "text": [
            "Moviepy - Done !\n",
            "Moviepy - video ready /content/gdrive/MyDrive/Major FINAL RUN/Audio_altFinal/bgqnopotbe.mp4\n",
            "Processed 165 out of 744 videos. Audio removed from bgqnopotbe.mp4 and saved to silent videos folder.\n",
            "Moviepy - Building video /content/gdrive/MyDrive/Major FINAL RUN/Audio_altFinal/bgxvtdyush.mp4.\n",
            "Moviepy - Writing video /content/gdrive/MyDrive/Major FINAL RUN/Audio_altFinal/bgxvtdyush.mp4\n",
            "\n"
          ]
        },
        {
          "name": "stderr",
          "output_type": "stream",
          "text": [
            "t: 100%|██████████| 301/301 [00:38<00:00,  5.57it/s, now=None]WARNING:py.warnings:/usr/local/lib/python3.10/dist-packages/moviepy/video/io/ffmpeg_reader.py:123: UserWarning: Warning: in file /content/gdrive/MyDrive/Major FINAL RUN/Final Audio Dataset/bgxvtdyush.mp4, 6220800 bytes wanted but 0 bytes read,at frame 300/301, at time 10.01/10.02 sec. Using the last valid frame instead.\n",
            "  warnings.warn(\"Warning: in file %s, \"%(self.filename)+\n",
            "\n"
          ]
        },
        {
          "name": "stdout",
          "output_type": "stream",
          "text": [
            "Moviepy - Done !\n",
            "Moviepy - video ready /content/gdrive/MyDrive/Major FINAL RUN/Audio_altFinal/bgxvtdyush.mp4\n",
            "Processed 166 out of 744 videos. Audio removed from bgxvtdyush.mp4 and saved to silent videos folder.\n",
            "Moviepy - Building video /content/gdrive/MyDrive/Major FINAL RUN/Audio_altFinal/bgycggxsky.mp4.\n",
            "Moviepy - Writing video /content/gdrive/MyDrive/Major FINAL RUN/Audio_altFinal/bgycggxsky.mp4\n",
            "\n"
          ]
        },
        {
          "name": "stderr",
          "output_type": "stream",
          "text": [
            "t: 100%|██████████| 301/301 [00:37<00:00,  8.78it/s, now=None]WARNING:py.warnings:/usr/local/lib/python3.10/dist-packages/moviepy/video/io/ffmpeg_reader.py:123: UserWarning: Warning: in file /content/gdrive/MyDrive/Major FINAL RUN/Final Audio Dataset/bgycggxsky.mp4, 6220800 bytes wanted but 0 bytes read,at frame 300/301, at time 10.01/10.02 sec. Using the last valid frame instead.\n",
            "  warnings.warn(\"Warning: in file %s, \"%(self.filename)+\n",
            "\n"
          ]
        },
        {
          "name": "stdout",
          "output_type": "stream",
          "text": [
            "Moviepy - Done !\n",
            "Moviepy - video ready /content/gdrive/MyDrive/Major FINAL RUN/Audio_altFinal/bgycggxsky.mp4\n",
            "Processed 167 out of 744 videos. Audio removed from bgycggxsky.mp4 and saved to silent videos folder.\n",
            "Moviepy - Building video /content/gdrive/MyDrive/Major FINAL RUN/Audio_altFinal/bitlskxuct.mp4.\n",
            "Moviepy - Writing video /content/gdrive/MyDrive/Major FINAL RUN/Audio_altFinal/bitlskxuct.mp4\n",
            "\n"
          ]
        },
        {
          "name": "stderr",
          "output_type": "stream",
          "text": [
            "t: 100%|██████████| 301/301 [00:39<00:00,  5.87it/s, now=None]WARNING:py.warnings:/usr/local/lib/python3.10/dist-packages/moviepy/video/io/ffmpeg_reader.py:123: UserWarning: Warning: in file /content/gdrive/MyDrive/Major FINAL RUN/Final Audio Dataset/bitlskxuct.mp4, 6220800 bytes wanted but 0 bytes read,at frame 300/301, at time 10.01/10.02 sec. Using the last valid frame instead.\n",
            "  warnings.warn(\"Warning: in file %s, \"%(self.filename)+\n",
            "\n"
          ]
        },
        {
          "name": "stdout",
          "output_type": "stream",
          "text": [
            "Moviepy - Done !\n",
            "Moviepy - video ready /content/gdrive/MyDrive/Major FINAL RUN/Audio_altFinal/bitlskxuct.mp4\n",
            "Processed 168 out of 744 videos. Audio removed from bitlskxuct.mp4 and saved to silent videos folder.\n",
            "Moviepy - Building video /content/gdrive/MyDrive/Major FINAL RUN/Audio_altFinal/bhjbjznqko.mp4.\n",
            "Moviepy - Writing video /content/gdrive/MyDrive/Major FINAL RUN/Audio_altFinal/bhjbjznqko.mp4\n",
            "\n"
          ]
        },
        {
          "name": "stderr",
          "output_type": "stream",
          "text": [
            "t: 100%|██████████| 301/301 [00:38<00:00, 10.02it/s, now=None]WARNING:py.warnings:/usr/local/lib/python3.10/dist-packages/moviepy/video/io/ffmpeg_reader.py:123: UserWarning: Warning: in file /content/gdrive/MyDrive/Major FINAL RUN/Final Audio Dataset/bhjbjznqko.mp4, 6220800 bytes wanted but 0 bytes read,at frame 300/301, at time 10.01/10.02 sec. Using the last valid frame instead.\n",
            "  warnings.warn(\"Warning: in file %s, \"%(self.filename)+\n",
            "\n"
          ]
        },
        {
          "name": "stdout",
          "output_type": "stream",
          "text": [
            "Moviepy - Done !\n",
            "Moviepy - video ready /content/gdrive/MyDrive/Major FINAL RUN/Audio_altFinal/bhjbjznqko.mp4\n",
            "Processed 169 out of 744 videos. Audio removed from bhjbjznqko.mp4 and saved to silent videos folder.\n",
            "Moviepy - Building video /content/gdrive/MyDrive/Major FINAL RUN/Audio_altFinal/blykqbluyb.mp4.\n",
            "Moviepy - Writing video /content/gdrive/MyDrive/Major FINAL RUN/Audio_altFinal/blykqbluyb.mp4\n",
            "\n"
          ]
        },
        {
          "name": "stderr",
          "output_type": "stream",
          "text": [
            "t: 100%|██████████| 301/301 [00:47<00:00,  5.16it/s, now=None]WARNING:py.warnings:/usr/local/lib/python3.10/dist-packages/moviepy/video/io/ffmpeg_reader.py:123: UserWarning: Warning: in file /content/gdrive/MyDrive/Major FINAL RUN/Final Audio Dataset/blykqbluyb.mp4, 6220800 bytes wanted but 0 bytes read,at frame 300/301, at time 10.01/10.02 sec. Using the last valid frame instead.\n",
            "  warnings.warn(\"Warning: in file %s, \"%(self.filename)+\n",
            "\n"
          ]
        },
        {
          "name": "stdout",
          "output_type": "stream",
          "text": [
            "Moviepy - Done !\n",
            "Moviepy - video ready /content/gdrive/MyDrive/Major FINAL RUN/Audio_altFinal/blykqbluyb.mp4\n",
            "Processed 170 out of 744 videos. Audio removed from blykqbluyb.mp4 and saved to silent videos folder.\n",
            "Moviepy - Building video /content/gdrive/MyDrive/Major FINAL RUN/Audio_altFinal/bmjbamtqwn.mp4.\n",
            "Moviepy - Writing video /content/gdrive/MyDrive/Major FINAL RUN/Audio_altFinal/bmjbamtqwn.mp4\n",
            "\n"
          ]
        },
        {
          "name": "stderr",
          "output_type": "stream",
          "text": [
            "t: 100%|█████████▉| 300/301 [00:39<00:00,  7.38it/s, now=None]WARNING:py.warnings:/usr/local/lib/python3.10/dist-packages/moviepy/video/io/ffmpeg_reader.py:123: UserWarning: Warning: in file /content/gdrive/MyDrive/Major FINAL RUN/Final Audio Dataset/bmjbamtqwn.mp4, 6220800 bytes wanted but 0 bytes read,at frame 300/301, at time 10.01/10.02 sec. Using the last valid frame instead.\n",
            "  warnings.warn(\"Warning: in file %s, \"%(self.filename)+\n",
            "\n"
          ]
        },
        {
          "name": "stdout",
          "output_type": "stream",
          "text": [
            "Moviepy - Done !\n",
            "Moviepy - video ready /content/gdrive/MyDrive/Major FINAL RUN/Audio_altFinal/bmjbamtqwn.mp4\n",
            "Processed 171 out of 744 videos. Audio removed from bmjbamtqwn.mp4 and saved to silent videos folder.\n",
            "Moviepy - Building video /content/gdrive/MyDrive/Major FINAL RUN/Audio_altFinal/bmljrhlhta.mp4.\n",
            "Moviepy - Writing video /content/gdrive/MyDrive/Major FINAL RUN/Audio_altFinal/bmljrhlhta.mp4\n",
            "\n"
          ]
        },
        {
          "name": "stderr",
          "output_type": "stream",
          "text": [
            "t: 100%|██████████| 301/301 [00:40<00:00,  8.42it/s, now=None]WARNING:py.warnings:/usr/local/lib/python3.10/dist-packages/moviepy/video/io/ffmpeg_reader.py:123: UserWarning: Warning: in file /content/gdrive/MyDrive/Major FINAL RUN/Final Audio Dataset/bmljrhlhta.mp4, 6220800 bytes wanted but 0 bytes read,at frame 300/301, at time 10.01/10.02 sec. Using the last valid frame instead.\n",
            "  warnings.warn(\"Warning: in file %s, \"%(self.filename)+\n",
            "\n"
          ]
        },
        {
          "name": "stdout",
          "output_type": "stream",
          "text": [
            "Moviepy - Done !\n",
            "Moviepy - video ready /content/gdrive/MyDrive/Major FINAL RUN/Audio_altFinal/bmljrhlhta.mp4\n",
            "Processed 172 out of 744 videos. Audio removed from bmljrhlhta.mp4 and saved to silent videos folder.\n",
            "Moviepy - Building video /content/gdrive/MyDrive/Major FINAL RUN/Audio_altFinal/bnhejkbtyq.mp4.\n",
            "Moviepy - Writing video /content/gdrive/MyDrive/Major FINAL RUN/Audio_altFinal/bnhejkbtyq.mp4\n",
            "\n"
          ]
        },
        {
          "name": "stderr",
          "output_type": "stream",
          "text": [
            "t: 100%|██████████| 301/301 [00:38<00:00,  8.18it/s, now=None]WARNING:py.warnings:/usr/local/lib/python3.10/dist-packages/moviepy/video/io/ffmpeg_reader.py:123: UserWarning: Warning: in file /content/gdrive/MyDrive/Major FINAL RUN/Final Audio Dataset/bnhejkbtyq.mp4, 6220800 bytes wanted but 0 bytes read,at frame 300/301, at time 10.01/10.02 sec. Using the last valid frame instead.\n",
            "  warnings.warn(\"Warning: in file %s, \"%(self.filename)+\n",
            "\n"
          ]
        },
        {
          "name": "stdout",
          "output_type": "stream",
          "text": [
            "Moviepy - Done !\n",
            "Moviepy - video ready /content/gdrive/MyDrive/Major FINAL RUN/Audio_altFinal/bnhejkbtyq.mp4\n",
            "Processed 173 out of 744 videos. Audio removed from bnhejkbtyq.mp4 and saved to silent videos folder.\n",
            "Moviepy - Building video /content/gdrive/MyDrive/Major FINAL RUN/Audio_altFinal/bmkqvrbwal.mp4.\n",
            "Moviepy - Writing video /content/gdrive/MyDrive/Major FINAL RUN/Audio_altFinal/bmkqvrbwal.mp4\n",
            "\n"
          ]
        },
        {
          "name": "stderr",
          "output_type": "stream",
          "text": [
            "t: 100%|█████████▉| 300/301 [00:37<00:00, 11.14it/s, now=None]WARNING:py.warnings:/usr/local/lib/python3.10/dist-packages/moviepy/video/io/ffmpeg_reader.py:123: UserWarning: Warning: in file /content/gdrive/MyDrive/Major FINAL RUN/Final Audio Dataset/bmkqvrbwal.mp4, 6220800 bytes wanted but 0 bytes read,at frame 300/301, at time 10.01/10.02 sec. Using the last valid frame instead.\n",
            "  warnings.warn(\"Warning: in file %s, \"%(self.filename)+\n",
            "\n"
          ]
        },
        {
          "name": "stdout",
          "output_type": "stream",
          "text": [
            "Moviepy - Done !\n",
            "Moviepy - video ready /content/gdrive/MyDrive/Major FINAL RUN/Audio_altFinal/bmkqvrbwal.mp4\n",
            "Processed 174 out of 744 videos. Audio removed from bmkqvrbwal.mp4 and saved to silent videos folder.\n",
            "Moviepy - Building video /content/gdrive/MyDrive/Major FINAL RUN/Audio_altFinal/bnpkjsorco.mp4.\n",
            "Moviepy - Writing video /content/gdrive/MyDrive/Major FINAL RUN/Audio_altFinal/bnpkjsorco.mp4\n",
            "\n"
          ]
        },
        {
          "name": "stderr",
          "output_type": "stream",
          "text": [
            "t: 100%|██████████| 301/301 [00:42<00:00,  9.82it/s, now=None]WARNING:py.warnings:/usr/local/lib/python3.10/dist-packages/moviepy/video/io/ffmpeg_reader.py:123: UserWarning: Warning: in file /content/gdrive/MyDrive/Major FINAL RUN/Final Audio Dataset/bnpkjsorco.mp4, 6220800 bytes wanted but 0 bytes read,at frame 300/301, at time 10.01/10.02 sec. Using the last valid frame instead.\n",
            "  warnings.warn(\"Warning: in file %s, \"%(self.filename)+\n",
            "\n"
          ]
        },
        {
          "name": "stdout",
          "output_type": "stream",
          "text": [
            "Moviepy - Done !\n",
            "Moviepy - video ready /content/gdrive/MyDrive/Major FINAL RUN/Audio_altFinal/bnpkjsorco.mp4\n",
            "Processed 175 out of 744 videos. Audio removed from bnpkjsorco.mp4 and saved to silent videos folder.\n",
            "Moviepy - Building video /content/gdrive/MyDrive/Major FINAL RUN/Audio_altFinal/bnknqangbc.mp4.\n",
            "Moviepy - Writing video /content/gdrive/MyDrive/Major FINAL RUN/Audio_altFinal/bnknqangbc.mp4\n",
            "\n"
          ]
        },
        {
          "name": "stderr",
          "output_type": "stream",
          "text": [
            "t:  99%|█████████▉| 299/301 [00:48<00:00,  6.45it/s, now=None]WARNING:py.warnings:/usr/local/lib/python3.10/dist-packages/moviepy/video/io/ffmpeg_reader.py:123: UserWarning: Warning: in file /content/gdrive/MyDrive/Major FINAL RUN/Final Audio Dataset/bnknqangbc.mp4, 6220800 bytes wanted but 0 bytes read,at frame 300/301, at time 10.01/10.02 sec. Using the last valid frame instead.\n",
            "  warnings.warn(\"Warning: in file %s, \"%(self.filename)+\n",
            "\n"
          ]
        },
        {
          "name": "stdout",
          "output_type": "stream",
          "text": [
            "Moviepy - Done !\n",
            "Moviepy - video ready /content/gdrive/MyDrive/Major FINAL RUN/Audio_altFinal/bnknqangbc.mp4\n",
            "Processed 176 out of 744 videos. Audio removed from bnknqangbc.mp4 and saved to silent videos folder.\n",
            "Moviepy - Building video /content/gdrive/MyDrive/Major FINAL RUN/Audio_altFinal/bqruljgfil.mp4.\n",
            "Moviepy - Writing video /content/gdrive/MyDrive/Major FINAL RUN/Audio_altFinal/bqruljgfil.mp4\n",
            "\n"
          ]
        },
        {
          "name": "stderr",
          "output_type": "stream",
          "text": [
            "t: 100%|█████████▉| 300/301 [00:39<00:00,  7.72it/s, now=None]WARNING:py.warnings:/usr/local/lib/python3.10/dist-packages/moviepy/video/io/ffmpeg_reader.py:123: UserWarning: Warning: in file /content/gdrive/MyDrive/Major FINAL RUN/Final Audio Dataset/bqruljgfil.mp4, 6220800 bytes wanted but 0 bytes read,at frame 300/301, at time 10.01/10.02 sec. Using the last valid frame instead.\n",
            "  warnings.warn(\"Warning: in file %s, \"%(self.filename)+\n",
            "\n"
          ]
        },
        {
          "name": "stdout",
          "output_type": "stream",
          "text": [
            "Moviepy - Done !\n",
            "Moviepy - video ready /content/gdrive/MyDrive/Major FINAL RUN/Audio_altFinal/bqruljgfil.mp4\n",
            "Processed 177 out of 744 videos. Audio removed from bqruljgfil.mp4 and saved to silent videos folder.\n",
            "Moviepy - Building video /content/gdrive/MyDrive/Major FINAL RUN/Audio_altFinal/brzfxbzteo.mp4.\n",
            "Moviepy - Writing video /content/gdrive/MyDrive/Major FINAL RUN/Audio_altFinal/brzfxbzteo.mp4\n",
            "\n"
          ]
        },
        {
          "name": "stderr",
          "output_type": "stream",
          "text": [
            "t: 100%|█████████▉| 300/301 [00:38<00:00,  9.41it/s, now=None]WARNING:py.warnings:/usr/local/lib/python3.10/dist-packages/moviepy/video/io/ffmpeg_reader.py:123: UserWarning: Warning: in file /content/gdrive/MyDrive/Major FINAL RUN/Final Audio Dataset/brzfxbzteo.mp4, 6220800 bytes wanted but 0 bytes read,at frame 300/301, at time 10.01/10.02 sec. Using the last valid frame instead.\n",
            "  warnings.warn(\"Warning: in file %s, \"%(self.filename)+\n",
            "\n"
          ]
        },
        {
          "name": "stdout",
          "output_type": "stream",
          "text": [
            "Moviepy - Done !\n",
            "Moviepy - video ready /content/gdrive/MyDrive/Major FINAL RUN/Audio_altFinal/brzfxbzteo.mp4\n",
            "Processed 178 out of 744 videos. Audio removed from brzfxbzteo.mp4 and saved to silent videos folder.\n",
            "Moviepy - Building video /content/gdrive/MyDrive/Major FINAL RUN/Audio_altFinal/brlraaempq.mp4.\n",
            "Moviepy - Writing video /content/gdrive/MyDrive/Major FINAL RUN/Audio_altFinal/brlraaempq.mp4\n",
            "\n"
          ]
        },
        {
          "name": "stderr",
          "output_type": "stream",
          "text": [
            "t: 100%|█████████▉| 300/301 [00:39<00:00,  7.75it/s, now=None]WARNING:py.warnings:/usr/local/lib/python3.10/dist-packages/moviepy/video/io/ffmpeg_reader.py:123: UserWarning: Warning: in file /content/gdrive/MyDrive/Major FINAL RUN/Final Audio Dataset/brlraaempq.mp4, 6220800 bytes wanted but 0 bytes read,at frame 300/301, at time 10.01/10.02 sec. Using the last valid frame instead.\n",
            "  warnings.warn(\"Warning: in file %s, \"%(self.filename)+\n",
            "\n"
          ]
        },
        {
          "name": "stdout",
          "output_type": "stream",
          "text": [
            "Moviepy - Done !\n",
            "Moviepy - video ready /content/gdrive/MyDrive/Major FINAL RUN/Audio_altFinal/brlraaempq.mp4\n",
            "Processed 179 out of 744 videos. Audio removed from brlraaempq.mp4 and saved to silent videos folder.\n",
            "Moviepy - Building video /content/gdrive/MyDrive/Major FINAL RUN/Audio_altFinal/btsbqigrcq.mp4.\n",
            "Moviepy - Writing video /content/gdrive/MyDrive/Major FINAL RUN/Audio_altFinal/btsbqigrcq.mp4\n",
            "\n"
          ]
        },
        {
          "name": "stderr",
          "output_type": "stream",
          "text": [
            "t: 100%|██████████| 301/301 [00:40<00:00,  5.33it/s, now=None]WARNING:py.warnings:/usr/local/lib/python3.10/dist-packages/moviepy/video/io/ffmpeg_reader.py:123: UserWarning: Warning: in file /content/gdrive/MyDrive/Major FINAL RUN/Final Audio Dataset/btsbqigrcq.mp4, 6220800 bytes wanted but 0 bytes read,at frame 300/301, at time 10.01/10.02 sec. Using the last valid frame instead.\n",
            "  warnings.warn(\"Warning: in file %s, \"%(self.filename)+\n",
            "\n"
          ]
        },
        {
          "name": "stdout",
          "output_type": "stream",
          "text": [
            "Moviepy - Done !\n",
            "Moviepy - video ready /content/gdrive/MyDrive/Major FINAL RUN/Audio_altFinal/btsbqigrcq.mp4\n",
            "Processed 180 out of 744 videos. Audio removed from btsbqigrcq.mp4 and saved to silent videos folder.\n",
            "Moviepy - Building video /content/gdrive/MyDrive/Major FINAL RUN/Audio_altFinal/bvyfekcshf.mp4.\n",
            "Moviepy - Writing video /content/gdrive/MyDrive/Major FINAL RUN/Audio_altFinal/bvyfekcshf.mp4\n",
            "\n"
          ]
        },
        {
          "name": "stderr",
          "output_type": "stream",
          "text": [
            "t: 100%|█████████▉| 300/301 [00:38<00:00,  9.08it/s, now=None]WARNING:py.warnings:/usr/local/lib/python3.10/dist-packages/moviepy/video/io/ffmpeg_reader.py:123: UserWarning: Warning: in file /content/gdrive/MyDrive/Major FINAL RUN/Final Audio Dataset/bvyfekcshf.mp4, 6220800 bytes wanted but 0 bytes read,at frame 300/301, at time 10.01/10.02 sec. Using the last valid frame instead.\n",
            "  warnings.warn(\"Warning: in file %s, \"%(self.filename)+\n",
            "\n"
          ]
        },
        {
          "name": "stdout",
          "output_type": "stream",
          "text": [
            "Moviepy - Done !\n",
            "Moviepy - video ready /content/gdrive/MyDrive/Major FINAL RUN/Audio_altFinal/bvyfekcshf.mp4\n",
            "Processed 181 out of 744 videos. Audio removed from bvyfekcshf.mp4 and saved to silent videos folder.\n",
            "Moviepy - Building video /content/gdrive/MyDrive/Major FINAL RUN/Audio_altFinal/bwvxqmolob.mp4.\n",
            "Moviepy - Writing video /content/gdrive/MyDrive/Major FINAL RUN/Audio_altFinal/bwvxqmolob.mp4\n",
            "\n"
          ]
        },
        {
          "name": "stderr",
          "output_type": "stream",
          "text": [
            "t: 100%|██████████| 301/301 [00:48<00:00,  5.30it/s, now=None]WARNING:py.warnings:/usr/local/lib/python3.10/dist-packages/moviepy/video/io/ffmpeg_reader.py:123: UserWarning: Warning: in file /content/gdrive/MyDrive/Major FINAL RUN/Final Audio Dataset/bwvxqmolob.mp4, 6220800 bytes wanted but 0 bytes read,at frame 300/301, at time 10.01/10.02 sec. Using the last valid frame instead.\n",
            "  warnings.warn(\"Warning: in file %s, \"%(self.filename)+\n",
            "\n"
          ]
        },
        {
          "name": "stdout",
          "output_type": "stream",
          "text": [
            "Moviepy - Done !\n",
            "Moviepy - video ready /content/gdrive/MyDrive/Major FINAL RUN/Audio_altFinal/bwvxqmolob.mp4\n",
            "Processed 182 out of 744 videos. Audio removed from bwvxqmolob.mp4 and saved to silent videos folder.\n",
            "Moviepy - Building video /content/gdrive/MyDrive/Major FINAL RUN/Audio_altFinal/bwyxdrzifm.mp4.\n",
            "Moviepy - Writing video /content/gdrive/MyDrive/Major FINAL RUN/Audio_altFinal/bwyxdrzifm.mp4\n",
            "\n"
          ]
        },
        {
          "name": "stderr",
          "output_type": "stream",
          "text": [
            "t: 100%|██████████| 301/301 [00:37<00:00,  8.75it/s, now=None]WARNING:py.warnings:/usr/local/lib/python3.10/dist-packages/moviepy/video/io/ffmpeg_reader.py:123: UserWarning: Warning: in file /content/gdrive/MyDrive/Major FINAL RUN/Final Audio Dataset/bwyxdrzifm.mp4, 6220800 bytes wanted but 0 bytes read,at frame 300/301, at time 10.01/10.02 sec. Using the last valid frame instead.\n",
            "  warnings.warn(\"Warning: in file %s, \"%(self.filename)+\n",
            "\n"
          ]
        },
        {
          "name": "stdout",
          "output_type": "stream",
          "text": [
            "Moviepy - Done !\n",
            "Moviepy - video ready /content/gdrive/MyDrive/Major FINAL RUN/Audio_altFinal/bwyxdrzifm.mp4\n",
            "Processed 183 out of 744 videos. Audio removed from bwyxdrzifm.mp4 and saved to silent videos folder.\n",
            "Moviepy - Building video /content/gdrive/MyDrive/Major FINAL RUN/Audio_altFinal/bxqmfgdlul.mp4.\n",
            "Moviepy - Writing video /content/gdrive/MyDrive/Major FINAL RUN/Audio_altFinal/bxqmfgdlul.mp4\n",
            "\n"
          ]
        },
        {
          "name": "stderr",
          "output_type": "stream",
          "text": [
            "t: 100%|█████████▉| 300/301 [00:40<00:00,  6.37it/s, now=None]WARNING:py.warnings:/usr/local/lib/python3.10/dist-packages/moviepy/video/io/ffmpeg_reader.py:123: UserWarning: Warning: in file /content/gdrive/MyDrive/Major FINAL RUN/Final Audio Dataset/bxqmfgdlul.mp4, 6220800 bytes wanted but 0 bytes read,at frame 300/301, at time 10.01/10.02 sec. Using the last valid frame instead.\n",
            "  warnings.warn(\"Warning: in file %s, \"%(self.filename)+\n",
            "\n"
          ]
        },
        {
          "name": "stdout",
          "output_type": "stream",
          "text": [
            "Moviepy - Done !\n",
            "Moviepy - video ready /content/gdrive/MyDrive/Major FINAL RUN/Audio_altFinal/bxqmfgdlul.mp4\n",
            "Processed 184 out of 744 videos. Audio removed from bxqmfgdlul.mp4 and saved to silent videos folder.\n",
            "Moviepy - Building video /content/gdrive/MyDrive/Major FINAL RUN/Audio_altFinal/byahwgvhmf.mp4.\n",
            "Moviepy - Writing video /content/gdrive/MyDrive/Major FINAL RUN/Audio_altFinal/byahwgvhmf.mp4\n",
            "\n"
          ]
        },
        {
          "name": "stderr",
          "output_type": "stream",
          "text": [
            "t: 100%|██████████| 301/301 [00:39<00:00,  8.51it/s, now=None]WARNING:py.warnings:/usr/local/lib/python3.10/dist-packages/moviepy/video/io/ffmpeg_reader.py:123: UserWarning: Warning: in file /content/gdrive/MyDrive/Major FINAL RUN/Final Audio Dataset/byahwgvhmf.mp4, 6220800 bytes wanted but 0 bytes read,at frame 300/301, at time 10.01/10.02 sec. Using the last valid frame instead.\n",
            "  warnings.warn(\"Warning: in file %s, \"%(self.filename)+\n",
            "\n"
          ]
        },
        {
          "name": "stdout",
          "output_type": "stream",
          "text": [
            "Moviepy - Done !\n",
            "Moviepy - video ready /content/gdrive/MyDrive/Major FINAL RUN/Audio_altFinal/byahwgvhmf.mp4\n",
            "Processed 185 out of 744 videos. Audio removed from byahwgvhmf.mp4 and saved to silent videos folder.\n",
            "Moviepy - Building video /content/gdrive/MyDrive/Major FINAL RUN/Audio_altFinal/bzzcuuntfd.mp4.\n",
            "Moviepy - Writing video /content/gdrive/MyDrive/Major FINAL RUN/Audio_altFinal/bzzcuuntfd.mp4\n",
            "\n"
          ]
        },
        {
          "name": "stderr",
          "output_type": "stream",
          "text": [
            "t: 100%|██████████| 301/301 [00:41<00:00,  8.63it/s, now=None]WARNING:py.warnings:/usr/local/lib/python3.10/dist-packages/moviepy/video/io/ffmpeg_reader.py:123: UserWarning: Warning: in file /content/gdrive/MyDrive/Major FINAL RUN/Final Audio Dataset/bzzcuuntfd.mp4, 6220800 bytes wanted but 0 bytes read,at frame 300/301, at time 10.01/10.02 sec. Using the last valid frame instead.\n",
            "  warnings.warn(\"Warning: in file %s, \"%(self.filename)+\n",
            "\n"
          ]
        },
        {
          "name": "stdout",
          "output_type": "stream",
          "text": [
            "Moviepy - Done !\n",
            "Moviepy - video ready /content/gdrive/MyDrive/Major FINAL RUN/Audio_altFinal/bzzcuuntfd.mp4\n",
            "Processed 186 out of 744 videos. Audio removed from bzzcuuntfd.mp4 and saved to silent videos folder.\n",
            "Moviepy - Building video /content/gdrive/MyDrive/Major FINAL RUN/Audio_altFinal/caedadzzml.mp4.\n",
            "Moviepy - Writing video /content/gdrive/MyDrive/Major FINAL RUN/Audio_altFinal/caedadzzml.mp4\n",
            "\n"
          ]
        },
        {
          "name": "stderr",
          "output_type": "stream",
          "text": [
            "t: 100%|█████████▉| 298/299 [00:43<00:00,  7.23it/s, now=None]WARNING:py.warnings:/usr/local/lib/python3.10/dist-packages/moviepy/video/io/ffmpeg_reader.py:123: UserWarning: Warning: in file /content/gdrive/MyDrive/Major FINAL RUN/Final Audio Dataset/caedadzzml.mp4, 6220800 bytes wanted but 0 bytes read,at frame 298/299, at time 10.00/10.02 sec. Using the last valid frame instead.\n",
            "  warnings.warn(\"Warning: in file %s, \"%(self.filename)+\n",
            "\n"
          ]
        },
        {
          "name": "stdout",
          "output_type": "stream",
          "text": [
            "Moviepy - Done !\n",
            "Moviepy - video ready /content/gdrive/MyDrive/Major FINAL RUN/Audio_altFinal/caedadzzml.mp4\n",
            "Processed 187 out of 744 videos. Audio removed from caedadzzml.mp4 and saved to silent videos folder.\n",
            "Moviepy - Building video /content/gdrive/MyDrive/Major FINAL RUN/Audio_altFinal/ccnmxgjron.mp4.\n",
            "Moviepy - Writing video /content/gdrive/MyDrive/Major FINAL RUN/Audio_altFinal/ccnmxgjron.mp4\n",
            "\n"
          ]
        },
        {
          "name": "stderr",
          "output_type": "stream",
          "text": [
            "t: 100%|█████████▉| 300/301 [00:38<00:00,  8.78it/s, now=None]WARNING:py.warnings:/usr/local/lib/python3.10/dist-packages/moviepy/video/io/ffmpeg_reader.py:123: UserWarning: Warning: in file /content/gdrive/MyDrive/Major FINAL RUN/Final Audio Dataset/ccnmxgjron.mp4, 6220800 bytes wanted but 0 bytes read,at frame 300/301, at time 10.01/10.02 sec. Using the last valid frame instead.\n",
            "  warnings.warn(\"Warning: in file %s, \"%(self.filename)+\n",
            "\n"
          ]
        },
        {
          "name": "stdout",
          "output_type": "stream",
          "text": [
            "Moviepy - Done !\n",
            "Moviepy - video ready /content/gdrive/MyDrive/Major FINAL RUN/Audio_altFinal/ccnmxgjron.mp4\n",
            "Processed 188 out of 744 videos. Audio removed from ccnmxgjron.mp4 and saved to silent videos folder.\n",
            "Moviepy - Building video /content/gdrive/MyDrive/Major FINAL RUN/Audio_altFinal/cczcxkrrnj.mp4.\n",
            "Moviepy - Writing video /content/gdrive/MyDrive/Major FINAL RUN/Audio_altFinal/cczcxkrrnj.mp4\n",
            "\n"
          ]
        },
        {
          "name": "stderr",
          "output_type": "stream",
          "text": [
            "t: 100%|██████████| 301/301 [00:39<00:00,  5.08it/s, now=None]WARNING:py.warnings:/usr/local/lib/python3.10/dist-packages/moviepy/video/io/ffmpeg_reader.py:123: UserWarning: Warning: in file /content/gdrive/MyDrive/Major FINAL RUN/Final Audio Dataset/cczcxkrrnj.mp4, 6220800 bytes wanted but 0 bytes read,at frame 300/301, at time 10.01/10.02 sec. Using the last valid frame instead.\n",
            "  warnings.warn(\"Warning: in file %s, \"%(self.filename)+\n",
            "\n"
          ]
        },
        {
          "name": "stdout",
          "output_type": "stream",
          "text": [
            "Moviepy - Done !\n",
            "Moviepy - video ready /content/gdrive/MyDrive/Major FINAL RUN/Audio_altFinal/cczcxkrrnj.mp4\n",
            "Processed 189 out of 744 videos. Audio removed from cczcxkrrnj.mp4 and saved to silent videos folder.\n",
            "Moviepy - Building video /content/gdrive/MyDrive/Major FINAL RUN/Audio_altFinal/cekuytiohq.mp4.\n",
            "Moviepy - Writing video /content/gdrive/MyDrive/Major FINAL RUN/Audio_altFinal/cekuytiohq.mp4\n",
            "\n"
          ]
        },
        {
          "name": "stderr",
          "output_type": "stream",
          "text": [
            "t: 100%|█████████▉| 300/301 [00:43<00:00,  6.03it/s, now=None]WARNING:py.warnings:/usr/local/lib/python3.10/dist-packages/moviepy/video/io/ffmpeg_reader.py:123: UserWarning: Warning: in file /content/gdrive/MyDrive/Major FINAL RUN/Final Audio Dataset/cekuytiohq.mp4, 6220800 bytes wanted but 0 bytes read,at frame 300/301, at time 10.01/10.02 sec. Using the last valid frame instead.\n",
            "  warnings.warn(\"Warning: in file %s, \"%(self.filename)+\n",
            "\n"
          ]
        },
        {
          "name": "stdout",
          "output_type": "stream",
          "text": [
            "Moviepy - Done !\n",
            "Moviepy - video ready /content/gdrive/MyDrive/Major FINAL RUN/Audio_altFinal/cekuytiohq.mp4\n",
            "Processed 190 out of 744 videos. Audio removed from cekuytiohq.mp4 and saved to silent videos folder.\n",
            "Moviepy - Building video /content/gdrive/MyDrive/Major FINAL RUN/Audio_altFinal/cefzoeryat.mp4.\n",
            "Moviepy - Writing video /content/gdrive/MyDrive/Major FINAL RUN/Audio_altFinal/cefzoeryat.mp4\n",
            "\n"
          ]
        },
        {
          "name": "stderr",
          "output_type": "stream",
          "text": [
            "t: 100%|█████████▉| 300/301 [00:40<00:00,  9.36it/s, now=None]WARNING:py.warnings:/usr/local/lib/python3.10/dist-packages/moviepy/video/io/ffmpeg_reader.py:123: UserWarning: Warning: in file /content/gdrive/MyDrive/Major FINAL RUN/Final Audio Dataset/cefzoeryat.mp4, 6220800 bytes wanted but 0 bytes read,at frame 300/301, at time 10.01/10.02 sec. Using the last valid frame instead.\n",
            "  warnings.warn(\"Warning: in file %s, \"%(self.filename)+\n",
            "\n"
          ]
        },
        {
          "name": "stdout",
          "output_type": "stream",
          "text": [
            "Moviepy - Done !\n",
            "Moviepy - video ready /content/gdrive/MyDrive/Major FINAL RUN/Audio_altFinal/cefzoeryat.mp4\n",
            "Processed 191 out of 744 videos. Audio removed from cefzoeryat.mp4 and saved to silent videos folder.\n",
            "Moviepy - Building video /content/gdrive/MyDrive/Major FINAL RUN/Audio_altFinal/chqfxmkwdq.mp4.\n",
            "Moviepy - Writing video /content/gdrive/MyDrive/Major FINAL RUN/Audio_altFinal/chqfxmkwdq.mp4\n",
            "\n"
          ]
        },
        {
          "name": "stderr",
          "output_type": "stream",
          "text": [
            "t: 100%|██████████| 301/301 [00:49<00:00,  4.27it/s, now=None]WARNING:py.warnings:/usr/local/lib/python3.10/dist-packages/moviepy/video/io/ffmpeg_reader.py:123: UserWarning: Warning: in file /content/gdrive/MyDrive/Major FINAL RUN/Final Audio Dataset/chqfxmkwdq.mp4, 6220800 bytes wanted but 0 bytes read,at frame 300/301, at time 10.01/10.02 sec. Using the last valid frame instead.\n",
            "  warnings.warn(\"Warning: in file %s, \"%(self.filename)+\n",
            "\n"
          ]
        },
        {
          "name": "stdout",
          "output_type": "stream",
          "text": [
            "Moviepy - Done !\n",
            "Moviepy - video ready /content/gdrive/MyDrive/Major FINAL RUN/Audio_altFinal/chqfxmkwdq.mp4\n",
            "Processed 192 out of 744 videos. Audio removed from chqfxmkwdq.mp4 and saved to silent videos folder.\n",
            "Moviepy - Building video /content/gdrive/MyDrive/Major FINAL RUN/Audio_altFinal/chqosjqjus.mp4.\n",
            "Moviepy - Writing video /content/gdrive/MyDrive/Major FINAL RUN/Audio_altFinal/chqosjqjus.mp4\n",
            "\n"
          ]
        },
        {
          "name": "stderr",
          "output_type": "stream",
          "text": [
            "t: 100%|██████████| 301/301 [00:37<00:00, 10.08it/s, now=None]WARNING:py.warnings:/usr/local/lib/python3.10/dist-packages/moviepy/video/io/ffmpeg_reader.py:123: UserWarning: Warning: in file /content/gdrive/MyDrive/Major FINAL RUN/Final Audio Dataset/chqosjqjus.mp4, 6220800 bytes wanted but 0 bytes read,at frame 300/301, at time 10.01/10.02 sec. Using the last valid frame instead.\n",
            "  warnings.warn(\"Warning: in file %s, \"%(self.filename)+\n",
            "\n"
          ]
        },
        {
          "name": "stdout",
          "output_type": "stream",
          "text": [
            "Moviepy - Done !\n",
            "Moviepy - video ready /content/gdrive/MyDrive/Major FINAL RUN/Audio_altFinal/chqosjqjus.mp4\n",
            "Processed 193 out of 744 videos. Audio removed from chqosjqjus.mp4 and saved to silent videos folder.\n",
            "Moviepy - Building video /content/gdrive/MyDrive/Major FINAL RUN/Audio_altFinal/chkyctpgjr.mp4.\n",
            "Moviepy - Writing video /content/gdrive/MyDrive/Major FINAL RUN/Audio_altFinal/chkyctpgjr.mp4\n",
            "\n"
          ]
        },
        {
          "name": "stderr",
          "output_type": "stream",
          "text": [
            "t: 100%|██████████| 301/301 [00:53<00:00,  3.18it/s, now=None]WARNING:py.warnings:/usr/local/lib/python3.10/dist-packages/moviepy/video/io/ffmpeg_reader.py:123: UserWarning: Warning: in file /content/gdrive/MyDrive/Major FINAL RUN/Final Audio Dataset/chkyctpgjr.mp4, 6220800 bytes wanted but 0 bytes read,at frame 300/301, at time 10.01/10.02 sec. Using the last valid frame instead.\n",
            "  warnings.warn(\"Warning: in file %s, \"%(self.filename)+\n",
            "\n"
          ]
        },
        {
          "name": "stdout",
          "output_type": "stream",
          "text": [
            "Moviepy - Done !\n",
            "Moviepy - video ready /content/gdrive/MyDrive/Major FINAL RUN/Audio_altFinal/chkyctpgjr.mp4\n",
            "Processed 194 out of 744 videos. Audio removed from chkyctpgjr.mp4 and saved to silent videos folder.\n",
            "Moviepy - Building video /content/gdrive/MyDrive/Major FINAL RUN/Audio_altFinal/cjndatpdcy.mp4.\n",
            "Moviepy - Writing video /content/gdrive/MyDrive/Major FINAL RUN/Audio_altFinal/cjndatpdcy.mp4\n",
            "\n"
          ]
        },
        {
          "name": "stderr",
          "output_type": "stream",
          "text": [
            "t: 100%|█████████▉| 300/301 [00:37<00:00, 10.03it/s, now=None]WARNING:py.warnings:/usr/local/lib/python3.10/dist-packages/moviepy/video/io/ffmpeg_reader.py:123: UserWarning: Warning: in file /content/gdrive/MyDrive/Major FINAL RUN/Final Audio Dataset/cjndatpdcy.mp4, 6220800 bytes wanted but 0 bytes read,at frame 300/301, at time 10.01/10.02 sec. Using the last valid frame instead.\n",
            "  warnings.warn(\"Warning: in file %s, \"%(self.filename)+\n",
            "\n"
          ]
        },
        {
          "name": "stdout",
          "output_type": "stream",
          "text": [
            "Moviepy - Done !\n",
            "Moviepy - video ready /content/gdrive/MyDrive/Major FINAL RUN/Audio_altFinal/cjndatpdcy.mp4\n",
            "Processed 195 out of 744 videos. Audio removed from cjndatpdcy.mp4 and saved to silent videos folder.\n",
            "Moviepy - Building video /content/gdrive/MyDrive/Major FINAL RUN/Audio_altFinal/ciyqhbpbry.mp4.\n",
            "Moviepy - Writing video /content/gdrive/MyDrive/Major FINAL RUN/Audio_altFinal/ciyqhbpbry.mp4\n",
            "\n"
          ]
        },
        {
          "name": "stderr",
          "output_type": "stream",
          "text": [
            "t: 100%|██████████| 301/301 [00:36<00:00,  7.29it/s, now=None]WARNING:py.warnings:/usr/local/lib/python3.10/dist-packages/moviepy/video/io/ffmpeg_reader.py:123: UserWarning: Warning: in file /content/gdrive/MyDrive/Major FINAL RUN/Final Audio Dataset/ciyqhbpbry.mp4, 6220800 bytes wanted but 0 bytes read,at frame 300/301, at time 10.01/10.02 sec. Using the last valid frame instead.\n",
            "  warnings.warn(\"Warning: in file %s, \"%(self.filename)+\n",
            "\n"
          ]
        },
        {
          "name": "stdout",
          "output_type": "stream",
          "text": [
            "Moviepy - Done !\n",
            "Moviepy - video ready /content/gdrive/MyDrive/Major FINAL RUN/Audio_altFinal/ciyqhbpbry.mp4\n",
            "Processed 196 out of 744 videos. Audio removed from ciyqhbpbry.mp4 and saved to silent videos folder.\n",
            "Moviepy - Building video /content/gdrive/MyDrive/Major FINAL RUN/Audio_altFinal/cisrxltwyh.mp4.\n",
            "Moviepy - Writing video /content/gdrive/MyDrive/Major FINAL RUN/Audio_altFinal/cisrxltwyh.mp4\n",
            "\n"
          ]
        },
        {
          "name": "stderr",
          "output_type": "stream",
          "text": [
            "t: 100%|██████████| 301/301 [00:48<00:00,  7.71it/s, now=None]WARNING:py.warnings:/usr/local/lib/python3.10/dist-packages/moviepy/video/io/ffmpeg_reader.py:123: UserWarning: Warning: in file /content/gdrive/MyDrive/Major FINAL RUN/Final Audio Dataset/cisrxltwyh.mp4, 6220800 bytes wanted but 0 bytes read,at frame 300/301, at time 10.01/10.02 sec. Using the last valid frame instead.\n",
            "  warnings.warn(\"Warning: in file %s, \"%(self.filename)+\n",
            "\n"
          ]
        },
        {
          "name": "stdout",
          "output_type": "stream",
          "text": [
            "Moviepy - Done !\n",
            "Moviepy - video ready /content/gdrive/MyDrive/Major FINAL RUN/Audio_altFinal/cisrxltwyh.mp4\n",
            "Processed 197 out of 744 videos. Audio removed from cisrxltwyh.mp4 and saved to silent videos folder.\n",
            "Moviepy - Building video /content/gdrive/MyDrive/Major FINAL RUN/Audio_altFinal/cjgmkgfhnr.mp4.\n",
            "Moviepy - Writing video /content/gdrive/MyDrive/Major FINAL RUN/Audio_altFinal/cjgmkgfhnr.mp4\n",
            "\n"
          ]
        },
        {
          "name": "stderr",
          "output_type": "stream",
          "text": [
            "t: 100%|██████████| 301/301 [00:47<00:00,  8.00it/s, now=None]WARNING:py.warnings:/usr/local/lib/python3.10/dist-packages/moviepy/video/io/ffmpeg_reader.py:123: UserWarning: Warning: in file /content/gdrive/MyDrive/Major FINAL RUN/Final Audio Dataset/cjgmkgfhnr.mp4, 6220800 bytes wanted but 0 bytes read,at frame 300/301, at time 10.01/10.02 sec. Using the last valid frame instead.\n",
            "  warnings.warn(\"Warning: in file %s, \"%(self.filename)+\n",
            "\n"
          ]
        },
        {
          "name": "stdout",
          "output_type": "stream",
          "text": [
            "Moviepy - Done !\n",
            "Moviepy - video ready /content/gdrive/MyDrive/Major FINAL RUN/Audio_altFinal/cjgmkgfhnr.mp4\n",
            "Processed 198 out of 744 videos. Audio removed from cjgmkgfhnr.mp4 and saved to silent videos folder.\n",
            "Moviepy - Building video /content/gdrive/MyDrive/Major FINAL RUN/Audio_altFinal/clbyiyqits.mp4.\n",
            "Moviepy - Writing video /content/gdrive/MyDrive/Major FINAL RUN/Audio_altFinal/clbyiyqits.mp4\n",
            "\n"
          ]
        },
        {
          "name": "stderr",
          "output_type": "stream",
          "text": [
            "t: 100%|██████████| 301/301 [00:39<00:00, 10.29it/s, now=None]WARNING:py.warnings:/usr/local/lib/python3.10/dist-packages/moviepy/video/io/ffmpeg_reader.py:123: UserWarning: Warning: in file /content/gdrive/MyDrive/Major FINAL RUN/Final Audio Dataset/clbyiyqits.mp4, 6220800 bytes wanted but 0 bytes read,at frame 300/301, at time 10.01/10.02 sec. Using the last valid frame instead.\n",
            "  warnings.warn(\"Warning: in file %s, \"%(self.filename)+\n",
            "\n"
          ]
        },
        {
          "name": "stdout",
          "output_type": "stream",
          "text": [
            "Moviepy - Done !\n",
            "Moviepy - video ready /content/gdrive/MyDrive/Major FINAL RUN/Audio_altFinal/clbyiyqits.mp4\n",
            "Processed 199 out of 744 videos. Audio removed from clbyiyqits.mp4 and saved to silent videos folder.\n",
            "Moviepy - Building video /content/gdrive/MyDrive/Major FINAL RUN/Audio_altFinal/cmbvmibdcr.mp4.\n",
            "Moviepy - Writing video /content/gdrive/MyDrive/Major FINAL RUN/Audio_altFinal/cmbvmibdcr.mp4\n",
            "\n"
          ]
        },
        {
          "name": "stderr",
          "output_type": "stream",
          "text": [
            "t: 100%|██████████| 301/301 [00:37<00:00,  9.03it/s, now=None]WARNING:py.warnings:/usr/local/lib/python3.10/dist-packages/moviepy/video/io/ffmpeg_reader.py:123: UserWarning: Warning: in file /content/gdrive/MyDrive/Major FINAL RUN/Final Audio Dataset/cmbvmibdcr.mp4, 6220800 bytes wanted but 0 bytes read,at frame 300/301, at time 10.01/10.02 sec. Using the last valid frame instead.\n",
            "  warnings.warn(\"Warning: in file %s, \"%(self.filename)+\n",
            "\n"
          ]
        },
        {
          "name": "stdout",
          "output_type": "stream",
          "text": [
            "Moviepy - Done !\n",
            "Moviepy - video ready /content/gdrive/MyDrive/Major FINAL RUN/Audio_altFinal/cmbvmibdcr.mp4\n",
            "Processed 200 out of 744 videos. Audio removed from cmbvmibdcr.mp4 and saved to silent videos folder.\n",
            "Moviepy - Building video /content/gdrive/MyDrive/Major FINAL RUN/Audio_altFinal/cpxedkyytp.mp4.\n",
            "Moviepy - Writing video /content/gdrive/MyDrive/Major FINAL RUN/Audio_altFinal/cpxedkyytp.mp4\n",
            "\n"
          ]
        },
        {
          "name": "stderr",
          "output_type": "stream",
          "text": [
            "t: 100%|██████████| 301/301 [00:38<00:00,  9.15it/s, now=None]WARNING:py.warnings:/usr/local/lib/python3.10/dist-packages/moviepy/video/io/ffmpeg_reader.py:123: UserWarning: Warning: in file /content/gdrive/MyDrive/Major FINAL RUN/Final Audio Dataset/cpxedkyytp.mp4, 6220800 bytes wanted but 0 bytes read,at frame 300/301, at time 10.01/10.02 sec. Using the last valid frame instead.\n",
            "  warnings.warn(\"Warning: in file %s, \"%(self.filename)+\n",
            "\n"
          ]
        },
        {
          "name": "stdout",
          "output_type": "stream",
          "text": [
            "Moviepy - Done !\n",
            "Moviepy - video ready /content/gdrive/MyDrive/Major FINAL RUN/Audio_altFinal/cpxedkyytp.mp4\n",
            "Processed 201 out of 744 videos. Audio removed from cpxedkyytp.mp4 and saved to silent videos folder.\n",
            "Moviepy - Building video /content/gdrive/MyDrive/Major FINAL RUN/Audio_altFinal/csfwgdpzym.mp4.\n",
            "Moviepy - Writing video /content/gdrive/MyDrive/Major FINAL RUN/Audio_altFinal/csfwgdpzym.mp4\n",
            "\n"
          ]
        },
        {
          "name": "stderr",
          "output_type": "stream",
          "text": [
            "t: 100%|█████████▉| 300/301 [00:40<00:00,  4.88it/s, now=None]WARNING:py.warnings:/usr/local/lib/python3.10/dist-packages/moviepy/video/io/ffmpeg_reader.py:123: UserWarning: Warning: in file /content/gdrive/MyDrive/Major FINAL RUN/Final Audio Dataset/csfwgdpzym.mp4, 6220800 bytes wanted but 0 bytes read,at frame 300/301, at time 10.01/10.02 sec. Using the last valid frame instead.\n",
            "  warnings.warn(\"Warning: in file %s, \"%(self.filename)+\n",
            "\n"
          ]
        },
        {
          "name": "stdout",
          "output_type": "stream",
          "text": [
            "Moviepy - Done !\n",
            "Moviepy - video ready /content/gdrive/MyDrive/Major FINAL RUN/Audio_altFinal/csfwgdpzym.mp4\n",
            "Processed 202 out of 744 videos. Audio removed from csfwgdpzym.mp4 and saved to silent videos folder.\n",
            "Moviepy - Building video /content/gdrive/MyDrive/Major FINAL RUN/Audio_altFinal/csomiogcwu.mp4.\n",
            "Moviepy - Writing video /content/gdrive/MyDrive/Major FINAL RUN/Audio_altFinal/csomiogcwu.mp4\n",
            "\n"
          ]
        },
        {
          "name": "stderr",
          "output_type": "stream",
          "text": [
            "t: 100%|██████████| 301/301 [00:38<00:00,  9.20it/s, now=None]WARNING:py.warnings:/usr/local/lib/python3.10/dist-packages/moviepy/video/io/ffmpeg_reader.py:123: UserWarning: Warning: in file /content/gdrive/MyDrive/Major FINAL RUN/Final Audio Dataset/csomiogcwu.mp4, 6220800 bytes wanted but 0 bytes read,at frame 300/301, at time 10.01/10.02 sec. Using the last valid frame instead.\n",
            "  warnings.warn(\"Warning: in file %s, \"%(self.filename)+\n",
            "\n"
          ]
        },
        {
          "name": "stdout",
          "output_type": "stream",
          "text": [
            "Moviepy - Done !\n",
            "Moviepy - video ready /content/gdrive/MyDrive/Major FINAL RUN/Audio_altFinal/csomiogcwu.mp4\n",
            "Processed 203 out of 744 videos. Audio removed from csomiogcwu.mp4 and saved to silent videos folder.\n",
            "Moviepy - Building video /content/gdrive/MyDrive/Major FINAL RUN/Audio_altFinal/csvfaepgno.mp4.\n",
            "Moviepy - Writing video /content/gdrive/MyDrive/Major FINAL RUN/Audio_altFinal/csvfaepgno.mp4\n",
            "\n"
          ]
        },
        {
          "name": "stderr",
          "output_type": "stream",
          "text": [
            "t: 100%|██████████| 299/299 [00:44<00:00,  7.27it/s, now=None]WARNING:py.warnings:/usr/local/lib/python3.10/dist-packages/moviepy/video/io/ffmpeg_reader.py:123: UserWarning: Warning: in file /content/gdrive/MyDrive/Major FINAL RUN/Final Audio Dataset/csvfaepgno.mp4, 6220800 bytes wanted but 0 bytes read,at frame 298/299, at time 10.00/10.02 sec. Using the last valid frame instead.\n",
            "  warnings.warn(\"Warning: in file %s, \"%(self.filename)+\n",
            "\n"
          ]
        },
        {
          "name": "stdout",
          "output_type": "stream",
          "text": [
            "Moviepy - Done !\n",
            "Moviepy - video ready /content/gdrive/MyDrive/Major FINAL RUN/Audio_altFinal/csvfaepgno.mp4\n",
            "Processed 204 out of 744 videos. Audio removed from csvfaepgno.mp4 and saved to silent videos folder.\n",
            "Moviepy - Building video /content/gdrive/MyDrive/Major FINAL RUN/Audio_altFinal/cvovxjmzsl.mp4.\n",
            "Moviepy - Writing video /content/gdrive/MyDrive/Major FINAL RUN/Audio_altFinal/cvovxjmzsl.mp4\n",
            "\n"
          ]
        },
        {
          "name": "stderr",
          "output_type": "stream",
          "text": [
            "t: 100%|██████████| 301/301 [00:38<00:00,  9.09it/s, now=None]WARNING:py.warnings:/usr/local/lib/python3.10/dist-packages/moviepy/video/io/ffmpeg_reader.py:123: UserWarning: Warning: in file /content/gdrive/MyDrive/Major FINAL RUN/Final Audio Dataset/cvovxjmzsl.mp4, 6220800 bytes wanted but 0 bytes read,at frame 300/301, at time 10.01/10.02 sec. Using the last valid frame instead.\n",
            "  warnings.warn(\"Warning: in file %s, \"%(self.filename)+\n",
            "\n"
          ]
        },
        {
          "name": "stdout",
          "output_type": "stream",
          "text": [
            "Moviepy - Done !\n",
            "Moviepy - video ready /content/gdrive/MyDrive/Major FINAL RUN/Audio_altFinal/cvovxjmzsl.mp4\n",
            "Processed 205 out of 744 videos. Audio removed from cvovxjmzsl.mp4 and saved to silent videos folder.\n",
            "Moviepy - Building video /content/gdrive/MyDrive/Major FINAL RUN/Audio_altFinal/cvznehgagq.mp4.\n",
            "Moviepy - Writing video /content/gdrive/MyDrive/Major FINAL RUN/Audio_altFinal/cvznehgagq.mp4\n",
            "\n"
          ]
        },
        {
          "name": "stderr",
          "output_type": "stream",
          "text": [
            "t: 100%|██████████| 301/301 [00:39<00:00,  5.07it/s, now=None]WARNING:py.warnings:/usr/local/lib/python3.10/dist-packages/moviepy/video/io/ffmpeg_reader.py:123: UserWarning: Warning: in file /content/gdrive/MyDrive/Major FINAL RUN/Final Audio Dataset/cvznehgagq.mp4, 6220800 bytes wanted but 0 bytes read,at frame 300/301, at time 10.01/10.02 sec. Using the last valid frame instead.\n",
            "  warnings.warn(\"Warning: in file %s, \"%(self.filename)+\n",
            "\n"
          ]
        },
        {
          "name": "stdout",
          "output_type": "stream",
          "text": [
            "Moviepy - Done !\n",
            "Moviepy - video ready /content/gdrive/MyDrive/Major FINAL RUN/Audio_altFinal/cvznehgagq.mp4\n",
            "Processed 206 out of 744 videos. Audio removed from cvznehgagq.mp4 and saved to silent videos folder.\n",
            "Moviepy - Building video /content/gdrive/MyDrive/Major FINAL RUN/Audio_altFinal/cujuflgqqa.mp4.\n",
            "Moviepy - Writing video /content/gdrive/MyDrive/Major FINAL RUN/Audio_altFinal/cujuflgqqa.mp4\n",
            "\n"
          ]
        },
        {
          "name": "stderr",
          "output_type": "stream",
          "text": [
            "t: 100%|█████████▉| 300/301 [00:39<00:00,  8.78it/s, now=None]WARNING:py.warnings:/usr/local/lib/python3.10/dist-packages/moviepy/video/io/ffmpeg_reader.py:123: UserWarning: Warning: in file /content/gdrive/MyDrive/Major FINAL RUN/Final Audio Dataset/cujuflgqqa.mp4, 6220800 bytes wanted but 0 bytes read,at frame 300/301, at time 10.01/10.02 sec. Using the last valid frame instead.\n",
            "  warnings.warn(\"Warning: in file %s, \"%(self.filename)+\n",
            "\n"
          ]
        },
        {
          "name": "stdout",
          "output_type": "stream",
          "text": [
            "Moviepy - Done !\n",
            "Moviepy - video ready /content/gdrive/MyDrive/Major FINAL RUN/Audio_altFinal/cujuflgqqa.mp4\n",
            "Processed 207 out of 744 videos. Audio removed from cujuflgqqa.mp4 and saved to silent videos folder.\n",
            "Moviepy - Building video /content/gdrive/MyDrive/Major FINAL RUN/Audio_altFinal/cwhvshlzzh.mp4.\n",
            "Moviepy - Writing video /content/gdrive/MyDrive/Major FINAL RUN/Audio_altFinal/cwhvshlzzh.mp4\n",
            "\n"
          ]
        },
        {
          "name": "stderr",
          "output_type": "stream",
          "text": [
            "t: 100%|█████████▉| 300/301 [00:48<00:00,  8.86it/s, now=None]WARNING:py.warnings:/usr/local/lib/python3.10/dist-packages/moviepy/video/io/ffmpeg_reader.py:123: UserWarning: Warning: in file /content/gdrive/MyDrive/Major FINAL RUN/Final Audio Dataset/cwhvshlzzh.mp4, 6220800 bytes wanted but 0 bytes read,at frame 300/301, at time 10.01/10.02 sec. Using the last valid frame instead.\n",
            "  warnings.warn(\"Warning: in file %s, \"%(self.filename)+\n",
            "\n"
          ]
        },
        {
          "name": "stdout",
          "output_type": "stream",
          "text": [
            "Moviepy - Done !\n",
            "Moviepy - video ready /content/gdrive/MyDrive/Major FINAL RUN/Audio_altFinal/cwhvshlzzh.mp4\n",
            "Processed 208 out of 744 videos. Audio removed from cwhvshlzzh.mp4 and saved to silent videos folder.\n",
            "Moviepy - Building video /content/gdrive/MyDrive/Major FINAL RUN/Audio_altFinal/cxobtfqqqo - Copy.mp4.\n",
            "Moviepy - Writing video /content/gdrive/MyDrive/Major FINAL RUN/Audio_altFinal/cxobtfqqqo - Copy.mp4\n",
            "\n"
          ]
        },
        {
          "name": "stderr",
          "output_type": "stream",
          "text": [
            "t: 100%|█████████▉| 298/299 [00:44<00:00,  7.63it/s, now=None]WARNING:py.warnings:/usr/local/lib/python3.10/dist-packages/moviepy/video/io/ffmpeg_reader.py:123: UserWarning: Warning: in file /content/gdrive/MyDrive/Major FINAL RUN/Final Audio Dataset/cxobtfqqqo - Copy.mp4, 6220800 bytes wanted but 0 bytes read,at frame 298/299, at time 10.00/10.02 sec. Using the last valid frame instead.\n",
            "  warnings.warn(\"Warning: in file %s, \"%(self.filename)+\n",
            "\n"
          ]
        },
        {
          "name": "stdout",
          "output_type": "stream",
          "text": [
            "Moviepy - Done !\n",
            "Moviepy - video ready /content/gdrive/MyDrive/Major FINAL RUN/Audio_altFinal/cxobtfqqqo - Copy.mp4\n",
            "Processed 209 out of 744 videos. Audio removed from cxobtfqqqo - Copy.mp4 and saved to silent videos folder.\n",
            "Moviepy - Building video /content/gdrive/MyDrive/Major FINAL RUN/Audio_altFinal/cxobtfqqqo.mp4.\n",
            "Moviepy - Writing video /content/gdrive/MyDrive/Major FINAL RUN/Audio_altFinal/cxobtfqqqo.mp4\n",
            "\n"
          ]
        },
        {
          "name": "stderr",
          "output_type": "stream",
          "text": [
            "t: 100%|█████████▉| 298/299 [00:43<00:00,  6.59it/s, now=None]WARNING:py.warnings:/usr/local/lib/python3.10/dist-packages/moviepy/video/io/ffmpeg_reader.py:123: UserWarning: Warning: in file /content/gdrive/MyDrive/Major FINAL RUN/Final Audio Dataset/cxobtfqqqo.mp4, 6220800 bytes wanted but 0 bytes read,at frame 298/299, at time 10.00/10.02 sec. Using the last valid frame instead.\n",
            "  warnings.warn(\"Warning: in file %s, \"%(self.filename)+\n",
            "\n"
          ]
        },
        {
          "name": "stdout",
          "output_type": "stream",
          "text": [
            "Moviepy - Done !\n",
            "Moviepy - video ready /content/gdrive/MyDrive/Major FINAL RUN/Audio_altFinal/cxobtfqqqo.mp4\n",
            "Processed 210 out of 744 videos. Audio removed from cxobtfqqqo.mp4 and saved to silent videos folder.\n",
            "Moviepy - Building video /content/gdrive/MyDrive/Major FINAL RUN/Audio_altFinal/czgnyrrkuq.mp4.\n",
            "Moviepy - Writing video /content/gdrive/MyDrive/Major FINAL RUN/Audio_altFinal/czgnyrrkuq.mp4\n",
            "\n"
          ]
        },
        {
          "name": "stderr",
          "output_type": "stream",
          "text": [
            "t: 100%|█████████▉| 300/301 [00:40<00:00,  7.96it/s, now=None]WARNING:py.warnings:/usr/local/lib/python3.10/dist-packages/moviepy/video/io/ffmpeg_reader.py:123: UserWarning: Warning: in file /content/gdrive/MyDrive/Major FINAL RUN/Final Audio Dataset/czgnyrrkuq.mp4, 6220800 bytes wanted but 0 bytes read,at frame 300/301, at time 10.01/10.02 sec. Using the last valid frame instead.\n",
            "  warnings.warn(\"Warning: in file %s, \"%(self.filename)+\n",
            "\n"
          ]
        },
        {
          "name": "stdout",
          "output_type": "stream",
          "text": [
            "Moviepy - Done !\n",
            "Moviepy - video ready /content/gdrive/MyDrive/Major FINAL RUN/Audio_altFinal/czgnyrrkuq.mp4\n",
            "Processed 211 out of 744 videos. Audio removed from czgnyrrkuq.mp4 and saved to silent videos folder.\n",
            "Moviepy - Building video /content/gdrive/MyDrive/Major FINAL RUN/Audio_altFinal/dasefuclrs.mp4.\n",
            "Moviepy - Writing video /content/gdrive/MyDrive/Major FINAL RUN/Audio_altFinal/dasefuclrs.mp4\n",
            "\n"
          ]
        },
        {
          "name": "stderr",
          "output_type": "stream",
          "text": [
            "t: 100%|██████████| 301/301 [00:45<00:00,  4.43it/s, now=None]WARNING:py.warnings:/usr/local/lib/python3.10/dist-packages/moviepy/video/io/ffmpeg_reader.py:123: UserWarning: Warning: in file /content/gdrive/MyDrive/Major FINAL RUN/Final Audio Dataset/dasefuclrs.mp4, 6220800 bytes wanted but 0 bytes read,at frame 300/301, at time 10.01/10.02 sec. Using the last valid frame instead.\n",
            "  warnings.warn(\"Warning: in file %s, \"%(self.filename)+\n",
            "\n"
          ]
        },
        {
          "name": "stdout",
          "output_type": "stream",
          "text": [
            "Moviepy - Done !\n",
            "Moviepy - video ready /content/gdrive/MyDrive/Major FINAL RUN/Audio_altFinal/dasefuclrs.mp4\n",
            "Processed 212 out of 744 videos. Audio removed from dasefuclrs.mp4 and saved to silent videos folder.\n",
            "Moviepy - Building video /content/gdrive/MyDrive/Major FINAL RUN/Audio_altFinal/czzfgvkhah.mp4.\n",
            "Moviepy - Writing video /content/gdrive/MyDrive/Major FINAL RUN/Audio_altFinal/czzfgvkhah.mp4\n",
            "\n"
          ]
        },
        {
          "name": "stderr",
          "output_type": "stream",
          "text": [
            "t: 100%|██████████| 301/301 [00:41<00:00,  7.25it/s, now=None]WARNING:py.warnings:/usr/local/lib/python3.10/dist-packages/moviepy/video/io/ffmpeg_reader.py:123: UserWarning: Warning: in file /content/gdrive/MyDrive/Major FINAL RUN/Final Audio Dataset/czzfgvkhah.mp4, 6220800 bytes wanted but 0 bytes read,at frame 300/301, at time 10.01/10.02 sec. Using the last valid frame instead.\n",
            "  warnings.warn(\"Warning: in file %s, \"%(self.filename)+\n",
            "\n"
          ]
        },
        {
          "name": "stdout",
          "output_type": "stream",
          "text": [
            "Moviepy - Done !\n",
            "Moviepy - video ready /content/gdrive/MyDrive/Major FINAL RUN/Audio_altFinal/czzfgvkhah.mp4\n",
            "Processed 213 out of 744 videos. Audio removed from czzfgvkhah.mp4 and saved to silent videos folder.\n",
            "Moviepy - Building video /content/gdrive/MyDrive/Major FINAL RUN/Audio_altFinal/dasleascbq.mp4.\n",
            "Moviepy - Writing video /content/gdrive/MyDrive/Major FINAL RUN/Audio_altFinal/dasleascbq.mp4\n",
            "\n"
          ]
        },
        {
          "name": "stderr",
          "output_type": "stream",
          "text": [
            "t: 100%|█████████▉| 300/301 [00:35<00:00,  9.74it/s, now=None]WARNING:py.warnings:/usr/local/lib/python3.10/dist-packages/moviepy/video/io/ffmpeg_reader.py:123: UserWarning: Warning: in file /content/gdrive/MyDrive/Major FINAL RUN/Final Audio Dataset/dasleascbq.mp4, 6220800 bytes wanted but 0 bytes read,at frame 300/301, at time 10.01/10.02 sec. Using the last valid frame instead.\n",
            "  warnings.warn(\"Warning: in file %s, \"%(self.filename)+\n",
            "\n"
          ]
        },
        {
          "name": "stdout",
          "output_type": "stream",
          "text": [
            "Moviepy - Done !\n",
            "Moviepy - video ready /content/gdrive/MyDrive/Major FINAL RUN/Audio_altFinal/dasleascbq.mp4\n",
            "Processed 214 out of 744 videos. Audio removed from dasleascbq.mp4 and saved to silent videos folder.\n",
            "Moviepy - Building video /content/gdrive/MyDrive/Major FINAL RUN/Audio_altFinal/ddrcabjbza.mp4.\n",
            "Moviepy - Writing video /content/gdrive/MyDrive/Major FINAL RUN/Audio_altFinal/ddrcabjbza.mp4\n",
            "\n"
          ]
        },
        {
          "name": "stderr",
          "output_type": "stream",
          "text": [
            "t: 100%|██████████| 301/301 [00:39<00:00,  5.30it/s, now=None]WARNING:py.warnings:/usr/local/lib/python3.10/dist-packages/moviepy/video/io/ffmpeg_reader.py:123: UserWarning: Warning: in file /content/gdrive/MyDrive/Major FINAL RUN/Final Audio Dataset/ddrcabjbza.mp4, 6220800 bytes wanted but 0 bytes read,at frame 300/301, at time 10.01/10.02 sec. Using the last valid frame instead.\n",
            "  warnings.warn(\"Warning: in file %s, \"%(self.filename)+\n",
            "\n"
          ]
        },
        {
          "name": "stdout",
          "output_type": "stream",
          "text": [
            "Moviepy - Done !\n",
            "Moviepy - video ready /content/gdrive/MyDrive/Major FINAL RUN/Audio_altFinal/ddrcabjbza.mp4\n",
            "Processed 215 out of 744 videos. Audio removed from ddrcabjbza.mp4 and saved to silent videos folder.\n",
            "Moviepy - Building video /content/gdrive/MyDrive/Major FINAL RUN/Audio_altFinal/deuqmhwoco.mp4.\n",
            "Moviepy - Writing video /content/gdrive/MyDrive/Major FINAL RUN/Audio_altFinal/deuqmhwoco.mp4\n",
            "\n"
          ]
        },
        {
          "name": "stderr",
          "output_type": "stream",
          "text": [
            "t: 100%|██████████| 301/301 [00:47<00:00,  6.40it/s, now=None]WARNING:py.warnings:/usr/local/lib/python3.10/dist-packages/moviepy/video/io/ffmpeg_reader.py:123: UserWarning: Warning: in file /content/gdrive/MyDrive/Major FINAL RUN/Final Audio Dataset/deuqmhwoco.mp4, 6220800 bytes wanted but 0 bytes read,at frame 300/301, at time 10.01/10.02 sec. Using the last valid frame instead.\n",
            "  warnings.warn(\"Warning: in file %s, \"%(self.filename)+\n",
            "\n"
          ]
        },
        {
          "name": "stdout",
          "output_type": "stream",
          "text": [
            "Moviepy - Done !\n",
            "Moviepy - video ready /content/gdrive/MyDrive/Major FINAL RUN/Audio_altFinal/deuqmhwoco.mp4\n",
            "Processed 216 out of 744 videos. Audio removed from deuqmhwoco.mp4 and saved to silent videos folder.\n",
            "Moviepy - Building video /content/gdrive/MyDrive/Major FINAL RUN/Audio_altFinal/dfpizimddw.mp4.\n",
            "Moviepy - Writing video /content/gdrive/MyDrive/Major FINAL RUN/Audio_altFinal/dfpizimddw.mp4\n",
            "\n"
          ]
        },
        {
          "name": "stderr",
          "output_type": "stream",
          "text": [
            "t: 100%|██████████| 301/301 [00:48<00:00,  8.38it/s, now=None]WARNING:py.warnings:/usr/local/lib/python3.10/dist-packages/moviepy/video/io/ffmpeg_reader.py:123: UserWarning: Warning: in file /content/gdrive/MyDrive/Major FINAL RUN/Final Audio Dataset/dfpizimddw.mp4, 6220800 bytes wanted but 0 bytes read,at frame 300/301, at time 10.01/10.02 sec. Using the last valid frame instead.\n",
            "  warnings.warn(\"Warning: in file %s, \"%(self.filename)+\n",
            "\n"
          ]
        },
        {
          "name": "stdout",
          "output_type": "stream",
          "text": [
            "Moviepy - Done !\n",
            "Moviepy - video ready /content/gdrive/MyDrive/Major FINAL RUN/Audio_altFinal/dfpizimddw.mp4\n",
            "Processed 217 out of 744 videos. Audio removed from dfpizimddw.mp4 and saved to silent videos folder.\n",
            "Moviepy - Building video /content/gdrive/MyDrive/Major FINAL RUN/Audio_altFinal/dhtnlcuwwr.mp4.\n",
            "Moviepy - Writing video /content/gdrive/MyDrive/Major FINAL RUN/Audio_altFinal/dhtnlcuwwr.mp4\n",
            "\n"
          ]
        },
        {
          "name": "stderr",
          "output_type": "stream",
          "text": [
            "t: 100%|██████████| 301/301 [00:37<00:00,  8.34it/s, now=None]WARNING:py.warnings:/usr/local/lib/python3.10/dist-packages/moviepy/video/io/ffmpeg_reader.py:123: UserWarning: Warning: in file /content/gdrive/MyDrive/Major FINAL RUN/Final Audio Dataset/dhtnlcuwwr.mp4, 6220800 bytes wanted but 0 bytes read,at frame 300/301, at time 10.01/10.02 sec. Using the last valid frame instead.\n",
            "  warnings.warn(\"Warning: in file %s, \"%(self.filename)+\n",
            "\n"
          ]
        },
        {
          "name": "stdout",
          "output_type": "stream",
          "text": [
            "Moviepy - Done !\n",
            "Moviepy - video ready /content/gdrive/MyDrive/Major FINAL RUN/Audio_altFinal/dhtnlcuwwr.mp4\n",
            "Processed 218 out of 744 videos. Audio removed from dhtnlcuwwr.mp4 and saved to silent videos folder.\n",
            "Moviepy - Building video /content/gdrive/MyDrive/Major FINAL RUN/Audio_altFinal/dihuyqyqps.mp4.\n",
            "Moviepy - Writing video /content/gdrive/MyDrive/Major FINAL RUN/Audio_altFinal/dihuyqyqps.mp4\n",
            "\n"
          ]
        },
        {
          "name": "stderr",
          "output_type": "stream",
          "text": [
            "t: 100%|██████████| 301/301 [00:44<00:00,  7.47it/s, now=None]WARNING:py.warnings:/usr/local/lib/python3.10/dist-packages/moviepy/video/io/ffmpeg_reader.py:123: UserWarning: Warning: in file /content/gdrive/MyDrive/Major FINAL RUN/Final Audio Dataset/dihuyqyqps.mp4, 6220800 bytes wanted but 0 bytes read,at frame 300/301, at time 10.01/10.02 sec. Using the last valid frame instead.\n",
            "  warnings.warn(\"Warning: in file %s, \"%(self.filename)+\n",
            "\n"
          ]
        },
        {
          "name": "stdout",
          "output_type": "stream",
          "text": [
            "Moviepy - Done !\n",
            "Moviepy - video ready /content/gdrive/MyDrive/Major FINAL RUN/Audio_altFinal/dihuyqyqps.mp4\n",
            "Processed 219 out of 744 videos. Audio removed from dihuyqyqps.mp4 and saved to silent videos folder.\n",
            "Moviepy - Building video /content/gdrive/MyDrive/Major FINAL RUN/Audio_altFinal/djcuqtgccw.mp4.\n",
            "Moviepy - Writing video /content/gdrive/MyDrive/Major FINAL RUN/Audio_altFinal/djcuqtgccw.mp4\n",
            "\n"
          ]
        },
        {
          "name": "stderr",
          "output_type": "stream",
          "text": [
            "t: 100%|██████████| 301/301 [00:39<00:00,  6.25it/s, now=None]WARNING:py.warnings:/usr/local/lib/python3.10/dist-packages/moviepy/video/io/ffmpeg_reader.py:123: UserWarning: Warning: in file /content/gdrive/MyDrive/Major FINAL RUN/Final Audio Dataset/djcuqtgccw.mp4, 6220800 bytes wanted but 0 bytes read,at frame 300/301, at time 10.01/10.02 sec. Using the last valid frame instead.\n",
            "  warnings.warn(\"Warning: in file %s, \"%(self.filename)+\n",
            "\n"
          ]
        },
        {
          "name": "stdout",
          "output_type": "stream",
          "text": [
            "Moviepy - Done !\n",
            "Moviepy - video ready /content/gdrive/MyDrive/Major FINAL RUN/Audio_altFinal/djcuqtgccw.mp4\n",
            "Processed 220 out of 744 videos. Audio removed from djcuqtgccw.mp4 and saved to silent videos folder.\n",
            "Moviepy - Building video /content/gdrive/MyDrive/Major FINAL RUN/Audio_altFinal/dmwmhxvlfq.mp4.\n",
            "Moviepy - Writing video /content/gdrive/MyDrive/Major FINAL RUN/Audio_altFinal/dmwmhxvlfq.mp4\n",
            "\n"
          ]
        },
        {
          "name": "stderr",
          "output_type": "stream",
          "text": [
            "t: 100%|█████████▉| 300/301 [00:36<00:00,  8.86it/s, now=None]WARNING:py.warnings:/usr/local/lib/python3.10/dist-packages/moviepy/video/io/ffmpeg_reader.py:123: UserWarning: Warning: in file /content/gdrive/MyDrive/Major FINAL RUN/Final Audio Dataset/dmwmhxvlfq.mp4, 6220800 bytes wanted but 0 bytes read,at frame 300/301, at time 10.01/10.02 sec. Using the last valid frame instead.\n",
            "  warnings.warn(\"Warning: in file %s, \"%(self.filename)+\n",
            "\n"
          ]
        },
        {
          "name": "stdout",
          "output_type": "stream",
          "text": [
            "Moviepy - Done !\n",
            "Moviepy - video ready /content/gdrive/MyDrive/Major FINAL RUN/Audio_altFinal/dmwmhxvlfq.mp4\n",
            "Processed 221 out of 744 videos. Audio removed from dmwmhxvlfq.mp4 and saved to silent videos folder.\n",
            "Moviepy - Building video /content/gdrive/MyDrive/Major FINAL RUN/Audio_altFinal/dogenbgabh.mp4.\n",
            "Moviepy - Writing video /content/gdrive/MyDrive/Major FINAL RUN/Audio_altFinal/dogenbgabh.mp4\n",
            "\n"
          ]
        },
        {
          "name": "stderr",
          "output_type": "stream",
          "text": [
            "t: 100%|██████████| 301/301 [00:38<00:00,  5.38it/s, now=None]WARNING:py.warnings:/usr/local/lib/python3.10/dist-packages/moviepy/video/io/ffmpeg_reader.py:123: UserWarning: Warning: in file /content/gdrive/MyDrive/Major FINAL RUN/Final Audio Dataset/dogenbgabh.mp4, 6220800 bytes wanted but 0 bytes read,at frame 300/301, at time 10.01/10.02 sec. Using the last valid frame instead.\n",
            "  warnings.warn(\"Warning: in file %s, \"%(self.filename)+\n",
            "\n"
          ]
        },
        {
          "name": "stdout",
          "output_type": "stream",
          "text": [
            "Moviepy - Done !\n",
            "Moviepy - video ready /content/gdrive/MyDrive/Major FINAL RUN/Audio_altFinal/dogenbgabh.mp4\n",
            "Processed 222 out of 744 videos. Audio removed from dogenbgabh.mp4 and saved to silent videos folder.\n",
            "Moviepy - Building video /content/gdrive/MyDrive/Major FINAL RUN/Audio_altFinal/dpilxkugfs.mp4.\n",
            "Moviepy - Writing video /content/gdrive/MyDrive/Major FINAL RUN/Audio_altFinal/dpilxkugfs.mp4\n",
            "\n"
          ]
        },
        {
          "name": "stderr",
          "output_type": "stream",
          "text": [
            "t: 100%|██████████| 301/301 [00:37<00:00,  8.79it/s, now=None]WARNING:py.warnings:/usr/local/lib/python3.10/dist-packages/moviepy/video/io/ffmpeg_reader.py:123: UserWarning: Warning: in file /content/gdrive/MyDrive/Major FINAL RUN/Final Audio Dataset/dpilxkugfs.mp4, 6220800 bytes wanted but 0 bytes read,at frame 300/301, at time 10.01/10.02 sec. Using the last valid frame instead.\n",
            "  warnings.warn(\"Warning: in file %s, \"%(self.filename)+\n",
            "\n"
          ]
        },
        {
          "name": "stdout",
          "output_type": "stream",
          "text": [
            "Moviepy - Done !\n",
            "Moviepy - video ready /content/gdrive/MyDrive/Major FINAL RUN/Audio_altFinal/dpilxkugfs.mp4\n",
            "Processed 223 out of 744 videos. Audio removed from dpilxkugfs.mp4 and saved to silent videos folder.\n",
            "Moviepy - Building video /content/gdrive/MyDrive/Major FINAL RUN/Audio_altFinal/drapfnscij.mp4.\n",
            "Moviepy - Writing video /content/gdrive/MyDrive/Major FINAL RUN/Audio_altFinal/drapfnscij.mp4\n",
            "\n"
          ]
        },
        {
          "name": "stderr",
          "output_type": "stream",
          "text": [
            "t: 100%|█████████▉| 300/301 [00:41<00:00,  5.69it/s, now=None]WARNING:py.warnings:/usr/local/lib/python3.10/dist-packages/moviepy/video/io/ffmpeg_reader.py:123: UserWarning: Warning: in file /content/gdrive/MyDrive/Major FINAL RUN/Final Audio Dataset/drapfnscij.mp4, 6220800 bytes wanted but 0 bytes read,at frame 300/301, at time 10.01/10.02 sec. Using the last valid frame instead.\n",
            "  warnings.warn(\"Warning: in file %s, \"%(self.filename)+\n",
            "\n"
          ]
        },
        {
          "name": "stdout",
          "output_type": "stream",
          "text": [
            "Moviepy - Done !\n",
            "Moviepy - video ready /content/gdrive/MyDrive/Major FINAL RUN/Audio_altFinal/drapfnscij.mp4\n",
            "Processed 224 out of 744 videos. Audio removed from drapfnscij.mp4 and saved to silent videos folder.\n",
            "Moviepy - Building video /content/gdrive/MyDrive/Major FINAL RUN/Audio_altFinal/dshoywjgap.mp4.\n",
            "Moviepy - Writing video /content/gdrive/MyDrive/Major FINAL RUN/Audio_altFinal/dshoywjgap.mp4\n",
            "\n"
          ]
        },
        {
          "name": "stderr",
          "output_type": "stream",
          "text": [
            "t: 100%|██████████| 301/301 [00:43<00:00,  5.41it/s, now=None]WARNING:py.warnings:/usr/local/lib/python3.10/dist-packages/moviepy/video/io/ffmpeg_reader.py:123: UserWarning: Warning: in file /content/gdrive/MyDrive/Major FINAL RUN/Final Audio Dataset/dshoywjgap.mp4, 6220800 bytes wanted but 0 bytes read,at frame 300/301, at time 10.01/10.02 sec. Using the last valid frame instead.\n",
            "  warnings.warn(\"Warning: in file %s, \"%(self.filename)+\n",
            "\n"
          ]
        },
        {
          "name": "stdout",
          "output_type": "stream",
          "text": [
            "Moviepy - Done !\n",
            "Moviepy - video ready /content/gdrive/MyDrive/Major FINAL RUN/Audio_altFinal/dshoywjgap.mp4\n",
            "Processed 225 out of 744 videos. Audio removed from dshoywjgap.mp4 and saved to silent videos folder.\n",
            "Moviepy - Building video /content/gdrive/MyDrive/Major FINAL RUN/Audio_altFinal/drvtugrrjx.mp4.\n",
            "Moviepy - Writing video /content/gdrive/MyDrive/Major FINAL RUN/Audio_altFinal/drvtugrrjx.mp4\n",
            "\n"
          ]
        },
        {
          "name": "stderr",
          "output_type": "stream",
          "text": [
            "t: 100%|██████████| 301/301 [00:35<00:00, 10.35it/s, now=None]WARNING:py.warnings:/usr/local/lib/python3.10/dist-packages/moviepy/video/io/ffmpeg_reader.py:123: UserWarning: Warning: in file /content/gdrive/MyDrive/Major FINAL RUN/Final Audio Dataset/drvtugrrjx.mp4, 6220800 bytes wanted but 0 bytes read,at frame 300/301, at time 10.01/10.02 sec. Using the last valid frame instead.\n",
            "  warnings.warn(\"Warning: in file %s, \"%(self.filename)+\n",
            "\n"
          ]
        },
        {
          "name": "stdout",
          "output_type": "stream",
          "text": [
            "Moviepy - Done !\n",
            "Moviepy - video ready /content/gdrive/MyDrive/Major FINAL RUN/Audio_altFinal/drvtugrrjx.mp4\n",
            "Processed 226 out of 744 videos. Audio removed from drvtugrrjx.mp4 and saved to silent videos folder.\n",
            "Moviepy - Building video /content/gdrive/MyDrive/Major FINAL RUN/Audio_altFinal/dxdboiwhoo.mp4.\n",
            "Moviepy - Writing video /content/gdrive/MyDrive/Major FINAL RUN/Audio_altFinal/dxdboiwhoo.mp4\n",
            "\n"
          ]
        },
        {
          "name": "stderr",
          "output_type": "stream",
          "text": [
            "t: 100%|██████████| 301/301 [00:39<00:00,  8.99it/s, now=None]WARNING:py.warnings:/usr/local/lib/python3.10/dist-packages/moviepy/video/io/ffmpeg_reader.py:123: UserWarning: Warning: in file /content/gdrive/MyDrive/Major FINAL RUN/Final Audio Dataset/dxdboiwhoo.mp4, 6220800 bytes wanted but 0 bytes read,at frame 300/301, at time 10.01/10.02 sec. Using the last valid frame instead.\n",
            "  warnings.warn(\"Warning: in file %s, \"%(self.filename)+\n",
            "\n"
          ]
        },
        {
          "name": "stdout",
          "output_type": "stream",
          "text": [
            "Moviepy - Done !\n",
            "Moviepy - video ready /content/gdrive/MyDrive/Major FINAL RUN/Audio_altFinal/dxdboiwhoo.mp4\n",
            "Processed 227 out of 744 videos. Audio removed from dxdboiwhoo.mp4 and saved to silent videos folder.\n",
            "Moviepy - Building video /content/gdrive/MyDrive/Major FINAL RUN/Audio_altFinal/dwxdhsacsk.mp4.\n",
            "Moviepy - Writing video /content/gdrive/MyDrive/Major FINAL RUN/Audio_altFinal/dwxdhsacsk.mp4\n",
            "\n"
          ]
        },
        {
          "name": "stderr",
          "output_type": "stream",
          "text": [
            "t: 100%|██████████| 301/301 [00:37<00:00,  5.68it/s, now=None]WARNING:py.warnings:/usr/local/lib/python3.10/dist-packages/moviepy/video/io/ffmpeg_reader.py:123: UserWarning: Warning: in file /content/gdrive/MyDrive/Major FINAL RUN/Final Audio Dataset/dwxdhsacsk.mp4, 6220800 bytes wanted but 0 bytes read,at frame 300/301, at time 10.01/10.02 sec. Using the last valid frame instead.\n",
            "  warnings.warn(\"Warning: in file %s, \"%(self.filename)+\n",
            "\n"
          ]
        },
        {
          "name": "stdout",
          "output_type": "stream",
          "text": [
            "Moviepy - Done !\n",
            "Moviepy - video ready /content/gdrive/MyDrive/Major FINAL RUN/Audio_altFinal/dwxdhsacsk.mp4\n",
            "Processed 228 out of 744 videos. Audio removed from dwxdhsacsk.mp4 and saved to silent videos folder.\n",
            "Moviepy - Building video /content/gdrive/MyDrive/Major FINAL RUN/Audio_altFinal/dxbrjrefpe.mp4.\n",
            "Moviepy - Writing video /content/gdrive/MyDrive/Major FINAL RUN/Audio_altFinal/dxbrjrefpe.mp4\n",
            "\n"
          ]
        },
        {
          "name": "stderr",
          "output_type": "stream",
          "text": [
            "t: 100%|█████████▉| 300/301 [00:35<00:00, 10.03it/s, now=None]WARNING:py.warnings:/usr/local/lib/python3.10/dist-packages/moviepy/video/io/ffmpeg_reader.py:123: UserWarning: Warning: in file /content/gdrive/MyDrive/Major FINAL RUN/Final Audio Dataset/dxbrjrefpe.mp4, 6220800 bytes wanted but 0 bytes read,at frame 300/301, at time 10.01/10.02 sec. Using the last valid frame instead.\n",
            "  warnings.warn(\"Warning: in file %s, \"%(self.filename)+\n",
            "\n"
          ]
        },
        {
          "name": "stdout",
          "output_type": "stream",
          "text": [
            "Moviepy - Done !\n",
            "Moviepy - video ready /content/gdrive/MyDrive/Major FINAL RUN/Audio_altFinal/dxbrjrefpe.mp4\n",
            "Processed 229 out of 744 videos. Audio removed from dxbrjrefpe.mp4 and saved to silent videos folder.\n",
            "Moviepy - Building video /content/gdrive/MyDrive/Major FINAL RUN/Audio_altFinal/dykljokhdg.mp4.\n",
            "Moviepy - Writing video /content/gdrive/MyDrive/Major FINAL RUN/Audio_altFinal/dykljokhdg.mp4\n",
            "\n"
          ]
        },
        {
          "name": "stderr",
          "output_type": "stream",
          "text": [
            "t: 100%|█████████▉| 300/301 [00:39<00:00,  8.10it/s, now=None]WARNING:py.warnings:/usr/local/lib/python3.10/dist-packages/moviepy/video/io/ffmpeg_reader.py:123: UserWarning: Warning: in file /content/gdrive/MyDrive/Major FINAL RUN/Final Audio Dataset/dykljokhdg.mp4, 6220800 bytes wanted but 0 bytes read,at frame 300/301, at time 10.01/10.02 sec. Using the last valid frame instead.\n",
            "  warnings.warn(\"Warning: in file %s, \"%(self.filename)+\n",
            "\n"
          ]
        },
        {
          "name": "stdout",
          "output_type": "stream",
          "text": [
            "Moviepy - Done !\n",
            "Moviepy - video ready /content/gdrive/MyDrive/Major FINAL RUN/Audio_altFinal/dykljokhdg.mp4\n",
            "Processed 230 out of 744 videos. Audio removed from dykljokhdg.mp4 and saved to silent videos folder.\n",
            "Moviepy - Building video /content/gdrive/MyDrive/Major FINAL RUN/Audio_altFinal/dxynhvcwrh.mp4.\n",
            "Moviepy - Writing video /content/gdrive/MyDrive/Major FINAL RUN/Audio_altFinal/dxynhvcwrh.mp4\n",
            "\n"
          ]
        },
        {
          "name": "stderr",
          "output_type": "stream",
          "text": [
            "t: 100%|██████████| 301/301 [00:46<00:00,  7.94it/s, now=None]WARNING:py.warnings:/usr/local/lib/python3.10/dist-packages/moviepy/video/io/ffmpeg_reader.py:123: UserWarning: Warning: in file /content/gdrive/MyDrive/Major FINAL RUN/Final Audio Dataset/dxynhvcwrh.mp4, 6220800 bytes wanted but 0 bytes read,at frame 300/301, at time 10.01/10.02 sec. Using the last valid frame instead.\n",
            "  warnings.warn(\"Warning: in file %s, \"%(self.filename)+\n",
            "\n"
          ]
        },
        {
          "name": "stdout",
          "output_type": "stream",
          "text": [
            "Moviepy - Done !\n",
            "Moviepy - video ready /content/gdrive/MyDrive/Major FINAL RUN/Audio_altFinal/dxynhvcwrh.mp4\n",
            "Processed 231 out of 744 videos. Audio removed from dxynhvcwrh.mp4 and saved to silent videos folder.\n",
            "Moviepy - Building video /content/gdrive/MyDrive/Major FINAL RUN/Audio_altFinal/ebosfjhxjv.mp4.\n",
            "Moviepy - Writing video /content/gdrive/MyDrive/Major FINAL RUN/Audio_altFinal/ebosfjhxjv.mp4\n",
            "\n"
          ]
        },
        {
          "name": "stderr",
          "output_type": "stream",
          "text": [
            "t: 100%|██████████| 301/301 [00:42<00:00,  5.25it/s, now=None]WARNING:py.warnings:/usr/local/lib/python3.10/dist-packages/moviepy/video/io/ffmpeg_reader.py:123: UserWarning: Warning: in file /content/gdrive/MyDrive/Major FINAL RUN/Final Audio Dataset/ebosfjhxjv.mp4, 6220800 bytes wanted but 0 bytes read,at frame 300/301, at time 10.01/10.02 sec. Using the last valid frame instead.\n",
            "  warnings.warn(\"Warning: in file %s, \"%(self.filename)+\n",
            "\n"
          ]
        },
        {
          "name": "stdout",
          "output_type": "stream",
          "text": [
            "Moviepy - Done !\n",
            "Moviepy - video ready /content/gdrive/MyDrive/Major FINAL RUN/Audio_altFinal/ebosfjhxjv.mp4\n",
            "Processed 232 out of 744 videos. Audio removed from ebosfjhxjv.mp4 and saved to silent videos folder.\n",
            "Moviepy - Building video /content/gdrive/MyDrive/Major FINAL RUN/Audio_altFinal/ebuebnxpdq.mp4.\n",
            "Moviepy - Writing video /content/gdrive/MyDrive/Major FINAL RUN/Audio_altFinal/ebuebnxpdq.mp4\n",
            "\n"
          ]
        },
        {
          "name": "stderr",
          "output_type": "stream",
          "text": [
            "t: 100%|██████████| 301/301 [00:46<00:00,  6.55it/s, now=None]WARNING:py.warnings:/usr/local/lib/python3.10/dist-packages/moviepy/video/io/ffmpeg_reader.py:123: UserWarning: Warning: in file /content/gdrive/MyDrive/Major FINAL RUN/Final Audio Dataset/ebuebnxpdq.mp4, 6220800 bytes wanted but 0 bytes read,at frame 300/301, at time 10.01/10.02 sec. Using the last valid frame instead.\n",
            "  warnings.warn(\"Warning: in file %s, \"%(self.filename)+\n",
            "\n"
          ]
        },
        {
          "name": "stdout",
          "output_type": "stream",
          "text": [
            "Moviepy - Done !\n",
            "Moviepy - video ready /content/gdrive/MyDrive/Major FINAL RUN/Audio_altFinal/ebuebnxpdq.mp4\n",
            "Processed 233 out of 744 videos. Audio removed from ebuebnxpdq.mp4 and saved to silent videos folder.\n",
            "Moviepy - Building video /content/gdrive/MyDrive/Major FINAL RUN/Audio_altFinal/dzhjxalykq.mp4.\n",
            "Moviepy - Writing video /content/gdrive/MyDrive/Major FINAL RUN/Audio_altFinal/dzhjxalykq.mp4\n",
            "\n"
          ]
        },
        {
          "name": "stderr",
          "output_type": "stream",
          "text": [
            "t: 100%|██████████| 301/301 [00:37<00:00,  9.59it/s, now=None]WARNING:py.warnings:/usr/local/lib/python3.10/dist-packages/moviepy/video/io/ffmpeg_reader.py:123: UserWarning: Warning: in file /content/gdrive/MyDrive/Major FINAL RUN/Final Audio Dataset/dzhjxalykq.mp4, 6220800 bytes wanted but 0 bytes read,at frame 300/301, at time 10.01/10.02 sec. Using the last valid frame instead.\n",
            "  warnings.warn(\"Warning: in file %s, \"%(self.filename)+\n",
            "\n"
          ]
        },
        {
          "name": "stdout",
          "output_type": "stream",
          "text": [
            "Moviepy - Done !\n",
            "Moviepy - video ready /content/gdrive/MyDrive/Major FINAL RUN/Audio_altFinal/dzhjxalykq.mp4\n",
            "Processed 234 out of 744 videos. Audio removed from dzhjxalykq.mp4 and saved to silent videos folder.\n",
            "Moviepy - Building video /content/gdrive/MyDrive/Major FINAL RUN/Audio_altFinal/egjuhkwdbf.mp4.\n",
            "Moviepy - Writing video /content/gdrive/MyDrive/Major FINAL RUN/Audio_altFinal/egjuhkwdbf.mp4\n",
            "\n"
          ]
        },
        {
          "name": "stderr",
          "output_type": "stream",
          "text": [
            "t: 100%|█████████▉| 300/301 [00:37<00:00,  9.59it/s, now=None]WARNING:py.warnings:/usr/local/lib/python3.10/dist-packages/moviepy/video/io/ffmpeg_reader.py:123: UserWarning: Warning: in file /content/gdrive/MyDrive/Major FINAL RUN/Final Audio Dataset/egjuhkwdbf.mp4, 6220800 bytes wanted but 0 bytes read,at frame 300/301, at time 10.01/10.02 sec. Using the last valid frame instead.\n",
            "  warnings.warn(\"Warning: in file %s, \"%(self.filename)+\n",
            "\n"
          ]
        },
        {
          "name": "stdout",
          "output_type": "stream",
          "text": [
            "Moviepy - Done !\n",
            "Moviepy - video ready /content/gdrive/MyDrive/Major FINAL RUN/Audio_altFinal/egjuhkwdbf.mp4\n",
            "Processed 235 out of 744 videos. Audio removed from egjuhkwdbf.mp4 and saved to silent videos folder.\n",
            "Moviepy - Building video /content/gdrive/MyDrive/Major FINAL RUN/Audio_altFinal/ehddydqurb.mp4.\n",
            "Moviepy - Writing video /content/gdrive/MyDrive/Major FINAL RUN/Audio_altFinal/ehddydqurb.mp4\n",
            "\n"
          ]
        },
        {
          "name": "stderr",
          "output_type": "stream",
          "text": [
            "t: 100%|██████████| 301/301 [00:37<00:00,  5.58it/s, now=None]WARNING:py.warnings:/usr/local/lib/python3.10/dist-packages/moviepy/video/io/ffmpeg_reader.py:123: UserWarning: Warning: in file /content/gdrive/MyDrive/Major FINAL RUN/Final Audio Dataset/ehddydqurb.mp4, 6220800 bytes wanted but 0 bytes read,at frame 300/301, at time 10.01/10.02 sec. Using the last valid frame instead.\n",
            "  warnings.warn(\"Warning: in file %s, \"%(self.filename)+\n",
            "\n"
          ]
        },
        {
          "name": "stdout",
          "output_type": "stream",
          "text": [
            "Moviepy - Done !\n",
            "Moviepy - video ready /content/gdrive/MyDrive/Major FINAL RUN/Audio_altFinal/ehddydqurb.mp4\n",
            "Processed 236 out of 744 videos. Audio removed from ehddydqurb.mp4 and saved to silent videos folder.\n",
            "Moviepy - Building video /content/gdrive/MyDrive/Major FINAL RUN/Audio_altFinal/egcuyhyvsm.mp4.\n",
            "Moviepy - Writing video /content/gdrive/MyDrive/Major FINAL RUN/Audio_altFinal/egcuyhyvsm.mp4\n",
            "\n"
          ]
        },
        {
          "name": "stderr",
          "output_type": "stream",
          "text": [
            "t: 100%|██████████| 301/301 [00:36<00:00, 10.57it/s, now=None]WARNING:py.warnings:/usr/local/lib/python3.10/dist-packages/moviepy/video/io/ffmpeg_reader.py:123: UserWarning: Warning: in file /content/gdrive/MyDrive/Major FINAL RUN/Final Audio Dataset/egcuyhyvsm.mp4, 6220800 bytes wanted but 0 bytes read,at frame 300/301, at time 10.01/10.02 sec. Using the last valid frame instead.\n",
            "  warnings.warn(\"Warning: in file %s, \"%(self.filename)+\n",
            "\n"
          ]
        },
        {
          "name": "stdout",
          "output_type": "stream",
          "text": [
            "Moviepy - Done !\n",
            "Moviepy - video ready /content/gdrive/MyDrive/Major FINAL RUN/Audio_altFinal/egcuyhyvsm.mp4\n",
            "Processed 237 out of 744 videos. Audio removed from egcuyhyvsm.mp4 and saved to silent videos folder.\n",
            "Moviepy - Building video /content/gdrive/MyDrive/Major FINAL RUN/Audio_altFinal/eidrmsvilp.mp4.\n",
            "Moviepy - Writing video /content/gdrive/MyDrive/Major FINAL RUN/Audio_altFinal/eidrmsvilp.mp4\n",
            "\n"
          ]
        },
        {
          "name": "stderr",
          "output_type": "stream",
          "text": [
            "t: 100%|██████████| 301/301 [00:37<00:00,  6.34it/s, now=None]WARNING:py.warnings:/usr/local/lib/python3.10/dist-packages/moviepy/video/io/ffmpeg_reader.py:123: UserWarning: Warning: in file /content/gdrive/MyDrive/Major FINAL RUN/Final Audio Dataset/eidrmsvilp.mp4, 6220800 bytes wanted but 0 bytes read,at frame 300/301, at time 10.01/10.02 sec. Using the last valid frame instead.\n",
            "  warnings.warn(\"Warning: in file %s, \"%(self.filename)+\n",
            "\n"
          ]
        },
        {
          "name": "stdout",
          "output_type": "stream",
          "text": [
            "Moviepy - Done !\n",
            "Moviepy - video ready /content/gdrive/MyDrive/Major FINAL RUN/Audio_altFinal/eidrmsvilp.mp4\n",
            "Processed 238 out of 744 videos. Audio removed from eidrmsvilp.mp4 and saved to silent videos folder.\n",
            "Moviepy - Building video /content/gdrive/MyDrive/Major FINAL RUN/Audio_altFinal/ehtmhdbslm.mp4.\n",
            "Moviepy - Writing video /content/gdrive/MyDrive/Major FINAL RUN/Audio_altFinal/ehtmhdbslm.mp4\n",
            "\n"
          ]
        },
        {
          "name": "stderr",
          "output_type": "stream",
          "text": [
            "t: 100%|█████████▉| 300/301 [00:37<00:00,  9.43it/s, now=None]WARNING:py.warnings:/usr/local/lib/python3.10/dist-packages/moviepy/video/io/ffmpeg_reader.py:123: UserWarning: Warning: in file /content/gdrive/MyDrive/Major FINAL RUN/Final Audio Dataset/ehtmhdbslm.mp4, 6220800 bytes wanted but 0 bytes read,at frame 300/301, at time 10.01/10.02 sec. Using the last valid frame instead.\n",
            "  warnings.warn(\"Warning: in file %s, \"%(self.filename)+\n",
            "\n"
          ]
        },
        {
          "name": "stdout",
          "output_type": "stream",
          "text": [
            "Moviepy - Done !\n",
            "Moviepy - video ready /content/gdrive/MyDrive/Major FINAL RUN/Audio_altFinal/ehtmhdbslm.mp4\n",
            "Processed 239 out of 744 videos. Audio removed from ehtmhdbslm.mp4 and saved to silent videos folder.\n",
            "Moviepy - Building video /content/gdrive/MyDrive/Major FINAL RUN/Audio_altFinal/ehssudncod.mp4.\n",
            "Moviepy - Writing video /content/gdrive/MyDrive/Major FINAL RUN/Audio_altFinal/ehssudncod.mp4\n",
            "\n"
          ]
        },
        {
          "name": "stderr",
          "output_type": "stream",
          "text": [
            "t: 100%|█████████▉| 300/301 [00:40<00:00,  8.10it/s, now=None]WARNING:py.warnings:/usr/local/lib/python3.10/dist-packages/moviepy/video/io/ffmpeg_reader.py:123: UserWarning: Warning: in file /content/gdrive/MyDrive/Major FINAL RUN/Final Audio Dataset/ehssudncod.mp4, 6220800 bytes wanted but 0 bytes read,at frame 300/301, at time 10.01/10.02 sec. Using the last valid frame instead.\n",
            "  warnings.warn(\"Warning: in file %s, \"%(self.filename)+\n",
            "\n"
          ]
        },
        {
          "name": "stdout",
          "output_type": "stream",
          "text": [
            "Moviepy - Done !\n",
            "Moviepy - video ready /content/gdrive/MyDrive/Major FINAL RUN/Audio_altFinal/ehssudncod.mp4\n",
            "Processed 240 out of 744 videos. Audio removed from ehssudncod.mp4 and saved to silent videos folder.\n",
            "Moviepy - Building video /content/gdrive/MyDrive/Major FINAL RUN/Audio_altFinal/eiofpijvxq.mp4.\n",
            "Moviepy - Writing video /content/gdrive/MyDrive/Major FINAL RUN/Audio_altFinal/eiofpijvxq.mp4\n",
            "\n"
          ]
        },
        {
          "name": "stderr",
          "output_type": "stream",
          "text": [
            "t: 100%|██████████| 301/301 [00:40<00:00,  6.01it/s, now=None]WARNING:py.warnings:/usr/local/lib/python3.10/dist-packages/moviepy/video/io/ffmpeg_reader.py:123: UserWarning: Warning: in file /content/gdrive/MyDrive/Major FINAL RUN/Final Audio Dataset/eiofpijvxq.mp4, 6220800 bytes wanted but 0 bytes read,at frame 300/301, at time 10.01/10.02 sec. Using the last valid frame instead.\n",
            "  warnings.warn(\"Warning: in file %s, \"%(self.filename)+\n",
            "\n"
          ]
        },
        {
          "name": "stdout",
          "output_type": "stream",
          "text": [
            "Moviepy - Done !\n",
            "Moviepy - video ready /content/gdrive/MyDrive/Major FINAL RUN/Audio_altFinal/eiofpijvxq.mp4\n",
            "Processed 241 out of 744 videos. Audio removed from eiofpijvxq.mp4 and saved to silent videos folder.\n",
            "Moviepy - Building video /content/gdrive/MyDrive/Major FINAL RUN/Audio_altFinal/eitfpxnzwo.mp4.\n",
            "Moviepy - Writing video /content/gdrive/MyDrive/Major FINAL RUN/Audio_altFinal/eitfpxnzwo.mp4\n",
            "\n"
          ]
        },
        {
          "name": "stderr",
          "output_type": "stream",
          "text": [
            "t: 100%|██████████| 301/301 [00:38<00:00,  8.78it/s, now=None]WARNING:py.warnings:/usr/local/lib/python3.10/dist-packages/moviepy/video/io/ffmpeg_reader.py:123: UserWarning: Warning: in file /content/gdrive/MyDrive/Major FINAL RUN/Final Audio Dataset/eitfpxnzwo.mp4, 6220800 bytes wanted but 0 bytes read,at frame 300/301, at time 10.01/10.02 sec. Using the last valid frame instead.\n",
            "  warnings.warn(\"Warning: in file %s, \"%(self.filename)+\n",
            "\n"
          ]
        },
        {
          "name": "stdout",
          "output_type": "stream",
          "text": [
            "Moviepy - Done !\n",
            "Moviepy - video ready /content/gdrive/MyDrive/Major FINAL RUN/Audio_altFinal/eitfpxnzwo.mp4\n",
            "Processed 242 out of 744 videos. Audio removed from eitfpxnzwo.mp4 and saved to silent videos folder.\n",
            "Moviepy - Building video /content/gdrive/MyDrive/Major FINAL RUN/Audio_altFinal/ekdepvhwxk.mp4.\n",
            "Moviepy - Writing video /content/gdrive/MyDrive/Major FINAL RUN/Audio_altFinal/ekdepvhwxk.mp4\n",
            "\n"
          ]
        },
        {
          "name": "stderr",
          "output_type": "stream",
          "text": [
            "t: 100%|██████████| 301/301 [00:50<00:00,  4.67it/s, now=None]WARNING:py.warnings:/usr/local/lib/python3.10/dist-packages/moviepy/video/io/ffmpeg_reader.py:123: UserWarning: Warning: in file /content/gdrive/MyDrive/Major FINAL RUN/Final Audio Dataset/ekdepvhwxk.mp4, 6220800 bytes wanted but 0 bytes read,at frame 300/301, at time 10.01/10.02 sec. Using the last valid frame instead.\n",
            "  warnings.warn(\"Warning: in file %s, \"%(self.filename)+\n",
            "\n"
          ]
        },
        {
          "name": "stdout",
          "output_type": "stream",
          "text": [
            "Moviepy - Done !\n",
            "Moviepy - video ready /content/gdrive/MyDrive/Major FINAL RUN/Audio_altFinal/ekdepvhwxk.mp4\n",
            "Processed 243 out of 744 videos. Audio removed from ekdepvhwxk.mp4 and saved to silent videos folder.\n",
            "Moviepy - Building video /content/gdrive/MyDrive/Major FINAL RUN/Audio_altFinal/eklsrnkwog.mp4.\n",
            "Moviepy - Writing video /content/gdrive/MyDrive/Major FINAL RUN/Audio_altFinal/eklsrnkwog.mp4\n",
            "\n"
          ]
        },
        {
          "name": "stderr",
          "output_type": "stream",
          "text": [
            "t: 100%|█████████▉| 300/301 [00:37<00:00,  9.82it/s, now=None]WARNING:py.warnings:/usr/local/lib/python3.10/dist-packages/moviepy/video/io/ffmpeg_reader.py:123: UserWarning: Warning: in file /content/gdrive/MyDrive/Major FINAL RUN/Final Audio Dataset/eklsrnkwog.mp4, 6220800 bytes wanted but 0 bytes read,at frame 300/301, at time 10.01/10.02 sec. Using the last valid frame instead.\n",
            "  warnings.warn(\"Warning: in file %s, \"%(self.filename)+\n",
            "\n"
          ]
        },
        {
          "name": "stdout",
          "output_type": "stream",
          "text": [
            "Moviepy - Done !\n",
            "Moviepy - video ready /content/gdrive/MyDrive/Major FINAL RUN/Audio_altFinal/eklsrnkwog.mp4\n",
            "Processed 244 out of 744 videos. Audio removed from eklsrnkwog.mp4 and saved to silent videos folder.\n",
            "Moviepy - Building video /content/gdrive/MyDrive/Major FINAL RUN/Audio_altFinal/emflfadjyb.mp4.\n",
            "Moviepy - Writing video /content/gdrive/MyDrive/Major FINAL RUN/Audio_altFinal/emflfadjyb.mp4\n",
            "\n"
          ]
        },
        {
          "name": "stderr",
          "output_type": "stream",
          "text": [
            "t: 100%|██████████| 301/301 [00:43<00:00,  6.73it/s, now=None]WARNING:py.warnings:/usr/local/lib/python3.10/dist-packages/moviepy/video/io/ffmpeg_reader.py:123: UserWarning: Warning: in file /content/gdrive/MyDrive/Major FINAL RUN/Final Audio Dataset/emflfadjyb.mp4, 6220800 bytes wanted but 0 bytes read,at frame 300/301, at time 10.01/10.02 sec. Using the last valid frame instead.\n",
            "  warnings.warn(\"Warning: in file %s, \"%(self.filename)+\n",
            "\n"
          ]
        },
        {
          "name": "stdout",
          "output_type": "stream",
          "text": [
            "Moviepy - Done !\n",
            "Moviepy - video ready /content/gdrive/MyDrive/Major FINAL RUN/Audio_altFinal/emflfadjyb.mp4\n",
            "Processed 245 out of 744 videos. Audio removed from emflfadjyb.mp4 and saved to silent videos folder.\n",
            "Moviepy - Building video /content/gdrive/MyDrive/Major FINAL RUN/Audio_altFinal/eqgipviesf.mp4.\n",
            "Moviepy - Writing video /content/gdrive/MyDrive/Major FINAL RUN/Audio_altFinal/eqgipviesf.mp4\n",
            "\n"
          ]
        },
        {
          "name": "stderr",
          "output_type": "stream",
          "text": [
            "t: 100%|██████████| 301/301 [00:42<00:00,  7.02it/s, now=None]WARNING:py.warnings:/usr/local/lib/python3.10/dist-packages/moviepy/video/io/ffmpeg_reader.py:123: UserWarning: Warning: in file /content/gdrive/MyDrive/Major FINAL RUN/Final Audio Dataset/eqgipviesf.mp4, 6220800 bytes wanted but 0 bytes read,at frame 300/301, at time 10.01/10.02 sec. Using the last valid frame instead.\n",
            "  warnings.warn(\"Warning: in file %s, \"%(self.filename)+\n",
            "\n"
          ]
        },
        {
          "name": "stdout",
          "output_type": "stream",
          "text": [
            "Moviepy - Done !\n",
            "Moviepy - video ready /content/gdrive/MyDrive/Major FINAL RUN/Audio_altFinal/eqgipviesf.mp4\n",
            "Processed 246 out of 744 videos. Audio removed from eqgipviesf.mp4 and saved to silent videos folder.\n",
            "Moviepy - Building video /content/gdrive/MyDrive/Major FINAL RUN/Audio_altFinal/eomzovujcy.mp4.\n",
            "Moviepy - Writing video /content/gdrive/MyDrive/Major FINAL RUN/Audio_altFinal/eomzovujcy.mp4\n",
            "\n"
          ]
        },
        {
          "name": "stderr",
          "output_type": "stream",
          "text": [
            "t: 100%|█████████▉| 300/301 [00:38<00:00,  8.46it/s, now=None]WARNING:py.warnings:/usr/local/lib/python3.10/dist-packages/moviepy/video/io/ffmpeg_reader.py:123: UserWarning: Warning: in file /content/gdrive/MyDrive/Major FINAL RUN/Final Audio Dataset/eomzovujcy.mp4, 6220800 bytes wanted but 0 bytes read,at frame 300/301, at time 10.01/10.02 sec. Using the last valid frame instead.\n",
            "  warnings.warn(\"Warning: in file %s, \"%(self.filename)+\n",
            "\n"
          ]
        },
        {
          "name": "stdout",
          "output_type": "stream",
          "text": [
            "Moviepy - Done !\n",
            "Moviepy - video ready /content/gdrive/MyDrive/Major FINAL RUN/Audio_altFinal/eomzovujcy.mp4\n",
            "Processed 247 out of 744 videos. Audio removed from eomzovujcy.mp4 and saved to silent videos folder.\n",
            "Moviepy - Building video /content/gdrive/MyDrive/Major FINAL RUN/Audio_altFinal/epphrlkqhp.mp4.\n",
            "Moviepy - Writing video /content/gdrive/MyDrive/Major FINAL RUN/Audio_altFinal/epphrlkqhp.mp4\n",
            "\n"
          ]
        },
        {
          "name": "stderr",
          "output_type": "stream",
          "text": [
            ""
          ]
        },
        {
          "name": "stdout",
          "output_type": "stream",
          "text": [
            "Moviepy - Done !\n",
            "Moviepy - video ready /content/gdrive/MyDrive/Major FINAL RUN/Audio_altFinal/epphrlkqhp.mp4\n",
            "Processed 248 out of 744 videos. Audio removed from epphrlkqhp.mp4 and saved to silent videos folder.\n",
            "Moviepy - Building video /content/gdrive/MyDrive/Major FINAL RUN/Audio_altFinal/erbkuqxdue.mp4.\n",
            "Moviepy - Writing video /content/gdrive/MyDrive/Major FINAL RUN/Audio_altFinal/erbkuqxdue.mp4\n",
            "\n"
          ]
        },
        {
          "name": "stderr",
          "output_type": "stream",
          "text": [
            "t: 100%|██████████| 301/301 [00:39<00:00,  6.35it/s, now=None]WARNING:py.warnings:/usr/local/lib/python3.10/dist-packages/moviepy/video/io/ffmpeg_reader.py:123: UserWarning: Warning: in file /content/gdrive/MyDrive/Major FINAL RUN/Final Audio Dataset/erbkuqxdue.mp4, 6220800 bytes wanted but 0 bytes read,at frame 300/301, at time 10.01/10.02 sec. Using the last valid frame instead.\n",
            "  warnings.warn(\"Warning: in file %s, \"%(self.filename)+\n",
            "\n"
          ]
        },
        {
          "name": "stdout",
          "output_type": "stream",
          "text": [
            "Moviepy - Done !\n",
            "Moviepy - video ready /content/gdrive/MyDrive/Major FINAL RUN/Audio_altFinal/erbkuqxdue.mp4\n",
            "Processed 249 out of 744 videos. Audio removed from erbkuqxdue.mp4 and saved to silent videos folder.\n",
            "Moviepy - Building video /content/gdrive/MyDrive/Major FINAL RUN/Audio_altFinal/eswhdoxkyi.mp4.\n",
            "Moviepy - Writing video /content/gdrive/MyDrive/Major FINAL RUN/Audio_altFinal/eswhdoxkyi.mp4\n",
            "\n"
          ]
        },
        {
          "name": "stderr",
          "output_type": "stream",
          "text": [
            "t: 100%|██████████| 301/301 [00:38<00:00,  8.91it/s, now=None]WARNING:py.warnings:/usr/local/lib/python3.10/dist-packages/moviepy/video/io/ffmpeg_reader.py:123: UserWarning: Warning: in file /content/gdrive/MyDrive/Major FINAL RUN/Final Audio Dataset/eswhdoxkyi.mp4, 6220800 bytes wanted but 0 bytes read,at frame 300/301, at time 10.01/10.02 sec. Using the last valid frame instead.\n",
            "  warnings.warn(\"Warning: in file %s, \"%(self.filename)+\n",
            "\n"
          ]
        },
        {
          "name": "stdout",
          "output_type": "stream",
          "text": [
            "Moviepy - Done !\n",
            "Moviepy - video ready /content/gdrive/MyDrive/Major FINAL RUN/Audio_altFinal/eswhdoxkyi.mp4\n",
            "Processed 250 out of 744 videos. Audio removed from eswhdoxkyi.mp4 and saved to silent videos folder.\n",
            "Moviepy - Building video /content/gdrive/MyDrive/Major FINAL RUN/Audio_altFinal/eslgzuvzya.mp4.\n",
            "Moviepy - Writing video /content/gdrive/MyDrive/Major FINAL RUN/Audio_altFinal/eslgzuvzya.mp4\n",
            "\n"
          ]
        },
        {
          "name": "stderr",
          "output_type": "stream",
          "text": [
            "t: 100%|██████████| 301/301 [00:38<00:00,  9.22it/s, now=None]WARNING:py.warnings:/usr/local/lib/python3.10/dist-packages/moviepy/video/io/ffmpeg_reader.py:123: UserWarning: Warning: in file /content/gdrive/MyDrive/Major FINAL RUN/Final Audio Dataset/eslgzuvzya.mp4, 6220800 bytes wanted but 0 bytes read,at frame 300/301, at time 10.01/10.02 sec. Using the last valid frame instead.\n",
            "  warnings.warn(\"Warning: in file %s, \"%(self.filename)+\n",
            "\n"
          ]
        },
        {
          "name": "stdout",
          "output_type": "stream",
          "text": [
            "Moviepy - Done !\n",
            "Moviepy - video ready /content/gdrive/MyDrive/Major FINAL RUN/Audio_altFinal/eslgzuvzya.mp4\n",
            "Processed 251 out of 744 videos. Audio removed from eslgzuvzya.mp4 and saved to silent videos folder.\n",
            "Moviepy - Building video /content/gdrive/MyDrive/Major FINAL RUN/Audio_altFinal/etnydnrmvb.mp4.\n",
            "Moviepy - Writing video /content/gdrive/MyDrive/Major FINAL RUN/Audio_altFinal/etnydnrmvb.mp4\n",
            "\n"
          ]
        },
        {
          "name": "stderr",
          "output_type": "stream",
          "text": [
            "t: 100%|██████████| 301/301 [00:39<00:00,  8.72it/s, now=None]WARNING:py.warnings:/usr/local/lib/python3.10/dist-packages/moviepy/video/io/ffmpeg_reader.py:123: UserWarning: Warning: in file /content/gdrive/MyDrive/Major FINAL RUN/Final Audio Dataset/etnydnrmvb.mp4, 6220800 bytes wanted but 0 bytes read,at frame 300/301, at time 10.01/10.02 sec. Using the last valid frame instead.\n",
            "  warnings.warn(\"Warning: in file %s, \"%(self.filename)+\n",
            "\n"
          ]
        },
        {
          "name": "stdout",
          "output_type": "stream",
          "text": [
            "Moviepy - Done !\n",
            "Moviepy - video ready /content/gdrive/MyDrive/Major FINAL RUN/Audio_altFinal/etnydnrmvb.mp4\n",
            "Processed 252 out of 744 videos. Audio removed from etnydnrmvb.mp4 and saved to silent videos folder.\n",
            "Moviepy - Building video /content/gdrive/MyDrive/Major FINAL RUN/Audio_altFinal/evvacwqxzb.mp4.\n",
            "Moviepy - Writing video /content/gdrive/MyDrive/Major FINAL RUN/Audio_altFinal/evvacwqxzb.mp4\n",
            "\n"
          ]
        },
        {
          "name": "stderr",
          "output_type": "stream",
          "text": [
            "t: 100%|█████████▉| 300/301 [00:37<00:00,  9.24it/s, now=None]WARNING:py.warnings:/usr/local/lib/python3.10/dist-packages/moviepy/video/io/ffmpeg_reader.py:123: UserWarning: Warning: in file /content/gdrive/MyDrive/Major FINAL RUN/Final Audio Dataset/evvacwqxzb.mp4, 6220800 bytes wanted but 0 bytes read,at frame 300/301, at time 10.01/10.02 sec. Using the last valid frame instead.\n",
            "  warnings.warn(\"Warning: in file %s, \"%(self.filename)+\n",
            "\n"
          ]
        },
        {
          "name": "stdout",
          "output_type": "stream",
          "text": [
            "Moviepy - Done !\n",
            "Moviepy - video ready /content/gdrive/MyDrive/Major FINAL RUN/Audio_altFinal/evvacwqxzb.mp4\n",
            "Processed 253 out of 744 videos. Audio removed from evvacwqxzb.mp4 and saved to silent videos folder.\n",
            "Moviepy - Building video /content/gdrive/MyDrive/Major FINAL RUN/Audio_altFinal/evjkrjrged.mp4.\n",
            "Moviepy - Writing video /content/gdrive/MyDrive/Major FINAL RUN/Audio_altFinal/evjkrjrged.mp4\n",
            "\n"
          ]
        },
        {
          "name": "stderr",
          "output_type": "stream",
          "text": [
            "t: 100%|██████████| 301/301 [00:40<00:00,  5.38it/s, now=None]WARNING:py.warnings:/usr/local/lib/python3.10/dist-packages/moviepy/video/io/ffmpeg_reader.py:123: UserWarning: Warning: in file /content/gdrive/MyDrive/Major FINAL RUN/Final Audio Dataset/evjkrjrged.mp4, 6220800 bytes wanted but 0 bytes read,at frame 300/301, at time 10.01/10.02 sec. Using the last valid frame instead.\n",
            "  warnings.warn(\"Warning: in file %s, \"%(self.filename)+\n",
            "\n"
          ]
        },
        {
          "name": "stdout",
          "output_type": "stream",
          "text": [
            "Moviepy - Done !\n",
            "Moviepy - video ready /content/gdrive/MyDrive/Major FINAL RUN/Audio_altFinal/evjkrjrged.mp4\n",
            "Processed 254 out of 744 videos. Audio removed from evjkrjrged.mp4 and saved to silent videos folder.\n",
            "Moviepy - Building video /content/gdrive/MyDrive/Major FINAL RUN/Audio_altFinal/faevxxupes.mp4.\n",
            "Moviepy - Writing video /content/gdrive/MyDrive/Major FINAL RUN/Audio_altFinal/faevxxupes.mp4\n",
            "\n"
          ]
        },
        {
          "name": "stderr",
          "output_type": "stream",
          "text": [
            "t: 100%|█████████▉| 300/301 [00:38<00:00,  8.78it/s, now=None]WARNING:py.warnings:/usr/local/lib/python3.10/dist-packages/moviepy/video/io/ffmpeg_reader.py:123: UserWarning: Warning: in file /content/gdrive/MyDrive/Major FINAL RUN/Final Audio Dataset/faevxxupes.mp4, 6220800 bytes wanted but 0 bytes read,at frame 300/301, at time 10.01/10.02 sec. Using the last valid frame instead.\n",
            "  warnings.warn(\"Warning: in file %s, \"%(self.filename)+\n",
            "\n"
          ]
        },
        {
          "name": "stdout",
          "output_type": "stream",
          "text": [
            "Moviepy - Done !\n",
            "Moviepy - video ready /content/gdrive/MyDrive/Major FINAL RUN/Audio_altFinal/faevxxupes.mp4\n",
            "Processed 255 out of 744 videos. Audio removed from faevxxupes.mp4 and saved to silent videos folder.\n",
            "Moviepy - Building video /content/gdrive/MyDrive/Major FINAL RUN/Audio_altFinal/ezuyqnjbwb.mp4.\n",
            "Moviepy - Writing video /content/gdrive/MyDrive/Major FINAL RUN/Audio_altFinal/ezuyqnjbwb.mp4\n",
            "\n"
          ]
        },
        {
          "name": "stderr",
          "output_type": "stream",
          "text": [
            "t: 100%|██████████| 301/301 [00:47<00:00,  4.62it/s, now=None]WARNING:py.warnings:/usr/local/lib/python3.10/dist-packages/moviepy/video/io/ffmpeg_reader.py:123: UserWarning: Warning: in file /content/gdrive/MyDrive/Major FINAL RUN/Final Audio Dataset/ezuyqnjbwb.mp4, 6220800 bytes wanted but 0 bytes read,at frame 300/301, at time 10.01/10.02 sec. Using the last valid frame instead.\n",
            "  warnings.warn(\"Warning: in file %s, \"%(self.filename)+\n",
            "\n"
          ]
        },
        {
          "name": "stdout",
          "output_type": "stream",
          "text": [
            "Moviepy - Done !\n",
            "Moviepy - video ready /content/gdrive/MyDrive/Major FINAL RUN/Audio_altFinal/ezuyqnjbwb.mp4\n",
            "Processed 256 out of 744 videos. Audio removed from ezuyqnjbwb.mp4 and saved to silent videos folder.\n",
            "Moviepy - Building video /content/gdrive/MyDrive/Major FINAL RUN/Audio_altFinal/eyzgwzegwv.mp4.\n",
            "Moviepy - Writing video /content/gdrive/MyDrive/Major FINAL RUN/Audio_altFinal/eyzgwzegwv.mp4\n",
            "\n"
          ]
        },
        {
          "name": "stderr",
          "output_type": "stream",
          "text": [
            "t: 100%|██████████| 301/301 [00:38<00:00,  9.54it/s, now=None]WARNING:py.warnings:/usr/local/lib/python3.10/dist-packages/moviepy/video/io/ffmpeg_reader.py:123: UserWarning: Warning: in file /content/gdrive/MyDrive/Major FINAL RUN/Final Audio Dataset/eyzgwzegwv.mp4, 6220800 bytes wanted but 0 bytes read,at frame 300/301, at time 10.01/10.02 sec. Using the last valid frame instead.\n",
            "  warnings.warn(\"Warning: in file %s, \"%(self.filename)+\n",
            "\n"
          ]
        },
        {
          "name": "stdout",
          "output_type": "stream",
          "text": [
            "Moviepy - Done !\n",
            "Moviepy - video ready /content/gdrive/MyDrive/Major FINAL RUN/Audio_altFinal/eyzgwzegwv.mp4\n",
            "Processed 257 out of 744 videos. Audio removed from eyzgwzegwv.mp4 and saved to silent videos folder.\n",
            "Moviepy - Building video /content/gdrive/MyDrive/Major FINAL RUN/Audio_altFinal/feubajatmw.mp4.\n",
            "Moviepy - Writing video /content/gdrive/MyDrive/Major FINAL RUN/Audio_altFinal/feubajatmw.mp4\n",
            "\n"
          ]
        },
        {
          "name": "stderr",
          "output_type": "stream",
          "text": [
            "t: 100%|██████████| 301/301 [00:43<00:00,  8.73it/s, now=None]WARNING:py.warnings:/usr/local/lib/python3.10/dist-packages/moviepy/video/io/ffmpeg_reader.py:123: UserWarning: Warning: in file /content/gdrive/MyDrive/Major FINAL RUN/Final Audio Dataset/feubajatmw.mp4, 6220800 bytes wanted but 0 bytes read,at frame 300/301, at time 10.01/10.02 sec. Using the last valid frame instead.\n",
            "  warnings.warn(\"Warning: in file %s, \"%(self.filename)+\n",
            "\n"
          ]
        },
        {
          "name": "stdout",
          "output_type": "stream",
          "text": [
            "Moviepy - Done !\n",
            "Moviepy - video ready /content/gdrive/MyDrive/Major FINAL RUN/Audio_altFinal/feubajatmw.mp4\n",
            "Processed 258 out of 744 videos. Audio removed from feubajatmw.mp4 and saved to silent videos folder.\n",
            "Moviepy - Building video /content/gdrive/MyDrive/Major FINAL RUN/Audio_altFinal/fgrgyxhmzk.mp4.\n",
            "Moviepy - Writing video /content/gdrive/MyDrive/Major FINAL RUN/Audio_altFinal/fgrgyxhmzk.mp4\n",
            "\n"
          ]
        },
        {
          "name": "stderr",
          "output_type": "stream",
          "text": [
            "t: 100%|██████████| 301/301 [00:38<00:00,  5.56it/s, now=None]WARNING:py.warnings:/usr/local/lib/python3.10/dist-packages/moviepy/video/io/ffmpeg_reader.py:123: UserWarning: Warning: in file /content/gdrive/MyDrive/Major FINAL RUN/Final Audio Dataset/fgrgyxhmzk.mp4, 6220800 bytes wanted but 0 bytes read,at frame 300/301, at time 10.01/10.02 sec. Using the last valid frame instead.\n",
            "  warnings.warn(\"Warning: in file %s, \"%(self.filename)+\n",
            "\n"
          ]
        },
        {
          "name": "stdout",
          "output_type": "stream",
          "text": [
            "Moviepy - Done !\n",
            "Moviepy - video ready /content/gdrive/MyDrive/Major FINAL RUN/Audio_altFinal/fgrgyxhmzk.mp4\n",
            "Processed 259 out of 744 videos. Audio removed from fgrgyxhmzk.mp4 and saved to silent videos folder.\n",
            "Moviepy - Building video /content/gdrive/MyDrive/Major FINAL RUN/Audio_altFinal/fgxotqcyqh.mp4.\n",
            "Moviepy - Writing video /content/gdrive/MyDrive/Major FINAL RUN/Audio_altFinal/fgxotqcyqh.mp4\n",
            "\n"
          ]
        },
        {
          "name": "stderr",
          "output_type": "stream",
          "text": [
            "t: 100%|██████████| 301/301 [00:48<00:00,  7.84it/s, now=None]WARNING:py.warnings:/usr/local/lib/python3.10/dist-packages/moviepy/video/io/ffmpeg_reader.py:123: UserWarning: Warning: in file /content/gdrive/MyDrive/Major FINAL RUN/Final Audio Dataset/fgxotqcyqh.mp4, 6220800 bytes wanted but 0 bytes read,at frame 300/301, at time 10.01/10.02 sec. Using the last valid frame instead.\n",
            "  warnings.warn(\"Warning: in file %s, \"%(self.filename)+\n",
            "\n"
          ]
        },
        {
          "name": "stdout",
          "output_type": "stream",
          "text": [
            "Moviepy - Done !\n",
            "Moviepy - video ready /content/gdrive/MyDrive/Major FINAL RUN/Audio_altFinal/fgxotqcyqh.mp4\n",
            "Processed 260 out of 744 videos. Audio removed from fgxotqcyqh.mp4 and saved to silent videos folder.\n",
            "Moviepy - Building video /content/gdrive/MyDrive/Major FINAL RUN/Audio_altFinal/fhonpnpnls.mp4.\n",
            "Moviepy - Writing video /content/gdrive/MyDrive/Major FINAL RUN/Audio_altFinal/fhonpnpnls.mp4\n",
            "\n"
          ]
        },
        {
          "name": "stderr",
          "output_type": "stream",
          "text": [
            "t: 100%|██████████| 301/301 [00:38<00:00,  5.57it/s, now=None]WARNING:py.warnings:/usr/local/lib/python3.10/dist-packages/moviepy/video/io/ffmpeg_reader.py:123: UserWarning: Warning: in file /content/gdrive/MyDrive/Major FINAL RUN/Final Audio Dataset/fhonpnpnls.mp4, 6220800 bytes wanted but 0 bytes read,at frame 300/301, at time 10.01/10.02 sec. Using the last valid frame instead.\n",
            "  warnings.warn(\"Warning: in file %s, \"%(self.filename)+\n",
            "\n"
          ]
        },
        {
          "name": "stdout",
          "output_type": "stream",
          "text": [
            "Moviepy - Done !\n",
            "Moviepy - video ready /content/gdrive/MyDrive/Major FINAL RUN/Audio_altFinal/fhonpnpnls.mp4\n",
            "Processed 261 out of 744 videos. Audio removed from fhonpnpnls.mp4 and saved to silent videos folder.\n",
            "Moviepy - Building video /content/gdrive/MyDrive/Major FINAL RUN/Audio_altFinal/fimhhyetym.mp4.\n",
            "Moviepy - Writing video /content/gdrive/MyDrive/Major FINAL RUN/Audio_altFinal/fimhhyetym.mp4\n",
            "\n"
          ]
        },
        {
          "name": "stderr",
          "output_type": "stream",
          "text": [
            "t: 100%|██████████| 301/301 [00:37<00:00,  9.54it/s, now=None]WARNING:py.warnings:/usr/local/lib/python3.10/dist-packages/moviepy/video/io/ffmpeg_reader.py:123: UserWarning: Warning: in file /content/gdrive/MyDrive/Major FINAL RUN/Final Audio Dataset/fimhhyetym.mp4, 6220800 bytes wanted but 0 bytes read,at frame 300/301, at time 10.01/10.02 sec. Using the last valid frame instead.\n",
            "  warnings.warn(\"Warning: in file %s, \"%(self.filename)+\n",
            "\n"
          ]
        },
        {
          "name": "stdout",
          "output_type": "stream",
          "text": [
            "Moviepy - Done !\n",
            "Moviepy - video ready /content/gdrive/MyDrive/Major FINAL RUN/Audio_altFinal/fimhhyetym.mp4\n",
            "Processed 262 out of 744 videos. Audio removed from fimhhyetym.mp4 and saved to silent videos folder.\n",
            "Moviepy - Building video /content/gdrive/MyDrive/Major FINAL RUN/Audio_altFinal/fivdmorlbt.mp4.\n",
            "Moviepy - Writing video /content/gdrive/MyDrive/Major FINAL RUN/Audio_altFinal/fivdmorlbt.mp4\n",
            "\n"
          ]
        },
        {
          "name": "stderr",
          "output_type": "stream",
          "text": [
            "t: 100%|██████████| 301/301 [00:39<00:00,  8.43it/s, now=None]WARNING:py.warnings:/usr/local/lib/python3.10/dist-packages/moviepy/video/io/ffmpeg_reader.py:123: UserWarning: Warning: in file /content/gdrive/MyDrive/Major FINAL RUN/Final Audio Dataset/fivdmorlbt.mp4, 6220800 bytes wanted but 0 bytes read,at frame 300/301, at time 10.01/10.02 sec. Using the last valid frame instead.\n",
            "  warnings.warn(\"Warning: in file %s, \"%(self.filename)+\n",
            "\n"
          ]
        },
        {
          "name": "stdout",
          "output_type": "stream",
          "text": [
            "Moviepy - Done !\n",
            "Moviepy - video ready /content/gdrive/MyDrive/Major FINAL RUN/Audio_altFinal/fivdmorlbt.mp4\n",
            "Processed 263 out of 744 videos. Audio removed from fivdmorlbt.mp4 and saved to silent videos folder.\n",
            "Moviepy - Building video /content/gdrive/MyDrive/Major FINAL RUN/Audio_altFinal/fjdulbehpx.mp4.\n",
            "Moviepy - Writing video /content/gdrive/MyDrive/Major FINAL RUN/Audio_altFinal/fjdulbehpx.mp4\n",
            "\n"
          ]
        },
        {
          "name": "stderr",
          "output_type": "stream",
          "text": [
            "t: 100%|██████████| 301/301 [00:37<00:00,  9.74it/s, now=None]WARNING:py.warnings:/usr/local/lib/python3.10/dist-packages/moviepy/video/io/ffmpeg_reader.py:123: UserWarning: Warning: in file /content/gdrive/MyDrive/Major FINAL RUN/Final Audio Dataset/fjdulbehpx.mp4, 6220800 bytes wanted but 0 bytes read,at frame 300/301, at time 10.01/10.02 sec. Using the last valid frame instead.\n",
            "  warnings.warn(\"Warning: in file %s, \"%(self.filename)+\n",
            "\n"
          ]
        },
        {
          "name": "stdout",
          "output_type": "stream",
          "text": [
            "Moviepy - Done !\n",
            "Moviepy - video ready /content/gdrive/MyDrive/Major FINAL RUN/Audio_altFinal/fjdulbehpx.mp4\n",
            "Processed 264 out of 744 videos. Audio removed from fjdulbehpx.mp4 and saved to silent videos folder.\n",
            "Moviepy - Building video /content/gdrive/MyDrive/Major FINAL RUN/Audio_altFinal/fknbxhdhna.mp4.\n",
            "Moviepy - Writing video /content/gdrive/MyDrive/Major FINAL RUN/Audio_altFinal/fknbxhdhna.mp4\n",
            "\n"
          ]
        },
        {
          "name": "stderr",
          "output_type": "stream",
          "text": [
            "t: 100%|█████████▉| 300/301 [00:40<00:00,  4.88it/s, now=None]WARNING:py.warnings:/usr/local/lib/python3.10/dist-packages/moviepy/video/io/ffmpeg_reader.py:123: UserWarning: Warning: in file /content/gdrive/MyDrive/Major FINAL RUN/Final Audio Dataset/fknbxhdhna.mp4, 6220800 bytes wanted but 0 bytes read,at frame 300/301, at time 10.01/10.02 sec. Using the last valid frame instead.\n",
            "  warnings.warn(\"Warning: in file %s, \"%(self.filename)+\n",
            "\n"
          ]
        },
        {
          "name": "stdout",
          "output_type": "stream",
          "text": [
            "Moviepy - Done !\n",
            "Moviepy - video ready /content/gdrive/MyDrive/Major FINAL RUN/Audio_altFinal/fknbxhdhna.mp4\n",
            "Processed 265 out of 744 videos. Audio removed from fknbxhdhna.mp4 and saved to silent videos folder.\n",
            "Moviepy - Building video /content/gdrive/MyDrive/Major FINAL RUN/Audio_altFinal/fljyoqhgcp.mp4.\n",
            "Moviepy - Writing video /content/gdrive/MyDrive/Major FINAL RUN/Audio_altFinal/fljyoqhgcp.mp4\n",
            "\n"
          ]
        },
        {
          "name": "stderr",
          "output_type": "stream",
          "text": [
            "t: 100%|██████████| 301/301 [00:36<00:00,  9.44it/s, now=None]WARNING:py.warnings:/usr/local/lib/python3.10/dist-packages/moviepy/video/io/ffmpeg_reader.py:123: UserWarning: Warning: in file /content/gdrive/MyDrive/Major FINAL RUN/Final Audio Dataset/fljyoqhgcp.mp4, 6220800 bytes wanted but 0 bytes read,at frame 300/301, at time 10.01/10.02 sec. Using the last valid frame instead.\n",
            "  warnings.warn(\"Warning: in file %s, \"%(self.filename)+\n",
            "\n"
          ]
        },
        {
          "name": "stdout",
          "output_type": "stream",
          "text": [
            "Moviepy - Done !\n",
            "Moviepy - video ready /content/gdrive/MyDrive/Major FINAL RUN/Audio_altFinal/fljyoqhgcp.mp4\n",
            "Processed 266 out of 744 videos. Audio removed from fljyoqhgcp.mp4 and saved to silent videos folder.\n",
            "Moviepy - Building video /content/gdrive/MyDrive/Major FINAL RUN/Audio_altFinal/flbrvohbvv.mp4.\n",
            "Moviepy - Writing video /content/gdrive/MyDrive/Major FINAL RUN/Audio_altFinal/flbrvohbvv.mp4\n",
            "\n"
          ]
        },
        {
          "name": "stderr",
          "output_type": "stream",
          "text": [
            "t: 100%|██████████| 301/301 [00:38<00:00,  8.73it/s, now=None]WARNING:py.warnings:/usr/local/lib/python3.10/dist-packages/moviepy/video/io/ffmpeg_reader.py:123: UserWarning: Warning: in file /content/gdrive/MyDrive/Major FINAL RUN/Final Audio Dataset/flbrvohbvv.mp4, 6220800 bytes wanted but 0 bytes read,at frame 300/301, at time 10.01/10.02 sec. Using the last valid frame instead.\n",
            "  warnings.warn(\"Warning: in file %s, \"%(self.filename)+\n",
            "\n"
          ]
        },
        {
          "name": "stdout",
          "output_type": "stream",
          "text": [
            "Moviepy - Done !\n",
            "Moviepy - video ready /content/gdrive/MyDrive/Major FINAL RUN/Audio_altFinal/flbrvohbvv.mp4\n",
            "Processed 267 out of 744 videos. Audio removed from flbrvohbvv.mp4 and saved to silent videos folder.\n",
            "Moviepy - Building video /content/gdrive/MyDrive/Major FINAL RUN/Audio_altFinal/fmlrikvqcc.mp4.\n",
            "Moviepy - Writing video /content/gdrive/MyDrive/Major FINAL RUN/Audio_altFinal/fmlrikvqcc.mp4\n",
            "\n"
          ]
        },
        {
          "name": "stderr",
          "output_type": "stream",
          "text": [
            "t: 100%|██████████| 301/301 [00:38<00:00,  8.61it/s, now=None]WARNING:py.warnings:/usr/local/lib/python3.10/dist-packages/moviepy/video/io/ffmpeg_reader.py:123: UserWarning: Warning: in file /content/gdrive/MyDrive/Major FINAL RUN/Final Audio Dataset/fmlrikvqcc.mp4, 6220800 bytes wanted but 0 bytes read,at frame 300/301, at time 10.01/10.02 sec. Using the last valid frame instead.\n",
            "  warnings.warn(\"Warning: in file %s, \"%(self.filename)+\n",
            "\n"
          ]
        },
        {
          "name": "stdout",
          "output_type": "stream",
          "text": [
            "Moviepy - Done !\n",
            "Moviepy - video ready /content/gdrive/MyDrive/Major FINAL RUN/Audio_altFinal/fmlrikvqcc.mp4\n",
            "Processed 268 out of 744 videos. Audio removed from fmlrikvqcc.mp4 and saved to silent videos folder.\n",
            "Moviepy - Building video /content/gdrive/MyDrive/Major FINAL RUN/Audio_altFinal/fmztdticln.mp4.\n",
            "Moviepy - Writing video /content/gdrive/MyDrive/Major FINAL RUN/Audio_altFinal/fmztdticln.mp4\n",
            "\n"
          ]
        },
        {
          "name": "stderr",
          "output_type": "stream",
          "text": [
            "t: 100%|██████████| 301/301 [00:38<00:00,  5.56it/s, now=None]WARNING:py.warnings:/usr/local/lib/python3.10/dist-packages/moviepy/video/io/ffmpeg_reader.py:123: UserWarning: Warning: in file /content/gdrive/MyDrive/Major FINAL RUN/Final Audio Dataset/fmztdticln.mp4, 6220800 bytes wanted but 0 bytes read,at frame 300/301, at time 10.01/10.02 sec. Using the last valid frame instead.\n",
            "  warnings.warn(\"Warning: in file %s, \"%(self.filename)+\n",
            "\n"
          ]
        },
        {
          "name": "stdout",
          "output_type": "stream",
          "text": [
            "Moviepy - Done !\n",
            "Moviepy - video ready /content/gdrive/MyDrive/Major FINAL RUN/Audio_altFinal/fmztdticln.mp4\n",
            "Processed 269 out of 744 videos. Audio removed from fmztdticln.mp4 and saved to silent videos folder.\n",
            "Moviepy - Building video /content/gdrive/MyDrive/Major FINAL RUN/Audio_altFinal/fnhtrjggdb.mp4.\n",
            "Moviepy - Writing video /content/gdrive/MyDrive/Major FINAL RUN/Audio_altFinal/fnhtrjggdb.mp4\n",
            "\n"
          ]
        },
        {
          "name": "stderr",
          "output_type": "stream",
          "text": [
            "t: 100%|██████████| 301/301 [00:34<00:00, 10.10it/s, now=None]WARNING:py.warnings:/usr/local/lib/python3.10/dist-packages/moviepy/video/io/ffmpeg_reader.py:123: UserWarning: Warning: in file /content/gdrive/MyDrive/Major FINAL RUN/Final Audio Dataset/fnhtrjggdb.mp4, 6220800 bytes wanted but 0 bytes read,at frame 300/301, at time 10.01/10.02 sec. Using the last valid frame instead.\n",
            "  warnings.warn(\"Warning: in file %s, \"%(self.filename)+\n",
            "\n"
          ]
        },
        {
          "name": "stdout",
          "output_type": "stream",
          "text": [
            "Moviepy - Done !\n",
            "Moviepy - video ready /content/gdrive/MyDrive/Major FINAL RUN/Audio_altFinal/fnhtrjggdb.mp4\n",
            "Processed 270 out of 744 videos. Audio removed from fnhtrjggdb.mp4 and saved to silent videos folder.\n",
            "Moviepy - Building video /content/gdrive/MyDrive/Major FINAL RUN/Audio_altFinal/fntpvkeksp.mp4.\n",
            "Moviepy - Writing video /content/gdrive/MyDrive/Major FINAL RUN/Audio_altFinal/fntpvkeksp.mp4\n",
            "\n"
          ]
        },
        {
          "name": "stderr",
          "output_type": "stream",
          "text": [
            "t: 100%|█████████▉| 300/301 [00:37<00:00,  5.16it/s, now=None]WARNING:py.warnings:/usr/local/lib/python3.10/dist-packages/moviepy/video/io/ffmpeg_reader.py:123: UserWarning: Warning: in file /content/gdrive/MyDrive/Major FINAL RUN/Final Audio Dataset/fntpvkeksp.mp4, 6220800 bytes wanted but 0 bytes read,at frame 300/301, at time 10.01/10.02 sec. Using the last valid frame instead.\n",
            "  warnings.warn(\"Warning: in file %s, \"%(self.filename)+\n",
            "\n"
          ]
        },
        {
          "name": "stdout",
          "output_type": "stream",
          "text": [
            "Moviepy - Done !\n",
            "Moviepy - video ready /content/gdrive/MyDrive/Major FINAL RUN/Audio_altFinal/fntpvkeksp.mp4\n",
            "Processed 271 out of 744 videos. Audio removed from fntpvkeksp.mp4 and saved to silent videos folder.\n",
            "Moviepy - Building video /content/gdrive/MyDrive/Major FINAL RUN/Audio_altFinal/fnwnfnrbte.mp4.\n",
            "Moviepy - Writing video /content/gdrive/MyDrive/Major FINAL RUN/Audio_altFinal/fnwnfnrbte.mp4\n",
            "\n"
          ]
        },
        {
          "name": "stderr",
          "output_type": "stream",
          "text": [
            "t: 100%|██████████| 301/301 [00:36<00:00,  9.83it/s, now=None]WARNING:py.warnings:/usr/local/lib/python3.10/dist-packages/moviepy/video/io/ffmpeg_reader.py:123: UserWarning: Warning: in file /content/gdrive/MyDrive/Major FINAL RUN/Final Audio Dataset/fnwnfnrbte.mp4, 6220800 bytes wanted but 0 bytes read,at frame 300/301, at time 10.01/10.02 sec. Using the last valid frame instead.\n",
            "  warnings.warn(\"Warning: in file %s, \"%(self.filename)+\n",
            "\n"
          ]
        },
        {
          "name": "stdout",
          "output_type": "stream",
          "text": [
            "Moviepy - Done !\n",
            "Moviepy - video ready /content/gdrive/MyDrive/Major FINAL RUN/Audio_altFinal/fnwnfnrbte.mp4\n",
            "Processed 272 out of 744 videos. Audio removed from fnwnfnrbte.mp4 and saved to silent videos folder.\n",
            "Moviepy - Building video /content/gdrive/MyDrive/Major FINAL RUN/Audio_altFinal/fratowhttl.mp4.\n",
            "Moviepy - Writing video /content/gdrive/MyDrive/Major FINAL RUN/Audio_altFinal/fratowhttl.mp4\n",
            "\n"
          ]
        },
        {
          "name": "stderr",
          "output_type": "stream",
          "text": [
            "t: 100%|██████████| 301/301 [00:48<00:00,  8.42it/s, now=None]WARNING:py.warnings:/usr/local/lib/python3.10/dist-packages/moviepy/video/io/ffmpeg_reader.py:123: UserWarning: Warning: in file /content/gdrive/MyDrive/Major FINAL RUN/Final Audio Dataset/fratowhttl.mp4, 6220800 bytes wanted but 0 bytes read,at frame 300/301, at time 10.01/10.02 sec. Using the last valid frame instead.\n",
            "  warnings.warn(\"Warning: in file %s, \"%(self.filename)+\n",
            "\n"
          ]
        },
        {
          "name": "stdout",
          "output_type": "stream",
          "text": [
            "Moviepy - Done !\n",
            "Moviepy - video ready /content/gdrive/MyDrive/Major FINAL RUN/Audio_altFinal/fratowhttl.mp4\n",
            "Processed 273 out of 744 videos. Audio removed from fratowhttl.mp4 and saved to silent videos folder.\n",
            "Moviepy - Building video /content/gdrive/MyDrive/Major FINAL RUN/Audio_altFinal/fptewxnuyt.mp4.\n",
            "Moviepy - Writing video /content/gdrive/MyDrive/Major FINAL RUN/Audio_altFinal/fptewxnuyt.mp4\n",
            "\n"
          ]
        },
        {
          "name": "stderr",
          "output_type": "stream",
          "text": [
            "t: 100%|██████████| 301/301 [00:36<00:00,  9.09it/s, now=None]WARNING:py.warnings:/usr/local/lib/python3.10/dist-packages/moviepy/video/io/ffmpeg_reader.py:123: UserWarning: Warning: in file /content/gdrive/MyDrive/Major FINAL RUN/Final Audio Dataset/fptewxnuyt.mp4, 6220800 bytes wanted but 0 bytes read,at frame 300/301, at time 10.01/10.02 sec. Using the last valid frame instead.\n",
            "  warnings.warn(\"Warning: in file %s, \"%(self.filename)+\n",
            "\n"
          ]
        },
        {
          "name": "stdout",
          "output_type": "stream",
          "text": [
            "Moviepy - Done !\n",
            "Moviepy - video ready /content/gdrive/MyDrive/Major FINAL RUN/Audio_altFinal/fptewxnuyt.mp4\n",
            "Processed 274 out of 744 videos. Audio removed from fptewxnuyt.mp4 and saved to silent videos folder.\n",
            "Moviepy - Building video /content/gdrive/MyDrive/Major FINAL RUN/Audio_altFinal/fskjykudzw.mp4.\n",
            "Moviepy - Writing video /content/gdrive/MyDrive/Major FINAL RUN/Audio_altFinal/fskjykudzw.mp4\n",
            "\n"
          ]
        },
        {
          "name": "stderr",
          "output_type": "stream",
          "text": [
            "t: 100%|██████████| 301/301 [00:36<00:00,  9.11it/s, now=None]WARNING:py.warnings:/usr/local/lib/python3.10/dist-packages/moviepy/video/io/ffmpeg_reader.py:123: UserWarning: Warning: in file /content/gdrive/MyDrive/Major FINAL RUN/Final Audio Dataset/fskjykudzw.mp4, 6220800 bytes wanted but 0 bytes read,at frame 300/301, at time 10.01/10.02 sec. Using the last valid frame instead.\n",
            "  warnings.warn(\"Warning: in file %s, \"%(self.filename)+\n",
            "\n"
          ]
        },
        {
          "name": "stdout",
          "output_type": "stream",
          "text": [
            "Moviepy - Done !\n",
            "Moviepy - video ready /content/gdrive/MyDrive/Major FINAL RUN/Audio_altFinal/fskjykudzw.mp4\n",
            "Processed 275 out of 744 videos. Audio removed from fskjykudzw.mp4 and saved to silent videos folder.\n",
            "Moviepy - Building video /content/gdrive/MyDrive/Major FINAL RUN/Audio_altFinal/frousigghf.mp4.\n",
            "Moviepy - Writing video /content/gdrive/MyDrive/Major FINAL RUN/Audio_altFinal/frousigghf.mp4\n",
            "\n"
          ]
        },
        {
          "name": "stderr",
          "output_type": "stream",
          "text": [
            "t: 100%|██████████| 301/301 [00:43<00:00,  6.99it/s, now=None]WARNING:py.warnings:/usr/local/lib/python3.10/dist-packages/moviepy/video/io/ffmpeg_reader.py:123: UserWarning: Warning: in file /content/gdrive/MyDrive/Major FINAL RUN/Final Audio Dataset/frousigghf.mp4, 6220800 bytes wanted but 0 bytes read,at frame 300/301, at time 10.01/10.02 sec. Using the last valid frame instead.\n",
            "  warnings.warn(\"Warning: in file %s, \"%(self.filename)+\n",
            "\n"
          ]
        },
        {
          "name": "stdout",
          "output_type": "stream",
          "text": [
            "Moviepy - Done !\n",
            "Moviepy - video ready /content/gdrive/MyDrive/Major FINAL RUN/Audio_altFinal/frousigghf.mp4\n",
            "Processed 276 out of 744 videos. Audio removed from frousigghf.mp4 and saved to silent videos folder.\n",
            "Moviepy - Building video /content/gdrive/MyDrive/Major FINAL RUN/Audio_altFinal/fsqteuqfqj.mp4.\n",
            "Moviepy - Writing video /content/gdrive/MyDrive/Major FINAL RUN/Audio_altFinal/fsqteuqfqj.mp4\n",
            "\n"
          ]
        },
        {
          "name": "stderr",
          "output_type": "stream",
          "text": [
            "t: 100%|██████████| 301/301 [00:35<00:00, 10.17it/s, now=None]WARNING:py.warnings:/usr/local/lib/python3.10/dist-packages/moviepy/video/io/ffmpeg_reader.py:123: UserWarning: Warning: in file /content/gdrive/MyDrive/Major FINAL RUN/Final Audio Dataset/fsqteuqfqj.mp4, 6220800 bytes wanted but 0 bytes read,at frame 300/301, at time 10.01/10.02 sec. Using the last valid frame instead.\n",
            "  warnings.warn(\"Warning: in file %s, \"%(self.filename)+\n",
            "\n"
          ]
        },
        {
          "name": "stdout",
          "output_type": "stream",
          "text": [
            "Moviepy - Done !\n",
            "Moviepy - video ready /content/gdrive/MyDrive/Major FINAL RUN/Audio_altFinal/fsqteuqfqj.mp4\n",
            "Processed 277 out of 744 videos. Audio removed from fsqteuqfqj.mp4 and saved to silent videos folder.\n",
            "Moviepy - Building video /content/gdrive/MyDrive/Major FINAL RUN/Audio_altFinal/fvcxtymazh.mp4.\n",
            "Moviepy - Writing video /content/gdrive/MyDrive/Major FINAL RUN/Audio_altFinal/fvcxtymazh.mp4\n",
            "\n"
          ]
        },
        {
          "name": "stderr",
          "output_type": "stream",
          "text": [
            "t: 100%|██████████| 301/301 [00:42<00:00,  8.49it/s, now=None]WARNING:py.warnings:/usr/local/lib/python3.10/dist-packages/moviepy/video/io/ffmpeg_reader.py:123: UserWarning: Warning: in file /content/gdrive/MyDrive/Major FINAL RUN/Final Audio Dataset/fvcxtymazh.mp4, 6220800 bytes wanted but 0 bytes read,at frame 300/301, at time 10.01/10.02 sec. Using the last valid frame instead.\n",
            "  warnings.warn(\"Warning: in file %s, \"%(self.filename)+\n",
            "\n"
          ]
        },
        {
          "name": "stdout",
          "output_type": "stream",
          "text": [
            "Moviepy - Done !\n",
            "Moviepy - video ready /content/gdrive/MyDrive/Major FINAL RUN/Audio_altFinal/fvcxtymazh.mp4\n",
            "Processed 278 out of 744 videos. Audio removed from fvcxtymazh.mp4 and saved to silent videos folder.\n",
            "Moviepy - Building video /content/gdrive/MyDrive/Major FINAL RUN/Audio_altFinal/fvcnftvtjv.mp4.\n",
            "Moviepy - Writing video /content/gdrive/MyDrive/Major FINAL RUN/Audio_altFinal/fvcnftvtjv.mp4\n",
            "\n"
          ]
        },
        {
          "name": "stderr",
          "output_type": "stream",
          "text": [
            "t: 100%|██████████| 301/301 [00:40<00:00,  7.53it/s, now=None]WARNING:py.warnings:/usr/local/lib/python3.10/dist-packages/moviepy/video/io/ffmpeg_reader.py:123: UserWarning: Warning: in file /content/gdrive/MyDrive/Major FINAL RUN/Final Audio Dataset/fvcnftvtjv.mp4, 6220800 bytes wanted but 0 bytes read,at frame 300/301, at time 10.01/10.02 sec. Using the last valid frame instead.\n",
            "  warnings.warn(\"Warning: in file %s, \"%(self.filename)+\n",
            "\n"
          ]
        },
        {
          "name": "stdout",
          "output_type": "stream",
          "text": [
            "Moviepy - Done !\n",
            "Moviepy - video ready /content/gdrive/MyDrive/Major FINAL RUN/Audio_altFinal/fvcnftvtjv.mp4\n",
            "Processed 279 out of 744 videos. Audio removed from fvcnftvtjv.mp4 and saved to silent videos folder.\n",
            "Moviepy - Building video /content/gdrive/MyDrive/Major FINAL RUN/Audio_altFinal/fwekcrqdak.mp4.\n",
            "Moviepy - Writing video /content/gdrive/MyDrive/Major FINAL RUN/Audio_altFinal/fwekcrqdak.mp4\n",
            "\n"
          ]
        },
        {
          "name": "stderr",
          "output_type": "stream",
          "text": [
            "t: 100%|██████████| 301/301 [00:36<00:00, 10.06it/s, now=None]WARNING:py.warnings:/usr/local/lib/python3.10/dist-packages/moviepy/video/io/ffmpeg_reader.py:123: UserWarning: Warning: in file /content/gdrive/MyDrive/Major FINAL RUN/Final Audio Dataset/fwekcrqdak.mp4, 6220800 bytes wanted but 0 bytes read,at frame 300/301, at time 10.01/10.02 sec. Using the last valid frame instead.\n",
            "  warnings.warn(\"Warning: in file %s, \"%(self.filename)+\n",
            "\n"
          ]
        },
        {
          "name": "stdout",
          "output_type": "stream",
          "text": [
            "Moviepy - Done !\n",
            "Moviepy - video ready /content/gdrive/MyDrive/Major FINAL RUN/Audio_altFinal/fwekcrqdak.mp4\n",
            "Processed 280 out of 744 videos. Audio removed from fwekcrqdak.mp4 and saved to silent videos folder.\n",
            "Moviepy - Building video /content/gdrive/MyDrive/Major FINAL RUN/Audio_altFinal/gbasqpxnww.mp4.\n",
            "Moviepy - Writing video /content/gdrive/MyDrive/Major FINAL RUN/Audio_altFinal/gbasqpxnww.mp4\n",
            "\n"
          ]
        },
        {
          "name": "stderr",
          "output_type": "stream",
          "text": [
            "t: 100%|██████████| 299/299 [00:44<00:00,  6.27it/s, now=None]WARNING:py.warnings:/usr/local/lib/python3.10/dist-packages/moviepy/video/io/ffmpeg_reader.py:123: UserWarning: Warning: in file /content/gdrive/MyDrive/Major FINAL RUN/Final Audio Dataset/gbasqpxnww.mp4, 6220800 bytes wanted but 0 bytes read,at frame 298/299, at time 10.00/10.02 sec. Using the last valid frame instead.\n",
            "  warnings.warn(\"Warning: in file %s, \"%(self.filename)+\n",
            "\n"
          ]
        },
        {
          "name": "stdout",
          "output_type": "stream",
          "text": [
            "Moviepy - Done !\n",
            "Moviepy - video ready /content/gdrive/MyDrive/Major FINAL RUN/Audio_altFinal/gbasqpxnww.mp4\n",
            "Processed 281 out of 744 videos. Audio removed from gbasqpxnww.mp4 and saved to silent videos folder.\n",
            "Moviepy - Building video /content/gdrive/MyDrive/Major FINAL RUN/Audio_altFinal/gckeefyxlu.mp4.\n",
            "Moviepy - Writing video /content/gdrive/MyDrive/Major FINAL RUN/Audio_altFinal/gckeefyxlu.mp4\n",
            "\n"
          ]
        },
        {
          "name": "stderr",
          "output_type": "stream",
          "text": [
            "t: 100%|█████████▉| 300/301 [00:37<00:00,  9.41it/s, now=None]WARNING:py.warnings:/usr/local/lib/python3.10/dist-packages/moviepy/video/io/ffmpeg_reader.py:123: UserWarning: Warning: in file /content/gdrive/MyDrive/Major FINAL RUN/Final Audio Dataset/gckeefyxlu.mp4, 6220800 bytes wanted but 0 bytes read,at frame 300/301, at time 10.01/10.02 sec. Using the last valid frame instead.\n",
            "  warnings.warn(\"Warning: in file %s, \"%(self.filename)+\n",
            "\n"
          ]
        },
        {
          "name": "stdout",
          "output_type": "stream",
          "text": [
            "Moviepy - Done !\n",
            "Moviepy - video ready /content/gdrive/MyDrive/Major FINAL RUN/Audio_altFinal/gckeefyxlu.mp4\n",
            "Processed 282 out of 744 videos. Audio removed from gckeefyxlu.mp4 and saved to silent videos folder.\n",
            "Moviepy - Building video /content/gdrive/MyDrive/Major FINAL RUN/Audio_altFinal/gdrqrlryeu.mp4.\n",
            "Moviepy - Writing video /content/gdrive/MyDrive/Major FINAL RUN/Audio_altFinal/gdrqrlryeu.mp4\n",
            "\n"
          ]
        },
        {
          "name": "stderr",
          "output_type": "stream",
          "text": [
            "t: 100%|█████████▉| 300/301 [00:38<00:00,  8.20it/s, now=None]WARNING:py.warnings:/usr/local/lib/python3.10/dist-packages/moviepy/video/io/ffmpeg_reader.py:123: UserWarning: Warning: in file /content/gdrive/MyDrive/Major FINAL RUN/Final Audio Dataset/gdrqrlryeu.mp4, 6220800 bytes wanted but 0 bytes read,at frame 300/301, at time 10.01/10.02 sec. Using the last valid frame instead.\n",
            "  warnings.warn(\"Warning: in file %s, \"%(self.filename)+\n",
            "\n"
          ]
        },
        {
          "name": "stdout",
          "output_type": "stream",
          "text": [
            "Moviepy - Done !\n",
            "Moviepy - video ready /content/gdrive/MyDrive/Major FINAL RUN/Audio_altFinal/gdrqrlryeu.mp4\n",
            "Processed 283 out of 744 videos. Audio removed from gdrqrlryeu.mp4 and saved to silent videos folder.\n",
            "Moviepy - Building video /content/gdrive/MyDrive/Major FINAL RUN/Audio_altFinal/gbvravevjt.mp4.\n",
            "Moviepy - Writing video /content/gdrive/MyDrive/Major FINAL RUN/Audio_altFinal/gbvravevjt.mp4\n",
            "\n"
          ]
        },
        {
          "name": "stderr",
          "output_type": "stream",
          "text": [
            "t: 100%|█████████▉| 300/301 [00:44<00:00,  9.56it/s, now=None]WARNING:py.warnings:/usr/local/lib/python3.10/dist-packages/moviepy/video/io/ffmpeg_reader.py:123: UserWarning: Warning: in file /content/gdrive/MyDrive/Major FINAL RUN/Final Audio Dataset/gbvravevjt.mp4, 6220800 bytes wanted but 0 bytes read,at frame 300/301, at time 10.01/10.02 sec. Using the last valid frame instead.\n",
            "  warnings.warn(\"Warning: in file %s, \"%(self.filename)+\n",
            "\n"
          ]
        },
        {
          "name": "stdout",
          "output_type": "stream",
          "text": [
            "Moviepy - Done !\n",
            "Moviepy - video ready /content/gdrive/MyDrive/Major FINAL RUN/Audio_altFinal/gbvravevjt.mp4\n",
            "Processed 284 out of 744 videos. Audio removed from gbvravevjt.mp4 and saved to silent videos folder.\n",
            "Moviepy - Building video /content/gdrive/MyDrive/Major FINAL RUN/Audio_altFinal/geezrhjaml.mp4.\n",
            "Moviepy - Writing video /content/gdrive/MyDrive/Major FINAL RUN/Audio_altFinal/geezrhjaml.mp4\n",
            "\n"
          ]
        },
        {
          "name": "stderr",
          "output_type": "stream",
          "text": [
            "t: 100%|██████████| 301/301 [00:39<00:00,  5.67it/s, now=None]WARNING:py.warnings:/usr/local/lib/python3.10/dist-packages/moviepy/video/io/ffmpeg_reader.py:123: UserWarning: Warning: in file /content/gdrive/MyDrive/Major FINAL RUN/Final Audio Dataset/geezrhjaml.mp4, 6220800 bytes wanted but 0 bytes read,at frame 300/301, at time 10.01/10.02 sec. Using the last valid frame instead.\n",
            "  warnings.warn(\"Warning: in file %s, \"%(self.filename)+\n",
            "\n"
          ]
        },
        {
          "name": "stdout",
          "output_type": "stream",
          "text": [
            "Moviepy - Done !\n",
            "Moviepy - video ready /content/gdrive/MyDrive/Major FINAL RUN/Audio_altFinal/geezrhjaml.mp4\n",
            "Processed 285 out of 744 videos. Audio removed from geezrhjaml.mp4 and saved to silent videos folder.\n",
            "Moviepy - Building video /content/gdrive/MyDrive/Major FINAL RUN/Audio_altFinal/gefwxtpjiz.mp4.\n",
            "Moviepy - Writing video /content/gdrive/MyDrive/Major FINAL RUN/Audio_altFinal/gefwxtpjiz.mp4\n",
            "\n"
          ]
        },
        {
          "name": "stderr",
          "output_type": "stream",
          "text": [
            "t: 100%|█████████▉| 300/301 [00:39<00:00,  9.79it/s, now=None]WARNING:py.warnings:/usr/local/lib/python3.10/dist-packages/moviepy/video/io/ffmpeg_reader.py:123: UserWarning: Warning: in file /content/gdrive/MyDrive/Major FINAL RUN/Final Audio Dataset/gefwxtpjiz.mp4, 6220800 bytes wanted but 0 bytes read,at frame 300/301, at time 10.01/10.02 sec. Using the last valid frame instead.\n",
            "  warnings.warn(\"Warning: in file %s, \"%(self.filename)+\n",
            "\n"
          ]
        },
        {
          "name": "stdout",
          "output_type": "stream",
          "text": [
            "Moviepy - Done !\n",
            "Moviepy - video ready /content/gdrive/MyDrive/Major FINAL RUN/Audio_altFinal/gefwxtpjiz.mp4\n",
            "Processed 286 out of 744 videos. Audio removed from gefwxtpjiz.mp4 and saved to silent videos folder.\n",
            "Moviepy - Building video /content/gdrive/MyDrive/Major FINAL RUN/Audio_altFinal/ggpxsyidcv.mp4.\n",
            "Moviepy - Writing video /content/gdrive/MyDrive/Major FINAL RUN/Audio_altFinal/ggpxsyidcv.mp4\n",
            "\n"
          ]
        },
        {
          "name": "stderr",
          "output_type": "stream",
          "text": [
            "t: 100%|██████████| 301/301 [00:49<00:00,  7.66it/s, now=None]WARNING:py.warnings:/usr/local/lib/python3.10/dist-packages/moviepy/video/io/ffmpeg_reader.py:123: UserWarning: Warning: in file /content/gdrive/MyDrive/Major FINAL RUN/Final Audio Dataset/ggpxsyidcv.mp4, 6220800 bytes wanted but 0 bytes read,at frame 300/301, at time 10.01/10.02 sec. Using the last valid frame instead.\n",
            "  warnings.warn(\"Warning: in file %s, \"%(self.filename)+\n",
            "\n"
          ]
        },
        {
          "name": "stdout",
          "output_type": "stream",
          "text": [
            "Moviepy - Done !\n",
            "Moviepy - video ready /content/gdrive/MyDrive/Major FINAL RUN/Audio_altFinal/ggpxsyidcv.mp4\n",
            "Processed 287 out of 744 videos. Audio removed from ggpxsyidcv.mp4 and saved to silent videos folder.\n",
            "Moviepy - Building video /content/gdrive/MyDrive/Major FINAL RUN/Audio_altFinal/ggbutwtdet.mp4.\n",
            "Moviepy - Writing video /content/gdrive/MyDrive/Major FINAL RUN/Audio_altFinal/ggbutwtdet.mp4\n",
            "\n"
          ]
        },
        {
          "name": "stderr",
          "output_type": "stream",
          "text": [
            "t: 100%|██████████| 301/301 [00:37<00:00,  9.27it/s, now=None]WARNING:py.warnings:/usr/local/lib/python3.10/dist-packages/moviepy/video/io/ffmpeg_reader.py:123: UserWarning: Warning: in file /content/gdrive/MyDrive/Major FINAL RUN/Final Audio Dataset/ggbutwtdet.mp4, 6220800 bytes wanted but 0 bytes read,at frame 300/301, at time 10.01/10.02 sec. Using the last valid frame instead.\n",
            "  warnings.warn(\"Warning: in file %s, \"%(self.filename)+\n",
            "\n"
          ]
        },
        {
          "name": "stdout",
          "output_type": "stream",
          "text": [
            "Moviepy - Done !\n",
            "Moviepy - video ready /content/gdrive/MyDrive/Major FINAL RUN/Audio_altFinal/ggbutwtdet.mp4\n",
            "Processed 288 out of 744 videos. Audio removed from ggbutwtdet.mp4 and saved to silent videos folder.\n",
            "Moviepy - Building video /content/gdrive/MyDrive/Major FINAL RUN/Audio_altFinal/ggjcrroblk.mp4.\n",
            "Moviepy - Writing video /content/gdrive/MyDrive/Major FINAL RUN/Audio_altFinal/ggjcrroblk.mp4\n",
            "\n"
          ]
        },
        {
          "name": "stderr",
          "output_type": "stream",
          "text": [
            "t: 100%|██████████| 301/301 [00:40<00:00,  5.38it/s, now=None]WARNING:py.warnings:/usr/local/lib/python3.10/dist-packages/moviepy/video/io/ffmpeg_reader.py:123: UserWarning: Warning: in file /content/gdrive/MyDrive/Major FINAL RUN/Final Audio Dataset/ggjcrroblk.mp4, 6220800 bytes wanted but 0 bytes read,at frame 300/301, at time 10.01/10.02 sec. Using the last valid frame instead.\n",
            "  warnings.warn(\"Warning: in file %s, \"%(self.filename)+\n",
            "\n"
          ]
        },
        {
          "name": "stdout",
          "output_type": "stream",
          "text": [
            "Moviepy - Done !\n",
            "Moviepy - video ready /content/gdrive/MyDrive/Major FINAL RUN/Audio_altFinal/ggjcrroblk.mp4\n",
            "Processed 289 out of 744 videos. Audio removed from ggjcrroblk.mp4 and saved to silent videos folder.\n",
            "Moviepy - Building video /content/gdrive/MyDrive/Major FINAL RUN/Audio_altFinal/ghfttccnuc.mp4.\n",
            "Moviepy - Writing video /content/gdrive/MyDrive/Major FINAL RUN/Audio_altFinal/ghfttccnuc.mp4\n",
            "\n"
          ]
        },
        {
          "name": "stderr",
          "output_type": "stream",
          "text": [
            "t: 100%|██████████| 301/301 [00:37<00:00,  7.86it/s, now=None]WARNING:py.warnings:/usr/local/lib/python3.10/dist-packages/moviepy/video/io/ffmpeg_reader.py:123: UserWarning: Warning: in file /content/gdrive/MyDrive/Major FINAL RUN/Final Audio Dataset/ghfttccnuc.mp4, 6220800 bytes wanted but 0 bytes read,at frame 300/301, at time 10.01/10.02 sec. Using the last valid frame instead.\n",
            "  warnings.warn(\"Warning: in file %s, \"%(self.filename)+\n",
            "\n"
          ]
        },
        {
          "name": "stdout",
          "output_type": "stream",
          "text": [
            "Moviepy - Done !\n",
            "Moviepy - video ready /content/gdrive/MyDrive/Major FINAL RUN/Audio_altFinal/ghfttccnuc.mp4\n",
            "Processed 290 out of 744 videos. Audio removed from ghfttccnuc.mp4 and saved to silent videos folder.\n",
            "Moviepy - Building video /content/gdrive/MyDrive/Major FINAL RUN/Audio_altFinal/ggznlcjsce.mp4.\n",
            "Moviepy - Writing video /content/gdrive/MyDrive/Major FINAL RUN/Audio_altFinal/ggznlcjsce.mp4\n",
            "\n"
          ]
        },
        {
          "name": "stderr",
          "output_type": "stream",
          "text": [
            "t: 100%|█████████▉| 300/301 [00:39<00:00,  9.18it/s, now=None]WARNING:py.warnings:/usr/local/lib/python3.10/dist-packages/moviepy/video/io/ffmpeg_reader.py:123: UserWarning: Warning: in file /content/gdrive/MyDrive/Major FINAL RUN/Final Audio Dataset/ggznlcjsce.mp4, 6220800 bytes wanted but 0 bytes read,at frame 300/301, at time 10.01/10.02 sec. Using the last valid frame instead.\n",
            "  warnings.warn(\"Warning: in file %s, \"%(self.filename)+\n",
            "\n"
          ]
        },
        {
          "name": "stdout",
          "output_type": "stream",
          "text": [
            "Moviepy - Done !\n",
            "Moviepy - video ready /content/gdrive/MyDrive/Major FINAL RUN/Audio_altFinal/ggznlcjsce.mp4\n",
            "Processed 291 out of 744 videos. Audio removed from ggznlcjsce.mp4 and saved to silent videos folder.\n",
            "Moviepy - Building video /content/gdrive/MyDrive/Major FINAL RUN/Audio_altFinal/ghxzvovygq.mp4.\n",
            "Moviepy - Writing video /content/gdrive/MyDrive/Major FINAL RUN/Audio_altFinal/ghxzvovygq.mp4\n",
            "\n"
          ]
        },
        {
          "name": "stderr",
          "output_type": "stream",
          "text": [
            "t: 100%|█████████▉| 300/301 [00:37<00:00,  9.72it/s, now=None]WARNING:py.warnings:/usr/local/lib/python3.10/dist-packages/moviepy/video/io/ffmpeg_reader.py:123: UserWarning: Warning: in file /content/gdrive/MyDrive/Major FINAL RUN/Final Audio Dataset/ghxzvovygq.mp4, 6220800 bytes wanted but 0 bytes read,at frame 300/301, at time 10.01/10.02 sec. Using the last valid frame instead.\n",
            "  warnings.warn(\"Warning: in file %s, \"%(self.filename)+\n",
            "\n"
          ]
        },
        {
          "name": "stdout",
          "output_type": "stream",
          "text": [
            "Moviepy - Done !\n",
            "Moviepy - video ready /content/gdrive/MyDrive/Major FINAL RUN/Audio_altFinal/ghxzvovygq.mp4\n",
            "Processed 292 out of 744 videos. Audio removed from ghxzvovygq.mp4 and saved to silent videos folder.\n",
            "Moviepy - Building video /content/gdrive/MyDrive/Major FINAL RUN/Audio_altFinal/giqncczwue.mp4.\n",
            "Moviepy - Writing video /content/gdrive/MyDrive/Major FINAL RUN/Audio_altFinal/giqncczwue.mp4\n",
            "\n"
          ]
        },
        {
          "name": "stderr",
          "output_type": "stream",
          "text": [
            "t: 100%|█████████▉| 300/301 [00:36<00:00,  8.38it/s, now=None]WARNING:py.warnings:/usr/local/lib/python3.10/dist-packages/moviepy/video/io/ffmpeg_reader.py:123: UserWarning: Warning: in file /content/gdrive/MyDrive/Major FINAL RUN/Final Audio Dataset/giqncczwue.mp4, 6220800 bytes wanted but 0 bytes read,at frame 300/301, at time 10.01/10.02 sec. Using the last valid frame instead.\n",
            "  warnings.warn(\"Warning: in file %s, \"%(self.filename)+\n",
            "\n"
          ]
        },
        {
          "name": "stdout",
          "output_type": "stream",
          "text": [
            "Moviepy - Done !\n",
            "Moviepy - video ready /content/gdrive/MyDrive/Major FINAL RUN/Audio_altFinal/giqncczwue.mp4\n",
            "Processed 293 out of 744 videos. Audio removed from giqncczwue.mp4 and saved to silent videos folder.\n",
            "Moviepy - Building video /content/gdrive/MyDrive/Major FINAL RUN/Audio_altFinal/ghutxxwjrs.mp4.\n",
            "Moviepy - Writing video /content/gdrive/MyDrive/Major FINAL RUN/Audio_altFinal/ghutxxwjrs.mp4\n",
            "\n"
          ]
        },
        {
          "name": "stderr",
          "output_type": "stream",
          "text": [
            "t: 100%|██████████| 301/301 [00:47<00:00,  7.17it/s, now=None]WARNING:py.warnings:/usr/local/lib/python3.10/dist-packages/moviepy/video/io/ffmpeg_reader.py:123: UserWarning: Warning: in file /content/gdrive/MyDrive/Major FINAL RUN/Final Audio Dataset/ghutxxwjrs.mp4, 6220800 bytes wanted but 0 bytes read,at frame 300/301, at time 10.01/10.02 sec. Using the last valid frame instead.\n",
            "  warnings.warn(\"Warning: in file %s, \"%(self.filename)+\n",
            "\n"
          ]
        },
        {
          "name": "stdout",
          "output_type": "stream",
          "text": [
            "Moviepy - Done !\n",
            "Moviepy - video ready /content/gdrive/MyDrive/Major FINAL RUN/Audio_altFinal/ghutxxwjrs.mp4\n",
            "Processed 294 out of 744 videos. Audio removed from ghutxxwjrs.mp4 and saved to silent videos folder.\n",
            "Moviepy - Building video /content/gdrive/MyDrive/Major FINAL RUN/Audio_altFinal/giraumitbx.mp4.\n",
            "Moviepy - Writing video /content/gdrive/MyDrive/Major FINAL RUN/Audio_altFinal/giraumitbx.mp4\n",
            "\n"
          ]
        },
        {
          "name": "stderr",
          "output_type": "stream",
          "text": [
            "t: 100%|██████████| 301/301 [00:38<00:00,  7.85it/s, now=None]WARNING:py.warnings:/usr/local/lib/python3.10/dist-packages/moviepy/video/io/ffmpeg_reader.py:123: UserWarning: Warning: in file /content/gdrive/MyDrive/Major FINAL RUN/Final Audio Dataset/giraumitbx.mp4, 6220800 bytes wanted but 0 bytes read,at frame 300/301, at time 10.01/10.02 sec. Using the last valid frame instead.\n",
            "  warnings.warn(\"Warning: in file %s, \"%(self.filename)+\n",
            "\n"
          ]
        },
        {
          "name": "stdout",
          "output_type": "stream",
          "text": [
            "Moviepy - Done !\n",
            "Moviepy - video ready /content/gdrive/MyDrive/Major FINAL RUN/Audio_altFinal/giraumitbx.mp4\n",
            "Processed 295 out of 744 videos. Audio removed from giraumitbx.mp4 and saved to silent videos folder.\n",
            "Moviepy - Building video /content/gdrive/MyDrive/Major FINAL RUN/Audio_altFinal/giwobcepvb.mp4.\n",
            "Moviepy - Writing video /content/gdrive/MyDrive/Major FINAL RUN/Audio_altFinal/giwobcepvb.mp4\n",
            "\n"
          ]
        },
        {
          "name": "stderr",
          "output_type": "stream",
          "text": [
            "t: 100%|██████████| 301/301 [00:48<00:00,  7.86it/s, now=None]WARNING:py.warnings:/usr/local/lib/python3.10/dist-packages/moviepy/video/io/ffmpeg_reader.py:123: UserWarning: Warning: in file /content/gdrive/MyDrive/Major FINAL RUN/Final Audio Dataset/giwobcepvb.mp4, 6220800 bytes wanted but 0 bytes read,at frame 300/301, at time 10.01/10.02 sec. Using the last valid frame instead.\n",
            "  warnings.warn(\"Warning: in file %s, \"%(self.filename)+\n",
            "\n"
          ]
        },
        {
          "name": "stdout",
          "output_type": "stream",
          "text": [
            "Moviepy - Done !\n",
            "Moviepy - video ready /content/gdrive/MyDrive/Major FINAL RUN/Audio_altFinal/giwobcepvb.mp4\n",
            "Processed 296 out of 744 videos. Audio removed from giwobcepvb.mp4 and saved to silent videos folder.\n",
            "Moviepy - Building video /content/gdrive/MyDrive/Major FINAL RUN/Audio_altFinal/gjbqdxmeio.mp4.\n",
            "Moviepy - Writing video /content/gdrive/MyDrive/Major FINAL RUN/Audio_altFinal/gjbqdxmeio.mp4\n",
            "\n"
          ]
        },
        {
          "name": "stderr",
          "output_type": "stream",
          "text": [
            "t: 100%|█████████▉| 300/301 [00:38<00:00,  5.72it/s, now=None]WARNING:py.warnings:/usr/local/lib/python3.10/dist-packages/moviepy/video/io/ffmpeg_reader.py:123: UserWarning: Warning: in file /content/gdrive/MyDrive/Major FINAL RUN/Final Audio Dataset/gjbqdxmeio.mp4, 6220800 bytes wanted but 0 bytes read,at frame 300/301, at time 10.01/10.02 sec. Using the last valid frame instead.\n",
            "  warnings.warn(\"Warning: in file %s, \"%(self.filename)+\n",
            "\n"
          ]
        },
        {
          "name": "stdout",
          "output_type": "stream",
          "text": [
            "Moviepy - Done !\n",
            "Moviepy - video ready /content/gdrive/MyDrive/Major FINAL RUN/Audio_altFinal/gjbqdxmeio.mp4\n",
            "Processed 297 out of 744 videos. Audio removed from gjbqdxmeio.mp4 and saved to silent videos folder.\n",
            "Moviepy - Building video /content/gdrive/MyDrive/Major FINAL RUN/Audio_altFinal/gmkfzogjlj.mp4.\n",
            "Moviepy - Writing video /content/gdrive/MyDrive/Major FINAL RUN/Audio_altFinal/gmkfzogjlj.mp4\n",
            "\n"
          ]
        },
        {
          "name": "stderr",
          "output_type": "stream",
          "text": [
            "t: 100%|██████████| 301/301 [00:48<00:00,  6.86it/s, now=None]WARNING:py.warnings:/usr/local/lib/python3.10/dist-packages/moviepy/video/io/ffmpeg_reader.py:123: UserWarning: Warning: in file /content/gdrive/MyDrive/Major FINAL RUN/Final Audio Dataset/gmkfzogjlj.mp4, 6220800 bytes wanted but 0 bytes read,at frame 300/301, at time 10.01/10.02 sec. Using the last valid frame instead.\n",
            "  warnings.warn(\"Warning: in file %s, \"%(self.filename)+\n",
            "\n"
          ]
        },
        {
          "name": "stdout",
          "output_type": "stream",
          "text": [
            "Moviepy - Done !\n",
            "Moviepy - video ready /content/gdrive/MyDrive/Major FINAL RUN/Audio_altFinal/gmkfzogjlj.mp4\n",
            "Processed 298 out of 744 videos. Audio removed from gmkfzogjlj.mp4 and saved to silent videos folder.\n",
            "Moviepy - Building video /content/gdrive/MyDrive/Major FINAL RUN/Audio_altFinal/gnhbtnojfp.mp4.\n",
            "Moviepy - Writing video /content/gdrive/MyDrive/Major FINAL RUN/Audio_altFinal/gnhbtnojfp.mp4\n",
            "\n"
          ]
        },
        {
          "name": "stderr",
          "output_type": "stream",
          "text": [
            "t: 100%|██████████| 301/301 [00:42<00:00,  7.79it/s, now=None]WARNING:py.warnings:/usr/local/lib/python3.10/dist-packages/moviepy/video/io/ffmpeg_reader.py:123: UserWarning: Warning: in file /content/gdrive/MyDrive/Major FINAL RUN/Final Audio Dataset/gnhbtnojfp.mp4, 6220800 bytes wanted but 0 bytes read,at frame 300/301, at time 10.01/10.02 sec. Using the last valid frame instead.\n",
            "  warnings.warn(\"Warning: in file %s, \"%(self.filename)+\n",
            "\n"
          ]
        },
        {
          "name": "stdout",
          "output_type": "stream",
          "text": [
            "Moviepy - Done !\n",
            "Moviepy - video ready /content/gdrive/MyDrive/Major FINAL RUN/Audio_altFinal/gnhbtnojfp.mp4\n",
            "Processed 299 out of 744 videos. Audio removed from gnhbtnojfp.mp4 and saved to silent videos folder.\n",
            "Moviepy - Building video /content/gdrive/MyDrive/Major FINAL RUN/Audio_altFinal/gplgurohus.mp4.\n",
            "Moviepy - Writing video /content/gdrive/MyDrive/Major FINAL RUN/Audio_altFinal/gplgurohus.mp4\n",
            "\n"
          ]
        },
        {
          "name": "stderr",
          "output_type": "stream",
          "text": [
            "t: 100%|██████████| 301/301 [00:37<00:00,  5.85it/s, now=None]WARNING:py.warnings:/usr/local/lib/python3.10/dist-packages/moviepy/video/io/ffmpeg_reader.py:123: UserWarning: Warning: in file /content/gdrive/MyDrive/Major FINAL RUN/Final Audio Dataset/gplgurohus.mp4, 6220800 bytes wanted but 0 bytes read,at frame 300/301, at time 10.01/10.02 sec. Using the last valid frame instead.\n",
            "  warnings.warn(\"Warning: in file %s, \"%(self.filename)+\n",
            "\n"
          ]
        },
        {
          "name": "stdout",
          "output_type": "stream",
          "text": [
            "Moviepy - Done !\n",
            "Moviepy - video ready /content/gdrive/MyDrive/Major FINAL RUN/Audio_altFinal/gplgurohus.mp4\n",
            "Processed 300 out of 744 videos. Audio removed from gplgurohus.mp4 and saved to silent videos folder.\n",
            "Moviepy - Building video /content/gdrive/MyDrive/Major FINAL RUN/Audio_altFinal/gppvbusobq.mp4.\n",
            "Moviepy - Writing video /content/gdrive/MyDrive/Major FINAL RUN/Audio_altFinal/gppvbusobq.mp4\n",
            "\n"
          ]
        },
        {
          "name": "stderr",
          "output_type": "stream",
          "text": [
            "t: 100%|█████████▉| 300/301 [00:41<00:00,  7.24it/s, now=None]WARNING:py.warnings:/usr/local/lib/python3.10/dist-packages/moviepy/video/io/ffmpeg_reader.py:123: UserWarning: Warning: in file /content/gdrive/MyDrive/Major FINAL RUN/Final Audio Dataset/gppvbusobq.mp4, 6220800 bytes wanted but 0 bytes read,at frame 300/301, at time 10.01/10.02 sec. Using the last valid frame instead.\n",
            "  warnings.warn(\"Warning: in file %s, \"%(self.filename)+\n",
            "\n"
          ]
        },
        {
          "name": "stdout",
          "output_type": "stream",
          "text": [
            "Moviepy - Done !\n",
            "Moviepy - video ready /content/gdrive/MyDrive/Major FINAL RUN/Audio_altFinal/gppvbusobq.mp4\n",
            "Processed 301 out of 744 videos. Audio removed from gppvbusobq.mp4 and saved to silent videos folder.\n",
            "Moviepy - Building video /content/gdrive/MyDrive/Major FINAL RUN/Audio_altFinal/gsjmdtzrqf.mp4.\n",
            "Moviepy - Writing video /content/gdrive/MyDrive/Major FINAL RUN/Audio_altFinal/gsjmdtzrqf.mp4\n",
            "\n"
          ]
        },
        {
          "name": "stderr",
          "output_type": "stream",
          "text": [
            "t: 100%|██████████| 301/301 [00:38<00:00,  9.41it/s, now=None]WARNING:py.warnings:/usr/local/lib/python3.10/dist-packages/moviepy/video/io/ffmpeg_reader.py:123: UserWarning: Warning: in file /content/gdrive/MyDrive/Major FINAL RUN/Final Audio Dataset/gsjmdtzrqf.mp4, 6220800 bytes wanted but 0 bytes read,at frame 300/301, at time 10.01/10.02 sec. Using the last valid frame instead.\n",
            "  warnings.warn(\"Warning: in file %s, \"%(self.filename)+\n",
            "\n"
          ]
        },
        {
          "name": "stdout",
          "output_type": "stream",
          "text": [
            "Moviepy - Done !\n",
            "Moviepy - video ready /content/gdrive/MyDrive/Major FINAL RUN/Audio_altFinal/gsjmdtzrqf.mp4\n",
            "Processed 302 out of 744 videos. Audio removed from gsjmdtzrqf.mp4 and saved to silent videos folder.\n",
            "Moviepy - Building video /content/gdrive/MyDrive/Major FINAL RUN/Audio_altFinal/gsrncsgqcg.mp4.\n",
            "Moviepy - Writing video /content/gdrive/MyDrive/Major FINAL RUN/Audio_altFinal/gsrncsgqcg.mp4\n",
            "\n"
          ]
        },
        {
          "name": "stderr",
          "output_type": "stream",
          "text": [
            "t: 100%|██████████| 301/301 [00:45<00:00,  7.63it/s, now=None]WARNING:py.warnings:/usr/local/lib/python3.10/dist-packages/moviepy/video/io/ffmpeg_reader.py:123: UserWarning: Warning: in file /content/gdrive/MyDrive/Major FINAL RUN/Final Audio Dataset/gsrncsgqcg.mp4, 6220800 bytes wanted but 0 bytes read,at frame 300/301, at time 10.01/10.02 sec. Using the last valid frame instead.\n",
            "  warnings.warn(\"Warning: in file %s, \"%(self.filename)+\n",
            "\n"
          ]
        },
        {
          "name": "stdout",
          "output_type": "stream",
          "text": [
            "Moviepy - Done !\n",
            "Moviepy - video ready /content/gdrive/MyDrive/Major FINAL RUN/Audio_altFinal/gsrncsgqcg.mp4\n",
            "Processed 303 out of 744 videos. Audio removed from gsrncsgqcg.mp4 and saved to silent videos folder.\n",
            "Moviepy - Building video /content/gdrive/MyDrive/Major FINAL RUN/Audio_altFinal/guzfeoeybw.mp4.\n",
            "Moviepy - Writing video /content/gdrive/MyDrive/Major FINAL RUN/Audio_altFinal/guzfeoeybw.mp4\n",
            "\n"
          ]
        },
        {
          "name": "stderr",
          "output_type": "stream",
          "text": [
            "t: 100%|██████████| 301/301 [00:48<00:00,  8.42it/s, now=None]WARNING:py.warnings:/usr/local/lib/python3.10/dist-packages/moviepy/video/io/ffmpeg_reader.py:123: UserWarning: Warning: in file /content/gdrive/MyDrive/Major FINAL RUN/Final Audio Dataset/guzfeoeybw.mp4, 6220800 bytes wanted but 0 bytes read,at frame 300/301, at time 10.01/10.02 sec. Using the last valid frame instead.\n",
            "  warnings.warn(\"Warning: in file %s, \"%(self.filename)+\n",
            "\n"
          ]
        },
        {
          "name": "stdout",
          "output_type": "stream",
          "text": [
            "Moviepy - Done !\n",
            "Moviepy - video ready /content/gdrive/MyDrive/Major FINAL RUN/Audio_altFinal/guzfeoeybw.mp4\n",
            "Processed 304 out of 744 videos. Audio removed from guzfeoeybw.mp4 and saved to silent videos folder.\n",
            "Moviepy - Building video /content/gdrive/MyDrive/Major FINAL RUN/Audio_altFinal/gxafhatuxj.mp4.\n",
            "Moviepy - Writing video /content/gdrive/MyDrive/Major FINAL RUN/Audio_altFinal/gxafhatuxj.mp4\n",
            "\n"
          ]
        },
        {
          "name": "stderr",
          "output_type": "stream",
          "text": [
            "t: 100%|██████████| 301/301 [00:40<00:00,  9.65it/s, now=None]WARNING:py.warnings:/usr/local/lib/python3.10/dist-packages/moviepy/video/io/ffmpeg_reader.py:123: UserWarning: Warning: in file /content/gdrive/MyDrive/Major FINAL RUN/Final Audio Dataset/gxafhatuxj.mp4, 6220800 bytes wanted but 0 bytes read,at frame 300/301, at time 10.01/10.02 sec. Using the last valid frame instead.\n",
            "  warnings.warn(\"Warning: in file %s, \"%(self.filename)+\n",
            "\n"
          ]
        },
        {
          "name": "stdout",
          "output_type": "stream",
          "text": [
            "Moviepy - Done !\n",
            "Moviepy - video ready /content/gdrive/MyDrive/Major FINAL RUN/Audio_altFinal/gxafhatuxj.mp4\n",
            "Processed 305 out of 744 videos. Audio removed from gxafhatuxj.mp4 and saved to silent videos folder.\n",
            "Moviepy - Building video /content/gdrive/MyDrive/Major FINAL RUN/Audio_altFinal/gwmlawcreb.mp4.\n",
            "Moviepy - Writing video /content/gdrive/MyDrive/Major FINAL RUN/Audio_altFinal/gwmlawcreb.mp4\n",
            "\n"
          ]
        },
        {
          "name": "stderr",
          "output_type": "stream",
          "text": [
            "t: 100%|██████████| 299/299 [00:46<00:00,  6.57it/s, now=None]WARNING:py.warnings:/usr/local/lib/python3.10/dist-packages/moviepy/video/io/ffmpeg_reader.py:123: UserWarning: Warning: in file /content/gdrive/MyDrive/Major FINAL RUN/Final Audio Dataset/gwmlawcreb.mp4, 6220800 bytes wanted but 0 bytes read,at frame 298/299, at time 10.01/10.02 sec. Using the last valid frame instead.\n",
            "  warnings.warn(\"Warning: in file %s, \"%(self.filename)+\n",
            "\n"
          ]
        },
        {
          "name": "stdout",
          "output_type": "stream",
          "text": [
            "Moviepy - Done !\n",
            "Moviepy - video ready /content/gdrive/MyDrive/Major FINAL RUN/Audio_altFinal/gwmlawcreb.mp4\n",
            "Processed 306 out of 744 videos. Audio removed from gwmlawcreb.mp4 and saved to silent videos folder.\n",
            "Moviepy - Building video /content/gdrive/MyDrive/Major FINAL RUN/Audio_altFinal/gvycszbsqv.mp4.\n",
            "Moviepy - Writing video /content/gdrive/MyDrive/Major FINAL RUN/Audio_altFinal/gvycszbsqv.mp4\n",
            "\n"
          ]
        },
        {
          "name": "stderr",
          "output_type": "stream",
          "text": [
            "t:  99%|█████████▉| 299/301 [00:46<00:00,  6.45it/s, now=None]WARNING:py.warnings:/usr/local/lib/python3.10/dist-packages/moviepy/video/io/ffmpeg_reader.py:123: UserWarning: Warning: in file /content/gdrive/MyDrive/Major FINAL RUN/Final Audio Dataset/gvycszbsqv.mp4, 6220800 bytes wanted but 0 bytes read,at frame 300/301, at time 10.01/10.02 sec. Using the last valid frame instead.\n",
            "  warnings.warn(\"Warning: in file %s, \"%(self.filename)+\n",
            "\n"
          ]
        },
        {
          "name": "stdout",
          "output_type": "stream",
          "text": [
            "Moviepy - Done !\n",
            "Moviepy - video ready /content/gdrive/MyDrive/Major FINAL RUN/Audio_altFinal/gvycszbsqv.mp4\n",
            "Processed 307 out of 744 videos. Audio removed from gvycszbsqv.mp4 and saved to silent videos folder.\n",
            "Moviepy - Building video /content/gdrive/MyDrive/Major FINAL RUN/Audio_altFinal/gyexknytsf.mp4.\n",
            "Moviepy - Writing video /content/gdrive/MyDrive/Major FINAL RUN/Audio_altFinal/gyexknytsf.mp4\n",
            "\n"
          ]
        },
        {
          "name": "stderr",
          "output_type": "stream",
          "text": [
            "t: 100%|██████████| 301/301 [00:47<00:00,  4.46it/s, now=None]WARNING:py.warnings:/usr/local/lib/python3.10/dist-packages/moviepy/video/io/ffmpeg_reader.py:123: UserWarning: Warning: in file /content/gdrive/MyDrive/Major FINAL RUN/Final Audio Dataset/gyexknytsf.mp4, 6220800 bytes wanted but 0 bytes read,at frame 300/301, at time 10.01/10.02 sec. Using the last valid frame instead.\n",
            "  warnings.warn(\"Warning: in file %s, \"%(self.filename)+\n",
            "\n"
          ]
        },
        {
          "name": "stdout",
          "output_type": "stream",
          "text": [
            "Moviepy - Done !\n",
            "Moviepy - video ready /content/gdrive/MyDrive/Major FINAL RUN/Audio_altFinal/gyexknytsf.mp4\n",
            "Processed 308 out of 744 videos. Audio removed from gyexknytsf.mp4 and saved to silent videos folder.\n",
            "Moviepy - Building video /content/gdrive/MyDrive/Major FINAL RUN/Audio_altFinal/hbotpzjkuc.mp4.\n",
            "Moviepy - Writing video /content/gdrive/MyDrive/Major FINAL RUN/Audio_altFinal/hbotpzjkuc.mp4\n",
            "\n"
          ]
        },
        {
          "name": "stderr",
          "output_type": "stream",
          "text": [
            "t: 100%|██████████| 301/301 [00:37<00:00,  9.06it/s, now=None]WARNING:py.warnings:/usr/local/lib/python3.10/dist-packages/moviepy/video/io/ffmpeg_reader.py:123: UserWarning: Warning: in file /content/gdrive/MyDrive/Major FINAL RUN/Final Audio Dataset/hbotpzjkuc.mp4, 6220800 bytes wanted but 0 bytes read,at frame 300/301, at time 10.01/10.02 sec. Using the last valid frame instead.\n",
            "  warnings.warn(\"Warning: in file %s, \"%(self.filename)+\n",
            "\n"
          ]
        },
        {
          "name": "stdout",
          "output_type": "stream",
          "text": [
            "Moviepy - Done !\n",
            "Moviepy - video ready /content/gdrive/MyDrive/Major FINAL RUN/Audio_altFinal/hbotpzjkuc.mp4\n",
            "Processed 309 out of 744 videos. Audio removed from hbotpzjkuc.mp4 and saved to silent videos folder.\n",
            "Moviepy - Building video /content/gdrive/MyDrive/Major FINAL RUN/Audio_altFinal/hdafnsbdrm.mp4.\n",
            "Moviepy - Writing video /content/gdrive/MyDrive/Major FINAL RUN/Audio_altFinal/hdafnsbdrm.mp4\n",
            "\n"
          ]
        },
        {
          "name": "stderr",
          "output_type": "stream",
          "text": [
            "t: 100%|█████████▉| 300/301 [00:39<00:00,  7.24it/s, now=None]WARNING:py.warnings:/usr/local/lib/python3.10/dist-packages/moviepy/video/io/ffmpeg_reader.py:123: UserWarning: Warning: in file /content/gdrive/MyDrive/Major FINAL RUN/Final Audio Dataset/hdafnsbdrm.mp4, 6220800 bytes wanted but 0 bytes read,at frame 300/301, at time 10.01/10.02 sec. Using the last valid frame instead.\n",
            "  warnings.warn(\"Warning: in file %s, \"%(self.filename)+\n",
            "\n"
          ]
        },
        {
          "name": "stdout",
          "output_type": "stream",
          "text": [
            "Moviepy - Done !\n",
            "Moviepy - video ready /content/gdrive/MyDrive/Major FINAL RUN/Audio_altFinal/hdafnsbdrm.mp4\n",
            "Processed 310 out of 744 videos. Audio removed from hdafnsbdrm.mp4 and saved to silent videos folder.\n",
            "Moviepy - Building video /content/gdrive/MyDrive/Major FINAL RUN/Audio_altFinal/hepjjlvper.mp4.\n",
            "Moviepy - Writing video /content/gdrive/MyDrive/Major FINAL RUN/Audio_altFinal/hepjjlvper.mp4\n",
            "\n"
          ]
        },
        {
          "name": "stderr",
          "output_type": "stream",
          "text": [
            "t: 100%|██████████| 301/301 [00:37<00:00,  7.06it/s, now=None]WARNING:py.warnings:/usr/local/lib/python3.10/dist-packages/moviepy/video/io/ffmpeg_reader.py:123: UserWarning: Warning: in file /content/gdrive/MyDrive/Major FINAL RUN/Final Audio Dataset/hepjjlvper.mp4, 6220800 bytes wanted but 0 bytes read,at frame 300/301, at time 10.01/10.02 sec. Using the last valid frame instead.\n",
            "  warnings.warn(\"Warning: in file %s, \"%(self.filename)+\n",
            "\n"
          ]
        },
        {
          "name": "stdout",
          "output_type": "stream",
          "text": [
            "Moviepy - Done !\n",
            "Moviepy - video ready /content/gdrive/MyDrive/Major FINAL RUN/Audio_altFinal/hepjjlvper.mp4\n",
            "Processed 311 out of 744 videos. Audio removed from hepjjlvper.mp4 and saved to silent videos folder.\n",
            "Moviepy - Building video /content/gdrive/MyDrive/Major FINAL RUN/Audio_altFinal/hgashsetkv.mp4.\n",
            "Moviepy - Writing video /content/gdrive/MyDrive/Major FINAL RUN/Audio_altFinal/hgashsetkv.mp4\n",
            "\n"
          ]
        },
        {
          "name": "stderr",
          "output_type": "stream",
          "text": [
            "t: 100%|██████████| 301/301 [00:47<00:00,  5.47it/s, now=None]WARNING:py.warnings:/usr/local/lib/python3.10/dist-packages/moviepy/video/io/ffmpeg_reader.py:123: UserWarning: Warning: in file /content/gdrive/MyDrive/Major FINAL RUN/Final Audio Dataset/hgashsetkv.mp4, 6220800 bytes wanted but 0 bytes read,at frame 300/301, at time 10.01/10.02 sec. Using the last valid frame instead.\n",
            "  warnings.warn(\"Warning: in file %s, \"%(self.filename)+\n",
            "\n"
          ]
        },
        {
          "name": "stdout",
          "output_type": "stream",
          "text": [
            "Moviepy - Done !\n",
            "Moviepy - video ready /content/gdrive/MyDrive/Major FINAL RUN/Audio_altFinal/hgashsetkv.mp4\n",
            "Processed 312 out of 744 videos. Audio removed from hgashsetkv.mp4 and saved to silent videos folder.\n",
            "Moviepy - Building video /content/gdrive/MyDrive/Major FINAL RUN/Audio_altFinal/hglaodpyup.mp4.\n",
            "Moviepy - Writing video /content/gdrive/MyDrive/Major FINAL RUN/Audio_altFinal/hglaodpyup.mp4\n",
            "\n"
          ]
        },
        {
          "name": "stderr",
          "output_type": "stream",
          "text": [
            "t: 100%|█████████▉| 300/301 [00:38<00:00,  9.80it/s, now=None]WARNING:py.warnings:/usr/local/lib/python3.10/dist-packages/moviepy/video/io/ffmpeg_reader.py:123: UserWarning: Warning: in file /content/gdrive/MyDrive/Major FINAL RUN/Final Audio Dataset/hglaodpyup.mp4, 6220800 bytes wanted but 0 bytes read,at frame 300/301, at time 10.01/10.02 sec. Using the last valid frame instead.\n",
            "  warnings.warn(\"Warning: in file %s, \"%(self.filename)+\n",
            "\n"
          ]
        },
        {
          "name": "stdout",
          "output_type": "stream",
          "text": [
            "Moviepy - Done !\n",
            "Moviepy - video ready /content/gdrive/MyDrive/Major FINAL RUN/Audio_altFinal/hglaodpyup.mp4\n",
            "Processed 313 out of 744 videos. Audio removed from hglaodpyup.mp4 and saved to silent videos folder.\n",
            "Moviepy - Building video /content/gdrive/MyDrive/Major FINAL RUN/Audio_altFinal/hhtjvgfqbz.mp4.\n",
            "Moviepy - Writing video /content/gdrive/MyDrive/Major FINAL RUN/Audio_altFinal/hhtjvgfqbz.mp4\n",
            "\n"
          ]
        },
        {
          "name": "stderr",
          "output_type": "stream",
          "text": [
            "t: 100%|██████████| 301/301 [00:42<00:00,  4.21it/s, now=None]WARNING:py.warnings:/usr/local/lib/python3.10/dist-packages/moviepy/video/io/ffmpeg_reader.py:123: UserWarning: Warning: in file /content/gdrive/MyDrive/Major FINAL RUN/Final Audio Dataset/hhtjvgfqbz.mp4, 6220800 bytes wanted but 0 bytes read,at frame 300/301, at time 10.01/10.02 sec. Using the last valid frame instead.\n",
            "  warnings.warn(\"Warning: in file %s, \"%(self.filename)+\n",
            "\n"
          ]
        },
        {
          "name": "stdout",
          "output_type": "stream",
          "text": [
            "Moviepy - Done !\n",
            "Moviepy - video ready /content/gdrive/MyDrive/Major FINAL RUN/Audio_altFinal/hhtjvgfqbz.mp4\n",
            "Processed 314 out of 744 videos. Audio removed from hhtjvgfqbz.mp4 and saved to silent videos folder.\n",
            "Moviepy - Building video /content/gdrive/MyDrive/Major FINAL RUN/Audio_altFinal/hgqqwuqrlm.mp4.\n",
            "Moviepy - Writing video /content/gdrive/MyDrive/Major FINAL RUN/Audio_altFinal/hgqqwuqrlm.mp4\n",
            "\n"
          ]
        },
        {
          "name": "stderr",
          "output_type": "stream",
          "text": [
            "t: 100%|██████████| 301/301 [00:39<00:00,  9.09it/s, now=None]WARNING:py.warnings:/usr/local/lib/python3.10/dist-packages/moviepy/video/io/ffmpeg_reader.py:123: UserWarning: Warning: in file /content/gdrive/MyDrive/Major FINAL RUN/Final Audio Dataset/hgqqwuqrlm.mp4, 6220800 bytes wanted but 0 bytes read,at frame 300/301, at time 10.01/10.02 sec. Using the last valid frame instead.\n",
            "  warnings.warn(\"Warning: in file %s, \"%(self.filename)+\n",
            "\n"
          ]
        },
        {
          "name": "stdout",
          "output_type": "stream",
          "text": [
            "Moviepy - Done !\n",
            "Moviepy - video ready /content/gdrive/MyDrive/Major FINAL RUN/Audio_altFinal/hgqqwuqrlm.mp4\n",
            "Processed 315 out of 744 videos. Audio removed from hgqqwuqrlm.mp4 and saved to silent videos folder.\n",
            "Moviepy - Building video /content/gdrive/MyDrive/Major FINAL RUN/Audio_altFinal/hibmzlzbpy.mp4.\n",
            "Moviepy - Writing video /content/gdrive/MyDrive/Major FINAL RUN/Audio_altFinal/hibmzlzbpy.mp4\n",
            "\n"
          ]
        },
        {
          "name": "stderr",
          "output_type": "stream",
          "text": [
            "t: 100%|██████████| 301/301 [00:40<00:00,  5.03it/s, now=None]WARNING:py.warnings:/usr/local/lib/python3.10/dist-packages/moviepy/video/io/ffmpeg_reader.py:123: UserWarning: Warning: in file /content/gdrive/MyDrive/Major FINAL RUN/Final Audio Dataset/hibmzlzbpy.mp4, 6220800 bytes wanted but 0 bytes read,at frame 300/301, at time 10.01/10.02 sec. Using the last valid frame instead.\n",
            "  warnings.warn(\"Warning: in file %s, \"%(self.filename)+\n",
            "\n"
          ]
        },
        {
          "name": "stdout",
          "output_type": "stream",
          "text": [
            "Moviepy - Done !\n",
            "Moviepy - video ready /content/gdrive/MyDrive/Major FINAL RUN/Audio_altFinal/hibmzlzbpy.mp4\n",
            "Processed 316 out of 744 videos. Audio removed from hibmzlzbpy.mp4 and saved to silent videos folder.\n",
            "Moviepy - Building video /content/gdrive/MyDrive/Major FINAL RUN/Audio_altFinal/hipksamgsi.mp4.\n",
            "Moviepy - Writing video /content/gdrive/MyDrive/Major FINAL RUN/Audio_altFinal/hipksamgsi.mp4\n",
            "\n"
          ]
        },
        {
          "name": "stderr",
          "output_type": "stream",
          "text": [
            "t: 100%|█████████▉| 300/301 [00:48<00:00,  8.64it/s, now=None]WARNING:py.warnings:/usr/local/lib/python3.10/dist-packages/moviepy/video/io/ffmpeg_reader.py:123: UserWarning: Warning: in file /content/gdrive/MyDrive/Major FINAL RUN/Final Audio Dataset/hipksamgsi.mp4, 6220800 bytes wanted but 0 bytes read,at frame 300/301, at time 10.01/10.02 sec. Using the last valid frame instead.\n",
            "  warnings.warn(\"Warning: in file %s, \"%(self.filename)+\n",
            "\n"
          ]
        },
        {
          "name": "stdout",
          "output_type": "stream",
          "text": [
            "Moviepy - Done !\n",
            "Moviepy - video ready /content/gdrive/MyDrive/Major FINAL RUN/Audio_altFinal/hipksamgsi.mp4\n",
            "Processed 317 out of 744 videos. Audio removed from hipksamgsi.mp4 and saved to silent videos folder.\n",
            "Moviepy - Building video /content/gdrive/MyDrive/Major FINAL RUN/Audio_altFinal/hlzkuryxas.mp4.\n",
            "Moviepy - Writing video /content/gdrive/MyDrive/Major FINAL RUN/Audio_altFinal/hlzkuryxas.mp4\n",
            "\n"
          ]
        },
        {
          "name": "stderr",
          "output_type": "stream",
          "text": [
            "t: 100%|██████████| 301/301 [00:38<00:00,  7.10it/s, now=None]WARNING:py.warnings:/usr/local/lib/python3.10/dist-packages/moviepy/video/io/ffmpeg_reader.py:123: UserWarning: Warning: in file /content/gdrive/MyDrive/Major FINAL RUN/Final Audio Dataset/hlzkuryxas.mp4, 6220800 bytes wanted but 0 bytes read,at frame 300/301, at time 10.01/10.02 sec. Using the last valid frame instead.\n",
            "  warnings.warn(\"Warning: in file %s, \"%(self.filename)+\n",
            "\n"
          ]
        },
        {
          "name": "stdout",
          "output_type": "stream",
          "text": [
            "Moviepy - Done !\n",
            "Moviepy - video ready /content/gdrive/MyDrive/Major FINAL RUN/Audio_altFinal/hlzkuryxas.mp4\n",
            "Processed 318 out of 744 videos. Audio removed from hlzkuryxas.mp4 and saved to silent videos folder.\n",
            "Moviepy - Building video /content/gdrive/MyDrive/Major FINAL RUN/Audio_altFinal/hmnspetjoc.mp4.\n",
            "Moviepy - Writing video /content/gdrive/MyDrive/Major FINAL RUN/Audio_altFinal/hmnspetjoc.mp4\n",
            "\n"
          ]
        },
        {
          "name": "stderr",
          "output_type": "stream",
          "text": [
            "t: 100%|█████████▉| 300/301 [00:37<00:00,  9.98it/s, now=None]WARNING:py.warnings:/usr/local/lib/python3.10/dist-packages/moviepy/video/io/ffmpeg_reader.py:123: UserWarning: Warning: in file /content/gdrive/MyDrive/Major FINAL RUN/Final Audio Dataset/hmnspetjoc.mp4, 6220800 bytes wanted but 0 bytes read,at frame 300/301, at time 10.01/10.02 sec. Using the last valid frame instead.\n",
            "  warnings.warn(\"Warning: in file %s, \"%(self.filename)+\n",
            "\n"
          ]
        },
        {
          "name": "stdout",
          "output_type": "stream",
          "text": [
            "Moviepy - Done !\n",
            "Moviepy - video ready /content/gdrive/MyDrive/Major FINAL RUN/Audio_altFinal/hmnspetjoc.mp4\n",
            "Processed 319 out of 744 videos. Audio removed from hmnspetjoc.mp4 and saved to silent videos folder.\n",
            "Moviepy - Building video /content/gdrive/MyDrive/Major FINAL RUN/Audio_altFinal/hmnkjimojl.mp4.\n",
            "Moviepy - Writing video /content/gdrive/MyDrive/Major FINAL RUN/Audio_altFinal/hmnkjimojl.mp4\n",
            "\n"
          ]
        },
        {
          "name": "stderr",
          "output_type": "stream",
          "text": [
            "t: 100%|█████████▉| 300/301 [00:40<00:00,  7.81it/s, now=None]WARNING:py.warnings:/usr/local/lib/python3.10/dist-packages/moviepy/video/io/ffmpeg_reader.py:123: UserWarning: Warning: in file /content/gdrive/MyDrive/Major FINAL RUN/Final Audio Dataset/hmnkjimojl.mp4, 6220800 bytes wanted but 0 bytes read,at frame 300/301, at time 10.01/10.02 sec. Using the last valid frame instead.\n",
            "  warnings.warn(\"Warning: in file %s, \"%(self.filename)+\n",
            "\n"
          ]
        },
        {
          "name": "stdout",
          "output_type": "stream",
          "text": [
            "Moviepy - Done !\n",
            "Moviepy - video ready /content/gdrive/MyDrive/Major FINAL RUN/Audio_altFinal/hmnkjimojl.mp4\n",
            "Processed 320 out of 744 videos. Audio removed from hmnkjimojl.mp4 and saved to silent videos folder.\n",
            "Moviepy - Building video /content/gdrive/MyDrive/Major FINAL RUN/Audio_altFinal/hnlpmvyanu.mp4.\n",
            "Moviepy - Writing video /content/gdrive/MyDrive/Major FINAL RUN/Audio_altFinal/hnlpmvyanu.mp4\n",
            "\n"
          ]
        },
        {
          "name": "stderr",
          "output_type": "stream",
          "text": [
            "t: 100%|██████████| 301/301 [00:35<00:00, 10.33it/s, now=None]WARNING:py.warnings:/usr/local/lib/python3.10/dist-packages/moviepy/video/io/ffmpeg_reader.py:123: UserWarning: Warning: in file /content/gdrive/MyDrive/Major FINAL RUN/Final Audio Dataset/hnlpmvyanu.mp4, 6220800 bytes wanted but 0 bytes read,at frame 300/301, at time 10.01/10.02 sec. Using the last valid frame instead.\n",
            "  warnings.warn(\"Warning: in file %s, \"%(self.filename)+\n",
            "\n"
          ]
        },
        {
          "name": "stdout",
          "output_type": "stream",
          "text": [
            "Moviepy - Done !\n",
            "Moviepy - video ready /content/gdrive/MyDrive/Major FINAL RUN/Audio_altFinal/hnlpmvyanu.mp4\n",
            "Processed 321 out of 744 videos. Audio removed from hnlpmvyanu.mp4 and saved to silent videos folder.\n",
            "Moviepy - Building video /content/gdrive/MyDrive/Major FINAL RUN/Audio_altFinal/hoyudeuckw.mp4.\n",
            "Moviepy - Writing video /content/gdrive/MyDrive/Major FINAL RUN/Audio_altFinal/hoyudeuckw.mp4\n",
            "\n"
          ]
        },
        {
          "name": "stderr",
          "output_type": "stream",
          "text": [
            "t: 100%|██████████| 301/301 [00:39<00:00,  7.80it/s, now=None]WARNING:py.warnings:/usr/local/lib/python3.10/dist-packages/moviepy/video/io/ffmpeg_reader.py:123: UserWarning: Warning: in file /content/gdrive/MyDrive/Major FINAL RUN/Final Audio Dataset/hoyudeuckw.mp4, 6220800 bytes wanted but 0 bytes read,at frame 300/301, at time 10.01/10.02 sec. Using the last valid frame instead.\n",
            "  warnings.warn(\"Warning: in file %s, \"%(self.filename)+\n",
            "\n"
          ]
        },
        {
          "name": "stdout",
          "output_type": "stream",
          "text": [
            "Moviepy - Done !\n",
            "Moviepy - video ready /content/gdrive/MyDrive/Major FINAL RUN/Audio_altFinal/hoyudeuckw.mp4\n",
            "Processed 322 out of 744 videos. Audio removed from hoyudeuckw.mp4 and saved to silent videos folder.\n",
            "Moviepy - Building video /content/gdrive/MyDrive/Major FINAL RUN/Audio_altFinal/hqcnaesvmg.mp4.\n",
            "Moviepy - Writing video /content/gdrive/MyDrive/Major FINAL RUN/Audio_altFinal/hqcnaesvmg.mp4\n",
            "\n"
          ]
        },
        {
          "name": "stderr",
          "output_type": "stream",
          "text": [
            "t: 100%|██████████| 301/301 [00:37<00:00,  9.23it/s, now=None]WARNING:py.warnings:/usr/local/lib/python3.10/dist-packages/moviepy/video/io/ffmpeg_reader.py:123: UserWarning: Warning: in file /content/gdrive/MyDrive/Major FINAL RUN/Final Audio Dataset/hqcnaesvmg.mp4, 6220800 bytes wanted but 0 bytes read,at frame 300/301, at time 10.01/10.02 sec. Using the last valid frame instead.\n",
            "  warnings.warn(\"Warning: in file %s, \"%(self.filename)+\n",
            "\n"
          ]
        },
        {
          "name": "stdout",
          "output_type": "stream",
          "text": [
            "Moviepy - Done !\n",
            "Moviepy - video ready /content/gdrive/MyDrive/Major FINAL RUN/Audio_altFinal/hqcnaesvmg.mp4\n",
            "Processed 323 out of 744 videos. Audio removed from hqcnaesvmg.mp4 and saved to silent videos folder.\n",
            "Moviepy - Building video /content/gdrive/MyDrive/Major FINAL RUN/Audio_altFinal/hszesmmtxb.mp4.\n",
            "Moviepy - Writing video /content/gdrive/MyDrive/Major FINAL RUN/Audio_altFinal/hszesmmtxb.mp4\n",
            "\n"
          ]
        },
        {
          "name": "stderr",
          "output_type": "stream",
          "text": [
            "t: 100%|██████████| 301/301 [00:38<00:00,  9.28it/s, now=None]WARNING:py.warnings:/usr/local/lib/python3.10/dist-packages/moviepy/video/io/ffmpeg_reader.py:123: UserWarning: Warning: in file /content/gdrive/MyDrive/Major FINAL RUN/Final Audio Dataset/hszesmmtxb.mp4, 6220800 bytes wanted but 0 bytes read,at frame 300/301, at time 10.01/10.02 sec. Using the last valid frame instead.\n",
            "  warnings.warn(\"Warning: in file %s, \"%(self.filename)+\n",
            "\n"
          ]
        },
        {
          "name": "stdout",
          "output_type": "stream",
          "text": [
            "Moviepy - Done !\n",
            "Moviepy - video ready /content/gdrive/MyDrive/Major FINAL RUN/Audio_altFinal/hszesmmtxb.mp4\n",
            "Processed 324 out of 744 videos. Audio removed from hszesmmtxb.mp4 and saved to silent videos folder.\n",
            "Moviepy - Building video /content/gdrive/MyDrive/Major FINAL RUN/Audio_altFinal/htrkeemhkr.mp4.\n",
            "Moviepy - Writing video /content/gdrive/MyDrive/Major FINAL RUN/Audio_altFinal/htrkeemhkr.mp4\n",
            "\n"
          ]
        },
        {
          "name": "stderr",
          "output_type": "stream",
          "text": [
            "t: 100%|█████████▉| 298/299 [00:45<00:00,  7.19it/s, now=None]WARNING:py.warnings:/usr/local/lib/python3.10/dist-packages/moviepy/video/io/ffmpeg_reader.py:123: UserWarning: Warning: in file /content/gdrive/MyDrive/Major FINAL RUN/Final Audio Dataset/htrkeemhkr.mp4, 6220800 bytes wanted but 0 bytes read,at frame 298/299, at time 10.01/10.02 sec. Using the last valid frame instead.\n",
            "  warnings.warn(\"Warning: in file %s, \"%(self.filename)+\n",
            "\n"
          ]
        },
        {
          "name": "stdout",
          "output_type": "stream",
          "text": [
            "Moviepy - Done !\n",
            "Moviepy - video ready /content/gdrive/MyDrive/Major FINAL RUN/Audio_altFinal/htrkeemhkr.mp4\n",
            "Processed 325 out of 744 videos. Audio removed from htrkeemhkr.mp4 and saved to silent videos folder.\n",
            "Moviepy - Building video /content/gdrive/MyDrive/Major FINAL RUN/Audio_altFinal/hvierltlmq.mp4.\n",
            "Moviepy - Writing video /content/gdrive/MyDrive/Major FINAL RUN/Audio_altFinal/hvierltlmq.mp4\n",
            "\n"
          ]
        },
        {
          "name": "stderr",
          "output_type": "stream",
          "text": [
            "t: 100%|██████████| 301/301 [00:39<00:00,  5.27it/s, now=None]WARNING:py.warnings:/usr/local/lib/python3.10/dist-packages/moviepy/video/io/ffmpeg_reader.py:123: UserWarning: Warning: in file /content/gdrive/MyDrive/Major FINAL RUN/Final Audio Dataset/hvierltlmq.mp4, 6220800 bytes wanted but 0 bytes read,at frame 300/301, at time 10.01/10.02 sec. Using the last valid frame instead.\n",
            "  warnings.warn(\"Warning: in file %s, \"%(self.filename)+\n",
            "\n"
          ]
        },
        {
          "name": "stdout",
          "output_type": "stream",
          "text": [
            "Moviepy - Done !\n",
            "Moviepy - video ready /content/gdrive/MyDrive/Major FINAL RUN/Audio_altFinal/hvierltlmq.mp4\n",
            "Processed 326 out of 744 videos. Audio removed from hvierltlmq.mp4 and saved to silent videos folder.\n",
            "Moviepy - Building video /content/gdrive/MyDrive/Major FINAL RUN/Audio_altFinal/hwklwhlahc.mp4.\n",
            "Moviepy - Writing video /content/gdrive/MyDrive/Major FINAL RUN/Audio_altFinal/hwklwhlahc.mp4\n",
            "\n"
          ]
        },
        {
          "name": "stderr",
          "output_type": "stream",
          "text": [
            "t: 100%|██████████| 301/301 [00:38<00:00, 10.03it/s, now=None]WARNING:py.warnings:/usr/local/lib/python3.10/dist-packages/moviepy/video/io/ffmpeg_reader.py:123: UserWarning: Warning: in file /content/gdrive/MyDrive/Major FINAL RUN/Final Audio Dataset/hwklwhlahc.mp4, 6220800 bytes wanted but 0 bytes read,at frame 300/301, at time 10.01/10.02 sec. Using the last valid frame instead.\n",
            "  warnings.warn(\"Warning: in file %s, \"%(self.filename)+\n",
            "\n"
          ]
        },
        {
          "name": "stdout",
          "output_type": "stream",
          "text": [
            "Moviepy - Done !\n",
            "Moviepy - video ready /content/gdrive/MyDrive/Major FINAL RUN/Audio_altFinal/hwklwhlahc.mp4\n",
            "Processed 327 out of 744 videos. Audio removed from hwklwhlahc.mp4 and saved to silent videos folder.\n",
            "Moviepy - Building video /content/gdrive/MyDrive/Major FINAL RUN/Audio_altFinal/hvmnipolza.mp4.\n",
            "Moviepy - Writing video /content/gdrive/MyDrive/Major FINAL RUN/Audio_altFinal/hvmnipolza.mp4\n",
            "\n"
          ]
        },
        {
          "name": "stderr",
          "output_type": "stream",
          "text": [
            "t: 100%|█████████▉| 300/301 [00:41<00:00,  8.46it/s, now=None]WARNING:py.warnings:/usr/local/lib/python3.10/dist-packages/moviepy/video/io/ffmpeg_reader.py:123: UserWarning: Warning: in file /content/gdrive/MyDrive/Major FINAL RUN/Final Audio Dataset/hvmnipolza.mp4, 6220800 bytes wanted but 0 bytes read,at frame 300/301, at time 10.01/10.02 sec. Using the last valid frame instead.\n",
            "  warnings.warn(\"Warning: in file %s, \"%(self.filename)+\n",
            "\n"
          ]
        },
        {
          "name": "stdout",
          "output_type": "stream",
          "text": [
            "Moviepy - Done !\n",
            "Moviepy - video ready /content/gdrive/MyDrive/Major FINAL RUN/Audio_altFinal/hvmnipolza.mp4\n",
            "Processed 328 out of 744 videos. Audio removed from hvmnipolza.mp4 and saved to silent videos folder.\n",
            "Moviepy - Building video /content/gdrive/MyDrive/Major FINAL RUN/Audio_altFinal/hwqworxmut.mp4.\n",
            "Moviepy - Writing video /content/gdrive/MyDrive/Major FINAL RUN/Audio_altFinal/hwqworxmut.mp4\n",
            "\n"
          ]
        },
        {
          "name": "stderr",
          "output_type": "stream",
          "text": [
            "t: 100%|██████████| 301/301 [00:39<00:00,  5.88it/s, now=None]WARNING:py.warnings:/usr/local/lib/python3.10/dist-packages/moviepy/video/io/ffmpeg_reader.py:123: UserWarning: Warning: in file /content/gdrive/MyDrive/Major FINAL RUN/Final Audio Dataset/hwqworxmut.mp4, 6220800 bytes wanted but 0 bytes read,at frame 300/301, at time 10.01/10.02 sec. Using the last valid frame instead.\n",
            "  warnings.warn(\"Warning: in file %s, \"%(self.filename)+\n",
            "\n"
          ]
        },
        {
          "name": "stdout",
          "output_type": "stream",
          "text": [
            "Moviepy - Done !\n",
            "Moviepy - video ready /content/gdrive/MyDrive/Major FINAL RUN/Audio_altFinal/hwqworxmut.mp4\n",
            "Processed 329 out of 744 videos. Audio removed from hwqworxmut.mp4 and saved to silent videos folder.\n",
            "Moviepy - Building video /content/gdrive/MyDrive/Major FINAL RUN/Audio_altFinal/iavxqeuuxa.mp4.\n",
            "Moviepy - Writing video /content/gdrive/MyDrive/Major FINAL RUN/Audio_altFinal/iavxqeuuxa.mp4\n",
            "\n"
          ]
        },
        {
          "name": "stderr",
          "output_type": "stream",
          "text": [
            "t: 100%|██████████| 299/299 [00:43<00:00,  4.91it/s, now=None]WARNING:py.warnings:/usr/local/lib/python3.10/dist-packages/moviepy/video/io/ffmpeg_reader.py:123: UserWarning: Warning: in file /content/gdrive/MyDrive/Major FINAL RUN/Final Audio Dataset/iavxqeuuxa.mp4, 6220800 bytes wanted but 0 bytes read,at frame 298/299, at time 10.00/10.02 sec. Using the last valid frame instead.\n",
            "  warnings.warn(\"Warning: in file %s, \"%(self.filename)+\n",
            "\n"
          ]
        },
        {
          "name": "stdout",
          "output_type": "stream",
          "text": [
            "Moviepy - Done !\n",
            "Moviepy - video ready /content/gdrive/MyDrive/Major FINAL RUN/Audio_altFinal/iavxqeuuxa.mp4\n",
            "Processed 330 out of 744 videos. Audio removed from iavxqeuuxa.mp4 and saved to silent videos folder.\n",
            "Moviepy - Building video /content/gdrive/MyDrive/Major FINAL RUN/Audio_altFinal/ibcnsmcfuj.mp4.\n",
            "Moviepy - Writing video /content/gdrive/MyDrive/Major FINAL RUN/Audio_altFinal/ibcnsmcfuj.mp4\n",
            "\n"
          ]
        },
        {
          "name": "stderr",
          "output_type": "stream",
          "text": [
            "t: 100%|██████████| 301/301 [00:37<00:00,  9.08it/s, now=None]WARNING:py.warnings:/usr/local/lib/python3.10/dist-packages/moviepy/video/io/ffmpeg_reader.py:123: UserWarning: Warning: in file /content/gdrive/MyDrive/Major FINAL RUN/Final Audio Dataset/ibcnsmcfuj.mp4, 6220800 bytes wanted but 0 bytes read,at frame 300/301, at time 10.01/10.02 sec. Using the last valid frame instead.\n",
            "  warnings.warn(\"Warning: in file %s, \"%(self.filename)+\n",
            "\n"
          ]
        },
        {
          "name": "stdout",
          "output_type": "stream",
          "text": [
            "Moviepy - Done !\n",
            "Moviepy - video ready /content/gdrive/MyDrive/Major FINAL RUN/Audio_altFinal/ibcnsmcfuj.mp4\n",
            "Processed 331 out of 744 videos. Audio removed from ibcnsmcfuj.mp4 and saved to silent videos folder.\n",
            "Moviepy - Building video /content/gdrive/MyDrive/Major FINAL RUN/Audio_altFinal/ibyevudtta.mp4.\n",
            "Moviepy - Writing video /content/gdrive/MyDrive/Major FINAL RUN/Audio_altFinal/ibyevudtta.mp4\n",
            "\n"
          ]
        },
        {
          "name": "stderr",
          "output_type": "stream",
          "text": [
            "t: 100%|██████████| 301/301 [00:39<00:00,  9.83it/s, now=None]WARNING:py.warnings:/usr/local/lib/python3.10/dist-packages/moviepy/video/io/ffmpeg_reader.py:123: UserWarning: Warning: in file /content/gdrive/MyDrive/Major FINAL RUN/Final Audio Dataset/ibyevudtta.mp4, 6220800 bytes wanted but 0 bytes read,at frame 300/301, at time 10.01/10.02 sec. Using the last valid frame instead.\n",
            "  warnings.warn(\"Warning: in file %s, \"%(self.filename)+\n",
            "\n"
          ]
        },
        {
          "name": "stdout",
          "output_type": "stream",
          "text": [
            "Moviepy - Done !\n",
            "Moviepy - video ready /content/gdrive/MyDrive/Major FINAL RUN/Audio_altFinal/ibyevudtta.mp4\n",
            "Processed 332 out of 744 videos. Audio removed from ibyevudtta.mp4 and saved to silent videos folder.\n",
            "Moviepy - Building video /content/gdrive/MyDrive/Major FINAL RUN/Audio_altFinal/idgqkqlmag.mp4.\n",
            "Moviepy - Writing video /content/gdrive/MyDrive/Major FINAL RUN/Audio_altFinal/idgqkqlmag.mp4\n",
            "\n"
          ]
        },
        {
          "name": "stderr",
          "output_type": "stream",
          "text": [
            "t: 100%|█████████▉| 300/301 [00:43<00:00,  6.08it/s, now=None]WARNING:py.warnings:/usr/local/lib/python3.10/dist-packages/moviepy/video/io/ffmpeg_reader.py:123: UserWarning: Warning: in file /content/gdrive/MyDrive/Major FINAL RUN/Final Audio Dataset/idgqkqlmag.mp4, 6220800 bytes wanted but 0 bytes read,at frame 300/301, at time 10.01/10.02 sec. Using the last valid frame instead.\n",
            "  warnings.warn(\"Warning: in file %s, \"%(self.filename)+\n",
            "\n"
          ]
        },
        {
          "name": "stdout",
          "output_type": "stream",
          "text": [
            "Moviepy - Done !\n",
            "Moviepy - video ready /content/gdrive/MyDrive/Major FINAL RUN/Audio_altFinal/idgqkqlmag.mp4\n",
            "Processed 333 out of 744 videos. Audio removed from idgqkqlmag.mp4 and saved to silent videos folder.\n",
            "Moviepy - Building video /content/gdrive/MyDrive/Major FINAL RUN/Audio_altFinal/ieycmlnprv.mp4.\n",
            "Moviepy - Writing video /content/gdrive/MyDrive/Major FINAL RUN/Audio_altFinal/ieycmlnprv.mp4\n",
            "\n"
          ]
        },
        {
          "name": "stderr",
          "output_type": "stream",
          "text": [
            "t:  99%|█████████▉| 299/301 [00:38<00:00,  8.87it/s, now=None]WARNING:py.warnings:/usr/local/lib/python3.10/dist-packages/moviepy/video/io/ffmpeg_reader.py:123: UserWarning: Warning: in file /content/gdrive/MyDrive/Major FINAL RUN/Final Audio Dataset/ieycmlnprv.mp4, 6220800 bytes wanted but 0 bytes read,at frame 300/301, at time 10.01/10.02 sec. Using the last valid frame instead.\n",
            "  warnings.warn(\"Warning: in file %s, \"%(self.filename)+\n",
            "\n"
          ]
        },
        {
          "name": "stdout",
          "output_type": "stream",
          "text": [
            "Moviepy - Done !\n",
            "Moviepy - video ready /content/gdrive/MyDrive/Major FINAL RUN/Audio_altFinal/ieycmlnprv.mp4\n",
            "Processed 334 out of 744 videos. Audio removed from ieycmlnprv.mp4 and saved to silent videos folder.\n",
            "Moviepy - Building video /content/gdrive/MyDrive/Major FINAL RUN/Audio_altFinal/ieablenuwf.mp4.\n",
            "Moviepy - Writing video /content/gdrive/MyDrive/Major FINAL RUN/Audio_altFinal/ieablenuwf.mp4\n",
            "\n"
          ]
        },
        {
          "name": "stderr",
          "output_type": "stream",
          "text": [
            "t: 100%|██████████| 301/301 [00:39<00:00,  7.73it/s, now=None]WARNING:py.warnings:/usr/local/lib/python3.10/dist-packages/moviepy/video/io/ffmpeg_reader.py:123: UserWarning: Warning: in file /content/gdrive/MyDrive/Major FINAL RUN/Final Audio Dataset/ieablenuwf.mp4, 6220800 bytes wanted but 0 bytes read,at frame 300/301, at time 10.01/10.02 sec. Using the last valid frame instead.\n",
            "  warnings.warn(\"Warning: in file %s, \"%(self.filename)+\n",
            "\n"
          ]
        },
        {
          "name": "stdout",
          "output_type": "stream",
          "text": [
            "Moviepy - Done !\n",
            "Moviepy - video ready /content/gdrive/MyDrive/Major FINAL RUN/Audio_altFinal/ieablenuwf.mp4\n",
            "Processed 335 out of 744 videos. Audio removed from ieablenuwf.mp4 and saved to silent videos folder.\n",
            "Moviepy - Building video /content/gdrive/MyDrive/Major FINAL RUN/Audio_altFinal/igptebbdgv.mp4.\n",
            "Moviepy - Writing video /content/gdrive/MyDrive/Major FINAL RUN/Audio_altFinal/igptebbdgv.mp4\n",
            "\n"
          ]
        },
        {
          "name": "stderr",
          "output_type": "stream",
          "text": [
            "t: 100%|██████████| 301/301 [00:47<00:00,  8.34it/s, now=None]WARNING:py.warnings:/usr/local/lib/python3.10/dist-packages/moviepy/video/io/ffmpeg_reader.py:123: UserWarning: Warning: in file /content/gdrive/MyDrive/Major FINAL RUN/Final Audio Dataset/igptebbdgv.mp4, 6220800 bytes wanted but 0 bytes read,at frame 300/301, at time 10.01/10.02 sec. Using the last valid frame instead.\n",
            "  warnings.warn(\"Warning: in file %s, \"%(self.filename)+\n",
            "\n"
          ]
        },
        {
          "name": "stdout",
          "output_type": "stream",
          "text": [
            "Moviepy - Done !\n",
            "Moviepy - video ready /content/gdrive/MyDrive/Major FINAL RUN/Audio_altFinal/igptebbdgv.mp4\n",
            "Processed 336 out of 744 videos. Audio removed from igptebbdgv.mp4 and saved to silent videos folder.\n",
            "Moviepy - Building video /content/gdrive/MyDrive/Major FINAL RUN/Audio_altFinal/igwxjnfnos.mp4.\n",
            "Moviepy - Writing video /content/gdrive/MyDrive/Major FINAL RUN/Audio_altFinal/igwxjnfnos.mp4\n",
            "\n"
          ]
        },
        {
          "name": "stderr",
          "output_type": "stream",
          "text": [
            "t: 100%|██████████| 301/301 [00:43<00:00,  8.04it/s, now=None]WARNING:py.warnings:/usr/local/lib/python3.10/dist-packages/moviepy/video/io/ffmpeg_reader.py:123: UserWarning: Warning: in file /content/gdrive/MyDrive/Major FINAL RUN/Final Audio Dataset/igwxjnfnos.mp4, 6220800 bytes wanted but 0 bytes read,at frame 300/301, at time 10.01/10.02 sec. Using the last valid frame instead.\n",
            "  warnings.warn(\"Warning: in file %s, \"%(self.filename)+\n",
            "\n"
          ]
        },
        {
          "name": "stdout",
          "output_type": "stream",
          "text": [
            "Moviepy - Done !\n",
            "Moviepy - video ready /content/gdrive/MyDrive/Major FINAL RUN/Audio_altFinal/igwxjnfnos.mp4\n",
            "Processed 337 out of 744 videos. Audio removed from igwxjnfnos.mp4 and saved to silent videos folder.\n",
            "Moviepy - Building video /content/gdrive/MyDrive/Major FINAL RUN/Audio_altFinal/ifvbwbcnyj.mp4.\n",
            "Moviepy - Writing video /content/gdrive/MyDrive/Major FINAL RUN/Audio_altFinal/ifvbwbcnyj.mp4\n",
            "\n"
          ]
        },
        {
          "name": "stderr",
          "output_type": "stream",
          "text": [
            "t: 100%|█████████▉| 300/301 [00:37<00:00,  9.15it/s, now=None]WARNING:py.warnings:/usr/local/lib/python3.10/dist-packages/moviepy/video/io/ffmpeg_reader.py:123: UserWarning: Warning: in file /content/gdrive/MyDrive/Major FINAL RUN/Final Audio Dataset/ifvbwbcnyj.mp4, 6220800 bytes wanted but 0 bytes read,at frame 300/301, at time 10.01/10.02 sec. Using the last valid frame instead.\n",
            "  warnings.warn(\"Warning: in file %s, \"%(self.filename)+\n",
            "\n"
          ]
        },
        {
          "name": "stdout",
          "output_type": "stream",
          "text": [
            "Moviepy - Done !\n",
            "Moviepy - video ready /content/gdrive/MyDrive/Major FINAL RUN/Audio_altFinal/ifvbwbcnyj.mp4\n",
            "Processed 338 out of 744 videos. Audio removed from ifvbwbcnyj.mp4 and saved to silent videos folder.\n",
            "Moviepy - Building video /content/gdrive/MyDrive/Major FINAL RUN/Audio_altFinal/ifvpemzpuf.mp4.\n",
            "Moviepy - Writing video /content/gdrive/MyDrive/Major FINAL RUN/Audio_altFinal/ifvpemzpuf.mp4\n",
            "\n"
          ]
        },
        {
          "name": "stderr",
          "output_type": "stream",
          "text": [
            "t: 100%|██████████| 301/301 [00:42<00:00,  8.61it/s, now=None]WARNING:py.warnings:/usr/local/lib/python3.10/dist-packages/moviepy/video/io/ffmpeg_reader.py:123: UserWarning: Warning: in file /content/gdrive/MyDrive/Major FINAL RUN/Final Audio Dataset/ifvpemzpuf.mp4, 6220800 bytes wanted but 0 bytes read,at frame 300/301, at time 10.01/10.02 sec. Using the last valid frame instead.\n",
            "  warnings.warn(\"Warning: in file %s, \"%(self.filename)+\n",
            "\n"
          ]
        },
        {
          "name": "stdout",
          "output_type": "stream",
          "text": [
            "Moviepy - Done !\n",
            "Moviepy - video ready /content/gdrive/MyDrive/Major FINAL RUN/Audio_altFinal/ifvpemzpuf.mp4\n",
            "Processed 339 out of 744 videos. Audio removed from ifvpemzpuf.mp4 and saved to silent videos folder.\n",
            "Moviepy - Building video /content/gdrive/MyDrive/Major FINAL RUN/Audio_altFinal/igzvunospk.mp4.\n",
            "Moviepy - Writing video /content/gdrive/MyDrive/Major FINAL RUN/Audio_altFinal/igzvunospk.mp4\n",
            "\n"
          ]
        },
        {
          "name": "stderr",
          "output_type": "stream",
          "text": [
            "t: 100%|█████████▉| 300/301 [00:45<00:00,  7.44it/s, now=None]WARNING:py.warnings:/usr/local/lib/python3.10/dist-packages/moviepy/video/io/ffmpeg_reader.py:123: UserWarning: Warning: in file /content/gdrive/MyDrive/Major FINAL RUN/Final Audio Dataset/igzvunospk.mp4, 6220800 bytes wanted but 0 bytes read,at frame 300/301, at time 10.01/10.02 sec. Using the last valid frame instead.\n",
            "  warnings.warn(\"Warning: in file %s, \"%(self.filename)+\n",
            "\n"
          ]
        },
        {
          "name": "stdout",
          "output_type": "stream",
          "text": [
            "Moviepy - Done !\n",
            "Moviepy - video ready /content/gdrive/MyDrive/Major FINAL RUN/Audio_altFinal/igzvunospk.mp4\n",
            "Processed 340 out of 744 videos. Audio removed from igzvunospk.mp4 and saved to silent videos folder.\n",
            "Moviepy - Building video /content/gdrive/MyDrive/Major FINAL RUN/Audio_altFinal/ihwwpkzcdn.mp4.\n",
            "Moviepy - Writing video /content/gdrive/MyDrive/Major FINAL RUN/Audio_altFinal/ihwwpkzcdn.mp4\n",
            "\n"
          ]
        },
        {
          "name": "stderr",
          "output_type": "stream",
          "text": [
            "t: 100%|██████████| 301/301 [00:38<00:00,  9.00it/s, now=None]WARNING:py.warnings:/usr/local/lib/python3.10/dist-packages/moviepy/video/io/ffmpeg_reader.py:123: UserWarning: Warning: in file /content/gdrive/MyDrive/Major FINAL RUN/Final Audio Dataset/ihwwpkzcdn.mp4, 6220800 bytes wanted but 0 bytes read,at frame 300/301, at time 10.01/10.02 sec. Using the last valid frame instead.\n",
            "  warnings.warn(\"Warning: in file %s, \"%(self.filename)+\n",
            "\n"
          ]
        },
        {
          "name": "stdout",
          "output_type": "stream",
          "text": [
            "Moviepy - Done !\n",
            "Moviepy - video ready /content/gdrive/MyDrive/Major FINAL RUN/Audio_altFinal/ihwwpkzcdn.mp4\n",
            "Processed 341 out of 744 videos. Audio removed from ihwwpkzcdn.mp4 and saved to silent videos folder.\n",
            "Moviepy - Building video /content/gdrive/MyDrive/Major FINAL RUN/Audio_altFinal/ilvmgunkie.mp4.\n",
            "Moviepy - Writing video /content/gdrive/MyDrive/Major FINAL RUN/Audio_altFinal/ilvmgunkie.mp4\n",
            "\n"
          ]
        },
        {
          "name": "stderr",
          "output_type": "stream",
          "text": [
            "t: 100%|█████████▉| 300/301 [00:40<00:00,  7.52it/s, now=None]WARNING:py.warnings:/usr/local/lib/python3.10/dist-packages/moviepy/video/io/ffmpeg_reader.py:123: UserWarning: Warning: in file /content/gdrive/MyDrive/Major FINAL RUN/Final Audio Dataset/ilvmgunkie.mp4, 6220800 bytes wanted but 0 bytes read,at frame 300/301, at time 10.01/10.02 sec. Using the last valid frame instead.\n",
            "  warnings.warn(\"Warning: in file %s, \"%(self.filename)+\n",
            "\n"
          ]
        },
        {
          "name": "stdout",
          "output_type": "stream",
          "text": [
            "Moviepy - Done !\n",
            "Moviepy - video ready /content/gdrive/MyDrive/Major FINAL RUN/Audio_altFinal/ilvmgunkie.mp4\n",
            "Processed 342 out of 744 videos. Audio removed from ilvmgunkie.mp4 and saved to silent videos folder.\n",
            "Moviepy - Building video /content/gdrive/MyDrive/Major FINAL RUN/Audio_altFinal/infktzjqjf.mp4.\n",
            "Moviepy - Writing video /content/gdrive/MyDrive/Major FINAL RUN/Audio_altFinal/infktzjqjf.mp4\n",
            "\n"
          ]
        },
        {
          "name": "stderr",
          "output_type": "stream",
          "text": [
            "t: 100%|██████████| 301/301 [00:40<00:00,  5.69it/s, now=None]WARNING:py.warnings:/usr/local/lib/python3.10/dist-packages/moviepy/video/io/ffmpeg_reader.py:123: UserWarning: Warning: in file /content/gdrive/MyDrive/Major FINAL RUN/Final Audio Dataset/infktzjqjf.mp4, 6220800 bytes wanted but 0 bytes read,at frame 300/301, at time 10.01/10.02 sec. Using the last valid frame instead.\n",
            "  warnings.warn(\"Warning: in file %s, \"%(self.filename)+\n",
            "\n"
          ]
        },
        {
          "name": "stdout",
          "output_type": "stream",
          "text": [
            "Moviepy - Done !\n",
            "Moviepy - video ready /content/gdrive/MyDrive/Major FINAL RUN/Audio_altFinal/infktzjqjf.mp4\n",
            "Processed 343 out of 744 videos. Audio removed from infktzjqjf.mp4 and saved to silent videos folder.\n",
            "Moviepy - Building video /content/gdrive/MyDrive/Major FINAL RUN/Audio_altFinal/inkxxqwrzi.mp4.\n",
            "Moviepy - Writing video /content/gdrive/MyDrive/Major FINAL RUN/Audio_altFinal/inkxxqwrzi.mp4\n",
            "\n"
          ]
        },
        {
          "name": "stderr",
          "output_type": "stream",
          "text": [
            ""
          ]
        },
        {
          "name": "stdout",
          "output_type": "stream",
          "text": [
            "Moviepy - Done !\n",
            "Moviepy - video ready /content/gdrive/MyDrive/Major FINAL RUN/Audio_altFinal/inkxxqwrzi.mp4\n",
            "Processed 344 out of 744 videos. Audio removed from inkxxqwrzi.mp4 and saved to silent videos folder.\n",
            "Moviepy - Building video /content/gdrive/MyDrive/Major FINAL RUN/Audio_altFinal/imrprfgqaj.mp4.\n",
            "Moviepy - Writing video /content/gdrive/MyDrive/Major FINAL RUN/Audio_altFinal/imrprfgqaj.mp4\n",
            "\n"
          ]
        },
        {
          "name": "stderr",
          "output_type": "stream",
          "text": [
            "t: 100%|██████████| 301/301 [00:40<00:00,  8.74it/s, now=None]WARNING:py.warnings:/usr/local/lib/python3.10/dist-packages/moviepy/video/io/ffmpeg_reader.py:123: UserWarning: Warning: in file /content/gdrive/MyDrive/Major FINAL RUN/Final Audio Dataset/imrprfgqaj.mp4, 6220800 bytes wanted but 0 bytes read,at frame 300/301, at time 10.01/10.02 sec. Using the last valid frame instead.\n",
            "  warnings.warn(\"Warning: in file %s, \"%(self.filename)+\n",
            "\n"
          ]
        },
        {
          "name": "stdout",
          "output_type": "stream",
          "text": [
            "Moviepy - Done !\n",
            "Moviepy - video ready /content/gdrive/MyDrive/Major FINAL RUN/Audio_altFinal/imrprfgqaj.mp4\n",
            "Processed 345 out of 744 videos. Audio removed from imrprfgqaj.mp4 and saved to silent videos folder.\n",
            "Moviepy - Building video /content/gdrive/MyDrive/Major FINAL RUN/Audio_altFinal/iofoynuaqe.mp4.\n",
            "Moviepy - Writing video /content/gdrive/MyDrive/Major FINAL RUN/Audio_altFinal/iofoynuaqe.mp4\n",
            "\n"
          ]
        },
        {
          "name": "stderr",
          "output_type": "stream",
          "text": [
            "t: 100%|█████████▉| 300/301 [00:38<00:00,  6.33it/s, now=None]WARNING:py.warnings:/usr/local/lib/python3.10/dist-packages/moviepy/video/io/ffmpeg_reader.py:123: UserWarning: Warning: in file /content/gdrive/MyDrive/Major FINAL RUN/Final Audio Dataset/iofoynuaqe.mp4, 6220800 bytes wanted but 0 bytes read,at frame 300/301, at time 10.01/10.02 sec. Using the last valid frame instead.\n",
            "  warnings.warn(\"Warning: in file %s, \"%(self.filename)+\n",
            "\n"
          ]
        },
        {
          "name": "stdout",
          "output_type": "stream",
          "text": [
            "Moviepy - Done !\n",
            "Moviepy - video ready /content/gdrive/MyDrive/Major FINAL RUN/Audio_altFinal/iofoynuaqe.mp4\n",
            "Processed 346 out of 744 videos. Audio removed from iofoynuaqe.mp4 and saved to silent videos folder.\n",
            "Moviepy - Building video /content/gdrive/MyDrive/Major FINAL RUN/Audio_altFinal/iocpymnnba.mp4.\n",
            "Moviepy - Writing video /content/gdrive/MyDrive/Major FINAL RUN/Audio_altFinal/iocpymnnba.mp4\n",
            "\n"
          ]
        },
        {
          "name": "stderr",
          "output_type": "stream",
          "text": [
            "t: 100%|██████████| 301/301 [00:41<00:00,  7.92it/s, now=None]WARNING:py.warnings:/usr/local/lib/python3.10/dist-packages/moviepy/video/io/ffmpeg_reader.py:123: UserWarning: Warning: in file /content/gdrive/MyDrive/Major FINAL RUN/Final Audio Dataset/iocpymnnba.mp4, 6220800 bytes wanted but 0 bytes read,at frame 300/301, at time 10.01/10.02 sec. Using the last valid frame instead.\n",
            "  warnings.warn(\"Warning: in file %s, \"%(self.filename)+\n",
            "\n"
          ]
        },
        {
          "name": "stdout",
          "output_type": "stream",
          "text": [
            "Moviepy - Done !\n",
            "Moviepy - video ready /content/gdrive/MyDrive/Major FINAL RUN/Audio_altFinal/iocpymnnba.mp4\n",
            "Processed 347 out of 744 videos. Audio removed from iocpymnnba.mp4 and saved to silent videos folder.\n",
            "Moviepy - Building video /content/gdrive/MyDrive/Major FINAL RUN/Audio_altFinal/iqfxqwqtpe.mp4.\n",
            "Moviepy - Writing video /content/gdrive/MyDrive/Major FINAL RUN/Audio_altFinal/iqfxqwqtpe.mp4\n",
            "\n"
          ]
        },
        {
          "name": "stderr",
          "output_type": "stream",
          "text": [
            "t: 100%|█████████▉| 300/301 [00:36<00:00,  8.96it/s, now=None]WARNING:py.warnings:/usr/local/lib/python3.10/dist-packages/moviepy/video/io/ffmpeg_reader.py:123: UserWarning: Warning: in file /content/gdrive/MyDrive/Major FINAL RUN/Final Audio Dataset/iqfxqwqtpe.mp4, 6220800 bytes wanted but 0 bytes read,at frame 300/301, at time 10.01/10.02 sec. Using the last valid frame instead.\n",
            "  warnings.warn(\"Warning: in file %s, \"%(self.filename)+\n",
            "\n"
          ]
        },
        {
          "name": "stdout",
          "output_type": "stream",
          "text": [
            "Moviepy - Done !\n",
            "Moviepy - video ready /content/gdrive/MyDrive/Major FINAL RUN/Audio_altFinal/iqfxqwqtpe.mp4\n",
            "Processed 348 out of 744 videos. Audio removed from iqfxqwqtpe.mp4 and saved to silent videos folder.\n",
            "Moviepy - Building video /content/gdrive/MyDrive/Major FINAL RUN/Audio_altFinal/irtjjofhwa.mp4.\n",
            "Moviepy - Writing video /content/gdrive/MyDrive/Major FINAL RUN/Audio_altFinal/irtjjofhwa.mp4\n",
            "\n"
          ]
        },
        {
          "name": "stderr",
          "output_type": "stream",
          "text": [
            "t: 100%|█████████▉| 300/301 [00:38<00:00,  7.02it/s, now=None]WARNING:py.warnings:/usr/local/lib/python3.10/dist-packages/moviepy/video/io/ffmpeg_reader.py:123: UserWarning: Warning: in file /content/gdrive/MyDrive/Major FINAL RUN/Final Audio Dataset/irtjjofhwa.mp4, 6220800 bytes wanted but 0 bytes read,at frame 300/301, at time 10.01/10.02 sec. Using the last valid frame instead.\n",
            "  warnings.warn(\"Warning: in file %s, \"%(self.filename)+\n",
            "\n"
          ]
        },
        {
          "name": "stdout",
          "output_type": "stream",
          "text": [
            "Moviepy - Done !\n",
            "Moviepy - video ready /content/gdrive/MyDrive/Major FINAL RUN/Audio_altFinal/irtjjofhwa.mp4\n",
            "Processed 349 out of 744 videos. Audio removed from irtjjofhwa.mp4 and saved to silent videos folder.\n",
            "Moviepy - Building video /content/gdrive/MyDrive/Major FINAL RUN/Audio_altFinal/isbpywzztg.mp4.\n",
            "Moviepy - Writing video /content/gdrive/MyDrive/Major FINAL RUN/Audio_altFinal/isbpywzztg.mp4\n",
            "\n"
          ]
        },
        {
          "name": "stderr",
          "output_type": "stream",
          "text": [
            "t: 100%|█████████▉| 300/301 [00:36<00:00,  8.79it/s, now=None]WARNING:py.warnings:/usr/local/lib/python3.10/dist-packages/moviepy/video/io/ffmpeg_reader.py:123: UserWarning: Warning: in file /content/gdrive/MyDrive/Major FINAL RUN/Final Audio Dataset/isbpywzztg.mp4, 6220800 bytes wanted but 0 bytes read,at frame 300/301, at time 10.01/10.02 sec. Using the last valid frame instead.\n",
            "  warnings.warn(\"Warning: in file %s, \"%(self.filename)+\n",
            "\n"
          ]
        },
        {
          "name": "stdout",
          "output_type": "stream",
          "text": [
            "Moviepy - Done !\n",
            "Moviepy - video ready /content/gdrive/MyDrive/Major FINAL RUN/Audio_altFinal/isbpywzztg.mp4\n",
            "Processed 350 out of 744 videos. Audio removed from isbpywzztg.mp4 and saved to silent videos folder.\n",
            "Moviepy - Building video /content/gdrive/MyDrive/Major FINAL RUN/Audio_altFinal/itrowqigua.mp4.\n",
            "Moviepy - Writing video /content/gdrive/MyDrive/Major FINAL RUN/Audio_altFinal/itrowqigua.mp4\n",
            "\n"
          ]
        },
        {
          "name": "stderr",
          "output_type": "stream",
          "text": [
            "t: 100%|██████████| 301/301 [00:39<00:00,  6.37it/s, now=None]WARNING:py.warnings:/usr/local/lib/python3.10/dist-packages/moviepy/video/io/ffmpeg_reader.py:123: UserWarning: Warning: in file /content/gdrive/MyDrive/Major FINAL RUN/Final Audio Dataset/itrowqigua.mp4, 6220800 bytes wanted but 0 bytes read,at frame 300/301, at time 10.01/10.02 sec. Using the last valid frame instead.\n",
            "  warnings.warn(\"Warning: in file %s, \"%(self.filename)+\n",
            "\n"
          ]
        },
        {
          "name": "stdout",
          "output_type": "stream",
          "text": [
            "Moviepy - Done !\n",
            "Moviepy - video ready /content/gdrive/MyDrive/Major FINAL RUN/Audio_altFinal/itrowqigua.mp4\n",
            "Processed 351 out of 744 videos. Audio removed from itrowqigua.mp4 and saved to silent videos folder.\n",
            "Moviepy - Building video /content/gdrive/MyDrive/Major FINAL RUN/Audio_altFinal/issjgiimvq.mp4.\n",
            "Moviepy - Writing video /content/gdrive/MyDrive/Major FINAL RUN/Audio_altFinal/issjgiimvq.mp4\n",
            "\n"
          ]
        },
        {
          "name": "stderr",
          "output_type": "stream",
          "text": [
            "t: 100%|██████████| 301/301 [00:42<00:00,  6.02it/s, now=None]WARNING:py.warnings:/usr/local/lib/python3.10/dist-packages/moviepy/video/io/ffmpeg_reader.py:123: UserWarning: Warning: in file /content/gdrive/MyDrive/Major FINAL RUN/Final Audio Dataset/issjgiimvq.mp4, 6220800 bytes wanted but 0 bytes read,at frame 300/301, at time 10.01/10.02 sec. Using the last valid frame instead.\n",
            "  warnings.warn(\"Warning: in file %s, \"%(self.filename)+\n",
            "\n"
          ]
        },
        {
          "name": "stdout",
          "output_type": "stream",
          "text": [
            "Moviepy - Done !\n",
            "Moviepy - video ready /content/gdrive/MyDrive/Major FINAL RUN/Audio_altFinal/issjgiimvq.mp4\n",
            "Processed 352 out of 744 videos. Audio removed from issjgiimvq.mp4 and saved to silent videos folder.\n",
            "Moviepy - Building video /content/gdrive/MyDrive/Major FINAL RUN/Audio_altFinal/iubklilvdl.mp4.\n",
            "Moviepy - Writing video /content/gdrive/MyDrive/Major FINAL RUN/Audio_altFinal/iubklilvdl.mp4\n",
            "\n"
          ]
        },
        {
          "name": "stderr",
          "output_type": "stream",
          "text": [
            "t: 100%|█████████▉| 300/301 [00:38<00:00,  8.56it/s, now=None]WARNING:py.warnings:/usr/local/lib/python3.10/dist-packages/moviepy/video/io/ffmpeg_reader.py:123: UserWarning: Warning: in file /content/gdrive/MyDrive/Major FINAL RUN/Final Audio Dataset/iubklilvdl.mp4, 6220800 bytes wanted but 0 bytes read,at frame 300/301, at time 10.01/10.02 sec. Using the last valid frame instead.\n",
            "  warnings.warn(\"Warning: in file %s, \"%(self.filename)+\n",
            "\n"
          ]
        },
        {
          "name": "stdout",
          "output_type": "stream",
          "text": [
            "Moviepy - Done !\n",
            "Moviepy - video ready /content/gdrive/MyDrive/Major FINAL RUN/Audio_altFinal/iubklilvdl.mp4\n",
            "Processed 353 out of 744 videos. Audio removed from iubklilvdl.mp4 and saved to silent videos folder.\n",
            "Moviepy - Building video /content/gdrive/MyDrive/Major FINAL RUN/Audio_altFinal/ivzeuhdezn.mp4.\n",
            "Moviepy - Writing video /content/gdrive/MyDrive/Major FINAL RUN/Audio_altFinal/ivzeuhdezn.mp4\n",
            "\n"
          ]
        },
        {
          "name": "stderr",
          "output_type": "stream",
          "text": [
            "t: 100%|██████████| 299/299 [00:43<00:00,  7.58it/s, now=None]WARNING:py.warnings:/usr/local/lib/python3.10/dist-packages/moviepy/video/io/ffmpeg_reader.py:123: UserWarning: Warning: in file /content/gdrive/MyDrive/Major FINAL RUN/Final Audio Dataset/ivzeuhdezn.mp4, 6220800 bytes wanted but 0 bytes read,at frame 298/299, at time 10.01/10.02 sec. Using the last valid frame instead.\n",
            "  warnings.warn(\"Warning: in file %s, \"%(self.filename)+\n",
            "\n"
          ]
        },
        {
          "name": "stdout",
          "output_type": "stream",
          "text": [
            "Moviepy - Done !\n",
            "Moviepy - video ready /content/gdrive/MyDrive/Major FINAL RUN/Audio_altFinal/ivzeuhdezn.mp4\n",
            "Processed 354 out of 744 videos. Audio removed from ivzeuhdezn.mp4 and saved to silent videos folder.\n",
            "Moviepy - Building video /content/gdrive/MyDrive/Major FINAL RUN/Audio_altFinal/iuzynnhumg.mp4.\n",
            "Moviepy - Writing video /content/gdrive/MyDrive/Major FINAL RUN/Audio_altFinal/iuzynnhumg.mp4\n",
            "\n"
          ]
        },
        {
          "name": "stderr",
          "output_type": "stream",
          "text": [
            "t: 100%|██████████| 301/301 [00:42<00:00,  7.73it/s, now=None]WARNING:py.warnings:/usr/local/lib/python3.10/dist-packages/moviepy/video/io/ffmpeg_reader.py:123: UserWarning: Warning: in file /content/gdrive/MyDrive/Major FINAL RUN/Final Audio Dataset/iuzynnhumg.mp4, 6220800 bytes wanted but 0 bytes read,at frame 300/301, at time 10.01/10.02 sec. Using the last valid frame instead.\n",
            "  warnings.warn(\"Warning: in file %s, \"%(self.filename)+\n",
            "\n"
          ]
        },
        {
          "name": "stdout",
          "output_type": "stream",
          "text": [
            "Moviepy - Done !\n",
            "Moviepy - video ready /content/gdrive/MyDrive/Major FINAL RUN/Audio_altFinal/iuzynnhumg.mp4\n",
            "Processed 355 out of 744 videos. Audio removed from iuzynnhumg.mp4 and saved to silent videos folder.\n",
            "Moviepy - Building video /content/gdrive/MyDrive/Major FINAL RUN/Audio_altFinal/ivatauaxiq.mp4.\n",
            "Moviepy - Writing video /content/gdrive/MyDrive/Major FINAL RUN/Audio_altFinal/ivatauaxiq.mp4\n",
            "\n"
          ]
        },
        {
          "name": "stderr",
          "output_type": "stream",
          "text": [
            "t: 100%|██████████| 301/301 [00:39<00:00,  5.81it/s, now=None]WARNING:py.warnings:/usr/local/lib/python3.10/dist-packages/moviepy/video/io/ffmpeg_reader.py:123: UserWarning: Warning: in file /content/gdrive/MyDrive/Major FINAL RUN/Final Audio Dataset/ivatauaxiq.mp4, 6220800 bytes wanted but 0 bytes read,at frame 300/301, at time 10.01/10.02 sec. Using the last valid frame instead.\n",
            "  warnings.warn(\"Warning: in file %s, \"%(self.filename)+\n",
            "\n"
          ]
        },
        {
          "name": "stdout",
          "output_type": "stream",
          "text": [
            "Moviepy - Done !\n",
            "Moviepy - video ready /content/gdrive/MyDrive/Major FINAL RUN/Audio_altFinal/ivatauaxiq.mp4\n",
            "Processed 356 out of 744 videos. Audio removed from ivatauaxiq.mp4 and saved to silent videos folder.\n",
            "Moviepy - Building video /content/gdrive/MyDrive/Major FINAL RUN/Audio_altFinal/iwrclnpqoc.mp4.\n",
            "Moviepy - Writing video /content/gdrive/MyDrive/Major FINAL RUN/Audio_altFinal/iwrclnpqoc.mp4\n",
            "\n"
          ]
        },
        {
          "name": "stderr",
          "output_type": "stream",
          "text": [
            "t: 100%|██████████| 301/301 [00:49<00:00,  6.24it/s, now=None]WARNING:py.warnings:/usr/local/lib/python3.10/dist-packages/moviepy/video/io/ffmpeg_reader.py:123: UserWarning: Warning: in file /content/gdrive/MyDrive/Major FINAL RUN/Final Audio Dataset/iwrclnpqoc.mp4, 6220800 bytes wanted but 0 bytes read,at frame 300/301, at time 10.01/10.02 sec. Using the last valid frame instead.\n",
            "  warnings.warn(\"Warning: in file %s, \"%(self.filename)+\n",
            "\n"
          ]
        },
        {
          "name": "stdout",
          "output_type": "stream",
          "text": [
            "Moviepy - Done !\n",
            "Moviepy - video ready /content/gdrive/MyDrive/Major FINAL RUN/Audio_altFinal/iwrclnpqoc.mp4\n",
            "Processed 357 out of 744 videos. Audio removed from iwrclnpqoc.mp4 and saved to silent videos folder.\n",
            "Moviepy - Building video /content/gdrive/MyDrive/Major FINAL RUN/Audio_altFinal/ixypsvvkfv.mp4.\n",
            "Moviepy - Writing video /content/gdrive/MyDrive/Major FINAL RUN/Audio_altFinal/ixypsvvkfv.mp4\n",
            "\n"
          ]
        },
        {
          "name": "stderr",
          "output_type": "stream",
          "text": [
            "t: 100%|██████████| 301/301 [00:39<00:00,  5.83it/s, now=None]WARNING:py.warnings:/usr/local/lib/python3.10/dist-packages/moviepy/video/io/ffmpeg_reader.py:123: UserWarning: Warning: in file /content/gdrive/MyDrive/Major FINAL RUN/Final Audio Dataset/ixypsvvkfv.mp4, 6220800 bytes wanted but 0 bytes read,at frame 300/301, at time 10.01/10.02 sec. Using the last valid frame instead.\n",
            "  warnings.warn(\"Warning: in file %s, \"%(self.filename)+\n",
            "\n"
          ]
        },
        {
          "name": "stdout",
          "output_type": "stream",
          "text": [
            "Moviepy - Done !\n",
            "Moviepy - video ready /content/gdrive/MyDrive/Major FINAL RUN/Audio_altFinal/ixypsvvkfv.mp4\n",
            "Processed 358 out of 744 videos. Audio removed from ixypsvvkfv.mp4 and saved to silent videos folder.\n",
            "Moviepy - Building video /content/gdrive/MyDrive/Major FINAL RUN/Audio_altFinal/jgvqoasjoi.mp4.\n",
            "Moviepy - Writing video /content/gdrive/MyDrive/Major FINAL RUN/Audio_altFinal/jgvqoasjoi.mp4\n",
            "\n"
          ]
        },
        {
          "name": "stderr",
          "output_type": "stream",
          "text": [
            "t: 100%|██████████| 301/301 [00:47<00:00,  5.63it/s, now=None]WARNING:py.warnings:/usr/local/lib/python3.10/dist-packages/moviepy/video/io/ffmpeg_reader.py:123: UserWarning: Warning: in file /content/gdrive/MyDrive/Major FINAL RUN/Final Audio Dataset/jgvqoasjoi.mp4, 6220800 bytes wanted but 0 bytes read,at frame 300/301, at time 10.01/10.02 sec. Using the last valid frame instead.\n",
            "  warnings.warn(\"Warning: in file %s, \"%(self.filename)+\n",
            "\n"
          ]
        },
        {
          "name": "stdout",
          "output_type": "stream",
          "text": [
            "Moviepy - Done !\n",
            "Moviepy - video ready /content/gdrive/MyDrive/Major FINAL RUN/Audio_altFinal/jgvqoasjoi.mp4\n",
            "Processed 359 out of 744 videos. Audio removed from jgvqoasjoi.mp4 and saved to silent videos folder.\n",
            "Moviepy - Building video /content/gdrive/MyDrive/Major FINAL RUN/Audio_altFinal/jgrdzsjsqn.mp4.\n",
            "Moviepy - Writing video /content/gdrive/MyDrive/Major FINAL RUN/Audio_altFinal/jgrdzsjsqn.mp4\n",
            "\n"
          ]
        },
        {
          "name": "stderr",
          "output_type": "stream",
          "text": [
            "t: 100%|██████████| 301/301 [00:36<00:00, 10.12it/s, now=None]WARNING:py.warnings:/usr/local/lib/python3.10/dist-packages/moviepy/video/io/ffmpeg_reader.py:123: UserWarning: Warning: in file /content/gdrive/MyDrive/Major FINAL RUN/Final Audio Dataset/jgrdzsjsqn.mp4, 6220800 bytes wanted but 0 bytes read,at frame 300/301, at time 10.01/10.02 sec. Using the last valid frame instead.\n",
            "  warnings.warn(\"Warning: in file %s, \"%(self.filename)+\n",
            "\n"
          ]
        },
        {
          "name": "stdout",
          "output_type": "stream",
          "text": [
            "Moviepy - Done !\n",
            "Moviepy - video ready /content/gdrive/MyDrive/Major FINAL RUN/Audio_altFinal/jgrdzsjsqn.mp4\n",
            "Processed 360 out of 744 videos. Audio removed from jgrdzsjsqn.mp4 and saved to silent videos folder.\n",
            "Moviepy - Building video /content/gdrive/MyDrive/Major FINAL RUN/Audio_altFinal/jiwlonxohi.mp4.\n",
            "Moviepy - Writing video /content/gdrive/MyDrive/Major FINAL RUN/Audio_altFinal/jiwlonxohi.mp4\n",
            "\n"
          ]
        },
        {
          "name": "stderr",
          "output_type": "stream",
          "text": [
            "t:  99%|█████████▉| 299/301 [00:44<00:00,  7.09it/s, now=None]WARNING:py.warnings:/usr/local/lib/python3.10/dist-packages/moviepy/video/io/ffmpeg_reader.py:123: UserWarning: Warning: in file /content/gdrive/MyDrive/Major FINAL RUN/Final Audio Dataset/jiwlonxohi.mp4, 6220800 bytes wanted but 0 bytes read,at frame 300/301, at time 10.01/10.02 sec. Using the last valid frame instead.\n",
            "  warnings.warn(\"Warning: in file %s, \"%(self.filename)+\n",
            "\n"
          ]
        },
        {
          "name": "stdout",
          "output_type": "stream",
          "text": [
            "Moviepy - Done !\n",
            "Moviepy - video ready /content/gdrive/MyDrive/Major FINAL RUN/Audio_altFinal/jiwlonxohi.mp4\n",
            "Processed 361 out of 744 videos. Audio removed from jiwlonxohi.mp4 and saved to silent videos folder.\n",
            "Moviepy - Building video /content/gdrive/MyDrive/Major FINAL RUN/Audio_altFinal/jjgcpugjwy.mp4.\n",
            "Moviepy - Writing video /content/gdrive/MyDrive/Major FINAL RUN/Audio_altFinal/jjgcpugjwy.mp4\n",
            "\n"
          ]
        },
        {
          "name": "stderr",
          "output_type": "stream",
          "text": [
            "t: 100%|██████████| 301/301 [00:43<00:00,  4.78it/s, now=None]WARNING:py.warnings:/usr/local/lib/python3.10/dist-packages/moviepy/video/io/ffmpeg_reader.py:123: UserWarning: Warning: in file /content/gdrive/MyDrive/Major FINAL RUN/Final Audio Dataset/jjgcpugjwy.mp4, 6220800 bytes wanted but 0 bytes read,at frame 300/301, at time 10.01/10.02 sec. Using the last valid frame instead.\n",
            "  warnings.warn(\"Warning: in file %s, \"%(self.filename)+\n",
            "\n"
          ]
        },
        {
          "name": "stdout",
          "output_type": "stream",
          "text": [
            "Moviepy - Done !\n",
            "Moviepy - video ready /content/gdrive/MyDrive/Major FINAL RUN/Audio_altFinal/jjgcpugjwy.mp4\n",
            "Processed 362 out of 744 videos. Audio removed from jjgcpugjwy.mp4 and saved to silent videos folder.\n",
            "Moviepy - Building video /content/gdrive/MyDrive/Major FINAL RUN/Audio_altFinal/jkwpppugfm.mp4.\n",
            "Moviepy - Writing video /content/gdrive/MyDrive/Major FINAL RUN/Audio_altFinal/jkwpppugfm.mp4\n",
            "\n"
          ]
        },
        {
          "name": "stderr",
          "output_type": "stream",
          "text": [
            "t: 100%|██████████| 301/301 [00:46<00:00,  4.02it/s, now=None]WARNING:py.warnings:/usr/local/lib/python3.10/dist-packages/moviepy/video/io/ffmpeg_reader.py:123: UserWarning: Warning: in file /content/gdrive/MyDrive/Major FINAL RUN/Final Audio Dataset/jkwpppugfm.mp4, 6220800 bytes wanted but 0 bytes read,at frame 300/301, at time 10.01/10.02 sec. Using the last valid frame instead.\n",
            "  warnings.warn(\"Warning: in file %s, \"%(self.filename)+\n",
            "\n"
          ]
        },
        {
          "name": "stdout",
          "output_type": "stream",
          "text": [
            "Moviepy - Done !\n",
            "Moviepy - video ready /content/gdrive/MyDrive/Major FINAL RUN/Audio_altFinal/jkwpppugfm.mp4\n",
            "Processed 363 out of 744 videos. Audio removed from jkwpppugfm.mp4 and saved to silent videos folder.\n",
            "Moviepy - Building video /content/gdrive/MyDrive/Major FINAL RUN/Audio_altFinal/jkxrjgnksq.mp4.\n",
            "Moviepy - Writing video /content/gdrive/MyDrive/Major FINAL RUN/Audio_altFinal/jkxrjgnksq.mp4\n",
            "\n"
          ]
        },
        {
          "name": "stderr",
          "output_type": "stream",
          "text": [
            "t: 100%|█████████▉| 300/301 [00:37<00:00,  8.90it/s, now=None]WARNING:py.warnings:/usr/local/lib/python3.10/dist-packages/moviepy/video/io/ffmpeg_reader.py:123: UserWarning: Warning: in file /content/gdrive/MyDrive/Major FINAL RUN/Final Audio Dataset/jkxrjgnksq.mp4, 6220800 bytes wanted but 0 bytes read,at frame 300/301, at time 10.01/10.02 sec. Using the last valid frame instead.\n",
            "  warnings.warn(\"Warning: in file %s, \"%(self.filename)+\n",
            "\n"
          ]
        },
        {
          "name": "stdout",
          "output_type": "stream",
          "text": [
            "Moviepy - Done !\n",
            "Moviepy - video ready /content/gdrive/MyDrive/Major FINAL RUN/Audio_altFinal/jkxrjgnksq.mp4\n",
            "Processed 364 out of 744 videos. Audio removed from jkxrjgnksq.mp4 and saved to silent videos folder.\n",
            "Moviepy - Building video /content/gdrive/MyDrive/Major FINAL RUN/Audio_altFinal/jlpzyrhwik.mp4.\n",
            "Moviepy - Writing video /content/gdrive/MyDrive/Major FINAL RUN/Audio_altFinal/jlpzyrhwik.mp4\n",
            "\n"
          ]
        },
        {
          "name": "stderr",
          "output_type": "stream",
          "text": [
            "t: 100%|█████████▉| 300/301 [00:39<00:00,  7.93it/s, now=None]WARNING:py.warnings:/usr/local/lib/python3.10/dist-packages/moviepy/video/io/ffmpeg_reader.py:123: UserWarning: Warning: in file /content/gdrive/MyDrive/Major FINAL RUN/Final Audio Dataset/jlpzyrhwik.mp4, 6220800 bytes wanted but 0 bytes read,at frame 300/301, at time 10.01/10.02 sec. Using the last valid frame instead.\n",
            "  warnings.warn(\"Warning: in file %s, \"%(self.filename)+\n",
            "\n"
          ]
        },
        {
          "name": "stdout",
          "output_type": "stream",
          "text": [
            "Moviepy - Done !\n",
            "Moviepy - video ready /content/gdrive/MyDrive/Major FINAL RUN/Audio_altFinal/jlpzyrhwik.mp4\n",
            "Processed 365 out of 744 videos. Audio removed from jlpzyrhwik.mp4 and saved to silent videos folder.\n",
            "Moviepy - Building video /content/gdrive/MyDrive/Major FINAL RUN/Audio_altFinal/jlvqrgqhpw.mp4.\n",
            "Moviepy - Writing video /content/gdrive/MyDrive/Major FINAL RUN/Audio_altFinal/jlvqrgqhpw.mp4\n",
            "\n"
          ]
        },
        {
          "name": "stderr",
          "output_type": "stream",
          "text": [
            "t: 100%|██████████| 301/301 [00:39<00:00,  5.73it/s, now=None]WARNING:py.warnings:/usr/local/lib/python3.10/dist-packages/moviepy/video/io/ffmpeg_reader.py:123: UserWarning: Warning: in file /content/gdrive/MyDrive/Major FINAL RUN/Final Audio Dataset/jlvqrgqhpw.mp4, 6220800 bytes wanted but 0 bytes read,at frame 300/301, at time 10.01/10.02 sec. Using the last valid frame instead.\n",
            "  warnings.warn(\"Warning: in file %s, \"%(self.filename)+\n",
            "\n"
          ]
        },
        {
          "name": "stdout",
          "output_type": "stream",
          "text": [
            "Moviepy - Done !\n",
            "Moviepy - video ready /content/gdrive/MyDrive/Major FINAL RUN/Audio_altFinal/jlvqrgqhpw.mp4\n",
            "Processed 366 out of 744 videos. Audio removed from jlvqrgqhpw.mp4 and saved to silent videos folder.\n",
            "Moviepy - Building video /content/gdrive/MyDrive/Major FINAL RUN/Audio_altFinal/jlzckbmrbw.mp4.\n",
            "Moviepy - Writing video /content/gdrive/MyDrive/Major FINAL RUN/Audio_altFinal/jlzckbmrbw.mp4\n",
            "\n"
          ]
        },
        {
          "name": "stderr",
          "output_type": "stream",
          "text": [
            "t: 100%|██████████| 301/301 [00:39<00:00,  9.03it/s, now=None]WARNING:py.warnings:/usr/local/lib/python3.10/dist-packages/moviepy/video/io/ffmpeg_reader.py:123: UserWarning: Warning: in file /content/gdrive/MyDrive/Major FINAL RUN/Final Audio Dataset/jlzckbmrbw.mp4, 6220800 bytes wanted but 0 bytes read,at frame 300/301, at time 10.01/10.02 sec. Using the last valid frame instead.\n",
            "  warnings.warn(\"Warning: in file %s, \"%(self.filename)+\n",
            "\n"
          ]
        },
        {
          "name": "stdout",
          "output_type": "stream",
          "text": [
            "Moviepy - Done !\n",
            "Moviepy - video ready /content/gdrive/MyDrive/Major FINAL RUN/Audio_altFinal/jlzckbmrbw.mp4\n",
            "Processed 367 out of 744 videos. Audio removed from jlzckbmrbw.mp4 and saved to silent videos folder.\n",
            "Moviepy - Building video /content/gdrive/MyDrive/Major FINAL RUN/Audio_altFinal/jnnsgzdxtn.mp4.\n",
            "Moviepy - Writing video /content/gdrive/MyDrive/Major FINAL RUN/Audio_altFinal/jnnsgzdxtn.mp4\n",
            "\n"
          ]
        },
        {
          "name": "stderr",
          "output_type": "stream",
          "text": [
            "t: 100%|█████████▉| 300/301 [00:39<00:00,  8.50it/s, now=None]WARNING:py.warnings:/usr/local/lib/python3.10/dist-packages/moviepy/video/io/ffmpeg_reader.py:123: UserWarning: Warning: in file /content/gdrive/MyDrive/Major FINAL RUN/Final Audio Dataset/jnnsgzdxtn.mp4, 6220800 bytes wanted but 0 bytes read,at frame 300/301, at time 10.01/10.02 sec. Using the last valid frame instead.\n",
            "  warnings.warn(\"Warning: in file %s, \"%(self.filename)+\n",
            "\n"
          ]
        },
        {
          "name": "stdout",
          "output_type": "stream",
          "text": [
            "Moviepy - Done !\n",
            "Moviepy - video ready /content/gdrive/MyDrive/Major FINAL RUN/Audio_altFinal/jnnsgzdxtn.mp4\n",
            "Processed 368 out of 744 videos. Audio removed from jnnsgzdxtn.mp4 and saved to silent videos folder.\n",
            "Moviepy - Building video /content/gdrive/MyDrive/Major FINAL RUN/Audio_altFinal/jmrbvhwiih.mp4.\n",
            "Moviepy - Writing video /content/gdrive/MyDrive/Major FINAL RUN/Audio_altFinal/jmrbvhwiih.mp4\n",
            "\n"
          ]
        },
        {
          "name": "stderr",
          "output_type": "stream",
          "text": [
            "t: 100%|██████████| 301/301 [00:40<00:00,  7.94it/s, now=None]WARNING:py.warnings:/usr/local/lib/python3.10/dist-packages/moviepy/video/io/ffmpeg_reader.py:123: UserWarning: Warning: in file /content/gdrive/MyDrive/Major FINAL RUN/Final Audio Dataset/jmrbvhwiih.mp4, 6220800 bytes wanted but 0 bytes read,at frame 300/301, at time 10.01/10.02 sec. Using the last valid frame instead.\n",
            "  warnings.warn(\"Warning: in file %s, \"%(self.filename)+\n",
            "\n"
          ]
        },
        {
          "name": "stdout",
          "output_type": "stream",
          "text": [
            "Moviepy - Done !\n",
            "Moviepy - video ready /content/gdrive/MyDrive/Major FINAL RUN/Audio_altFinal/jmrbvhwiih.mp4\n",
            "Processed 369 out of 744 videos. Audio removed from jmrbvhwiih.mp4 and saved to silent videos folder.\n",
            "Moviepy - Building video /content/gdrive/MyDrive/Major FINAL RUN/Audio_altFinal/jmqmljznhv.mp4.\n",
            "Moviepy - Writing video /content/gdrive/MyDrive/Major FINAL RUN/Audio_altFinal/jmqmljznhv.mp4\n",
            "\n"
          ]
        },
        {
          "name": "stderr",
          "output_type": "stream",
          "text": [
            "t: 100%|██████████| 301/301 [00:38<00:00,  6.11it/s, now=None]WARNING:py.warnings:/usr/local/lib/python3.10/dist-packages/moviepy/video/io/ffmpeg_reader.py:123: UserWarning: Warning: in file /content/gdrive/MyDrive/Major FINAL RUN/Final Audio Dataset/jmqmljznhv.mp4, 6220800 bytes wanted but 0 bytes read,at frame 300/301, at time 10.01/10.02 sec. Using the last valid frame instead.\n",
            "  warnings.warn(\"Warning: in file %s, \"%(self.filename)+\n",
            "\n"
          ]
        },
        {
          "name": "stdout",
          "output_type": "stream",
          "text": [
            "Moviepy - Done !\n",
            "Moviepy - video ready /content/gdrive/MyDrive/Major FINAL RUN/Audio_altFinal/jmqmljznhv.mp4\n",
            "Processed 370 out of 744 videos. Audio removed from jmqmljznhv.mp4 and saved to silent videos folder.\n",
            "Moviepy - Building video /content/gdrive/MyDrive/Major FINAL RUN/Audio_altFinal/jpjyldcxnl.mp4.\n",
            "Moviepy - Writing video /content/gdrive/MyDrive/Major FINAL RUN/Audio_altFinal/jpjyldcxnl.mp4\n",
            "\n"
          ]
        },
        {
          "name": "stderr",
          "output_type": "stream",
          "text": [
            "t: 100%|██████████| 301/301 [00:40<00:00,  9.19it/s, now=None]WARNING:py.warnings:/usr/local/lib/python3.10/dist-packages/moviepy/video/io/ffmpeg_reader.py:123: UserWarning: Warning: in file /content/gdrive/MyDrive/Major FINAL RUN/Final Audio Dataset/jpjyldcxnl.mp4, 6220800 bytes wanted but 0 bytes read,at frame 300/301, at time 10.01/10.02 sec. Using the last valid frame instead.\n",
            "  warnings.warn(\"Warning: in file %s, \"%(self.filename)+\n",
            "\n"
          ]
        },
        {
          "name": "stdout",
          "output_type": "stream",
          "text": [
            "Moviepy - Done !\n",
            "Moviepy - video ready /content/gdrive/MyDrive/Major FINAL RUN/Audio_altFinal/jpjyldcxnl.mp4\n",
            "Processed 371 out of 744 videos. Audio removed from jpjyldcxnl.mp4 and saved to silent videos folder.\n",
            "Moviepy - Building video /content/gdrive/MyDrive/Major FINAL RUN/Audio_altFinal/jokemukffb.mp4.\n",
            "Moviepy - Writing video /content/gdrive/MyDrive/Major FINAL RUN/Audio_altFinal/jokemukffb.mp4\n",
            "\n"
          ]
        },
        {
          "name": "stderr",
          "output_type": "stream",
          "text": [
            "t: 100%|█████████▉| 300/301 [00:39<00:00,  7.92it/s, now=None]WARNING:py.warnings:/usr/local/lib/python3.10/dist-packages/moviepy/video/io/ffmpeg_reader.py:123: UserWarning: Warning: in file /content/gdrive/MyDrive/Major FINAL RUN/Final Audio Dataset/jokemukffb.mp4, 6220800 bytes wanted but 0 bytes read,at frame 300/301, at time 10.01/10.02 sec. Using the last valid frame instead.\n",
            "  warnings.warn(\"Warning: in file %s, \"%(self.filename)+\n",
            "\n"
          ]
        },
        {
          "name": "stdout",
          "output_type": "stream",
          "text": [
            "Moviepy - Done !\n",
            "Moviepy - video ready /content/gdrive/MyDrive/Major FINAL RUN/Audio_altFinal/jokemukffb.mp4\n",
            "Processed 372 out of 744 videos. Audio removed from jokemukffb.mp4 and saved to silent videos folder.\n",
            "Moviepy - Building video /content/gdrive/MyDrive/Major FINAL RUN/Audio_altFinal/jocmseacvk.mp4.\n",
            "Moviepy - Writing video /content/gdrive/MyDrive/Major FINAL RUN/Audio_altFinal/jocmseacvk.mp4\n",
            "\n"
          ]
        },
        {
          "name": "stderr",
          "output_type": "stream",
          "text": [
            "t: 100%|██████████| 301/301 [00:48<00:00,  8.03it/s, now=None]WARNING:py.warnings:/usr/local/lib/python3.10/dist-packages/moviepy/video/io/ffmpeg_reader.py:123: UserWarning: Warning: in file /content/gdrive/MyDrive/Major FINAL RUN/Final Audio Dataset/jocmseacvk.mp4, 6220800 bytes wanted but 0 bytes read,at frame 300/301, at time 10.01/10.02 sec. Using the last valid frame instead.\n",
            "  warnings.warn(\"Warning: in file %s, \"%(self.filename)+\n",
            "\n"
          ]
        },
        {
          "name": "stdout",
          "output_type": "stream",
          "text": [
            "Moviepy - Done !\n",
            "Moviepy - video ready /content/gdrive/MyDrive/Major FINAL RUN/Audio_altFinal/jocmseacvk.mp4\n",
            "Processed 373 out of 744 videos. Audio removed from jocmseacvk.mp4 and saved to silent videos folder.\n",
            "Moviepy - Building video /content/gdrive/MyDrive/Major FINAL RUN/Audio_altFinal/jswunuyhcq.mp4.\n",
            "Moviepy - Writing video /content/gdrive/MyDrive/Major FINAL RUN/Audio_altFinal/jswunuyhcq.mp4\n",
            "\n"
          ]
        },
        {
          "name": "stderr",
          "output_type": "stream",
          "text": [
            "t: 100%|██████████| 301/301 [00:39<00:00,  5.97it/s, now=None]WARNING:py.warnings:/usr/local/lib/python3.10/dist-packages/moviepy/video/io/ffmpeg_reader.py:123: UserWarning: Warning: in file /content/gdrive/MyDrive/Major FINAL RUN/Final Audio Dataset/jswunuyhcq.mp4, 6220800 bytes wanted but 0 bytes read,at frame 300/301, at time 10.01/10.02 sec. Using the last valid frame instead.\n",
            "  warnings.warn(\"Warning: in file %s, \"%(self.filename)+\n",
            "\n"
          ]
        },
        {
          "name": "stdout",
          "output_type": "stream",
          "text": [
            "Moviepy - Done !\n",
            "Moviepy - video ready /content/gdrive/MyDrive/Major FINAL RUN/Audio_altFinal/jswunuyhcq.mp4\n",
            "Processed 374 out of 744 videos. Audio removed from jswunuyhcq.mp4 and saved to silent videos folder.\n",
            "Moviepy - Building video /content/gdrive/MyDrive/Major FINAL RUN/Audio_altFinal/jqtjqtszyg.mp4.\n",
            "Moviepy - Writing video /content/gdrive/MyDrive/Major FINAL RUN/Audio_altFinal/jqtjqtszyg.mp4\n",
            "\n"
          ]
        },
        {
          "name": "stderr",
          "output_type": "stream",
          "text": [
            "t: 100%|██████████| 299/299 [00:45<00:00,  3.45it/s, now=None]WARNING:py.warnings:/usr/local/lib/python3.10/dist-packages/moviepy/video/io/ffmpeg_reader.py:123: UserWarning: Warning: in file /content/gdrive/MyDrive/Major FINAL RUN/Final Audio Dataset/jqtjqtszyg.mp4, 6220800 bytes wanted but 0 bytes read,at frame 298/299, at time 10.01/10.02 sec. Using the last valid frame instead.\n",
            "  warnings.warn(\"Warning: in file %s, \"%(self.filename)+\n",
            "\n"
          ]
        },
        {
          "name": "stdout",
          "output_type": "stream",
          "text": [
            "Moviepy - Done !\n",
            "Moviepy - video ready /content/gdrive/MyDrive/Major FINAL RUN/Audio_altFinal/jqtjqtszyg.mp4\n",
            "Processed 375 out of 744 videos. Audio removed from jqtjqtszyg.mp4 and saved to silent videos folder.\n",
            "Moviepy - Building video /content/gdrive/MyDrive/Major FINAL RUN/Audio_altFinal/jxjmkenozl.mp4.\n",
            "Moviepy - Writing video /content/gdrive/MyDrive/Major FINAL RUN/Audio_altFinal/jxjmkenozl.mp4\n",
            "\n"
          ]
        },
        {
          "name": "stderr",
          "output_type": "stream",
          "text": [
            "t: 100%|██████████| 301/301 [00:38<00:00,  8.84it/s, now=None]WARNING:py.warnings:/usr/local/lib/python3.10/dist-packages/moviepy/video/io/ffmpeg_reader.py:123: UserWarning: Warning: in file /content/gdrive/MyDrive/Major FINAL RUN/Final Audio Dataset/jxjmkenozl.mp4, 6220800 bytes wanted but 0 bytes read,at frame 300/301, at time 10.01/10.02 sec. Using the last valid frame instead.\n",
            "  warnings.warn(\"Warning: in file %s, \"%(self.filename)+\n",
            "\n"
          ]
        },
        {
          "name": "stdout",
          "output_type": "stream",
          "text": [
            "Moviepy - Done !\n",
            "Moviepy - video ready /content/gdrive/MyDrive/Major FINAL RUN/Audio_altFinal/jxjmkenozl.mp4\n",
            "Processed 376 out of 744 videos. Audio removed from jxjmkenozl.mp4 and saved to silent videos folder.\n",
            "Moviepy - Building video /content/gdrive/MyDrive/Major FINAL RUN/Audio_altFinal/jyeyzaahhl.mp4.\n",
            "Moviepy - Writing video /content/gdrive/MyDrive/Major FINAL RUN/Audio_altFinal/jyeyzaahhl.mp4\n",
            "\n"
          ]
        },
        {
          "name": "stderr",
          "output_type": "stream",
          "text": [
            "t:  99%|█████████▉| 299/301 [00:46<00:00,  6.73it/s, now=None]WARNING:py.warnings:/usr/local/lib/python3.10/dist-packages/moviepy/video/io/ffmpeg_reader.py:123: UserWarning: Warning: in file /content/gdrive/MyDrive/Major FINAL RUN/Final Audio Dataset/jyeyzaahhl.mp4, 6220800 bytes wanted but 0 bytes read,at frame 300/301, at time 10.01/10.02 sec. Using the last valid frame instead.\n",
            "  warnings.warn(\"Warning: in file %s, \"%(self.filename)+\n",
            "\n"
          ]
        },
        {
          "name": "stdout",
          "output_type": "stream",
          "text": [
            "Moviepy - Done !\n",
            "Moviepy - video ready /content/gdrive/MyDrive/Major FINAL RUN/Audio_altFinal/jyeyzaahhl.mp4\n",
            "Processed 377 out of 744 videos. Audio removed from jyeyzaahhl.mp4 and saved to silent videos folder.\n",
            "Moviepy - Building video /content/gdrive/MyDrive/Major FINAL RUN/Audio_altFinal/jtvopxfptd.mp4.\n",
            "Moviepy - Writing video /content/gdrive/MyDrive/Major FINAL RUN/Audio_altFinal/jtvopxfptd.mp4\n",
            "\n"
          ]
        },
        {
          "name": "stderr",
          "output_type": "stream",
          "text": [
            "t: 100%|██████████| 301/301 [00:50<00:00,  7.63it/s, now=None]WARNING:py.warnings:/usr/local/lib/python3.10/dist-packages/moviepy/video/io/ffmpeg_reader.py:123: UserWarning: Warning: in file /content/gdrive/MyDrive/Major FINAL RUN/Final Audio Dataset/jtvopxfptd.mp4, 6220800 bytes wanted but 0 bytes read,at frame 300/301, at time 10.01/10.02 sec. Using the last valid frame instead.\n",
            "  warnings.warn(\"Warning: in file %s, \"%(self.filename)+\n",
            "\n"
          ]
        },
        {
          "name": "stdout",
          "output_type": "stream",
          "text": [
            "Moviepy - Done !\n",
            "Moviepy - video ready /content/gdrive/MyDrive/Major FINAL RUN/Audio_altFinal/jtvopxfptd.mp4\n",
            "Processed 378 out of 744 videos. Audio removed from jtvopxfptd.mp4 and saved to silent videos folder.\n",
            "Moviepy - Building video /content/gdrive/MyDrive/Major FINAL RUN/Audio_altFinal/jvlpvtlmxy.mp4.\n",
            "Moviepy - Writing video /content/gdrive/MyDrive/Major FINAL RUN/Audio_altFinal/jvlpvtlmxy.mp4\n",
            "\n"
          ]
        },
        {
          "name": "stderr",
          "output_type": "stream",
          "text": [
            "t: 100%|██████████| 301/301 [00:50<00:00,  5.27it/s, now=None]WARNING:py.warnings:/usr/local/lib/python3.10/dist-packages/moviepy/video/io/ffmpeg_reader.py:123: UserWarning: Warning: in file /content/gdrive/MyDrive/Major FINAL RUN/Final Audio Dataset/jvlpvtlmxy.mp4, 6220800 bytes wanted but 0 bytes read,at frame 300/301, at time 10.01/10.02 sec. Using the last valid frame instead.\n",
            "  warnings.warn(\"Warning: in file %s, \"%(self.filename)+\n",
            "\n"
          ]
        },
        {
          "name": "stdout",
          "output_type": "stream",
          "text": [
            "Moviepy - Done !\n",
            "Moviepy - video ready /content/gdrive/MyDrive/Major FINAL RUN/Audio_altFinal/jvlpvtlmxy.mp4\n",
            "Processed 379 out of 744 videos. Audio removed from jvlpvtlmxy.mp4 and saved to silent videos folder.\n",
            "Moviepy - Building video /content/gdrive/MyDrive/Major FINAL RUN/Audio_altFinal/juhpgqxkwl.mp4.\n",
            "Moviepy - Writing video /content/gdrive/MyDrive/Major FINAL RUN/Audio_altFinal/juhpgqxkwl.mp4\n",
            "\n"
          ]
        },
        {
          "name": "stderr",
          "output_type": "stream",
          "text": [
            "t: 100%|█████████▉| 300/301 [00:39<00:00,  8.32it/s, now=None]WARNING:py.warnings:/usr/local/lib/python3.10/dist-packages/moviepy/video/io/ffmpeg_reader.py:123: UserWarning: Warning: in file /content/gdrive/MyDrive/Major FINAL RUN/Final Audio Dataset/juhpgqxkwl.mp4, 6220800 bytes wanted but 0 bytes read,at frame 300/301, at time 10.01/10.02 sec. Using the last valid frame instead.\n",
            "  warnings.warn(\"Warning: in file %s, \"%(self.filename)+\n",
            "\n"
          ]
        },
        {
          "name": "stdout",
          "output_type": "stream",
          "text": [
            "Moviepy - Done !\n",
            "Moviepy - video ready /content/gdrive/MyDrive/Major FINAL RUN/Audio_altFinal/juhpgqxkwl.mp4\n",
            "Processed 380 out of 744 videos. Audio removed from juhpgqxkwl.mp4 and saved to silent videos folder.\n",
            "Moviepy - Building video /content/gdrive/MyDrive/Major FINAL RUN/Audio_altFinal/jxohrnekha.mp4.\n",
            "Moviepy - Writing video /content/gdrive/MyDrive/Major FINAL RUN/Audio_altFinal/jxohrnekha.mp4\n",
            "\n"
          ]
        },
        {
          "name": "stderr",
          "output_type": "stream",
          "text": [
            "t: 100%|█████████▉| 300/301 [00:39<00:00,  9.14it/s, now=None]WARNING:py.warnings:/usr/local/lib/python3.10/dist-packages/moviepy/video/io/ffmpeg_reader.py:123: UserWarning: Warning: in file /content/gdrive/MyDrive/Major FINAL RUN/Final Audio Dataset/jxohrnekha.mp4, 6220800 bytes wanted but 0 bytes read,at frame 300/301, at time 10.01/10.02 sec. Using the last valid frame instead.\n",
            "  warnings.warn(\"Warning: in file %s, \"%(self.filename)+\n",
            "\n"
          ]
        },
        {
          "name": "stdout",
          "output_type": "stream",
          "text": [
            "Moviepy - Done !\n",
            "Moviepy - video ready /content/gdrive/MyDrive/Major FINAL RUN/Audio_altFinal/jxohrnekha.mp4\n",
            "Processed 381 out of 744 videos. Audio removed from jxohrnekha.mp4 and saved to silent videos folder.\n",
            "Moviepy - Building video /content/gdrive/MyDrive/Major FINAL RUN/Audio_altFinal/jyxmpkwbfa.mp4.\n",
            "Moviepy - Writing video /content/gdrive/MyDrive/Major FINAL RUN/Audio_altFinal/jyxmpkwbfa.mp4\n",
            "\n"
          ]
        },
        {
          "name": "stderr",
          "output_type": "stream",
          "text": [
            "t: 100%|██████████| 301/301 [00:37<00:00,  5.91it/s, now=None]WARNING:py.warnings:/usr/local/lib/python3.10/dist-packages/moviepy/video/io/ffmpeg_reader.py:123: UserWarning: Warning: in file /content/gdrive/MyDrive/Major FINAL RUN/Final Audio Dataset/jyxmpkwbfa.mp4, 6220800 bytes wanted but 0 bytes read,at frame 300/301, at time 10.01/10.02 sec. Using the last valid frame instead.\n",
            "  warnings.warn(\"Warning: in file %s, \"%(self.filename)+\n",
            "\n"
          ]
        },
        {
          "name": "stdout",
          "output_type": "stream",
          "text": [
            "Moviepy - Done !\n",
            "Moviepy - video ready /content/gdrive/MyDrive/Major FINAL RUN/Audio_altFinal/jyxmpkwbfa.mp4\n",
            "Processed 382 out of 744 videos. Audio removed from jyxmpkwbfa.mp4 and saved to silent videos folder.\n",
            "Moviepy - Building video /content/gdrive/MyDrive/Major FINAL RUN/Audio_altFinal/jyywssuxwr.mp4.\n",
            "Moviepy - Writing video /content/gdrive/MyDrive/Major FINAL RUN/Audio_altFinal/jyywssuxwr.mp4\n",
            "\n"
          ]
        },
        {
          "name": "stderr",
          "output_type": "stream",
          "text": [
            "t: 100%|██████████| 301/301 [00:39<00:00,  9.14it/s, now=None]WARNING:py.warnings:/usr/local/lib/python3.10/dist-packages/moviepy/video/io/ffmpeg_reader.py:123: UserWarning: Warning: in file /content/gdrive/MyDrive/Major FINAL RUN/Final Audio Dataset/jyywssuxwr.mp4, 6220800 bytes wanted but 0 bytes read,at frame 300/301, at time 10.01/10.02 sec. Using the last valid frame instead.\n",
            "  warnings.warn(\"Warning: in file %s, \"%(self.filename)+\n",
            "\n"
          ]
        },
        {
          "name": "stdout",
          "output_type": "stream",
          "text": [
            "Moviepy - Done !\n",
            "Moviepy - video ready /content/gdrive/MyDrive/Major FINAL RUN/Audio_altFinal/jyywssuxwr.mp4\n",
            "Processed 383 out of 744 videos. Audio removed from jyywssuxwr.mp4 and saved to silent videos folder.\n",
            "Moviepy - Building video /content/gdrive/MyDrive/Major FINAL RUN/Audio_altFinal/kazjfzgayu.mp4.\n",
            "Moviepy - Writing video /content/gdrive/MyDrive/Major FINAL RUN/Audio_altFinal/kazjfzgayu.mp4\n",
            "\n"
          ]
        },
        {
          "name": "stderr",
          "output_type": "stream",
          "text": [
            "t: 100%|██████████| 301/301 [00:41<00:00,  8.01it/s, now=None]WARNING:py.warnings:/usr/local/lib/python3.10/dist-packages/moviepy/video/io/ffmpeg_reader.py:123: UserWarning: Warning: in file /content/gdrive/MyDrive/Major FINAL RUN/Final Audio Dataset/kazjfzgayu.mp4, 6220800 bytes wanted but 0 bytes read,at frame 300/301, at time 10.01/10.02 sec. Using the last valid frame instead.\n",
            "  warnings.warn(\"Warning: in file %s, \"%(self.filename)+\n",
            "\n"
          ]
        },
        {
          "name": "stdout",
          "output_type": "stream",
          "text": [
            "Moviepy - Done !\n",
            "Moviepy - video ready /content/gdrive/MyDrive/Major FINAL RUN/Audio_altFinal/kazjfzgayu.mp4\n",
            "Processed 384 out of 744 videos. Audio removed from kazjfzgayu.mp4 and saved to silent videos folder.\n",
            "Moviepy - Building video /content/gdrive/MyDrive/Major FINAL RUN/Audio_altFinal/kbvodnmjko.mp4.\n",
            "Moviepy - Writing video /content/gdrive/MyDrive/Major FINAL RUN/Audio_altFinal/kbvodnmjko.mp4\n",
            "\n"
          ]
        },
        {
          "name": "stderr",
          "output_type": "stream",
          "text": [
            "t: 100%|██████████| 301/301 [00:43<00:00,  6.98it/s, now=None]WARNING:py.warnings:/usr/local/lib/python3.10/dist-packages/moviepy/video/io/ffmpeg_reader.py:123: UserWarning: Warning: in file /content/gdrive/MyDrive/Major FINAL RUN/Final Audio Dataset/kbvodnmjko.mp4, 6220800 bytes wanted but 0 bytes read,at frame 300/301, at time 10.01/10.02 sec. Using the last valid frame instead.\n",
            "  warnings.warn(\"Warning: in file %s, \"%(self.filename)+\n",
            "\n"
          ]
        },
        {
          "name": "stdout",
          "output_type": "stream",
          "text": [
            "Moviepy - Done !\n",
            "Moviepy - video ready /content/gdrive/MyDrive/Major FINAL RUN/Audio_altFinal/kbvodnmjko.mp4\n",
            "Processed 385 out of 744 videos. Audio removed from kbvodnmjko.mp4 and saved to silent videos folder.\n",
            "Moviepy - Building video /content/gdrive/MyDrive/Major FINAL RUN/Audio_altFinal/kdzihtzpkr.mp4.\n",
            "Moviepy - Writing video /content/gdrive/MyDrive/Major FINAL RUN/Audio_altFinal/kdzihtzpkr.mp4\n",
            "\n"
          ]
        },
        {
          "name": "stderr",
          "output_type": "stream",
          "text": [
            "t: 100%|██████████| 301/301 [00:48<00:00,  4.74it/s, now=None]WARNING:py.warnings:/usr/local/lib/python3.10/dist-packages/moviepy/video/io/ffmpeg_reader.py:123: UserWarning: Warning: in file /content/gdrive/MyDrive/Major FINAL RUN/Final Audio Dataset/kdzihtzpkr.mp4, 6220800 bytes wanted but 0 bytes read,at frame 300/301, at time 10.01/10.02 sec. Using the last valid frame instead.\n",
            "  warnings.warn(\"Warning: in file %s, \"%(self.filename)+\n",
            "\n"
          ]
        },
        {
          "name": "stdout",
          "output_type": "stream",
          "text": [
            "Moviepy - Done !\n",
            "Moviepy - video ready /content/gdrive/MyDrive/Major FINAL RUN/Audio_altFinal/kdzihtzpkr.mp4\n",
            "Processed 386 out of 744 videos. Audio removed from kdzihtzpkr.mp4 and saved to silent videos folder.\n",
            "Moviepy - Building video /content/gdrive/MyDrive/Major FINAL RUN/Audio_altFinal/kepnpratvf.mp4.\n",
            "Moviepy - Writing video /content/gdrive/MyDrive/Major FINAL RUN/Audio_altFinal/kepnpratvf.mp4\n",
            "\n"
          ]
        },
        {
          "name": "stderr",
          "output_type": "stream",
          "text": [
            "t: 100%|█████████▉| 300/301 [00:38<00:00,  8.50it/s, now=None]WARNING:py.warnings:/usr/local/lib/python3.10/dist-packages/moviepy/video/io/ffmpeg_reader.py:123: UserWarning: Warning: in file /content/gdrive/MyDrive/Major FINAL RUN/Final Audio Dataset/kepnpratvf.mp4, 6220800 bytes wanted but 0 bytes read,at frame 300/301, at time 10.01/10.02 sec. Using the last valid frame instead.\n",
            "  warnings.warn(\"Warning: in file %s, \"%(self.filename)+\n",
            "\n"
          ]
        },
        {
          "name": "stdout",
          "output_type": "stream",
          "text": [
            "Moviepy - Done !\n",
            "Moviepy - video ready /content/gdrive/MyDrive/Major FINAL RUN/Audio_altFinal/kepnpratvf.mp4\n",
            "Processed 387 out of 744 videos. Audio removed from kepnpratvf.mp4 and saved to silent videos folder.\n",
            "Moviepy - Building video /content/gdrive/MyDrive/Major FINAL RUN/Audio_altFinal/kembqzwnci.mp4.\n",
            "Moviepy - Writing video /content/gdrive/MyDrive/Major FINAL RUN/Audio_altFinal/kembqzwnci.mp4\n",
            "\n"
          ]
        },
        {
          "name": "stderr",
          "output_type": "stream",
          "text": [
            "t: 100%|██████████| 301/301 [00:38<00:00,  9.91it/s, now=None]WARNING:py.warnings:/usr/local/lib/python3.10/dist-packages/moviepy/video/io/ffmpeg_reader.py:123: UserWarning: Warning: in file /content/gdrive/MyDrive/Major FINAL RUN/Final Audio Dataset/kembqzwnci.mp4, 6220800 bytes wanted but 0 bytes read,at frame 300/301, at time 10.01/10.02 sec. Using the last valid frame instead.\n",
            "  warnings.warn(\"Warning: in file %s, \"%(self.filename)+\n",
            "\n"
          ]
        },
        {
          "name": "stdout",
          "output_type": "stream",
          "text": [
            "Moviepy - Done !\n",
            "Moviepy - video ready /content/gdrive/MyDrive/Major FINAL RUN/Audio_altFinal/kembqzwnci.mp4\n",
            "Processed 388 out of 744 videos. Audio removed from kembqzwnci.mp4 and saved to silent videos folder.\n",
            "Moviepy - Building video /content/gdrive/MyDrive/Major FINAL RUN/Audio_altFinal/khhsdtspvv.mp4.\n",
            "Moviepy - Writing video /content/gdrive/MyDrive/Major FINAL RUN/Audio_altFinal/khhsdtspvv.mp4\n",
            "\n"
          ]
        },
        {
          "name": "stderr",
          "output_type": "stream",
          "text": [
            "t: 100%|█████████▉| 298/299 [00:45<00:00,  7.88it/s, now=None]WARNING:py.warnings:/usr/local/lib/python3.10/dist-packages/moviepy/video/io/ffmpeg_reader.py:123: UserWarning: Warning: in file /content/gdrive/MyDrive/Major FINAL RUN/Final Audio Dataset/khhsdtspvv.mp4, 6220800 bytes wanted but 0 bytes read,at frame 298/299, at time 10.01/10.02 sec. Using the last valid frame instead.\n",
            "  warnings.warn(\"Warning: in file %s, \"%(self.filename)+\n",
            "\n"
          ]
        },
        {
          "name": "stdout",
          "output_type": "stream",
          "text": [
            "Moviepy - Done !\n",
            "Moviepy - video ready /content/gdrive/MyDrive/Major FINAL RUN/Audio_altFinal/khhsdtspvv.mp4\n",
            "Processed 389 out of 744 videos. Audio removed from khhsdtspvv.mp4 and saved to silent videos folder.\n",
            "Moviepy - Building video /content/gdrive/MyDrive/Major FINAL RUN/Audio_altFinal/kjywjqvivn.mp4.\n",
            "Moviepy - Writing video /content/gdrive/MyDrive/Major FINAL RUN/Audio_altFinal/kjywjqvivn.mp4\n",
            "\n"
          ]
        },
        {
          "name": "stderr",
          "output_type": "stream",
          "text": [
            "t: 100%|██████████| 301/301 [00:44<00:00,  7.69it/s, now=None]WARNING:py.warnings:/usr/local/lib/python3.10/dist-packages/moviepy/video/io/ffmpeg_reader.py:123: UserWarning: Warning: in file /content/gdrive/MyDrive/Major FINAL RUN/Final Audio Dataset/kjywjqvivn.mp4, 6220800 bytes wanted but 0 bytes read,at frame 300/301, at time 10.01/10.02 sec. Using the last valid frame instead.\n",
            "  warnings.warn(\"Warning: in file %s, \"%(self.filename)+\n",
            "\n"
          ]
        },
        {
          "name": "stdout",
          "output_type": "stream",
          "text": [
            "Moviepy - Done !\n",
            "Moviepy - video ready /content/gdrive/MyDrive/Major FINAL RUN/Audio_altFinal/kjywjqvivn.mp4\n",
            "Processed 390 out of 744 videos. Audio removed from kjywjqvivn.mp4 and saved to silent videos folder.\n",
            "Moviepy - Building video /content/gdrive/MyDrive/Major FINAL RUN/Audio_altFinal/kllhzzcwbh.mp4.\n",
            "Moviepy - Writing video /content/gdrive/MyDrive/Major FINAL RUN/Audio_altFinal/kllhzzcwbh.mp4\n",
            "\n"
          ]
        },
        {
          "name": "stderr",
          "output_type": "stream",
          "text": [
            "t: 100%|█████████▉| 300/301 [00:37<00:00,  9.37it/s, now=None]WARNING:py.warnings:/usr/local/lib/python3.10/dist-packages/moviepy/video/io/ffmpeg_reader.py:123: UserWarning: Warning: in file /content/gdrive/MyDrive/Major FINAL RUN/Final Audio Dataset/kllhzzcwbh.mp4, 6220800 bytes wanted but 0 bytes read,at frame 300/301, at time 10.01/10.02 sec. Using the last valid frame instead.\n",
            "  warnings.warn(\"Warning: in file %s, \"%(self.filename)+\n",
            "\n"
          ]
        },
        {
          "name": "stdout",
          "output_type": "stream",
          "text": [
            "Moviepy - Done !\n",
            "Moviepy - video ready /content/gdrive/MyDrive/Major FINAL RUN/Audio_altFinal/kllhzzcwbh.mp4\n",
            "Processed 391 out of 744 videos. Audio removed from kllhzzcwbh.mp4 and saved to silent videos folder.\n",
            "Moviepy - Building video /content/gdrive/MyDrive/Major FINAL RUN/Audio_altFinal/kmigcpmqoq.mp4.\n",
            "Moviepy - Writing video /content/gdrive/MyDrive/Major FINAL RUN/Audio_altFinal/kmigcpmqoq.mp4\n",
            "\n"
          ]
        },
        {
          "name": "stderr",
          "output_type": "stream",
          "text": [
            "t: 100%|██████████| 301/301 [00:49<00:00,  5.39it/s, now=None]WARNING:py.warnings:/usr/local/lib/python3.10/dist-packages/moviepy/video/io/ffmpeg_reader.py:123: UserWarning: Warning: in file /content/gdrive/MyDrive/Major FINAL RUN/Final Audio Dataset/kmigcpmqoq.mp4, 6220800 bytes wanted but 0 bytes read,at frame 300/301, at time 10.01/10.02 sec. Using the last valid frame instead.\n",
            "  warnings.warn(\"Warning: in file %s, \"%(self.filename)+\n",
            "\n"
          ]
        },
        {
          "name": "stdout",
          "output_type": "stream",
          "text": [
            "Moviepy - Done !\n",
            "Moviepy - video ready /content/gdrive/MyDrive/Major FINAL RUN/Audio_altFinal/kmigcpmqoq.mp4\n",
            "Processed 392 out of 744 videos. Audio removed from kmigcpmqoq.mp4 and saved to silent videos folder.\n",
            "Moviepy - Building video /content/gdrive/MyDrive/Major FINAL RUN/Audio_altFinal/kopsrkkcbq.mp4.\n",
            "Moviepy - Writing video /content/gdrive/MyDrive/Major FINAL RUN/Audio_altFinal/kopsrkkcbq.mp4\n",
            "\n"
          ]
        },
        {
          "name": "stderr",
          "output_type": "stream",
          "text": [
            "t: 100%|██████████| 301/301 [00:39<00:00,  9.86it/s, now=None]WARNING:py.warnings:/usr/local/lib/python3.10/dist-packages/moviepy/video/io/ffmpeg_reader.py:123: UserWarning: Warning: in file /content/gdrive/MyDrive/Major FINAL RUN/Final Audio Dataset/kopsrkkcbq.mp4, 6220800 bytes wanted but 0 bytes read,at frame 300/301, at time 10.01/10.02 sec. Using the last valid frame instead.\n",
            "  warnings.warn(\"Warning: in file %s, \"%(self.filename)+\n",
            "\n"
          ]
        },
        {
          "name": "stdout",
          "output_type": "stream",
          "text": [
            "Moviepy - Done !\n",
            "Moviepy - video ready /content/gdrive/MyDrive/Major FINAL RUN/Audio_altFinal/kopsrkkcbq.mp4\n",
            "Processed 393 out of 744 videos. Audio removed from kopsrkkcbq.mp4 and saved to silent videos folder.\n",
            "Moviepy - Building video /content/gdrive/MyDrive/Major FINAL RUN/Audio_altFinal/koowljkerd.mp4.\n",
            "Moviepy - Writing video /content/gdrive/MyDrive/Major FINAL RUN/Audio_altFinal/koowljkerd.mp4\n",
            "\n"
          ]
        },
        {
          "name": "stderr",
          "output_type": "stream",
          "text": [
            "t: 100%|█████████▉| 300/301 [00:37<00:00,  9.70it/s, now=None]WARNING:py.warnings:/usr/local/lib/python3.10/dist-packages/moviepy/video/io/ffmpeg_reader.py:123: UserWarning: Warning: in file /content/gdrive/MyDrive/Major FINAL RUN/Final Audio Dataset/koowljkerd.mp4, 6220800 bytes wanted but 0 bytes read,at frame 300/301, at time 10.01/10.02 sec. Using the last valid frame instead.\n",
            "  warnings.warn(\"Warning: in file %s, \"%(self.filename)+\n",
            "\n"
          ]
        },
        {
          "name": "stdout",
          "output_type": "stream",
          "text": [
            "Moviepy - Done !\n",
            "Moviepy - video ready /content/gdrive/MyDrive/Major FINAL RUN/Audio_altFinal/koowljkerd.mp4\n",
            "Processed 394 out of 744 videos. Audio removed from koowljkerd.mp4 and saved to silent videos folder.\n",
            "Moviepy - Building video /content/gdrive/MyDrive/Major FINAL RUN/Audio_altFinal/ktrkpmnnlg.mp4.\n",
            "Moviepy - Writing video /content/gdrive/MyDrive/Major FINAL RUN/Audio_altFinal/ktrkpmnnlg.mp4\n",
            "\n"
          ]
        },
        {
          "name": "stderr",
          "output_type": "stream",
          "text": [
            "t: 100%|██████████| 301/301 [00:41<00:00,  5.10it/s, now=None]WARNING:py.warnings:/usr/local/lib/python3.10/dist-packages/moviepy/video/io/ffmpeg_reader.py:123: UserWarning: Warning: in file /content/gdrive/MyDrive/Major FINAL RUN/Final Audio Dataset/ktrkpmnnlg.mp4, 6220800 bytes wanted but 0 bytes read,at frame 300/301, at time 10.01/10.02 sec. Using the last valid frame instead.\n",
            "  warnings.warn(\"Warning: in file %s, \"%(self.filename)+\n",
            "\n"
          ]
        },
        {
          "name": "stdout",
          "output_type": "stream",
          "text": [
            "Moviepy - Done !\n",
            "Moviepy - video ready /content/gdrive/MyDrive/Major FINAL RUN/Audio_altFinal/ktrkpmnnlg.mp4\n",
            "Processed 395 out of 744 videos. Audio removed from ktrkpmnnlg.mp4 and saved to silent videos folder.\n",
            "Moviepy - Building video /content/gdrive/MyDrive/Major FINAL RUN/Audio_altFinal/kvdnaxkcbz.mp4.\n",
            "Moviepy - Writing video /content/gdrive/MyDrive/Major FINAL RUN/Audio_altFinal/kvdnaxkcbz.mp4\n",
            "\n"
          ]
        },
        {
          "name": "stderr",
          "output_type": "stream",
          "text": [
            "t: 100%|██████████| 301/301 [00:39<00:00,  9.72it/s, now=None]WARNING:py.warnings:/usr/local/lib/python3.10/dist-packages/moviepy/video/io/ffmpeg_reader.py:123: UserWarning: Warning: in file /content/gdrive/MyDrive/Major FINAL RUN/Final Audio Dataset/kvdnaxkcbz.mp4, 6220800 bytes wanted but 0 bytes read,at frame 300/301, at time 10.01/10.02 sec. Using the last valid frame instead.\n",
            "  warnings.warn(\"Warning: in file %s, \"%(self.filename)+\n",
            "\n"
          ]
        },
        {
          "name": "stdout",
          "output_type": "stream",
          "text": [
            "Moviepy - Done !\n",
            "Moviepy - video ready /content/gdrive/MyDrive/Major FINAL RUN/Audio_altFinal/kvdnaxkcbz.mp4\n",
            "Processed 396 out of 744 videos. Audio removed from kvdnaxkcbz.mp4 and saved to silent videos folder.\n",
            "Moviepy - Building video /content/gdrive/MyDrive/Major FINAL RUN/Audio_altFinal/kxbyxeiiqe.mp4.\n",
            "Moviepy - Writing video /content/gdrive/MyDrive/Major FINAL RUN/Audio_altFinal/kxbyxeiiqe.mp4\n",
            "\n"
          ]
        },
        {
          "name": "stderr",
          "output_type": "stream",
          "text": [
            "t: 100%|██████████| 301/301 [00:39<00:00,  6.25it/s, now=None]WARNING:py.warnings:/usr/local/lib/python3.10/dist-packages/moviepy/video/io/ffmpeg_reader.py:123: UserWarning: Warning: in file /content/gdrive/MyDrive/Major FINAL RUN/Final Audio Dataset/kxbyxeiiqe.mp4, 6220800 bytes wanted but 0 bytes read,at frame 300/301, at time 10.01/10.02 sec. Using the last valid frame instead.\n",
            "  warnings.warn(\"Warning: in file %s, \"%(self.filename)+\n",
            "\n"
          ]
        },
        {
          "name": "stdout",
          "output_type": "stream",
          "text": [
            "Moviepy - Done !\n",
            "Moviepy - video ready /content/gdrive/MyDrive/Major FINAL RUN/Audio_altFinal/kxbyxeiiqe.mp4\n",
            "Processed 397 out of 744 videos. Audio removed from kxbyxeiiqe.mp4 and saved to silent videos folder.\n",
            "Moviepy - Building video /content/gdrive/MyDrive/Major FINAL RUN/Audio_altFinal/kxrolubbyy.mp4.\n",
            "Moviepy - Writing video /content/gdrive/MyDrive/Major FINAL RUN/Audio_altFinal/kxrolubbyy.mp4\n",
            "\n"
          ]
        },
        {
          "name": "stderr",
          "output_type": "stream",
          "text": [
            "t: 100%|██████████| 301/301 [00:40<00:00,  8.93it/s, now=None]WARNING:py.warnings:/usr/local/lib/python3.10/dist-packages/moviepy/video/io/ffmpeg_reader.py:123: UserWarning: Warning: in file /content/gdrive/MyDrive/Major FINAL RUN/Final Audio Dataset/kxrolubbyy.mp4, 6220800 bytes wanted but 0 bytes read,at frame 300/301, at time 10.01/10.02 sec. Using the last valid frame instead.\n",
            "  warnings.warn(\"Warning: in file %s, \"%(self.filename)+\n",
            "\n"
          ]
        },
        {
          "name": "stdout",
          "output_type": "stream",
          "text": [
            "Moviepy - Done !\n",
            "Moviepy - video ready /content/gdrive/MyDrive/Major FINAL RUN/Audio_altFinal/kxrolubbyy.mp4\n",
            "Processed 398 out of 744 videos. Audio removed from kxrolubbyy.mp4 and saved to silent videos folder.\n",
            "Moviepy - Building video /content/gdrive/MyDrive/Major FINAL RUN/Audio_altFinal/kybpujkrqa.mp4.\n",
            "Moviepy - Writing video /content/gdrive/MyDrive/Major FINAL RUN/Audio_altFinal/kybpujkrqa.mp4\n",
            "\n"
          ]
        },
        {
          "name": "stderr",
          "output_type": "stream",
          "text": [
            "t: 100%|██████████| 301/301 [00:40<00:00,  8.45it/s, now=None]WARNING:py.warnings:/usr/local/lib/python3.10/dist-packages/moviepy/video/io/ffmpeg_reader.py:123: UserWarning: Warning: in file /content/gdrive/MyDrive/Major FINAL RUN/Final Audio Dataset/kybpujkrqa.mp4, 6220800 bytes wanted but 0 bytes read,at frame 300/301, at time 10.01/10.02 sec. Using the last valid frame instead.\n",
            "  warnings.warn(\"Warning: in file %s, \"%(self.filename)+\n",
            "\n"
          ]
        },
        {
          "name": "stdout",
          "output_type": "stream",
          "text": [
            "Moviepy - Done !\n",
            "Moviepy - video ready /content/gdrive/MyDrive/Major FINAL RUN/Audio_altFinal/kybpujkrqa.mp4\n",
            "Processed 399 out of 744 videos. Audio removed from kybpujkrqa.mp4 and saved to silent videos folder.\n",
            "Moviepy - Building video /content/gdrive/MyDrive/Major FINAL RUN/Audio_altFinal/larzbmlbuj.mp4.\n",
            "Moviepy - Writing video /content/gdrive/MyDrive/Major FINAL RUN/Audio_altFinal/larzbmlbuj.mp4\n",
            "\n"
          ]
        },
        {
          "name": "stderr",
          "output_type": "stream",
          "text": [
            "t: 100%|██████████| 301/301 [00:39<00:00,  6.24it/s, now=None]WARNING:py.warnings:/usr/local/lib/python3.10/dist-packages/moviepy/video/io/ffmpeg_reader.py:123: UserWarning: Warning: in file /content/gdrive/MyDrive/Major FINAL RUN/Final Audio Dataset/larzbmlbuj.mp4, 6220800 bytes wanted but 0 bytes read,at frame 300/301, at time 10.01/10.02 sec. Using the last valid frame instead.\n",
            "  warnings.warn(\"Warning: in file %s, \"%(self.filename)+\n",
            "\n"
          ]
        },
        {
          "name": "stdout",
          "output_type": "stream",
          "text": [
            "Moviepy - Done !\n",
            "Moviepy - video ready /content/gdrive/MyDrive/Major FINAL RUN/Audio_altFinal/larzbmlbuj.mp4\n",
            "Processed 400 out of 744 videos. Audio removed from larzbmlbuj.mp4 and saved to silent videos folder.\n",
            "Moviepy - Building video /content/gdrive/MyDrive/Major FINAL RUN/Audio_altFinal/lbsmepuuyt.mp4.\n",
            "Moviepy - Writing video /content/gdrive/MyDrive/Major FINAL RUN/Audio_altFinal/lbsmepuuyt.mp4\n",
            "\n"
          ]
        },
        {
          "name": "stderr",
          "output_type": "stream",
          "text": [
            "t: 100%|██████████| 301/301 [00:38<00:00,  9.20it/s, now=None]WARNING:py.warnings:/usr/local/lib/python3.10/dist-packages/moviepy/video/io/ffmpeg_reader.py:123: UserWarning: Warning: in file /content/gdrive/MyDrive/Major FINAL RUN/Final Audio Dataset/lbsmepuuyt.mp4, 6220800 bytes wanted but 0 bytes read,at frame 300/301, at time 10.01/10.02 sec. Using the last valid frame instead.\n",
            "  warnings.warn(\"Warning: in file %s, \"%(self.filename)+\n",
            "\n"
          ]
        },
        {
          "name": "stdout",
          "output_type": "stream",
          "text": [
            "Moviepy - Done !\n",
            "Moviepy - video ready /content/gdrive/MyDrive/Major FINAL RUN/Audio_altFinal/lbsmepuuyt.mp4\n",
            "Processed 401 out of 744 videos. Audio removed from lbsmepuuyt.mp4 and saved to silent videos folder.\n",
            "Moviepy - Building video /content/gdrive/MyDrive/Major FINAL RUN/Audio_altFinal/ldhylgmuhd.mp4.\n",
            "Moviepy - Writing video /content/gdrive/MyDrive/Major FINAL RUN/Audio_altFinal/ldhylgmuhd.mp4\n",
            "\n"
          ]
        },
        {
          "name": "stderr",
          "output_type": "stream",
          "text": [
            "t: 100%|██████████| 301/301 [00:47<00:00,  4.72it/s, now=None]WARNING:py.warnings:/usr/local/lib/python3.10/dist-packages/moviepy/video/io/ffmpeg_reader.py:123: UserWarning: Warning: in file /content/gdrive/MyDrive/Major FINAL RUN/Final Audio Dataset/ldhylgmuhd.mp4, 6220800 bytes wanted but 0 bytes read,at frame 300/301, at time 10.01/10.02 sec. Using the last valid frame instead.\n",
            "  warnings.warn(\"Warning: in file %s, \"%(self.filename)+\n",
            "\n"
          ]
        },
        {
          "name": "stdout",
          "output_type": "stream",
          "text": [
            "Moviepy - Done !\n",
            "Moviepy - video ready /content/gdrive/MyDrive/Major FINAL RUN/Audio_altFinal/ldhylgmuhd.mp4\n",
            "Processed 402 out of 744 videos. Audio removed from ldhylgmuhd.mp4 and saved to silent videos folder.\n",
            "Moviepy - Building video /content/gdrive/MyDrive/Major FINAL RUN/Audio_altFinal/lgdmireaib.mp4.\n",
            "Moviepy - Writing video /content/gdrive/MyDrive/Major FINAL RUN/Audio_altFinal/lgdmireaib.mp4\n",
            "\n"
          ]
        },
        {
          "name": "stderr",
          "output_type": "stream",
          "text": [
            "t: 100%|█████████▉| 300/301 [00:38<00:00,  8.14it/s, now=None]WARNING:py.warnings:/usr/local/lib/python3.10/dist-packages/moviepy/video/io/ffmpeg_reader.py:123: UserWarning: Warning: in file /content/gdrive/MyDrive/Major FINAL RUN/Final Audio Dataset/lgdmireaib.mp4, 6220800 bytes wanted but 0 bytes read,at frame 300/301, at time 10.01/10.02 sec. Using the last valid frame instead.\n",
            "  warnings.warn(\"Warning: in file %s, \"%(self.filename)+\n",
            "\n"
          ]
        },
        {
          "name": "stdout",
          "output_type": "stream",
          "text": [
            "Moviepy - Done !\n",
            "Moviepy - video ready /content/gdrive/MyDrive/Major FINAL RUN/Audio_altFinal/lgdmireaib.mp4\n",
            "Processed 403 out of 744 videos. Audio removed from lgdmireaib.mp4 and saved to silent videos folder.\n",
            "Moviepy - Building video /content/gdrive/MyDrive/Major FINAL RUN/Audio_altFinal/lfiyoyymnn.mp4.\n",
            "Moviepy - Writing video /content/gdrive/MyDrive/Major FINAL RUN/Audio_altFinal/lfiyoyymnn.mp4\n",
            "\n"
          ]
        },
        {
          "name": "stderr",
          "output_type": "stream",
          "text": [
            "t: 100%|██████████| 301/301 [00:41<00:00,  8.66it/s, now=None]WARNING:py.warnings:/usr/local/lib/python3.10/dist-packages/moviepy/video/io/ffmpeg_reader.py:123: UserWarning: Warning: in file /content/gdrive/MyDrive/Major FINAL RUN/Final Audio Dataset/lfiyoyymnn.mp4, 6220800 bytes wanted but 0 bytes read,at frame 300/301, at time 10.01/10.02 sec. Using the last valid frame instead.\n",
            "  warnings.warn(\"Warning: in file %s, \"%(self.filename)+\n",
            "\n"
          ]
        },
        {
          "name": "stdout",
          "output_type": "stream",
          "text": [
            "Moviepy - Done !\n",
            "Moviepy - video ready /content/gdrive/MyDrive/Major FINAL RUN/Audio_altFinal/lfiyoyymnn.mp4\n",
            "Processed 404 out of 744 videos. Audio removed from lfiyoyymnn.mp4 and saved to silent videos folder.\n",
            "Moviepy - Building video /content/gdrive/MyDrive/Major FINAL RUN/Audio_altFinal/lgeszwplgu.mp4.\n",
            "Moviepy - Writing video /content/gdrive/MyDrive/Major FINAL RUN/Audio_altFinal/lgeszwplgu.mp4\n",
            "\n"
          ]
        },
        {
          "name": "stderr",
          "output_type": "stream",
          "text": [
            "t: 100%|██████████| 301/301 [00:38<00:00,  8.75it/s, now=None]WARNING:py.warnings:/usr/local/lib/python3.10/dist-packages/moviepy/video/io/ffmpeg_reader.py:123: UserWarning: Warning: in file /content/gdrive/MyDrive/Major FINAL RUN/Final Audio Dataset/lgeszwplgu.mp4, 6220800 bytes wanted but 0 bytes read,at frame 300/301, at time 10.01/10.02 sec. Using the last valid frame instead.\n",
            "  warnings.warn(\"Warning: in file %s, \"%(self.filename)+\n",
            "\n"
          ]
        },
        {
          "name": "stdout",
          "output_type": "stream",
          "text": [
            "Moviepy - Done !\n",
            "Moviepy - video ready /content/gdrive/MyDrive/Major FINAL RUN/Audio_altFinal/lgeszwplgu.mp4\n",
            "Processed 405 out of 744 videos. Audio removed from lgeszwplgu.mp4 and saved to silent videos folder.\n",
            "Moviepy - Building video /content/gdrive/MyDrive/Major FINAL RUN/Audio_altFinal/lgifxwwiss.mp4.\n",
            "Moviepy - Writing video /content/gdrive/MyDrive/Major FINAL RUN/Audio_altFinal/lgifxwwiss.mp4\n",
            "\n"
          ]
        },
        {
          "name": "stderr",
          "output_type": "stream",
          "text": [
            "t: 100%|██████████| 301/301 [00:36<00:00,  9.01it/s, now=None]WARNING:py.warnings:/usr/local/lib/python3.10/dist-packages/moviepy/video/io/ffmpeg_reader.py:123: UserWarning: Warning: in file /content/gdrive/MyDrive/Major FINAL RUN/Final Audio Dataset/lgifxwwiss.mp4, 6220800 bytes wanted but 0 bytes read,at frame 300/301, at time 10.01/10.02 sec. Using the last valid frame instead.\n",
            "  warnings.warn(\"Warning: in file %s, \"%(self.filename)+\n",
            "\n"
          ]
        },
        {
          "name": "stdout",
          "output_type": "stream",
          "text": [
            "Moviepy - Done !\n",
            "Moviepy - video ready /content/gdrive/MyDrive/Major FINAL RUN/Audio_altFinal/lgifxwwiss.mp4\n",
            "Processed 406 out of 744 videos. Audio removed from lgifxwwiss.mp4 and saved to silent videos folder.\n",
            "Moviepy - Building video /content/gdrive/MyDrive/Major FINAL RUN/Audio_altFinal/lhglvsajka.mp4.\n",
            "Moviepy - Writing video /content/gdrive/MyDrive/Major FINAL RUN/Audio_altFinal/lhglvsajka.mp4\n",
            "\n"
          ]
        },
        {
          "name": "stderr",
          "output_type": "stream",
          "text": [
            "t: 100%|██████████| 301/301 [00:39<00:00,  5.21it/s, now=None]WARNING:py.warnings:/usr/local/lib/python3.10/dist-packages/moviepy/video/io/ffmpeg_reader.py:123: UserWarning: Warning: in file /content/gdrive/MyDrive/Major FINAL RUN/Final Audio Dataset/lhglvsajka.mp4, 6220800 bytes wanted but 0 bytes read,at frame 300/301, at time 10.01/10.02 sec. Using the last valid frame instead.\n",
            "  warnings.warn(\"Warning: in file %s, \"%(self.filename)+\n",
            "\n"
          ]
        },
        {
          "name": "stdout",
          "output_type": "stream",
          "text": [
            "Moviepy - Done !\n",
            "Moviepy - video ready /content/gdrive/MyDrive/Major FINAL RUN/Audio_altFinal/lhglvsajka.mp4\n",
            "Processed 407 out of 744 videos. Audio removed from lhglvsajka.mp4 and saved to silent videos folder.\n",
            "Moviepy - Building video /content/gdrive/MyDrive/Major FINAL RUN/Audio_altFinal/liyvxlwvei.mp4.\n",
            "Moviepy - Writing video /content/gdrive/MyDrive/Major FINAL RUN/Audio_altFinal/liyvxlwvei.mp4\n",
            "\n"
          ]
        },
        {
          "name": "stderr",
          "output_type": "stream",
          "text": [
            "t: 100%|██████████| 301/301 [00:37<00:00,  9.69it/s, now=None]WARNING:py.warnings:/usr/local/lib/python3.10/dist-packages/moviepy/video/io/ffmpeg_reader.py:123: UserWarning: Warning: in file /content/gdrive/MyDrive/Major FINAL RUN/Final Audio Dataset/liyvxlwvei.mp4, 6220800 bytes wanted but 0 bytes read,at frame 300/301, at time 10.01/10.02 sec. Using the last valid frame instead.\n",
            "  warnings.warn(\"Warning: in file %s, \"%(self.filename)+\n",
            "\n"
          ]
        },
        {
          "name": "stdout",
          "output_type": "stream",
          "text": [
            "Moviepy - Done !\n",
            "Moviepy - video ready /content/gdrive/MyDrive/Major FINAL RUN/Audio_altFinal/liyvxlwvei.mp4\n",
            "Processed 408 out of 744 videos. Audio removed from liyvxlwvei.mp4 and saved to silent videos folder.\n",
            "Moviepy - Building video /content/gdrive/MyDrive/Major FINAL RUN/Audio_altFinal/lkajvpbztr.mp4.\n",
            "Moviepy - Writing video /content/gdrive/MyDrive/Major FINAL RUN/Audio_altFinal/lkajvpbztr.mp4\n",
            "\n"
          ]
        },
        {
          "name": "stderr",
          "output_type": "stream",
          "text": [
            "t: 100%|██████████| 301/301 [00:41<00:00,  5.58it/s, now=None]WARNING:py.warnings:/usr/local/lib/python3.10/dist-packages/moviepy/video/io/ffmpeg_reader.py:123: UserWarning: Warning: in file /content/gdrive/MyDrive/Major FINAL RUN/Final Audio Dataset/lkajvpbztr.mp4, 6220800 bytes wanted but 0 bytes read,at frame 300/301, at time 10.01/10.02 sec. Using the last valid frame instead.\n",
            "  warnings.warn(\"Warning: in file %s, \"%(self.filename)+\n",
            "\n"
          ]
        },
        {
          "name": "stdout",
          "output_type": "stream",
          "text": [
            "Moviepy - Done !\n",
            "Moviepy - video ready /content/gdrive/MyDrive/Major FINAL RUN/Audio_altFinal/lkajvpbztr.mp4\n",
            "Processed 409 out of 744 videos. Audio removed from lkajvpbztr.mp4 and saved to silent videos folder.\n",
            "Moviepy - Building video /content/gdrive/MyDrive/Major FINAL RUN/Audio_altFinal/ljqmnxxpzt.mp4.\n",
            "Moviepy - Writing video /content/gdrive/MyDrive/Major FINAL RUN/Audio_altFinal/ljqmnxxpzt.mp4\n",
            "\n"
          ]
        },
        {
          "name": "stderr",
          "output_type": "stream",
          "text": [
            "t: 100%|█████████▉| 300/301 [00:39<00:00,  8.47it/s, now=None]WARNING:py.warnings:/usr/local/lib/python3.10/dist-packages/moviepy/video/io/ffmpeg_reader.py:123: UserWarning: Warning: in file /content/gdrive/MyDrive/Major FINAL RUN/Final Audio Dataset/ljqmnxxpzt.mp4, 6220800 bytes wanted but 0 bytes read,at frame 300/301, at time 10.01/10.02 sec. Using the last valid frame instead.\n",
            "  warnings.warn(\"Warning: in file %s, \"%(self.filename)+\n",
            "\n"
          ]
        },
        {
          "name": "stdout",
          "output_type": "stream",
          "text": [
            "Moviepy - Done !\n",
            "Moviepy - video ready /content/gdrive/MyDrive/Major FINAL RUN/Audio_altFinal/ljqmnxxpzt.mp4\n",
            "Processed 410 out of 744 videos. Audio removed from ljqmnxxpzt.mp4 and saved to silent videos folder.\n",
            "Moviepy - Building video /content/gdrive/MyDrive/Major FINAL RUN/Audio_altFinal/ljtkjhntue.mp4.\n",
            "Moviepy - Writing video /content/gdrive/MyDrive/Major FINAL RUN/Audio_altFinal/ljtkjhntue.mp4\n",
            "\n"
          ]
        },
        {
          "name": "stderr",
          "output_type": "stream",
          "text": [
            "t: 100%|██████████| 301/301 [00:36<00:00,  6.28it/s, now=None]WARNING:py.warnings:/usr/local/lib/python3.10/dist-packages/moviepy/video/io/ffmpeg_reader.py:123: UserWarning: Warning: in file /content/gdrive/MyDrive/Major FINAL RUN/Final Audio Dataset/ljtkjhntue.mp4, 6220800 bytes wanted but 0 bytes read,at frame 300/301, at time 10.01/10.02 sec. Using the last valid frame instead.\n",
            "  warnings.warn(\"Warning: in file %s, \"%(self.filename)+\n",
            "\n"
          ]
        },
        {
          "name": "stdout",
          "output_type": "stream",
          "text": [
            "Moviepy - Done !\n",
            "Moviepy - video ready /content/gdrive/MyDrive/Major FINAL RUN/Audio_altFinal/ljtkjhntue.mp4\n",
            "Processed 411 out of 744 videos. Audio removed from ljtkjhntue.mp4 and saved to silent videos folder.\n",
            "Moviepy - Building video /content/gdrive/MyDrive/Major FINAL RUN/Audio_altFinal/lkbpavasad.mp4.\n",
            "Moviepy - Writing video /content/gdrive/MyDrive/Major FINAL RUN/Audio_altFinal/lkbpavasad.mp4\n",
            "\n"
          ]
        },
        {
          "name": "stderr",
          "output_type": "stream",
          "text": [
            "t: 100%|█████████▉| 300/301 [00:38<00:00, 10.67it/s, now=None]WARNING:py.warnings:/usr/local/lib/python3.10/dist-packages/moviepy/video/io/ffmpeg_reader.py:123: UserWarning: Warning: in file /content/gdrive/MyDrive/Major FINAL RUN/Final Audio Dataset/lkbpavasad.mp4, 6220800 bytes wanted but 0 bytes read,at frame 300/301, at time 10.01/10.02 sec. Using the last valid frame instead.\n",
            "  warnings.warn(\"Warning: in file %s, \"%(self.filename)+\n",
            "\n"
          ]
        },
        {
          "name": "stdout",
          "output_type": "stream",
          "text": [
            "Moviepy - Done !\n",
            "Moviepy - video ready /content/gdrive/MyDrive/Major FINAL RUN/Audio_altFinal/lkbpavasad.mp4\n",
            "Processed 412 out of 744 videos. Audio removed from lkbpavasad.mp4 and saved to silent videos folder.\n",
            "Moviepy - Building video /content/gdrive/MyDrive/Major FINAL RUN/Audio_altFinal/lkvpwhhelv.mp4.\n",
            "Moviepy - Writing video /content/gdrive/MyDrive/Major FINAL RUN/Audio_altFinal/lkvpwhhelv.mp4\n",
            "\n"
          ]
        },
        {
          "name": "stderr",
          "output_type": "stream",
          "text": [
            "t: 100%|█████████▉| 300/301 [00:39<00:00,  5.37it/s, now=None]WARNING:py.warnings:/usr/local/lib/python3.10/dist-packages/moviepy/video/io/ffmpeg_reader.py:123: UserWarning: Warning: in file /content/gdrive/MyDrive/Major FINAL RUN/Final Audio Dataset/lkvpwhhelv.mp4, 6220800 bytes wanted but 0 bytes read,at frame 300/301, at time 10.01/10.02 sec. Using the last valid frame instead.\n",
            "  warnings.warn(\"Warning: in file %s, \"%(self.filename)+\n",
            "\n"
          ]
        },
        {
          "name": "stdout",
          "output_type": "stream",
          "text": [
            "Moviepy - Done !\n",
            "Moviepy - video ready /content/gdrive/MyDrive/Major FINAL RUN/Audio_altFinal/lkvpwhhelv.mp4\n",
            "Processed 413 out of 744 videos. Audio removed from lkvpwhhelv.mp4 and saved to silent videos folder.\n",
            "Moviepy - Building video /content/gdrive/MyDrive/Major FINAL RUN/Audio_altFinal/lnwttwttcw.mp4.\n",
            "Moviepy - Writing video /content/gdrive/MyDrive/Major FINAL RUN/Audio_altFinal/lnwttwttcw.mp4\n",
            "\n"
          ]
        },
        {
          "name": "stderr",
          "output_type": "stream",
          "text": [
            "t: 100%|██████████| 299/299 [00:46<00:00,  4.48it/s, now=None]WARNING:py.warnings:/usr/local/lib/python3.10/dist-packages/moviepy/video/io/ffmpeg_reader.py:123: UserWarning: Warning: in file /content/gdrive/MyDrive/Major FINAL RUN/Final Audio Dataset/lnwttwttcw.mp4, 6220800 bytes wanted but 0 bytes read,at frame 298/299, at time 10.00/10.02 sec. Using the last valid frame instead.\n",
            "  warnings.warn(\"Warning: in file %s, \"%(self.filename)+\n",
            "\n"
          ]
        },
        {
          "name": "stdout",
          "output_type": "stream",
          "text": [
            "Moviepy - Done !\n",
            "Moviepy - video ready /content/gdrive/MyDrive/Major FINAL RUN/Audio_altFinal/lnwttwttcw.mp4\n",
            "Processed 414 out of 744 videos. Audio removed from lnwttwttcw.mp4 and saved to silent videos folder.\n",
            "Moviepy - Building video /content/gdrive/MyDrive/Major FINAL RUN/Audio_altFinal/lmrqxokzqo.mp4.\n",
            "Moviepy - Writing video /content/gdrive/MyDrive/Major FINAL RUN/Audio_altFinal/lmrqxokzqo.mp4\n",
            "\n"
          ]
        },
        {
          "name": "stderr",
          "output_type": "stream",
          "text": [
            "t: 100%|█████████▉| 300/301 [00:39<00:00,  9.58it/s, now=None]WARNING:py.warnings:/usr/local/lib/python3.10/dist-packages/moviepy/video/io/ffmpeg_reader.py:123: UserWarning: Warning: in file /content/gdrive/MyDrive/Major FINAL RUN/Final Audio Dataset/lmrqxokzqo.mp4, 6220800 bytes wanted but 0 bytes read,at frame 300/301, at time 10.01/10.02 sec. Using the last valid frame instead.\n",
            "  warnings.warn(\"Warning: in file %s, \"%(self.filename)+\n",
            "\n"
          ]
        },
        {
          "name": "stdout",
          "output_type": "stream",
          "text": [
            "Moviepy - Done !\n",
            "Moviepy - video ready /content/gdrive/MyDrive/Major FINAL RUN/Audio_altFinal/lmrqxokzqo.mp4\n",
            "Processed 415 out of 744 videos. Audio removed from lmrqxokzqo.mp4 and saved to silent videos folder.\n",
            "Moviepy - Building video /content/gdrive/MyDrive/Major FINAL RUN/Audio_altFinal/lpxsreixxi.mp4.\n",
            "Moviepy - Writing video /content/gdrive/MyDrive/Major FINAL RUN/Audio_altFinal/lpxsreixxi.mp4\n",
            "\n"
          ]
        },
        {
          "name": "stderr",
          "output_type": "stream",
          "text": [
            "t: 100%|██████████| 301/301 [00:40<00:00,  7.70it/s, now=None]WARNING:py.warnings:/usr/local/lib/python3.10/dist-packages/moviepy/video/io/ffmpeg_reader.py:123: UserWarning: Warning: in file /content/gdrive/MyDrive/Major FINAL RUN/Final Audio Dataset/lpxsreixxi.mp4, 6220800 bytes wanted but 0 bytes read,at frame 300/301, at time 10.01/10.02 sec. Using the last valid frame instead.\n",
            "  warnings.warn(\"Warning: in file %s, \"%(self.filename)+\n",
            "\n"
          ]
        },
        {
          "name": "stdout",
          "output_type": "stream",
          "text": [
            "Moviepy - Done !\n",
            "Moviepy - video ready /content/gdrive/MyDrive/Major FINAL RUN/Audio_altFinal/lpxsreixxi.mp4\n",
            "Processed 416 out of 744 videos. Audio removed from lpxsreixxi.mp4 and saved to silent videos folder.\n",
            "Moviepy - Building video /content/gdrive/MyDrive/Major FINAL RUN/Audio_altFinal/lrhwwlrhjc.mp4.\n",
            "Moviepy - Writing video /content/gdrive/MyDrive/Major FINAL RUN/Audio_altFinal/lrhwwlrhjc.mp4\n",
            "\n"
          ]
        },
        {
          "name": "stderr",
          "output_type": "stream",
          "text": [
            "t: 100%|██████████| 301/301 [00:50<00:00,  7.95it/s, now=None]WARNING:py.warnings:/usr/local/lib/python3.10/dist-packages/moviepy/video/io/ffmpeg_reader.py:123: UserWarning: Warning: in file /content/gdrive/MyDrive/Major FINAL RUN/Final Audio Dataset/lrhwwlrhjc.mp4, 6220800 bytes wanted but 0 bytes read,at frame 300/301, at time 10.01/10.02 sec. Using the last valid frame instead.\n",
            "  warnings.warn(\"Warning: in file %s, \"%(self.filename)+\n",
            "\n"
          ]
        },
        {
          "name": "stdout",
          "output_type": "stream",
          "text": [
            "Moviepy - Done !\n",
            "Moviepy - video ready /content/gdrive/MyDrive/Major FINAL RUN/Audio_altFinal/lrhwwlrhjc.mp4\n",
            "Processed 417 out of 744 videos. Audio removed from lrhwwlrhjc.mp4 and saved to silent videos folder.\n",
            "Moviepy - Building video /content/gdrive/MyDrive/Major FINAL RUN/Audio_altFinal/lwqaxttfbq.mp4.\n",
            "Moviepy - Writing video /content/gdrive/MyDrive/Major FINAL RUN/Audio_altFinal/lwqaxttfbq.mp4\n",
            "\n"
          ]
        },
        {
          "name": "stderr",
          "output_type": "stream",
          "text": [
            "t: 100%|█████████▉| 300/301 [00:44<00:00,  8.20it/s, now=None]WARNING:py.warnings:/usr/local/lib/python3.10/dist-packages/moviepy/video/io/ffmpeg_reader.py:123: UserWarning: Warning: in file /content/gdrive/MyDrive/Major FINAL RUN/Final Audio Dataset/lwqaxttfbq.mp4, 6220800 bytes wanted but 0 bytes read,at frame 300/301, at time 10.01/10.02 sec. Using the last valid frame instead.\n",
            "  warnings.warn(\"Warning: in file %s, \"%(self.filename)+\n",
            "\n"
          ]
        },
        {
          "name": "stdout",
          "output_type": "stream",
          "text": [
            "Moviepy - Done !\n",
            "Moviepy - video ready /content/gdrive/MyDrive/Major FINAL RUN/Audio_altFinal/lwqaxttfbq.mp4\n",
            "Processed 418 out of 744 videos. Audio removed from lwqaxttfbq.mp4 and saved to silent videos folder.\n",
            "Moviepy - Building video /content/gdrive/MyDrive/Major FINAL RUN/Audio_altFinal/lwurnzvhgt.mp4.\n",
            "Moviepy - Writing video /content/gdrive/MyDrive/Major FINAL RUN/Audio_altFinal/lwurnzvhgt.mp4\n",
            "\n"
          ]
        },
        {
          "name": "stderr",
          "output_type": "stream",
          "text": [
            "t: 100%|██████████| 301/301 [00:40<00:00,  8.38it/s, now=None]WARNING:py.warnings:/usr/local/lib/python3.10/dist-packages/moviepy/video/io/ffmpeg_reader.py:123: UserWarning: Warning: in file /content/gdrive/MyDrive/Major FINAL RUN/Final Audio Dataset/lwurnzvhgt.mp4, 6220800 bytes wanted but 0 bytes read,at frame 300/301, at time 10.01/10.02 sec. Using the last valid frame instead.\n",
            "  warnings.warn(\"Warning: in file %s, \"%(self.filename)+\n",
            "\n"
          ]
        },
        {
          "name": "stdout",
          "output_type": "stream",
          "text": [
            "Moviepy - Done !\n",
            "Moviepy - video ready /content/gdrive/MyDrive/Major FINAL RUN/Audio_altFinal/lwurnzvhgt.mp4\n",
            "Processed 419 out of 744 videos. Audio removed from lwurnzvhgt.mp4 and saved to silent videos folder.\n",
            "Moviepy - Building video /content/gdrive/MyDrive/Major FINAL RUN/Audio_altFinal/lznqagzwyk.mp4.\n",
            "Moviepy - Writing video /content/gdrive/MyDrive/Major FINAL RUN/Audio_altFinal/lznqagzwyk.mp4\n",
            "\n"
          ]
        },
        {
          "name": "stderr",
          "output_type": "stream",
          "text": [
            "t: 100%|██████████| 301/301 [00:35<00:00,  9.96it/s, now=None]WARNING:py.warnings:/usr/local/lib/python3.10/dist-packages/moviepy/video/io/ffmpeg_reader.py:123: UserWarning: Warning: in file /content/gdrive/MyDrive/Major FINAL RUN/Final Audio Dataset/lznqagzwyk.mp4, 6220800 bytes wanted but 0 bytes read,at frame 300/301, at time 10.01/10.02 sec. Using the last valid frame instead.\n",
            "  warnings.warn(\"Warning: in file %s, \"%(self.filename)+\n",
            "\n"
          ]
        },
        {
          "name": "stdout",
          "output_type": "stream",
          "text": [
            "Moviepy - Done !\n",
            "Moviepy - video ready /content/gdrive/MyDrive/Major FINAL RUN/Audio_altFinal/lznqagzwyk.mp4\n",
            "Processed 420 out of 744 videos. Audio removed from lznqagzwyk.mp4 and saved to silent videos folder.\n",
            "Moviepy - Building video /content/gdrive/MyDrive/Major FINAL RUN/Audio_altFinal/lzrzihalqz.mp4.\n",
            "Moviepy - Writing video /content/gdrive/MyDrive/Major FINAL RUN/Audio_altFinal/lzrzihalqz.mp4\n",
            "\n"
          ]
        },
        {
          "name": "stderr",
          "output_type": "stream",
          "text": [
            "t: 100%|██████████| 301/301 [00:38<00:00,  7.57it/s, now=None]WARNING:py.warnings:/usr/local/lib/python3.10/dist-packages/moviepy/video/io/ffmpeg_reader.py:123: UserWarning: Warning: in file /content/gdrive/MyDrive/Major FINAL RUN/Final Audio Dataset/lzrzihalqz.mp4, 6220800 bytes wanted but 0 bytes read,at frame 300/301, at time 10.01/10.02 sec. Using the last valid frame instead.\n",
            "  warnings.warn(\"Warning: in file %s, \"%(self.filename)+\n",
            "\n"
          ]
        },
        {
          "name": "stdout",
          "output_type": "stream",
          "text": [
            "Moviepy - Done !\n",
            "Moviepy - video ready /content/gdrive/MyDrive/Major FINAL RUN/Audio_altFinal/lzrzihalqz.mp4\n",
            "Processed 421 out of 744 videos. Audio removed from lzrzihalqz.mp4 and saved to silent videos folder.\n",
            "Moviepy - Building video /content/gdrive/MyDrive/Major FINAL RUN/Audio_altFinal/mbobymsxyq.mp4.\n",
            "Moviepy - Writing video /content/gdrive/MyDrive/Major FINAL RUN/Audio_altFinal/mbobymsxyq.mp4\n",
            "\n"
          ]
        },
        {
          "name": "stderr",
          "output_type": "stream",
          "text": [
            "t: 100%|█████████▉| 300/301 [00:36<00:00,  9.34it/s, now=None]WARNING:py.warnings:/usr/local/lib/python3.10/dist-packages/moviepy/video/io/ffmpeg_reader.py:123: UserWarning: Warning: in file /content/gdrive/MyDrive/Major FINAL RUN/Final Audio Dataset/mbobymsxyq.mp4, 6220800 bytes wanted but 0 bytes read,at frame 300/301, at time 10.01/10.02 sec. Using the last valid frame instead.\n",
            "  warnings.warn(\"Warning: in file %s, \"%(self.filename)+\n",
            "\n"
          ]
        },
        {
          "name": "stdout",
          "output_type": "stream",
          "text": [
            "Moviepy - Done !\n",
            "Moviepy - video ready /content/gdrive/MyDrive/Major FINAL RUN/Audio_altFinal/mbobymsxyq.mp4\n",
            "Processed 422 out of 744 videos. Audio removed from mbobymsxyq.mp4 and saved to silent videos folder.\n",
            "Moviepy - Building video /content/gdrive/MyDrive/Major FINAL RUN/Audio_altFinal/mbdjwoaxcq.mp4.\n",
            "Moviepy - Writing video /content/gdrive/MyDrive/Major FINAL RUN/Audio_altFinal/mbdjwoaxcq.mp4\n",
            "\n"
          ]
        },
        {
          "name": "stderr",
          "output_type": "stream",
          "text": [
            "t: 100%|██████████| 301/301 [00:45<00:00,  5.30it/s, now=None]WARNING:py.warnings:/usr/local/lib/python3.10/dist-packages/moviepy/video/io/ffmpeg_reader.py:123: UserWarning: Warning: in file /content/gdrive/MyDrive/Major FINAL RUN/Final Audio Dataset/mbdjwoaxcq.mp4, 6220800 bytes wanted but 0 bytes read,at frame 300/301, at time 10.01/10.02 sec. Using the last valid frame instead.\n",
            "  warnings.warn(\"Warning: in file %s, \"%(self.filename)+\n",
            "\n"
          ]
        },
        {
          "name": "stdout",
          "output_type": "stream",
          "text": [
            "Moviepy - Done !\n",
            "Moviepy - video ready /content/gdrive/MyDrive/Major FINAL RUN/Audio_altFinal/mbdjwoaxcq.mp4\n",
            "Processed 423 out of 744 videos. Audio removed from mbdjwoaxcq.mp4 and saved to silent videos folder.\n",
            "Moviepy - Building video /content/gdrive/MyDrive/Major FINAL RUN/Audio_altFinal/mdsbvwfcwf.mp4.\n",
            "Moviepy - Writing video /content/gdrive/MyDrive/Major FINAL RUN/Audio_altFinal/mdsbvwfcwf.mp4\n",
            "\n"
          ]
        },
        {
          "name": "stderr",
          "output_type": "stream",
          "text": [
            "t: 100%|██████████| 301/301 [00:36<00:00,  9.07it/s, now=None]WARNING:py.warnings:/usr/local/lib/python3.10/dist-packages/moviepy/video/io/ffmpeg_reader.py:123: UserWarning: Warning: in file /content/gdrive/MyDrive/Major FINAL RUN/Final Audio Dataset/mdsbvwfcwf.mp4, 6220800 bytes wanted but 0 bytes read,at frame 300/301, at time 10.01/10.02 sec. Using the last valid frame instead.\n",
            "  warnings.warn(\"Warning: in file %s, \"%(self.filename)+\n",
            "\n"
          ]
        },
        {
          "name": "stdout",
          "output_type": "stream",
          "text": [
            "Moviepy - Done !\n",
            "Moviepy - video ready /content/gdrive/MyDrive/Major FINAL RUN/Audio_altFinal/mdsbvwfcwf.mp4\n",
            "Processed 424 out of 744 videos. Audio removed from mdsbvwfcwf.mp4 and saved to silent videos folder.\n",
            "Moviepy - Building video /content/gdrive/MyDrive/Major FINAL RUN/Audio_altFinal/mfkwvfaujm.mp4.\n",
            "Moviepy - Writing video /content/gdrive/MyDrive/Major FINAL RUN/Audio_altFinal/mfkwvfaujm.mp4\n",
            "\n"
          ]
        },
        {
          "name": "stderr",
          "output_type": "stream",
          "text": [
            "t: 100%|█████████▉| 300/301 [00:40<00:00,  8.16it/s, now=None]WARNING:py.warnings:/usr/local/lib/python3.10/dist-packages/moviepy/video/io/ffmpeg_reader.py:123: UserWarning: Warning: in file /content/gdrive/MyDrive/Major FINAL RUN/Final Audio Dataset/mfkwvfaujm.mp4, 6220800 bytes wanted but 0 bytes read,at frame 300/301, at time 10.01/10.02 sec. Using the last valid frame instead.\n",
            "  warnings.warn(\"Warning: in file %s, \"%(self.filename)+\n",
            "\n"
          ]
        },
        {
          "name": "stdout",
          "output_type": "stream",
          "text": [
            "Moviepy - Done !\n",
            "Moviepy - video ready /content/gdrive/MyDrive/Major FINAL RUN/Audio_altFinal/mfkwvfaujm.mp4\n",
            "Processed 425 out of 744 videos. Audio removed from mfkwvfaujm.mp4 and saved to silent videos folder.\n",
            "Moviepy - Building video /content/gdrive/MyDrive/Major FINAL RUN/Audio_altFinal/mdpkidzzlm.mp4.\n",
            "Moviepy - Writing video /content/gdrive/MyDrive/Major FINAL RUN/Audio_altFinal/mdpkidzzlm.mp4\n",
            "\n"
          ]
        },
        {
          "name": "stderr",
          "output_type": "stream",
          "text": [
            "t: 100%|██████████| 299/299 [00:46<00:00,  8.74it/s, now=None]WARNING:py.warnings:/usr/local/lib/python3.10/dist-packages/moviepy/video/io/ffmpeg_reader.py:123: UserWarning: Warning: in file /content/gdrive/MyDrive/Major FINAL RUN/Final Audio Dataset/mdpkidzzlm.mp4, 6220800 bytes wanted but 0 bytes read,at frame 298/299, at time 10.01/10.02 sec. Using the last valid frame instead.\n",
            "  warnings.warn(\"Warning: in file %s, \"%(self.filename)+\n",
            "\n"
          ]
        },
        {
          "name": "stdout",
          "output_type": "stream",
          "text": [
            "Moviepy - Done !\n",
            "Moviepy - video ready /content/gdrive/MyDrive/Major FINAL RUN/Audio_altFinal/mdpkidzzlm.mp4\n",
            "Processed 426 out of 744 videos. Audio removed from mdpkidzzlm.mp4 and saved to silent videos folder.\n",
            "Moviepy - Building video /content/gdrive/MyDrive/Major FINAL RUN/Audio_altFinal/mgqlxlnize.mp4.\n",
            "Moviepy - Writing video /content/gdrive/MyDrive/Major FINAL RUN/Audio_altFinal/mgqlxlnize.mp4\n",
            "\n"
          ]
        },
        {
          "name": "stderr",
          "output_type": "stream",
          "text": [
            "t: 100%|██████████| 301/301 [00:40<00:00,  9.87it/s, now=None]WARNING:py.warnings:/usr/local/lib/python3.10/dist-packages/moviepy/video/io/ffmpeg_reader.py:123: UserWarning: Warning: in file /content/gdrive/MyDrive/Major FINAL RUN/Final Audio Dataset/mgqlxlnize.mp4, 6220800 bytes wanted but 0 bytes read,at frame 300/301, at time 10.01/10.02 sec. Using the last valid frame instead.\n",
            "  warnings.warn(\"Warning: in file %s, \"%(self.filename)+\n",
            "\n"
          ]
        },
        {
          "name": "stdout",
          "output_type": "stream",
          "text": [
            "Moviepy - Done !\n",
            "Moviepy - video ready /content/gdrive/MyDrive/Major FINAL RUN/Audio_altFinal/mgqlxlnize.mp4\n",
            "Processed 427 out of 744 videos. Audio removed from mgqlxlnize.mp4 and saved to silent videos folder.\n",
            "Moviepy - Building video /content/gdrive/MyDrive/Major FINAL RUN/Audio_altFinal/mfyqcmjhln.mp4.\n",
            "Moviepy - Writing video /content/gdrive/MyDrive/Major FINAL RUN/Audio_altFinal/mfyqcmjhln.mp4\n",
            "\n"
          ]
        },
        {
          "name": "stderr",
          "output_type": "stream",
          "text": [
            "t: 100%|██████████| 301/301 [00:44<00:00,  9.30it/s, now=None]WARNING:py.warnings:/usr/local/lib/python3.10/dist-packages/moviepy/video/io/ffmpeg_reader.py:123: UserWarning: Warning: in file /content/gdrive/MyDrive/Major FINAL RUN/Final Audio Dataset/mfyqcmjhln.mp4, 6220800 bytes wanted but 0 bytes read,at frame 300/301, at time 10.01/10.02 sec. Using the last valid frame instead.\n",
            "  warnings.warn(\"Warning: in file %s, \"%(self.filename)+\n",
            "\n"
          ]
        },
        {
          "name": "stdout",
          "output_type": "stream",
          "text": [
            "Moviepy - Done !\n",
            "Moviepy - video ready /content/gdrive/MyDrive/Major FINAL RUN/Audio_altFinal/mfyqcmjhln.mp4\n",
            "Processed 428 out of 744 videos. Audio removed from mfyqcmjhln.mp4 and saved to silent videos folder.\n",
            "Moviepy - Building video /content/gdrive/MyDrive/Major FINAL RUN/Audio_altFinal/mgnqkbtorj.mp4.\n",
            "Moviepy - Writing video /content/gdrive/MyDrive/Major FINAL RUN/Audio_altFinal/mgnqkbtorj.mp4\n",
            "\n"
          ]
        },
        {
          "name": "stderr",
          "output_type": "stream",
          "text": [
            "t: 100%|██████████| 299/299 [00:43<00:00,  7.28it/s, now=None]WARNING:py.warnings:/usr/local/lib/python3.10/dist-packages/moviepy/video/io/ffmpeg_reader.py:123: UserWarning: Warning: in file /content/gdrive/MyDrive/Major FINAL RUN/Final Audio Dataset/mgnqkbtorj.mp4, 6220800 bytes wanted but 0 bytes read,at frame 298/299, at time 10.01/10.02 sec. Using the last valid frame instead.\n",
            "  warnings.warn(\"Warning: in file %s, \"%(self.filename)+\n",
            "\n"
          ]
        },
        {
          "name": "stdout",
          "output_type": "stream",
          "text": [
            "Moviepy - Done !\n",
            "Moviepy - video ready /content/gdrive/MyDrive/Major FINAL RUN/Audio_altFinal/mgnqkbtorj.mp4\n",
            "Processed 429 out of 744 videos. Audio removed from mgnqkbtorj.mp4 and saved to silent videos folder.\n",
            "Moviepy - Building video /content/gdrive/MyDrive/Major FINAL RUN/Audio_altFinal/mkxzfysiua.mp4.\n",
            "Moviepy - Writing video /content/gdrive/MyDrive/Major FINAL RUN/Audio_altFinal/mkxzfysiua.mp4\n",
            "\n"
          ]
        },
        {
          "name": "stderr",
          "output_type": "stream",
          "text": [
            "t: 100%|██████████| 301/301 [00:39<00:00,  5.48it/s, now=None]WARNING:py.warnings:/usr/local/lib/python3.10/dist-packages/moviepy/video/io/ffmpeg_reader.py:123: UserWarning: Warning: in file /content/gdrive/MyDrive/Major FINAL RUN/Final Audio Dataset/mkxzfysiua.mp4, 6220800 bytes wanted but 0 bytes read,at frame 300/301, at time 10.01/10.02 sec. Using the last valid frame instead.\n",
            "  warnings.warn(\"Warning: in file %s, \"%(self.filename)+\n",
            "\n"
          ]
        },
        {
          "name": "stdout",
          "output_type": "stream",
          "text": [
            "Moviepy - Done !\n",
            "Moviepy - video ready /content/gdrive/MyDrive/Major FINAL RUN/Audio_altFinal/mkxzfysiua.mp4\n",
            "Processed 430 out of 744 videos. Audio removed from mkxzfysiua.mp4 and saved to silent videos folder.\n",
            "Moviepy - Building video /content/gdrive/MyDrive/Major FINAL RUN/Audio_altFinal/miyuyiyobf.mp4.\n",
            "Moviepy - Writing video /content/gdrive/MyDrive/Major FINAL RUN/Audio_altFinal/miyuyiyobf.mp4\n",
            "\n"
          ]
        },
        {
          "name": "stderr",
          "output_type": "stream",
          "text": [
            "t: 100%|██████████| 301/301 [00:38<00:00,  9.26it/s, now=None]WARNING:py.warnings:/usr/local/lib/python3.10/dist-packages/moviepy/video/io/ffmpeg_reader.py:123: UserWarning: Warning: in file /content/gdrive/MyDrive/Major FINAL RUN/Final Audio Dataset/miyuyiyobf.mp4, 6220800 bytes wanted but 0 bytes read,at frame 300/301, at time 10.01/10.02 sec. Using the last valid frame instead.\n",
            "  warnings.warn(\"Warning: in file %s, \"%(self.filename)+\n",
            "\n"
          ]
        },
        {
          "name": "stdout",
          "output_type": "stream",
          "text": [
            "Moviepy - Done !\n",
            "Moviepy - video ready /content/gdrive/MyDrive/Major FINAL RUN/Audio_altFinal/miyuyiyobf.mp4\n",
            "Processed 431 out of 744 videos. Audio removed from miyuyiyobf.mp4 and saved to silent videos folder.\n",
            "Moviepy - Building video /content/gdrive/MyDrive/Major FINAL RUN/Audio_altFinal/mlfbccdtoy.mp4.\n",
            "Moviepy - Writing video /content/gdrive/MyDrive/Major FINAL RUN/Audio_altFinal/mlfbccdtoy.mp4\n",
            "\n"
          ]
        },
        {
          "name": "stderr",
          "output_type": "stream",
          "text": [
            "t:  99%|█████████▉| 299/301 [00:44<00:00,  5.98it/s, now=None]WARNING:py.warnings:/usr/local/lib/python3.10/dist-packages/moviepy/video/io/ffmpeg_reader.py:123: UserWarning: Warning: in file /content/gdrive/MyDrive/Major FINAL RUN/Final Audio Dataset/mlfbccdtoy.mp4, 6220800 bytes wanted but 0 bytes read,at frame 300/301, at time 10.01/10.02 sec. Using the last valid frame instead.\n",
            "  warnings.warn(\"Warning: in file %s, \"%(self.filename)+\n",
            "\n"
          ]
        },
        {
          "name": "stdout",
          "output_type": "stream",
          "text": [
            "Moviepy - Done !\n",
            "Moviepy - video ready /content/gdrive/MyDrive/Major FINAL RUN/Audio_altFinal/mlfbccdtoy.mp4\n",
            "Processed 432 out of 744 videos. Audio removed from mlfbccdtoy.mp4 and saved to silent videos folder.\n",
            "Moviepy - Building video /content/gdrive/MyDrive/Major FINAL RUN/Audio_altFinal/mmifqasqyt.mp4.\n",
            "Moviepy - Writing video /content/gdrive/MyDrive/Major FINAL RUN/Audio_altFinal/mmifqasqyt.mp4\n",
            "\n"
          ]
        },
        {
          "name": "stderr",
          "output_type": "stream",
          "text": [
            "t: 100%|█████████▉| 300/301 [00:38<00:00,  8.48it/s, now=None]WARNING:py.warnings:/usr/local/lib/python3.10/dist-packages/moviepy/video/io/ffmpeg_reader.py:123: UserWarning: Warning: in file /content/gdrive/MyDrive/Major FINAL RUN/Final Audio Dataset/mmifqasqyt.mp4, 6220800 bytes wanted but 0 bytes read,at frame 300/301, at time 10.01/10.02 sec. Using the last valid frame instead.\n",
            "  warnings.warn(\"Warning: in file %s, \"%(self.filename)+\n",
            "\n"
          ]
        },
        {
          "name": "stdout",
          "output_type": "stream",
          "text": [
            "Moviepy - Done !\n",
            "Moviepy - video ready /content/gdrive/MyDrive/Major FINAL RUN/Audio_altFinal/mmifqasqyt.mp4\n",
            "Processed 433 out of 744 videos. Audio removed from mmifqasqyt.mp4 and saved to silent videos folder.\n",
            "Moviepy - Building video /content/gdrive/MyDrive/Major FINAL RUN/Audio_altFinal/mmthpnegeq.mp4.\n",
            "Moviepy - Writing video /content/gdrive/MyDrive/Major FINAL RUN/Audio_altFinal/mmthpnegeq.mp4\n",
            "\n"
          ]
        },
        {
          "name": "stderr",
          "output_type": "stream",
          "text": [
            "t: 100%|█████████▉| 300/301 [00:38<00:00,  7.69it/s, now=None]WARNING:py.warnings:/usr/local/lib/python3.10/dist-packages/moviepy/video/io/ffmpeg_reader.py:123: UserWarning: Warning: in file /content/gdrive/MyDrive/Major FINAL RUN/Final Audio Dataset/mmthpnegeq.mp4, 6220800 bytes wanted but 0 bytes read,at frame 300/301, at time 10.01/10.02 sec. Using the last valid frame instead.\n",
            "  warnings.warn(\"Warning: in file %s, \"%(self.filename)+\n",
            "\n"
          ]
        },
        {
          "name": "stdout",
          "output_type": "stream",
          "text": [
            "Moviepy - Done !\n",
            "Moviepy - video ready /content/gdrive/MyDrive/Major FINAL RUN/Audio_altFinal/mmthpnegeq.mp4\n",
            "Processed 434 out of 744 videos. Audio removed from mmthpnegeq.mp4 and saved to silent videos folder.\n",
            "Moviepy - Building video /content/gdrive/MyDrive/Major FINAL RUN/Audio_altFinal/mnocmfylmg.mp4.\n",
            "Moviepy - Writing video /content/gdrive/MyDrive/Major FINAL RUN/Audio_altFinal/mnocmfylmg.mp4\n",
            "\n"
          ]
        },
        {
          "name": "stderr",
          "output_type": "stream",
          "text": [
            "t: 100%|██████████| 301/301 [00:45<00:00,  6.94it/s, now=None]WARNING:py.warnings:/usr/local/lib/python3.10/dist-packages/moviepy/video/io/ffmpeg_reader.py:123: UserWarning: Warning: in file /content/gdrive/MyDrive/Major FINAL RUN/Final Audio Dataset/mnocmfylmg.mp4, 6220800 bytes wanted but 0 bytes read,at frame 300/301, at time 10.01/10.02 sec. Using the last valid frame instead.\n",
            "  warnings.warn(\"Warning: in file %s, \"%(self.filename)+\n",
            "\n"
          ]
        },
        {
          "name": "stdout",
          "output_type": "stream",
          "text": [
            "Moviepy - Done !\n",
            "Moviepy - video ready /content/gdrive/MyDrive/Major FINAL RUN/Audio_altFinal/mnocmfylmg.mp4\n",
            "Processed 435 out of 744 videos. Audio removed from mnocmfylmg.mp4 and saved to silent videos folder.\n",
            "Moviepy - Building video /content/gdrive/MyDrive/Major FINAL RUN/Audio_altFinal/mocynzouym.mp4.\n",
            "Moviepy - Writing video /content/gdrive/MyDrive/Major FINAL RUN/Audio_altFinal/mocynzouym.mp4\n",
            "\n"
          ]
        },
        {
          "name": "stderr",
          "output_type": "stream",
          "text": [
            "t: 100%|██████████| 301/301 [00:37<00:00,  9.15it/s, now=None]WARNING:py.warnings:/usr/local/lib/python3.10/dist-packages/moviepy/video/io/ffmpeg_reader.py:123: UserWarning: Warning: in file /content/gdrive/MyDrive/Major FINAL RUN/Final Audio Dataset/mocynzouym.mp4, 6220800 bytes wanted but 0 bytes read,at frame 300/301, at time 10.01/10.02 sec. Using the last valid frame instead.\n",
            "  warnings.warn(\"Warning: in file %s, \"%(self.filename)+\n",
            "\n"
          ]
        },
        {
          "name": "stdout",
          "output_type": "stream",
          "text": [
            "Moviepy - Done !\n",
            "Moviepy - video ready /content/gdrive/MyDrive/Major FINAL RUN/Audio_altFinal/mocynzouym.mp4\n",
            "Processed 436 out of 744 videos. Audio removed from mocynzouym.mp4 and saved to silent videos folder.\n",
            "Moviepy - Building video /content/gdrive/MyDrive/Major FINAL RUN/Audio_altFinal/moiilbntyj.mp4.\n",
            "Moviepy - Writing video /content/gdrive/MyDrive/Major FINAL RUN/Audio_altFinal/moiilbntyj.mp4\n",
            "\n"
          ]
        },
        {
          "name": "stderr",
          "output_type": "stream",
          "text": [
            "t: 100%|██████████| 301/301 [00:46<00:00,  8.30it/s, now=None]WARNING:py.warnings:/usr/local/lib/python3.10/dist-packages/moviepy/video/io/ffmpeg_reader.py:123: UserWarning: Warning: in file /content/gdrive/MyDrive/Major FINAL RUN/Final Audio Dataset/moiilbntyj.mp4, 6220800 bytes wanted but 0 bytes read,at frame 300/301, at time 10.01/10.02 sec. Using the last valid frame instead.\n",
            "  warnings.warn(\"Warning: in file %s, \"%(self.filename)+\n",
            "\n"
          ]
        },
        {
          "name": "stdout",
          "output_type": "stream",
          "text": [
            "Moviepy - Done !\n",
            "Moviepy - video ready /content/gdrive/MyDrive/Major FINAL RUN/Audio_altFinal/moiilbntyj.mp4\n",
            "Processed 437 out of 744 videos. Audio removed from moiilbntyj.mp4 and saved to silent videos folder.\n",
            "Moviepy - Building video /content/gdrive/MyDrive/Major FINAL RUN/Audio_altFinal/mpjiuzojzc.mp4.\n",
            "Moviepy - Writing video /content/gdrive/MyDrive/Major FINAL RUN/Audio_altFinal/mpjiuzojzc.mp4\n",
            "\n"
          ]
        },
        {
          "name": "stderr",
          "output_type": "stream",
          "text": [
            "t: 100%|██████████| 301/301 [00:39<00:00,  6.93it/s, now=None]WARNING:py.warnings:/usr/local/lib/python3.10/dist-packages/moviepy/video/io/ffmpeg_reader.py:123: UserWarning: Warning: in file /content/gdrive/MyDrive/Major FINAL RUN/Final Audio Dataset/mpjiuzojzc.mp4, 6220800 bytes wanted but 0 bytes read,at frame 300/301, at time 10.01/10.02 sec. Using the last valid frame instead.\n",
            "  warnings.warn(\"Warning: in file %s, \"%(self.filename)+\n",
            "\n"
          ]
        },
        {
          "name": "stdout",
          "output_type": "stream",
          "text": [
            "Moviepy - Done !\n",
            "Moviepy - video ready /content/gdrive/MyDrive/Major FINAL RUN/Audio_altFinal/mpjiuzojzc.mp4\n",
            "Processed 438 out of 744 videos. Audio removed from mpjiuzojzc.mp4 and saved to silent videos folder.\n",
            "Moviepy - Building video /content/gdrive/MyDrive/Major FINAL RUN/Audio_altFinal/mppjpwwcom.mp4.\n",
            "Moviepy - Writing video /content/gdrive/MyDrive/Major FINAL RUN/Audio_altFinal/mppjpwwcom.mp4\n",
            "\n"
          ]
        },
        {
          "name": "stderr",
          "output_type": "stream",
          "text": [
            "t: 100%|█████████▉| 300/301 [00:38<00:00,  8.89it/s, now=None]WARNING:py.warnings:/usr/local/lib/python3.10/dist-packages/moviepy/video/io/ffmpeg_reader.py:123: UserWarning: Warning: in file /content/gdrive/MyDrive/Major FINAL RUN/Final Audio Dataset/mppjpwwcom.mp4, 6220800 bytes wanted but 0 bytes read,at frame 300/301, at time 10.01/10.02 sec. Using the last valid frame instead.\n",
            "  warnings.warn(\"Warning: in file %s, \"%(self.filename)+\n",
            "\n"
          ]
        },
        {
          "name": "stdout",
          "output_type": "stream",
          "text": [
            "Moviepy - Done !\n",
            "Moviepy - video ready /content/gdrive/MyDrive/Major FINAL RUN/Audio_altFinal/mppjpwwcom.mp4\n",
            "Processed 439 out of 744 videos. Audio removed from mppjpwwcom.mp4 and saved to silent videos folder.\n",
            "Moviepy - Building video /content/gdrive/MyDrive/Major FINAL RUN/Audio_altFinal/mqmfuzsrnt.mp4.\n",
            "Moviepy - Writing video /content/gdrive/MyDrive/Major FINAL RUN/Audio_altFinal/mqmfuzsrnt.mp4\n",
            "\n"
          ]
        },
        {
          "name": "stderr",
          "output_type": "stream",
          "text": [
            "t: 100%|██████████| 301/301 [00:38<00:00,  9.16it/s, now=None]WARNING:py.warnings:/usr/local/lib/python3.10/dist-packages/moviepy/video/io/ffmpeg_reader.py:123: UserWarning: Warning: in file /content/gdrive/MyDrive/Major FINAL RUN/Final Audio Dataset/mqmfuzsrnt.mp4, 6220800 bytes wanted but 0 bytes read,at frame 300/301, at time 10.01/10.02 sec. Using the last valid frame instead.\n",
            "  warnings.warn(\"Warning: in file %s, \"%(self.filename)+\n",
            "\n"
          ]
        },
        {
          "name": "stdout",
          "output_type": "stream",
          "text": [
            "Moviepy - Done !\n",
            "Moviepy - video ready /content/gdrive/MyDrive/Major FINAL RUN/Audio_altFinal/mqmfuzsrnt.mp4\n",
            "Processed 440 out of 744 videos. Audio removed from mqmfuzsrnt.mp4 and saved to silent videos folder.\n",
            "Moviepy - Building video /content/gdrive/MyDrive/Major FINAL RUN/Audio_altFinal/mrycxqnavc.mp4.\n",
            "Moviepy - Writing video /content/gdrive/MyDrive/Major FINAL RUN/Audio_altFinal/mrycxqnavc.mp4\n",
            "\n"
          ]
        },
        {
          "name": "stderr",
          "output_type": "stream",
          "text": [
            "t: 100%|██████████| 301/301 [00:48<00:00,  7.80it/s, now=None]WARNING:py.warnings:/usr/local/lib/python3.10/dist-packages/moviepy/video/io/ffmpeg_reader.py:123: UserWarning: Warning: in file /content/gdrive/MyDrive/Major FINAL RUN/Final Audio Dataset/mrycxqnavc.mp4, 6220800 bytes wanted but 0 bytes read,at frame 300/301, at time 10.01/10.02 sec. Using the last valid frame instead.\n",
            "  warnings.warn(\"Warning: in file %s, \"%(self.filename)+\n",
            "\n"
          ]
        },
        {
          "name": "stdout",
          "output_type": "stream",
          "text": [
            "Moviepy - Done !\n",
            "Moviepy - video ready /content/gdrive/MyDrive/Major FINAL RUN/Audio_altFinal/mrycxqnavc.mp4\n",
            "Processed 441 out of 744 videos. Audio removed from mrycxqnavc.mp4 and saved to silent videos folder.\n",
            "Moviepy - Building video /content/gdrive/MyDrive/Major FINAL RUN/Audio_altFinal/msdeifwhzj.mp4.\n",
            "Moviepy - Writing video /content/gdrive/MyDrive/Major FINAL RUN/Audio_altFinal/msdeifwhzj.mp4\n",
            "\n"
          ]
        },
        {
          "name": "stderr",
          "output_type": "stream",
          "text": [
            "t: 100%|██████████| 301/301 [00:38<00:00,  8.59it/s, now=None]WARNING:py.warnings:/usr/local/lib/python3.10/dist-packages/moviepy/video/io/ffmpeg_reader.py:123: UserWarning: Warning: in file /content/gdrive/MyDrive/Major FINAL RUN/Final Audio Dataset/msdeifwhzj.mp4, 6220800 bytes wanted but 0 bytes read,at frame 300/301, at time 10.01/10.02 sec. Using the last valid frame instead.\n",
            "  warnings.warn(\"Warning: in file %s, \"%(self.filename)+\n",
            "\n"
          ]
        },
        {
          "name": "stdout",
          "output_type": "stream",
          "text": [
            "Moviepy - Done !\n",
            "Moviepy - video ready /content/gdrive/MyDrive/Major FINAL RUN/Audio_altFinal/msdeifwhzj.mp4\n",
            "Processed 442 out of 744 videos. Audio removed from msdeifwhzj.mp4 and saved to silent videos folder.\n",
            "Moviepy - Building video /content/gdrive/MyDrive/Major FINAL RUN/Audio_altFinal/mugpedpwbl.mp4.\n",
            "Moviepy - Writing video /content/gdrive/MyDrive/Major FINAL RUN/Audio_altFinal/mugpedpwbl.mp4\n",
            "\n"
          ]
        },
        {
          "name": "stderr",
          "output_type": "stream",
          "text": [
            "t: 100%|██████████| 301/301 [00:34<00:00,  8.79it/s, now=None]WARNING:py.warnings:/usr/local/lib/python3.10/dist-packages/moviepy/video/io/ffmpeg_reader.py:123: UserWarning: Warning: in file /content/gdrive/MyDrive/Major FINAL RUN/Final Audio Dataset/mugpedpwbl.mp4, 6220800 bytes wanted but 0 bytes read,at frame 300/301, at time 10.01/10.02 sec. Using the last valid frame instead.\n",
            "  warnings.warn(\"Warning: in file %s, \"%(self.filename)+\n",
            "\n"
          ]
        },
        {
          "name": "stdout",
          "output_type": "stream",
          "text": [
            "Moviepy - Done !\n",
            "Moviepy - video ready /content/gdrive/MyDrive/Major FINAL RUN/Audio_altFinal/mugpedpwbl.mp4\n",
            "Processed 443 out of 744 videos. Audio removed from mugpedpwbl.mp4 and saved to silent videos folder.\n",
            "Moviepy - Building video /content/gdrive/MyDrive/Major FINAL RUN/Audio_altFinal/mvplwzoirr.mp4.\n",
            "Moviepy - Writing video /content/gdrive/MyDrive/Major FINAL RUN/Audio_altFinal/mvplwzoirr.mp4\n",
            "\n"
          ]
        },
        {
          "name": "stderr",
          "output_type": "stream",
          "text": [
            "t: 100%|██████████| 301/301 [00:39<00:00,  9.57it/s, now=None]WARNING:py.warnings:/usr/local/lib/python3.10/dist-packages/moviepy/video/io/ffmpeg_reader.py:123: UserWarning: Warning: in file /content/gdrive/MyDrive/Major FINAL RUN/Final Audio Dataset/mvplwzoirr.mp4, 6220800 bytes wanted but 0 bytes read,at frame 300/301, at time 10.01/10.02 sec. Using the last valid frame instead.\n",
            "  warnings.warn(\"Warning: in file %s, \"%(self.filename)+\n",
            "\n"
          ]
        },
        {
          "name": "stdout",
          "output_type": "stream",
          "text": [
            "Moviepy - Done !\n",
            "Moviepy - video ready /content/gdrive/MyDrive/Major FINAL RUN/Audio_altFinal/mvplwzoirr.mp4\n",
            "Processed 444 out of 744 videos. Audio removed from mvplwzoirr.mp4 and saved to silent videos folder.\n",
            "Moviepy - Building video /content/gdrive/MyDrive/Major FINAL RUN/Audio_altFinal/mwsozgddjw.mp4.\n",
            "Moviepy - Writing video /content/gdrive/MyDrive/Major FINAL RUN/Audio_altFinal/mwsozgddjw.mp4\n",
            "\n"
          ]
        },
        {
          "name": "stderr",
          "output_type": "stream",
          "text": [
            "t:  72%|███████▏  | 216/301 [00:27<00:10,  7.96it/s, now=None]"
          ]
        }
      ],
      "source": [
        "for filename in os.listdir(source_folder_path):\n",
        "  if filename.endswith('.mp4'):\n",
        "    video_path = os.path.join(source_folder_path, filename)\n",
        "    silent_video = VideoFileClip(video_path).without_audio()\n",
        "\n",
        "    silent_video.write_videofile(os.path.join(destination_folder_path, filename))\n",
        "\n",
        "    processed_count += 1\n",
        "    print(f'Processed {processed_count} out of {total_videos} videos. Audio removed from {filename} and saved to silent videos folder.')"
      ]
    },
    {
      "cell_type": "code",
      "execution_count": null,
      "metadata": {
        "colab": {
          "base_uri": "https://localhost:8080/"
        },
        "id": "9UCLqrISBQO3",
        "outputId": "e38e2d8a-a315-4065-9f75-696b2229ce1f"
      },
      "outputs": [
        {
          "name": "stdout",
          "output_type": "stream",
          "text": [
            "All videos processed successfully! 14 silent videos created.\n"
          ]
        }
      ],
      "source": [
        "# Print final message\n",
        "if processed_count == total_videos:\n",
        "  print(f'All videos processed successfully! {processed_count} silent videos created.')\n",
        "else:\n",
        "  print(f'Something went wrong. Only {processed_count} out of {total_videos} videos processed.')"
      ]
    }
  ],
  "metadata": {
    "colab": {
      "provenance": []
    },
    "kernelspec": {
      "display_name": "Python 3",
      "name": "python3"
    },
    "language_info": {
      "name": "python"
    }
  },
  "nbformat": 4,
  "nbformat_minor": 0
}